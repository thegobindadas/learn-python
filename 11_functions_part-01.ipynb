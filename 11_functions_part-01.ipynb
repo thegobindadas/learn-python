{
 "cells": [
  {
   "cell_type": "markdown",
   "id": "aa120a7b",
   "metadata": {},
   "source": [
    "# Functions in Python. "
   ]
  },
  {
   "cell_type": "raw",
   "id": "78973399",
   "metadata": {},
   "source": [
    "1. what is function?\n",
    "2. how to write function in python?\n",
    "3. argumnet vs parameter in function"
   ]
  },
  {
   "cell_type": "raw",
   "id": "1b00ef17",
   "metadata": {},
   "source": [
    "A function is a set of statements that take inputs, do some specific computation and produces output. These functions are called user defined function"
   ]
  },
  {
   "cell_type": "raw",
   "id": "01b19119",
   "metadata": {},
   "source": [
    "Syntax:\n",
    "\n",
    "def funcname(parameter1,parameter2,...):\n",
    "    function body\n"
   ]
  },
  {
   "cell_type": "raw",
   "id": "8d5d270b",
   "metadata": {},
   "source": []
  },
  {
   "cell_type": "code",
   "execution_count": 1,
   "id": "9e94f417",
   "metadata": {},
   "outputs": [
    {
     "name": "stdout",
     "output_type": "stream",
     "text": [
      "30\n"
     ]
    }
   ],
   "source": [
    "a = 10\n",
    "b = 20\n",
    "c = a + b\n",
    "print(c)"
   ]
  },
  {
   "cell_type": "code",
   "execution_count": 2,
   "id": "c0d99a56",
   "metadata": {},
   "outputs": [
    {
     "name": "stdout",
     "output_type": "stream",
     "text": [
      "2010042\n"
     ]
    }
   ],
   "source": [
    "a = 1000\n",
    "b = 2009042\n",
    "c = a + b\n",
    "print(c)"
   ]
  },
  {
   "cell_type": "code",
   "execution_count": 3,
   "id": "9e98e473",
   "metadata": {},
   "outputs": [
    {
     "name": "stdout",
     "output_type": "stream",
     "text": [
      "-10\n"
     ]
    }
   ],
   "source": [
    "a = 10\n",
    "b = 20\n",
    "c = a - b\n",
    "print(c)"
   ]
  },
  {
   "cell_type": "code",
   "execution_count": 5,
   "id": "a2fd9ec3",
   "metadata": {},
   "outputs": [
    {
     "name": "stdout",
     "output_type": "stream",
     "text": [
      "enter first number: 255\n",
      "enter second value: 456\n",
      "711\n"
     ]
    }
   ],
   "source": [
    "a = input(\"enter first number: \")\n",
    "b = input(\"enter second value: \")\n",
    "c = int(a) + int(b)\n",
    "print(c)"
   ]
  },
  {
   "cell_type": "raw",
   "id": "59031d59",
   "metadata": {},
   "source": []
  },
  {
   "cell_type": "code",
   "execution_count": 6,
   "id": "2ecb1da8",
   "metadata": {},
   "outputs": [],
   "source": [
    "#this is funciton defination\n",
    "def addtwonumber():\n",
    "    a = 1000\n",
    "    b = 2009042\n",
    "    c = a + b\n",
    "    print(c)"
   ]
  },
  {
   "cell_type": "code",
   "execution_count": 7,
   "id": "1a89fa21",
   "metadata": {},
   "outputs": [
    {
     "name": "stdout",
     "output_type": "stream",
     "text": [
      "2010042\n"
     ]
    }
   ],
   "source": [
    "#this is funciton call\n",
    "addtwonumber()"
   ]
  },
  {
   "cell_type": "code",
   "execution_count": 8,
   "id": "3ec7ce6f",
   "metadata": {},
   "outputs": [
    {
     "name": "stdout",
     "output_type": "stream",
     "text": [
      "2010042\n"
     ]
    }
   ],
   "source": [
    "#this is funciton call\n",
    "addtwonumber()"
   ]
  },
  {
   "cell_type": "raw",
   "id": "e79fe25f",
   "metadata": {},
   "source": []
  },
  {
   "cell_type": "code",
   "execution_count": 2,
   "id": "03ebfda8",
   "metadata": {},
   "outputs": [],
   "source": [
    "def addtwonumbers():\n",
    "    a = input(\"enter first number: \")\n",
    "    b = input(\"enter second value: \")\n",
    "    c = int(a) + int(b)\n",
    "    print(c)"
   ]
  },
  {
   "cell_type": "code",
   "execution_count": 3,
   "id": "a6559746",
   "metadata": {},
   "outputs": [
    {
     "name": "stdout",
     "output_type": "stream",
     "text": [
      "enter first number: 258\n",
      "enter second value: 456\n",
      "714\n"
     ]
    }
   ],
   "source": [
    "addtwonumbers()"
   ]
  },
  {
   "cell_type": "code",
   "execution_count": 4,
   "id": "50a1430b",
   "metadata": {},
   "outputs": [
    {
     "name": "stdout",
     "output_type": "stream",
     "text": [
      "enter first number: 753\n",
      "enter second value: 951\n",
      "1704\n"
     ]
    }
   ],
   "source": [
    "addtwonumbers()"
   ]
  },
  {
   "cell_type": "code",
   "execution_count": 5,
   "id": "3d4fd3d3",
   "metadata": {},
   "outputs": [
    {
     "name": "stdout",
     "output_type": "stream",
     "text": [
      "enter first number: 12345\n",
      "enter second value: 78965\n",
      "91310\n"
     ]
    }
   ],
   "source": [
    "addtwonumbers()"
   ]
  },
  {
   "cell_type": "raw",
   "id": "85397778",
   "metadata": {},
   "source": []
  },
  {
   "cell_type": "code",
   "execution_count": 6,
   "id": "abe89228",
   "metadata": {},
   "outputs": [],
   "source": [
    "def multwonumber(x, y):\n",
    "    a = x\n",
    "    b = y\n",
    "    c = a * b\n",
    "    print(c)"
   ]
  },
  {
   "cell_type": "code",
   "execution_count": 7,
   "id": "0f11722c",
   "metadata": {},
   "outputs": [
    {
     "name": "stdout",
     "output_type": "stream",
     "text": [
      "20\n"
     ]
    }
   ],
   "source": [
    "multwonumber(4, 5)"
   ]
  },
  {
   "cell_type": "code",
   "execution_count": 8,
   "id": "8ccc8e16",
   "metadata": {},
   "outputs": [
    {
     "name": "stdout",
     "output_type": "stream",
     "text": [
      "2000\n"
     ]
    }
   ],
   "source": [
    "multwonumber(40, 50)"
   ]
  },
  {
   "cell_type": "code",
   "execution_count": 9,
   "id": "c3737469",
   "metadata": {},
   "outputs": [
    {
     "name": "stdout",
     "output_type": "stream",
     "text": [
      "200000\n"
     ]
    }
   ],
   "source": [
    "multwonumber(400, 500)"
   ]
  },
  {
   "cell_type": "code",
   "execution_count": 11,
   "id": "1d1d0243",
   "metadata": {},
   "outputs": [
    {
     "name": "stdout",
     "output_type": "stream",
     "text": [
      "enter first number: 100\n",
      "enter second number: 25\n",
      "2500\n"
     ]
    }
   ],
   "source": [
    "A = int(input(\"enter first number: \"))\n",
    "B = int(input(\"enter second number: \"))\n",
    "multwonumber(A, B)"
   ]
  },
  {
   "cell_type": "code",
   "execution_count": 12,
   "id": "b47f5298",
   "metadata": {},
   "outputs": [
    {
     "name": "stdout",
     "output_type": "stream",
     "text": [
      "enter first number: 222\n",
      "enter second number: 200\n",
      "44400\n"
     ]
    }
   ],
   "source": [
    "A = int(input(\"enter first number: \"))\n",
    "B = int(input(\"enter second number: \"))\n",
    "multwonumber(A, B)"
   ]
  },
  {
   "cell_type": "raw",
   "id": "4c2e4d76",
   "metadata": {},
   "source": []
  },
  {
   "cell_type": "raw",
   "id": "1c3e3a37",
   "metadata": {},
   "source": []
  },
  {
   "cell_type": "markdown",
   "id": "1d8a2c19",
   "metadata": {},
   "source": [
    "# "
   ]
  },
  {
   "cell_type": "markdown",
   "id": "3af77c64",
   "metadata": {},
   "source": [
    "### Q: Write a function called absolute( ) to accept an integer as argument and return it’s absolute value. Finally call it to get the absolute value of -7 and 9"
   ]
  },
  {
   "cell_type": "raw",
   "id": "460d9640",
   "metadata": {},
   "source": [
    "absolute means only +ve\n",
    "\n",
    "absolute(5) = 5\n",
    "\n",
    "absolute(-7) = 7"
   ]
  },
  {
   "cell_type": "code",
   "execution_count": 13,
   "id": "96804f5e",
   "metadata": {},
   "outputs": [],
   "source": [
    "def absoulte(n):\n",
    "    if n > 0:\n",
    "        return n\n",
    "    else:\n",
    "        return -n"
   ]
  },
  {
   "cell_type": "code",
   "execution_count": 15,
   "id": "f2251565",
   "metadata": {},
   "outputs": [
    {
     "name": "stdout",
     "output_type": "stream",
     "text": [
      "enter a number: -9\n"
     ]
    },
    {
     "data": {
      "text/plain": [
       "9"
      ]
     },
     "execution_count": 15,
     "metadata": {},
     "output_type": "execute_result"
    }
   ],
   "source": [
    "value = int(input(\"enter a number: \"))\n",
    "absoulte(-value)"
   ]
  },
  {
   "cell_type": "code",
   "execution_count": 16,
   "id": "cf6c712b",
   "metadata": {},
   "outputs": [
    {
     "data": {
      "text/plain": [
       "23750983426030"
      ]
     },
     "execution_count": 16,
     "metadata": {},
     "output_type": "execute_result"
    }
   ],
   "source": [
    "abs(-23750983426030)"
   ]
  },
  {
   "cell_type": "raw",
   "id": "2c1e381d",
   "metadata": {},
   "source": []
  },
  {
   "cell_type": "raw",
   "id": "83f54307",
   "metadata": {},
   "source": []
  },
  {
   "cell_type": "code",
   "execution_count": 17,
   "id": "6d665380",
   "metadata": {},
   "outputs": [],
   "source": [
    "def addtwonumber():\n",
    "    a = 1000\n",
    "    b = 2009042\n",
    "    c = a + b\n",
    "    print(c)"
   ]
  },
  {
   "cell_type": "code",
   "execution_count": 18,
   "id": "9276b5a5",
   "metadata": {},
   "outputs": [
    {
     "name": "stdout",
     "output_type": "stream",
     "text": [
      "2010042\n"
     ]
    }
   ],
   "source": [
    "myvariable = addtwonumber()"
   ]
  },
  {
   "cell_type": "code",
   "execution_count": 19,
   "id": "1ce8d1f7",
   "metadata": {},
   "outputs": [
    {
     "name": "stdout",
     "output_type": "stream",
     "text": [
      "None\n"
     ]
    }
   ],
   "source": [
    "print(myvariable)"
   ]
  },
  {
   "cell_type": "raw",
   "id": "3810a9ec",
   "metadata": {},
   "source": []
  },
  {
   "cell_type": "raw",
   "id": "8f059010",
   "metadata": {},
   "source": []
  },
  {
   "cell_type": "markdown",
   "id": "cb137360",
   "metadata": {},
   "source": [
    "# "
   ]
  },
  {
   "cell_type": "raw",
   "id": "9bd24b72",
   "metadata": {},
   "source": [
    "1. function defination\n",
    "2. funcation calling\n",
    "3. argument\n",
    "4. parameter\n",
    "5. fuction return concept\n",
    "7. return multiple values"
   ]
  },
  {
   "cell_type": "raw",
   "id": "e2f13983",
   "metadata": {},
   "source": []
  },
  {
   "cell_type": "code",
   "execution_count": 20,
   "id": "15d39f38",
   "metadata": {},
   "outputs": [],
   "source": [
    "def fullname(a, b):\n",
    "    c = a + b\n",
    "    return c"
   ]
  },
  {
   "cell_type": "code",
   "execution_count": 21,
   "id": "08c186d7",
   "metadata": {},
   "outputs": [],
   "source": [
    "myvariable = fullname(\"Gobinda\", \"Das\")"
   ]
  },
  {
   "cell_type": "code",
   "execution_count": 22,
   "id": "5dffbbf8",
   "metadata": {},
   "outputs": [
    {
     "name": "stdout",
     "output_type": "stream",
     "text": [
      "GobindaDas\n"
     ]
    }
   ],
   "source": [
    "print(myvariable)"
   ]
  },
  {
   "cell_type": "raw",
   "id": "daa19dde",
   "metadata": {},
   "source": []
  },
  {
   "cell_type": "code",
   "execution_count": 23,
   "id": "7da1b9e5",
   "metadata": {},
   "outputs": [],
   "source": [
    "def addtwonumber():\n",
    "    a = 1000\n",
    "    b = 2009042\n",
    "    c = a + b\n",
    "    return a, b, c"
   ]
  },
  {
   "cell_type": "code",
   "execution_count": 24,
   "id": "968da73a",
   "metadata": {},
   "outputs": [],
   "source": [
    "a_value, b_value, addition_of_two_number = addtwonumber()"
   ]
  },
  {
   "cell_type": "code",
   "execution_count": 25,
   "id": "ccfaf0e9",
   "metadata": {},
   "outputs": [
    {
     "name": "stdout",
     "output_type": "stream",
     "text": [
      "1000 2009042 2010042\n"
     ]
    }
   ],
   "source": [
    "print(a_value, b_value, addition_of_two_number, sep=\" \")"
   ]
  },
  {
   "cell_type": "raw",
   "id": "572ceda6",
   "metadata": {},
   "source": []
  },
  {
   "cell_type": "raw",
   "id": "09e78ca0",
   "metadata": {},
   "source": []
  },
  {
   "cell_type": "markdown",
   "id": "db83dcac",
   "metadata": {},
   "source": [
    "# "
   ]
  },
  {
   "cell_type": "markdown",
   "id": "b5b26d49",
   "metadata": {},
   "source": [
    "### Q: call the factorial() function to calculate and return the factorial of the number given by the user."
   ]
  },
  {
   "cell_type": "code",
   "execution_count": 26,
   "id": "e7a5106d",
   "metadata": {},
   "outputs": [],
   "source": [
    "def factorial(n):\n",
    "    f = 1\n",
    "    while n > 1:   #5>1, 4>1 3>1 2>1 1>1(false)\n",
    "        f = f * n  #5*1=5 5*4=20 20*3=60 60*2=120\n",
    "        n = n - 1  #4 3 2 1\n",
    "    print(f)\n",
    "    #return f\n",
    "        "
   ]
  },
  {
   "cell_type": "code",
   "execution_count": 28,
   "id": "fe5913ca",
   "metadata": {},
   "outputs": [
    {
     "name": "stdout",
     "output_type": "stream",
     "text": [
      "write any number: 20\n",
      "2432902008176640000\n",
      "4\n"
     ]
    }
   ],
   "source": [
    "number = int(input(\"write any number: \"))\n",
    "mynum = factorial(number)\n",
    "print(len(str(mynum)))"
   ]
  },
  {
   "cell_type": "code",
   "execution_count": 29,
   "id": "cf023e65",
   "metadata": {},
   "outputs": [
    {
     "data": {
      "text/plain": [
       "120"
      ]
     },
     "execution_count": 29,
     "metadata": {},
     "output_type": "execute_result"
    }
   ],
   "source": [
    "#factorial of 5\n",
    "\n",
    "5*4*3*2*1"
   ]
  },
  {
   "cell_type": "code",
   "execution_count": 30,
   "id": "70f8925a",
   "metadata": {},
   "outputs": [
    {
     "data": {
      "text/plain": [
       "3628800"
      ]
     },
     "execution_count": 30,
     "metadata": {},
     "output_type": "execute_result"
    }
   ],
   "source": [
    "#factorial of 10\n",
    "\n",
    "10*9*8*7*6*5*4*3*2*1"
   ]
  },
  {
   "cell_type": "raw",
   "id": "63f8c2e5",
   "metadata": {},
   "source": []
  },
  {
   "cell_type": "raw",
   "id": "decab0a8",
   "metadata": {},
   "source": []
  },
  {
   "cell_type": "code",
   "execution_count": null,
   "id": "9d900013",
   "metadata": {},
   "outputs": [],
   "source": [
    "1. positional argument\n",
    "2. default argument\n",
    "3. keyword argument\n",
    "4. variable length argument"
   ]
  },
  {
   "cell_type": "raw",
   "id": "c3daddbc",
   "metadata": {},
   "source": []
  },
  {
   "cell_type": "markdown",
   "id": "a4b69845",
   "metadata": {},
   "source": [
    "### 1. positional argument"
   ]
  },
  {
   "cell_type": "code",
   "execution_count": 31,
   "id": "c58c3521",
   "metadata": {},
   "outputs": [],
   "source": [
    "#positional arguments\n",
    "def nos(a, b, c, d):\n",
    "    return a*b*c*d"
   ]
  },
  {
   "cell_type": "code",
   "execution_count": 32,
   "id": "b70565d2",
   "metadata": {},
   "outputs": [
    {
     "data": {
      "text/plain": [
       "240000"
      ]
     },
     "execution_count": 32,
     "metadata": {},
     "output_type": "execute_result"
    }
   ],
   "source": [
    "nos(10, 20, 30, 40)"
   ]
  },
  {
   "cell_type": "raw",
   "id": "5c469590",
   "metadata": {},
   "source": []
  },
  {
   "cell_type": "markdown",
   "id": "66d2f935",
   "metadata": {},
   "source": [
    "### 2. default argument"
   ]
  },
  {
   "cell_type": "code",
   "execution_count": 33,
   "id": "eec172e0",
   "metadata": {},
   "outputs": [],
   "source": [
    "#keyword arguments\n",
    "def nos(a, b, c, d):\n",
    "    return a*b*c*d"
   ]
  },
  {
   "cell_type": "code",
   "execution_count": 34,
   "id": "2f25b5f5",
   "metadata": {},
   "outputs": [],
   "source": [
    "mynums=nos(a=10, b=20, d=40, c=30)"
   ]
  },
  {
   "cell_type": "code",
   "execution_count": 35,
   "id": "536fa0b0",
   "metadata": {},
   "outputs": [
    {
     "name": "stdout",
     "output_type": "stream",
     "text": [
      "240000\n"
     ]
    }
   ],
   "source": [
    "print(mynums)"
   ]
  },
  {
   "cell_type": "raw",
   "id": "2f16c4a2",
   "metadata": {},
   "source": []
  },
  {
   "cell_type": "markdown",
   "id": "d58bf53d",
   "metadata": {},
   "source": [
    "### 3. keyword argument"
   ]
  },
  {
   "cell_type": "code",
   "execution_count": 36,
   "id": "00e47cd5",
   "metadata": {},
   "outputs": [],
   "source": [
    "#default arguments\n",
    "def nos(a, b, d, c=0):\n",
    "    return a*b*c*d"
   ]
  },
  {
   "cell_type": "code",
   "execution_count": 37,
   "id": "6f577261",
   "metadata": {},
   "outputs": [
    {
     "data": {
      "text/plain": [
       "0"
      ]
     },
     "execution_count": 37,
     "metadata": {},
     "output_type": "execute_result"
    }
   ],
   "source": [
    "nos(1, 2, d=4)"
   ]
  },
  {
   "cell_type": "raw",
   "id": "2fbd516f",
   "metadata": {},
   "source": []
  },
  {
   "cell_type": "markdown",
   "id": "ecde4ba0",
   "metadata": {},
   "source": [
    "### 4. variable length argument "
   ]
  },
  {
   "cell_type": "code",
   "execution_count": 38,
   "id": "4357c953",
   "metadata": {},
   "outputs": [],
   "source": [
    "#variable lenght argument\n",
    "def nos(a, b, c, d):\n",
    "    return a*b*c*d"
   ]
  },
  {
   "cell_type": "code",
   "execution_count": 39,
   "id": "ba0263b3",
   "metadata": {},
   "outputs": [],
   "source": [
    "def nos(a, b, c, d, e):\n",
    "    return a*b*c*d*e"
   ]
  },
  {
   "cell_type": "code",
   "execution_count": 40,
   "id": "0076ccff",
   "metadata": {},
   "outputs": [],
   "source": [
    "def nos(a, b, c, d, e, f):\n",
    "    return a*b*c*d*e*f"
   ]
  },
  {
   "cell_type": "code",
   "execution_count": 41,
   "id": "ae776aec",
   "metadata": {},
   "outputs": [
    {
     "ename": "TypeError",
     "evalue": "nos() missing 1 required positional argument: 'f'",
     "output_type": "error",
     "traceback": [
      "\u001b[1;31m---------------------------------------------------------------------------\u001b[0m",
      "\u001b[1;31mTypeError\u001b[0m                                 Traceback (most recent call last)",
      "Cell \u001b[1;32mIn[41], line 1\u001b[0m\n\u001b[1;32m----> 1\u001b[0m nos(\u001b[38;5;241m10\u001b[39m,\u001b[38;5;241m20\u001b[39m,\u001b[38;5;241m30\u001b[39m,\u001b[38;5;241m40\u001b[39m,\u001b[38;5;241m50\u001b[39m)\n",
      "\u001b[1;31mTypeError\u001b[0m: nos() missing 1 required positional argument: 'f'"
     ]
    }
   ],
   "source": [
    "nos(10, 20, 30, 40, 50)"
   ]
  },
  {
   "cell_type": "raw",
   "id": "ef092fcb",
   "metadata": {},
   "source": [
    "python does not support function overloading\n",
    "\n",
    "it will always take recent defination"
   ]
  },
  {
   "cell_type": "raw",
   "id": "f7515abf",
   "metadata": {},
   "source": []
  },
  {
   "cell_type": "code",
   "execution_count": 42,
   "id": "5b0ee606",
   "metadata": {},
   "outputs": [],
   "source": [
    "def nos(*a):\n",
    "    print(type(a))\n",
    "    mul = 1\n",
    "    for i in a:\n",
    "        mul = mul * i\n",
    "    return mul\n",
    "        "
   ]
  },
  {
   "cell_type": "code",
   "execution_count": 43,
   "id": "8e5158a2",
   "metadata": {},
   "outputs": [
    {
     "name": "stdout",
     "output_type": "stream",
     "text": [
      "<class 'tuple'>\n"
     ]
    },
    {
     "data": {
      "text/plain": [
       "720000000"
      ]
     },
     "execution_count": 43,
     "metadata": {},
     "output_type": "execute_result"
    }
   ],
   "source": [
    "nos(10, 20, 30, 40, 50, 60)"
   ]
  },
  {
   "cell_type": "code",
   "execution_count": 44,
   "id": "636ec8f8",
   "metadata": {},
   "outputs": [
    {
     "name": "stdout",
     "output_type": "stream",
     "text": [
      "<class 'tuple'>\n"
     ]
    },
    {
     "data": {
      "text/plain": [
       "943438427361771957116928000000000"
      ]
     },
     "execution_count": 44,
     "metadata": {},
     "output_type": "execute_result"
    }
   ],
   "source": [
    "nos(10, 20, 30, 40, 50, 60, 24, 45, 5645, 76, 867, 8, 34, 3, 4676, 867, 986)"
   ]
  },
  {
   "cell_type": "raw",
   "id": "0040853d",
   "metadata": {},
   "source": []
  },
  {
   "cell_type": "raw",
   "id": "bbcd5546",
   "metadata": {},
   "source": []
  },
  {
   "cell_type": "code",
   "execution_count": 45,
   "id": "d229aaa0",
   "metadata": {},
   "outputs": [
    {
     "name": "stdout",
     "output_type": "stream",
     "text": [
      "Joined String is: Goodnight\n"
     ]
    }
   ],
   "source": [
    "def attach(s1, s2):\n",
    "    s3 = s1 + s2\n",
    "    print(\"Joined String is:\", s3)\n",
    "\t\n",
    "attach(\"Good\", \"night\")"
   ]
  },
  {
   "cell_type": "code",
   "execution_count": 46,
   "id": "262c8f31",
   "metadata": {},
   "outputs": [
    {
     "name": "stdout",
     "output_type": "stream",
     "text": [
      "Item is Butter It's price is 150\n"
     ]
    }
   ],
   "source": [
    "def grocery(name, price):\n",
    "    print(\"Item is\", name,\"It's price is\", price)\n",
    "\t\n",
    "grocery(price=150, name=\"Butter\")"
   ]
  },
  {
   "cell_type": "code",
   "execution_count": 47,
   "id": "5d17f60c",
   "metadata": {},
   "outputs": [
    {
     "name": "stdout",
     "output_type": "stream",
     "text": [
      "Hello Sachin Good Morning\n"
     ]
    }
   ],
   "source": [
    "def greet(name, msg=\"Good Morning\"):\n",
    "    print(\"Hello\", name, msg)\n",
    "\t\n",
    "greet(\"Sachin\")"
   ]
  },
  {
   "cell_type": "code",
   "execution_count": 48,
   "id": "3f946124",
   "metadata": {},
   "outputs": [
    {
     "name": "stdout",
     "output_type": "stream",
     "text": [
      "Hello Sachin Good Morning\n"
     ]
    }
   ],
   "source": [
    "def greet(name, msg=\"Good Morning\"):\n",
    "    print(\"Hello\", name, msg)\n",
    "\t\n",
    "greet(\"Sachin\")"
   ]
  },
  {
   "cell_type": "code",
   "execution_count": 49,
   "id": "5c22ea7d",
   "metadata": {},
   "outputs": [
    {
     "name": "stdout",
     "output_type": "stream",
     "text": [
      "Hello Amit How are you?\n"
     ]
    }
   ],
   "source": [
    "greet(\"Amit\", \"How are you?\")"
   ]
  },
  {
   "cell_type": "raw",
   "id": "0d691c0e",
   "metadata": {},
   "source": []
  },
  {
   "cell_type": "raw",
   "id": "8b6b59a5",
   "metadata": {},
   "source": []
  },
  {
   "cell_type": "markdown",
   "id": "bf7139d7",
   "metadata": {},
   "source": [
    "# "
   ]
  },
  {
   "cell_type": "markdown",
   "id": "44dae730",
   "metadata": {},
   "source": [
    "### Q: Write a function called cal_area( ) using default argument concept which accepts radius and pi as arguments and calculates and displays area of the Circle. The value of pi should be used as default argument and value of radius should be accepted from the user\n"
   ]
  },
  {
   "cell_type": "code",
   "execution_count": 50,
   "id": "202deb13",
   "metadata": {},
   "outputs": [],
   "source": [
    "def cal_area(radius, pi=3.14):\n",
    "    return pi*(radius**2)"
   ]
  },
  {
   "cell_type": "code",
   "execution_count": 51,
   "id": "28284017",
   "metadata": {},
   "outputs": [
    {
     "name": "stdout",
     "output_type": "stream",
     "text": [
      "give the raduis of the circle: 10\n"
     ]
    },
    {
     "data": {
      "text/plain": [
       "314.0"
      ]
     },
     "execution_count": 51,
     "metadata": {},
     "output_type": "execute_result"
    }
   ],
   "source": [
    "r=int(input(\"give the raduis of the circle: \"))\n",
    "cal_area(r)"
   ]
  },
  {
   "cell_type": "raw",
   "id": "0f885ff9",
   "metadata": {},
   "source": []
  },
  {
   "cell_type": "raw",
   "id": "a2bccb43",
   "metadata": {},
   "source": []
  },
  {
   "cell_type": "code",
   "execution_count": 52,
   "id": "d916c1be",
   "metadata": {},
   "outputs": [],
   "source": [
    "def addnos(a, b):\n",
    "\tc = a + b\n",
    "\treturn c\n",
    "\n",
    "def addnos(a, b, c):\n",
    "\td = a + b + c\n",
    "\treturn d"
   ]
  },
  {
   "cell_type": "code",
   "execution_count": 53,
   "id": "ad1d7eb5",
   "metadata": {},
   "outputs": [
    {
     "ename": "TypeError",
     "evalue": "addnos() missing 1 required positional argument: 'c'",
     "output_type": "error",
     "traceback": [
      "\u001b[1;31m---------------------------------------------------------------------------\u001b[0m",
      "\u001b[1;31mTypeError\u001b[0m                                 Traceback (most recent call last)",
      "Cell \u001b[1;32mIn[53], line 1\u001b[0m\n\u001b[1;32m----> 1\u001b[0m \u001b[38;5;28mprint\u001b[39m(addnos(\u001b[38;5;241m10\u001b[39m,\u001b[38;5;241m20\u001b[39m))\n",
      "\u001b[1;31mTypeError\u001b[0m: addnos() missing 1 required positional argument: 'c'"
     ]
    }
   ],
   "source": [
    "print(addnos(10, 20))"
   ]
  },
  {
   "cell_type": "code",
   "execution_count": 54,
   "id": "a2f48850",
   "metadata": {},
   "outputs": [
    {
     "name": "stdout",
     "output_type": "stream",
     "text": [
      "60\n"
     ]
    }
   ],
   "source": [
    "print(addnos(10, 20, 30)) \n"
   ]
  },
  {
   "cell_type": "raw",
   "id": "7f130880",
   "metadata": {},
   "source": []
  },
  {
   "cell_type": "raw",
   "id": "ec7f2354",
   "metadata": {},
   "source": []
  },
  {
   "cell_type": "markdown",
   "id": "f396f94a",
   "metadata": {},
   "source": [
    "# "
   ]
  },
  {
   "cell_type": "markdown",
   "id": "41c847cc",
   "metadata": {},
   "source": [
    "### Q: Write a function called find_largest( ) which accepts multiple strings as argument and returns the length of the largest string\n"
   ]
  },
  {
   "cell_type": "code",
   "execution_count": 55,
   "id": "0a8f473c",
   "metadata": {},
   "outputs": [],
   "source": [
    "def find_largest():\n",
    "    aa=[]\n",
    "    string = input('Enter string or names with space: ').split(\" \")\n",
    "    for i in string:\n",
    "        aa.append(len(i))\n",
    "    return max(aa)"
   ]
  },
  {
   "cell_type": "code",
   "execution_count": 56,
   "id": "1ade760e",
   "metadata": {},
   "outputs": [
    {
     "name": "stdout",
     "output_type": "stream",
     "text": [
      "Enter string or names with space: gobinda akash rahul poulami\n"
     ]
    },
    {
     "data": {
      "text/plain": [
       "7"
      ]
     },
     "execution_count": 56,
     "metadata": {},
     "output_type": "execute_result"
    }
   ],
   "source": [
    "find_largest()"
   ]
  },
  {
   "cell_type": "raw",
   "id": "dd848061",
   "metadata": {},
   "source": []
  },
  {
   "cell_type": "code",
   "execution_count": 71,
   "id": "0582a27c",
   "metadata": {},
   "outputs": [],
   "source": [
    "def find_largest(*args):\n",
    "    print(args)\n",
    "    largest = \"\"\n",
    "    for arg in args:\n",
    "        if len(arg) > len(largest):\n",
    "            largest = arg\n",
    "    return len(largest)"
   ]
  },
  {
   "cell_type": "code",
   "execution_count": 72,
   "id": "51f0da48",
   "metadata": {},
   "outputs": [
    {
     "name": "stdout",
     "output_type": "stream",
     "text": [
      "('gobindadas', 'poulami', 'rohitdas')\n"
     ]
    },
    {
     "data": {
      "text/plain": [
       "10"
      ]
     },
     "execution_count": 72,
     "metadata": {},
     "output_type": "execute_result"
    }
   ],
   "source": [
    "find_largest(\"gobindadas\", \"poulami\", \"rohitdas\")"
   ]
  },
  {
   "cell_type": "raw",
   "id": "f2171485",
   "metadata": {},
   "source": []
  },
  {
   "cell_type": "code",
   "execution_count": 58,
   "id": "d78be4cb",
   "metadata": {},
   "outputs": [
    {
     "name": "stdout",
     "output_type": "stream",
     "text": [
      "8\n"
     ]
    }
   ],
   "source": [
    "def findlargest(*names):\n",
    "\tmax = 0\n",
    "\tfor s in names:\n",
    "\t\tif len(s) > max:\n",
    "\t\t\tmax = len(s)\n",
    "\treturn max\n",
    "\n",
    "print(findlargest(\"January\", \"February\", \"March\"))"
   ]
  },
  {
   "cell_type": "code",
   "execution_count": 59,
   "id": "eaf5d9c2",
   "metadata": {},
   "outputs": [
    {
     "name": "stdout",
     "output_type": "stream",
     "text": [
      "('gobindadas', 'poulami', 'rohitdas')\n"
     ]
    },
    {
     "data": {
      "text/plain": [
       "10"
      ]
     },
     "execution_count": 59,
     "metadata": {},
     "output_type": "execute_result"
    }
   ],
   "source": [
    "find_largest(\"gobindadas\", \"poulami\", \"rohitdas\")"
   ]
  },
  {
   "cell_type": "raw",
   "id": "d66ba2e4",
   "metadata": {},
   "source": []
  },
  {
   "cell_type": "code",
   "execution_count": null,
   "id": "70115611",
   "metadata": {},
   "outputs": [],
   "source": [
    "def find_largest(a, b, c):\n",
    "      x = len(a)\n",
    "      y = len(b)\n",
    "      z = len(c)\n",
    "      if x>y and x>z:\n",
    "        return x\n",
    "      elif y>x and y>z:\n",
    "        return y\n",
    "      else:\n",
    "        return z"
   ]
  },
  {
   "cell_type": "code",
   "execution_count": null,
   "id": "0a15dc9e",
   "metadata": {},
   "outputs": [],
   "source": [
    "find_largest(\"gobindadas\", \"poulami\", \"rohitdas\")"
   ]
  },
  {
   "cell_type": "raw",
   "id": "b3b06637",
   "metadata": {},
   "source": []
  },
  {
   "cell_type": "code",
   "execution_count": 60,
   "id": "74f8c32d",
   "metadata": {},
   "outputs": [],
   "source": [
    "def find_largest():\n",
    "    a=input(\"Enter the firsst string = \")\n",
    "    b=input(\"Enter the second string = \")\n",
    "    c=input(\"Enter the third string = \")\n",
    "    \n",
    "    if (len(a) > len(b) and len(a) > len(c)):\n",
    "        return a, len(a)\n",
    "    elif (len(b) > len(c) and len(b) > len(a)):\n",
    "        return b, len(b)\n",
    "    else:\n",
    "        return c, len(c)"
   ]
  },
  {
   "cell_type": "code",
   "execution_count": 61,
   "id": "4027abff",
   "metadata": {},
   "outputs": [
    {
     "name": "stdout",
     "output_type": "stream",
     "text": [
      "Enter the firsst string = gobindadas\n",
      "Enter the second string = poulami\n",
      "Enter the third string = sutrishna\n"
     ]
    },
    {
     "data": {
      "text/plain": [
       "('gobindadas', 10)"
      ]
     },
     "execution_count": 61,
     "metadata": {},
     "output_type": "execute_result"
    }
   ],
   "source": [
    "find_largest()"
   ]
  },
  {
   "cell_type": "raw",
   "id": "9a376a78",
   "metadata": {},
   "source": []
  },
  {
   "cell_type": "raw",
   "id": "b86f7f17",
   "metadata": {},
   "source": []
  },
  {
   "cell_type": "raw",
   "id": "5d1a25c4",
   "metadata": {},
   "source": []
  },
  {
   "cell_type": "code",
   "execution_count": 62,
   "id": "bac27d3e",
   "metadata": {},
   "outputs": [
    {
     "ename": "SyntaxError",
     "evalue": "* argument may appear only once (2322429829.py, line 1)",
     "output_type": "error",
     "traceback": [
      "\u001b[1;36m  Cell \u001b[1;32mIn[62], line 1\u001b[1;36m\u001b[0m\n\u001b[1;33m    def addnos(*a,*b):\u001b[0m\n\u001b[1;37m                  ^\u001b[0m\n\u001b[1;31mSyntaxError\u001b[0m\u001b[1;31m:\u001b[0m * argument may appear only once\n"
     ]
    }
   ],
   "source": [
    "def addnos(*a, *b):\n",
    "    print(a)\n",
    "    print(b)"
   ]
  },
  {
   "cell_type": "code",
   "execution_count": 63,
   "id": "24a3a893",
   "metadata": {},
   "outputs": [
    {
     "name": "stdout",
     "output_type": "stream",
     "text": [
      "10 20 3 4\n"
     ]
    }
   ],
   "source": [
    "def show(a, b, c=3, d=4):\n",
    "    print(a,b,c,d)\n",
    "\n",
    "show(10, 20)"
   ]
  },
  {
   "cell_type": "code",
   "execution_count": 64,
   "id": "9cf69fed",
   "metadata": {},
   "outputs": [
    {
     "name": "stdout",
     "output_type": "stream",
     "text": [
      "10 20 30 40\n"
     ]
    }
   ],
   "source": [
    "def show(a, b, c=3, d=4):\n",
    "    print(a, b, c, d)\n",
    "\n",
    "show(10, 20, 30, 40)"
   ]
  },
  {
   "cell_type": "code",
   "execution_count": 65,
   "id": "5326f4f6",
   "metadata": {},
   "outputs": [
    {
     "name": "stdout",
     "output_type": "stream",
     "text": [
      "20 30 3 10\n"
     ]
    }
   ],
   "source": [
    "def show(a, b, c=3, d=4):\n",
    "    print(a, b, c, d)\n",
    "\n",
    "show(d=10, a=20, b=30)"
   ]
  },
  {
   "cell_type": "code",
   "execution_count": 66,
   "id": "76af8acf",
   "metadata": {},
   "outputs": [
    {
     "ename": "TypeError",
     "evalue": "show() missing 2 required positional arguments: 'a' and 'b'",
     "output_type": "error",
     "traceback": [
      "\u001b[1;31m---------------------------------------------------------------------------\u001b[0m",
      "\u001b[1;31mTypeError\u001b[0m                                 Traceback (most recent call last)",
      "Cell \u001b[1;32mIn[66], line 4\u001b[0m\n\u001b[0;32m      1\u001b[0m \u001b[38;5;28;01mdef\u001b[39;00m \u001b[38;5;21mshow\u001b[39m(a,b,c\u001b[38;5;241m=\u001b[39m\u001b[38;5;241m3\u001b[39m,d\u001b[38;5;241m=\u001b[39m\u001b[38;5;241m4\u001b[39m):\n\u001b[0;32m      2\u001b[0m     \u001b[38;5;28mprint\u001b[39m(a,b,c,d)\n\u001b[1;32m----> 4\u001b[0m show()\n",
      "\u001b[1;31mTypeError\u001b[0m: show() missing 2 required positional arguments: 'a' and 'b'"
     ]
    }
   ],
   "source": [
    "def show(a, b, c=3, d=4):\n",
    "    print(a, b, c, d)\n",
    "\n",
    "show()"
   ]
  },
  {
   "cell_type": "code",
   "execution_count": 67,
   "id": "e259b4ce",
   "metadata": {},
   "outputs": [
    {
     "ename": "SyntaxError",
     "evalue": "positional argument follows keyword argument (877906089.py, line 4)",
     "output_type": "error",
     "traceback": [
      "\u001b[1;36m  Cell \u001b[1;32mIn[67], line 4\u001b[1;36m\u001b[0m\n\u001b[1;33m    show(c=30,d=40,10,20)\u001b[0m\n\u001b[1;37m                        ^\u001b[0m\n\u001b[1;31mSyntaxError\u001b[0m\u001b[1;31m:\u001b[0m positional argument follows keyword argument\n"
     ]
    }
   ],
   "source": [
    "def show(a, b, c=3, d=4):\n",
    "    print(a, b, c, d)\n",
    "\n",
    "show(c=30, d=40, 10, 20)"
   ]
  },
  {
   "cell_type": "code",
   "execution_count": 68,
   "id": "f27dd1d3",
   "metadata": {},
   "outputs": [
    {
     "ename": "TypeError",
     "evalue": "show() got multiple values for argument 'b'",
     "output_type": "error",
     "traceback": [
      "\u001b[1;31m---------------------------------------------------------------------------\u001b[0m",
      "\u001b[1;31mTypeError\u001b[0m                                 Traceback (most recent call last)",
      "Cell \u001b[1;32mIn[68], line 4\u001b[0m\n\u001b[0;32m      1\u001b[0m \u001b[38;5;28;01mdef\u001b[39;00m \u001b[38;5;21mshow\u001b[39m(a,b,c\u001b[38;5;241m=\u001b[39m\u001b[38;5;241m3\u001b[39m,d\u001b[38;5;241m=\u001b[39m\u001b[38;5;241m4\u001b[39m):\n\u001b[0;32m      2\u001b[0m     \u001b[38;5;28mprint\u001b[39m(a,b,c,d)\n\u001b[1;32m----> 4\u001b[0m show(\u001b[38;5;241m30\u001b[39m,\u001b[38;5;241m40\u001b[39m,b\u001b[38;5;241m=\u001b[39m\u001b[38;5;241m15\u001b[39m)\n",
      "\u001b[1;31mTypeError\u001b[0m: show() got multiple values for argument 'b'"
     ]
    }
   ],
   "source": [
    "def show(a, b, c=3, d=4):\n",
    "    print(a, b, c, d)\n",
    "\n",
    "show(30, 40, b=15)"
   ]
  },
  {
   "cell_type": "code",
   "execution_count": null,
   "id": "872b5dcc",
   "metadata": {},
   "outputs": [],
   "source": []
  },
  {
   "cell_type": "code",
   "execution_count": 69,
   "id": "46cb9fbf",
   "metadata": {},
   "outputs": [],
   "source": [
    "def test(a):\n",
    "    try:\n",
    "        print(a/10)\n",
    "    except:\n",
    "        print(\"dont write string\")"
   ]
  },
  {
   "cell_type": "code",
   "execution_count": 70,
   "id": "237d0d81",
   "metadata": {},
   "outputs": [
    {
     "name": "stdout",
     "output_type": "stream",
     "text": [
      "dont write string\n"
     ]
    }
   ],
   "source": [
    "test(\"gobinda\") "
   ]
  },
  {
   "cell_type": "raw",
   "id": "b68d41f6",
   "metadata": {},
   "source": []
  }
 ],
 "metadata": {
  "kernelspec": {
   "display_name": "Python 3 (ipykernel)",
   "language": "python",
   "name": "python3"
  },
  "language_info": {
   "codemirror_mode": {
    "name": "ipython",
    "version": 3
   },
   "file_extension": ".py",
   "mimetype": "text/x-python",
   "name": "python",
   "nbconvert_exporter": "python",
   "pygments_lexer": "ipython3",
   "version": "3.11.5"
  }
 },
 "nbformat": 4,
 "nbformat_minor": 5
}
