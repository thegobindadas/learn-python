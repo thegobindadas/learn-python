{
 "cells": [
  {
   "cell_type": "markdown",
   "id": "f99097e8",
   "metadata": {},
   "source": [
    "# String"
   ]
  },
  {
   "cell_type": "raw",
   "id": "fb5c8e0c",
   "metadata": {},
   "source": []
  },
  {
   "cell_type": "code",
   "execution_count": 6,
   "id": "7afa02f0",
   "metadata": {},
   "outputs": [],
   "source": [
    "mystring = \"gobinda\""
   ]
  },
  {
   "cell_type": "code",
   "execution_count": 7,
   "id": "3b359b85",
   "metadata": {},
   "outputs": [
    {
     "data": {
      "text/plain": [
       "'gobinda'"
      ]
     },
     "execution_count": 7,
     "metadata": {},
     "output_type": "execute_result"
    }
   ],
   "source": [
    "mystring"
   ]
  },
  {
   "cell_type": "code",
   "execution_count": 8,
   "id": "c2f8e12e",
   "metadata": {},
   "outputs": [
    {
     "data": {
      "text/plain": [
       "str"
      ]
     },
     "execution_count": 8,
     "metadata": {},
     "output_type": "execute_result"
    }
   ],
   "source": [
    "type(mystring)"
   ]
  },
  {
   "cell_type": "raw",
   "id": "8f1fbeac",
   "metadata": {},
   "source": []
  },
  {
   "cell_type": "code",
   "execution_count": 4,
   "id": "e2e2ab53",
   "metadata": {},
   "outputs": [],
   "source": [
    "mychar = \"A\""
   ]
  },
  {
   "cell_type": "code",
   "execution_count": 9,
   "id": "38f70ab1",
   "metadata": {},
   "outputs": [
    {
     "data": {
      "text/plain": [
       "'A'"
      ]
     },
     "execution_count": 9,
     "metadata": {},
     "output_type": "execute_result"
    }
   ],
   "source": [
    "mychar"
   ]
  },
  {
   "cell_type": "code",
   "execution_count": 10,
   "id": "5fc6d8cb",
   "metadata": {},
   "outputs": [
    {
     "data": {
      "text/plain": [
       "str"
      ]
     },
     "execution_count": 10,
     "metadata": {},
     "output_type": "execute_result"
    }
   ],
   "source": [
    "type(mychar)"
   ]
  },
  {
   "cell_type": "raw",
   "id": "88e1c9d9",
   "metadata": {},
   "source": []
  },
  {
   "cell_type": "code",
   "execution_count": 22,
   "id": "56232819",
   "metadata": {},
   "outputs": [],
   "source": [
    "#empty string\n",
    "str = \"\""
   ]
  },
  {
   "cell_type": "code",
   "execution_count": 23,
   "id": "5255253d",
   "metadata": {},
   "outputs": [
    {
     "data": {
      "text/plain": [
       "''"
      ]
     },
     "execution_count": 23,
     "metadata": {},
     "output_type": "execute_result"
    }
   ],
   "source": [
    "str"
   ]
  },
  {
   "cell_type": "code",
   "execution_count": 24,
   "id": "ae791b1a",
   "metadata": {},
   "outputs": [
    {
     "data": {
      "text/plain": [
       "str"
      ]
     },
     "execution_count": 24,
     "metadata": {},
     "output_type": "execute_result"
    }
   ],
   "source": [
    "type(str)"
   ]
  },
  {
   "cell_type": "raw",
   "id": "94bd43ba",
   "metadata": {},
   "source": []
  },
  {
   "cell_type": "code",
   "execution_count": 11,
   "id": "d949594d",
   "metadata": {},
   "outputs": [],
   "source": [
    "str1 = \" \"  "
   ]
  },
  {
   "cell_type": "code",
   "execution_count": 12,
   "id": "5e980873",
   "metadata": {},
   "outputs": [
    {
     "data": {
      "text/plain": [
       "' '"
      ]
     },
     "execution_count": 12,
     "metadata": {},
     "output_type": "execute_result"
    }
   ],
   "source": [
    "str1"
   ]
  },
  {
   "cell_type": "code",
   "execution_count": 13,
   "id": "92ba7605",
   "metadata": {},
   "outputs": [
    {
     "data": {
      "text/plain": [
       "str"
      ]
     },
     "execution_count": 13,
     "metadata": {},
     "output_type": "execute_result"
    }
   ],
   "source": [
    "type(str1)"
   ]
  },
  {
   "cell_type": "raw",
   "id": "55169841",
   "metadata": {},
   "source": []
  },
  {
   "cell_type": "code",
   "execution_count": 15,
   "id": "9fe4e9b7",
   "metadata": {},
   "outputs": [],
   "source": [
    "str2 = 'gobinda das'"
   ]
  },
  {
   "cell_type": "code",
   "execution_count": 16,
   "id": "5a2926ed",
   "metadata": {},
   "outputs": [
    {
     "data": {
      "text/plain": [
       "'gobinda das'"
      ]
     },
     "execution_count": 16,
     "metadata": {},
     "output_type": "execute_result"
    }
   ],
   "source": [
    "str2"
   ]
  },
  {
   "cell_type": "code",
   "execution_count": 17,
   "id": "670f7c63",
   "metadata": {},
   "outputs": [
    {
     "data": {
      "text/plain": [
       "str"
      ]
     },
     "execution_count": 17,
     "metadata": {},
     "output_type": "execute_result"
    }
   ],
   "source": [
    "type(str2)"
   ]
  },
  {
   "cell_type": "raw",
   "id": "a0ee3c6d",
   "metadata": {},
   "source": []
  },
  {
   "cell_type": "code",
   "execution_count": 19,
   "id": "f53698f3",
   "metadata": {},
   "outputs": [],
   "source": [
    "str3 = \"\"\"i\n",
    "         love\n",
    "         python\"\"\""
   ]
  },
  {
   "cell_type": "code",
   "execution_count": 20,
   "id": "8c94fad6",
   "metadata": {},
   "outputs": [
    {
     "data": {
      "text/plain": [
       "'i\\n         love\\n         python'"
      ]
     },
     "execution_count": 20,
     "metadata": {},
     "output_type": "execute_result"
    }
   ],
   "source": [
    "str3"
   ]
  },
  {
   "cell_type": "code",
   "execution_count": 21,
   "id": "ee59f132",
   "metadata": {},
   "outputs": [
    {
     "data": {
      "text/plain": [
       "str"
      ]
     },
     "execution_count": 21,
     "metadata": {},
     "output_type": "execute_result"
    }
   ],
   "source": [
    "type(str3)"
   ]
  },
  {
   "cell_type": "raw",
   "id": "0e3c7042",
   "metadata": {},
   "source": []
  },
  {
   "cell_type": "code",
   "execution_count": 1,
   "id": "8d8895df",
   "metadata": {},
   "outputs": [],
   "source": [
    "mystring6 = \"i love coding\""
   ]
  },
  {
   "cell_type": "code",
   "execution_count": 2,
   "id": "797b9398",
   "metadata": {},
   "outputs": [
    {
     "data": {
      "text/plain": [
       "13"
      ]
     },
     "execution_count": 2,
     "metadata": {},
     "output_type": "execute_result"
    }
   ],
   "source": [
    "len(mystring6)"
   ]
  },
  {
   "cell_type": "code",
   "execution_count": 3,
   "id": "fdad15c5",
   "metadata": {},
   "outputs": [
    {
     "data": {
      "text/plain": [
       "'v'"
      ]
     },
     "execution_count": 3,
     "metadata": {},
     "output_type": "execute_result"
    }
   ],
   "source": [
    "mystring6[4]"
   ]
  },
  {
   "cell_type": "code",
   "execution_count": 4,
   "id": "83090a61",
   "metadata": {},
   "outputs": [
    {
     "data": {
      "text/plain": [
       "'lov'"
      ]
     },
     "execution_count": 4,
     "metadata": {},
     "output_type": "execute_result"
    }
   ],
   "source": [
    "mystring6[2 : 5]"
   ]
  },
  {
   "cell_type": "code",
   "execution_count": 5,
   "id": "39e86b8a",
   "metadata": {},
   "outputs": [
    {
     "data": {
      "text/plain": [
       "'sad adnibog'"
      ]
     },
     "execution_count": 5,
     "metadata": {},
     "output_type": "execute_result"
    }
   ],
   "source": [
    "myname = \"gobinda das\"\n",
    "\n",
    "myname[-1 :  : -1]  #reverse order"
   ]
  },
  {
   "cell_type": "raw",
   "id": "0715f69c",
   "metadata": {},
   "source": []
  },
  {
   "cell_type": "markdown",
   "id": "a84e744d",
   "metadata": {},
   "source": [
    "# "
   ]
  },
  {
   "cell_type": "markdown",
   "id": "53ab26fe",
   "metadata": {},
   "source": [
    "#### Q. wap to take input from user and print it in reverse order"
   ]
  },
  {
   "cell_type": "code",
   "execution_count": 43,
   "id": "503f9262",
   "metadata": {},
   "outputs": [
    {
     "name": "stdout",
     "output_type": "stream",
     "text": [
      "s\n",
      "a\n",
      "d\n",
      " \n",
      "a\n",
      "d\n",
      "n\n",
      "i\n",
      "b\n",
      "o\n",
      "g\n"
     ]
    }
   ],
   "source": [
    "#reverse order\n",
    "myname = \"gobinda das\"\n",
    "\n",
    "for i in range(1, len(myname)+1):\n",
    "    print(myname[len(myname) - i])"
   ]
  },
  {
   "cell_type": "code",
   "execution_count": 45,
   "id": "3e48217f",
   "metadata": {},
   "outputs": [
    {
     "name": "stdout",
     "output_type": "stream",
     "text": [
      "s\n",
      "a\n",
      "d\n",
      " \n",
      "a\n",
      "d\n",
      "n\n",
      "i\n",
      "b\n",
      "o\n",
      "g\n"
     ]
    }
   ],
   "source": [
    "myname = \"gobinda das\"\n",
    "\n",
    "for i in range(len(myname)-1, -1, -1):\n",
    "    print(myname[i])"
   ]
  },
  {
   "cell_type": "raw",
   "id": "e40e6eee",
   "metadata": {},
   "source": []
  },
  {
   "cell_type": "markdown",
   "id": "58d321ac",
   "metadata": {},
   "source": [
    "# "
   ]
  },
  {
   "cell_type": "markdown",
   "id": "a78e0b2d",
   "metadata": {},
   "source": [
    "## concatination"
   ]
  },
  {
   "cell_type": "raw",
   "id": "fe559abc",
   "metadata": {},
   "source": [
    "+ operator for concatination"
   ]
  },
  {
   "cell_type": "code",
   "execution_count": 46,
   "id": "d91119e9",
   "metadata": {},
   "outputs": [
    {
     "data": {
      "text/plain": [
       "'gobindaDas'"
      ]
     },
     "execution_count": 46,
     "metadata": {},
     "output_type": "execute_result"
    }
   ],
   "source": [
    "\"gobinda\" + \"Das\""
   ]
  },
  {
   "cell_type": "code",
   "execution_count": 2,
   "id": "7a75731f",
   "metadata": {},
   "outputs": [
    {
     "data": {
      "text/plain": [
       "'gobinda Das'"
      ]
     },
     "execution_count": 2,
     "metadata": {},
     "output_type": "execute_result"
    }
   ],
   "source": [
    "\"gobinda\" + \" \" + \"Das\""
   ]
  },
  {
   "cell_type": "code",
   "execution_count": 47,
   "id": "92cd2296",
   "metadata": {},
   "outputs": [
    {
     "data": {
      "text/plain": [
       "'gobindagobinda'"
      ]
     },
     "execution_count": 47,
     "metadata": {},
     "output_type": "execute_result"
    }
   ],
   "source": [
    "#multiplication\n",
    "\"gobinda\"*2"
   ]
  },
  {
   "cell_type": "code",
   "execution_count": 48,
   "id": "78bfb9d2",
   "metadata": {},
   "outputs": [
    {
     "data": {
      "text/plain": [
       "'byebye'"
      ]
     },
     "execution_count": 48,
     "metadata": {},
     "output_type": "execute_result"
    }
   ],
   "source": [
    "\"bye\"*2"
   ]
  },
  {
   "cell_type": "code",
   "execution_count": 49,
   "id": "051fb282",
   "metadata": {},
   "outputs": [
    {
     "data": {
      "text/plain": [
       "'banana'"
      ]
     },
     "execution_count": 49,
     "metadata": {},
     "output_type": "execute_result"
    }
   ],
   "source": [
    "\"ba\"+\"na\"*2"
   ]
  },
  {
   "cell_type": "markdown",
   "id": "b3e99b34",
   "metadata": {},
   "source": [
    "# "
   ]
  },
  {
   "cell_type": "markdown",
   "id": "2d999fd5",
   "metadata": {},
   "source": [
    "## Membership operator"
   ]
  },
  {
   "cell_type": "code",
   "execution_count": 50,
   "id": "32826ed0",
   "metadata": {},
   "outputs": [],
   "source": [
    "mystring = \"i love my india\""
   ]
  },
  {
   "cell_type": "code",
   "execution_count": 51,
   "id": "7c6c7dd5",
   "metadata": {},
   "outputs": [
    {
     "data": {
      "text/plain": [
       "True"
      ]
     },
     "execution_count": 51,
     "metadata": {},
     "output_type": "execute_result"
    }
   ],
   "source": [
    "\"love\" in mystring"
   ]
  },
  {
   "cell_type": "code",
   "execution_count": 52,
   "id": "68811d22",
   "metadata": {},
   "outputs": [
    {
     "data": {
      "text/plain": [
       "True"
      ]
     },
     "execution_count": 52,
     "metadata": {},
     "output_type": "execute_result"
    }
   ],
   "source": [
    "\"india\" in mystring"
   ]
  },
  {
   "cell_type": "code",
   "execution_count": 53,
   "id": "30d2bb1e",
   "metadata": {},
   "outputs": [
    {
     "data": {
      "text/plain": [
       "False"
      ]
     },
     "execution_count": 53,
     "metadata": {},
     "output_type": "execute_result"
    }
   ],
   "source": [
    "\"you\" in mystring"
   ]
  },
  {
   "cell_type": "code",
   "execution_count": 54,
   "id": "34ac65c3",
   "metadata": {},
   "outputs": [
    {
     "data": {
      "text/plain": [
       "True"
      ]
     },
     "execution_count": 54,
     "metadata": {},
     "output_type": "execute_result"
    }
   ],
   "source": [
    "\" \" in mystring"
   ]
  },
  {
   "cell_type": "code",
   "execution_count": 55,
   "id": "874147f4",
   "metadata": {},
   "outputs": [
    {
     "data": {
      "text/plain": [
       "True"
      ]
     },
     "execution_count": 55,
     "metadata": {},
     "output_type": "execute_result"
    }
   ],
   "source": [
    "\"\" in mystring"
   ]
  },
  {
   "cell_type": "code",
   "execution_count": 56,
   "id": "4fc012cd",
   "metadata": {},
   "outputs": [
    {
     "data": {
      "text/plain": [
       "True"
      ]
     },
     "execution_count": 56,
     "metadata": {},
     "output_type": "execute_result"
    }
   ],
   "source": [
    "\"hindustan\" not in mystring"
   ]
  },
  {
   "cell_type": "markdown",
   "id": "4b716ebc",
   "metadata": {},
   "source": [
    "# "
   ]
  },
  {
   "cell_type": "markdown",
   "id": "06b10b61",
   "metadata": {},
   "source": [
    "## Relational operator"
   ]
  },
  {
   "cell_type": "code",
   "execution_count": 1,
   "id": "24b25576",
   "metadata": {},
   "outputs": [
    {
     "data": {
      "text/plain": [
       "False"
      ]
     },
     "execution_count": 1,
     "metadata": {},
     "output_type": "execute_result"
    }
   ],
   "source": [
    "\"tim\" == \"tie\""
   ]
  },
  {
   "cell_type": "code",
   "execution_count": 2,
   "id": "7c6bae6e",
   "metadata": {},
   "outputs": [
    {
     "data": {
      "text/plain": [
       "True"
      ]
     },
     "execution_count": 2,
     "metadata": {},
     "output_type": "execute_result"
    }
   ],
   "source": [
    "\"free\" != \"freedom\""
   ]
  },
  {
   "cell_type": "code",
   "execution_count": 3,
   "id": "4a9aaeb5",
   "metadata": {},
   "outputs": [
    {
     "data": {
      "text/plain": [
       "True"
      ]
     },
     "execution_count": 3,
     "metadata": {},
     "output_type": "execute_result"
    }
   ],
   "source": [
    "\"arrow\" > \"aron\""
   ]
  },
  {
   "cell_type": "code",
   "execution_count": 4,
   "id": "349568bd",
   "metadata": {},
   "outputs": [
    {
     "data": {
      "text/plain": [
       "True"
      ]
     },
     "execution_count": 4,
     "metadata": {},
     "output_type": "execute_result"
    }
   ],
   "source": [
    "\"right\" >= \"left\""
   ]
  },
  {
   "cell_type": "code",
   "execution_count": 5,
   "id": "0df029a6",
   "metadata": {},
   "outputs": [
    {
     "data": {
      "text/plain": [
       "False"
      ]
     },
     "execution_count": 5,
     "metadata": {},
     "output_type": "execute_result"
    }
   ],
   "source": [
    "\"teeth\" < \"tee\""
   ]
  },
  {
   "cell_type": "code",
   "execution_count": 6,
   "id": "7f2c4ef1",
   "metadata": {},
   "outputs": [
    {
     "data": {
      "text/plain": [
       "False"
      ]
     },
     "execution_count": 6,
     "metadata": {},
     "output_type": "execute_result"
    }
   ],
   "source": [
    "\"yellow\" <= \"fellow\""
   ]
  },
  {
   "cell_type": "code",
   "execution_count": 7,
   "id": "bdde1086",
   "metadata": {},
   "outputs": [
    {
     "data": {
      "text/plain": [
       "True"
      ]
     },
     "execution_count": 7,
     "metadata": {},
     "output_type": "execute_result"
    }
   ],
   "source": [
    "\"abc\" > \" \""
   ]
  },
  {
   "cell_type": "markdown",
   "id": "0028c429",
   "metadata": {},
   "source": [
    "#"
   ]
  },
  {
   "cell_type": "markdown",
   "id": "2ec5e6fc",
   "metadata": {},
   "source": [
    "## Identity operators"
   ]
  },
  {
   "cell_type": "raw",
   "id": "cff9772f",
   "metadata": {},
   "source": [
    "is and is not"
   ]
  },
  {
   "cell_type": "code",
   "execution_count": 10,
   "id": "6fe8c76b",
   "metadata": {},
   "outputs": [],
   "source": [
    "a = \"gobinda\"\n",
    "b = \"gobinda\"\n",
    "c = \"das\""
   ]
  },
  {
   "cell_type": "code",
   "execution_count": 11,
   "id": "e3368588",
   "metadata": {},
   "outputs": [
    {
     "data": {
      "text/plain": [
       "True"
      ]
     },
     "execution_count": 11,
     "metadata": {},
     "output_type": "execute_result"
    }
   ],
   "source": [
    "a is b"
   ]
  },
  {
   "cell_type": "code",
   "execution_count": 12,
   "id": "2a5c133d",
   "metadata": {},
   "outputs": [
    {
     "data": {
      "text/plain": [
       "False"
      ]
     },
     "execution_count": 12,
     "metadata": {},
     "output_type": "execute_result"
    }
   ],
   "source": [
    "a is c"
   ]
  },
  {
   "cell_type": "code",
   "execution_count": 13,
   "id": "f31b4b46",
   "metadata": {},
   "outputs": [
    {
     "data": {
      "text/plain": [
       "True"
      ]
     },
     "execution_count": 13,
     "metadata": {},
     "output_type": "execute_result"
    }
   ],
   "source": [
    "a is not c"
   ]
  },
  {
   "cell_type": "raw",
   "id": "73993085",
   "metadata": {},
   "source": []
  },
  {
   "cell_type": "markdown",
   "id": "5bb81df9",
   "metadata": {},
   "source": [
    "# "
   ]
  },
  {
   "cell_type": "markdown",
   "id": "b76a074a",
   "metadata": {},
   "source": [
    "## function in string:\n",
    "    1. len()\n",
    "    2. max()\n",
    "    3. min()\n",
    "    4. ord()\n",
    "    5. chr()"
   ]
  },
  {
   "cell_type": "markdown",
   "id": "ecfe2d2e",
   "metadata": {},
   "source": [
    "# "
   ]
  },
  {
   "cell_type": "markdown",
   "id": "99217ebe",
   "metadata": {},
   "source": [
    "## 1. len()"
   ]
  },
  {
   "cell_type": "code",
   "execution_count": 14,
   "id": "68f186dd",
   "metadata": {},
   "outputs": [
    {
     "name": "stdout",
     "output_type": "stream",
     "text": [
      "11\n"
     ]
    }
   ],
   "source": [
    "mystring = \"gobinda das\"\n",
    "\n",
    "print(len(mystring))"
   ]
  },
  {
   "cell_type": "markdown",
   "id": "51951fdf",
   "metadata": {},
   "source": [
    "##     2. max()"
   ]
  },
  {
   "cell_type": "code",
   "execution_count": 15,
   "id": "8d52198b",
   "metadata": {},
   "outputs": [
    {
     "data": {
      "text/plain": [
       "'s'"
      ]
     },
     "execution_count": 15,
     "metadata": {},
     "output_type": "execute_result"
    }
   ],
   "source": [
    "mystring = \"gobinda das\"\n",
    "\n",
    "max(mystring)"
   ]
  },
  {
   "cell_type": "code",
   "execution_count": 16,
   "id": "ff6305d1",
   "metadata": {},
   "outputs": [
    {
     "data": {
      "text/plain": [
       "'z'"
      ]
     },
     "execution_count": 16,
     "metadata": {},
     "output_type": "execute_result"
    }
   ],
   "source": [
    "mystring = \"gobinda das azx\"\n",
    "\n",
    "max(mystring)"
   ]
  },
  {
   "cell_type": "markdown",
   "id": "51ac791b",
   "metadata": {},
   "source": [
    "## 3. min()"
   ]
  },
  {
   "cell_type": "code",
   "execution_count": 17,
   "id": "1dc0423e",
   "metadata": {},
   "outputs": [
    {
     "data": {
      "text/plain": [
       "' '"
      ]
     },
     "execution_count": 17,
     "metadata": {},
     "output_type": "execute_result"
    }
   ],
   "source": [
    "mystring = \"gobinda das azx\"\n",
    "\n",
    "min(mystring)"
   ]
  },
  {
   "cell_type": "code",
   "execution_count": 18,
   "id": "27f09ff8",
   "metadata": {},
   "outputs": [
    {
     "data": {
      "text/plain": [
       "'a'"
      ]
     },
     "execution_count": 18,
     "metadata": {},
     "output_type": "execute_result"
    }
   ],
   "source": [
    "mystring = \"gobindadasazx\"\n",
    "\n",
    "min(mystring)"
   ]
  },
  {
   "cell_type": "markdown",
   "id": "f3b0ff5d",
   "metadata": {},
   "source": [
    "## 5. ord()"
   ]
  },
  {
   "cell_type": "code",
   "execution_count": 19,
   "id": "bb38dcde",
   "metadata": {},
   "outputs": [
    {
     "data": {
      "text/plain": [
       "32"
      ]
     },
     "execution_count": 19,
     "metadata": {},
     "output_type": "execute_result"
    }
   ],
   "source": [
    "ord(\" \")"
   ]
  },
  {
   "cell_type": "code",
   "execution_count": 20,
   "id": "cd681ca4",
   "metadata": {},
   "outputs": [
    {
     "data": {
      "text/plain": [
       "97"
      ]
     },
     "execution_count": 20,
     "metadata": {},
     "output_type": "execute_result"
    }
   ],
   "source": [
    "ord(\"a\")"
   ]
  },
  {
   "cell_type": "code",
   "execution_count": 21,
   "id": "f668d1df",
   "metadata": {},
   "outputs": [
    {
     "data": {
      "text/plain": [
       "43"
      ]
     },
     "execution_count": 21,
     "metadata": {},
     "output_type": "execute_result"
    }
   ],
   "source": [
    "ord(\"+\")"
   ]
  },
  {
   "cell_type": "code",
   "execution_count": 22,
   "id": "6b67dc1b",
   "metadata": {},
   "outputs": [
    {
     "data": {
      "text/plain": [
       "48"
      ]
     },
     "execution_count": 22,
     "metadata": {},
     "output_type": "execute_result"
    }
   ],
   "source": [
    "ord(\"0\")"
   ]
  },
  {
   "cell_type": "code",
   "execution_count": 23,
   "id": "0bc937b2",
   "metadata": {},
   "outputs": [
    {
     "data": {
      "text/plain": [
       "53"
      ]
     },
     "execution_count": 23,
     "metadata": {},
     "output_type": "execute_result"
    }
   ],
   "source": [
    "ord(\"5\")"
   ]
  },
  {
   "cell_type": "markdown",
   "id": "818f2293",
   "metadata": {},
   "source": [
    "## 4. chr()"
   ]
  },
  {
   "cell_type": "code",
   "execution_count": 24,
   "id": "2237f550",
   "metadata": {},
   "outputs": [
    {
     "data": {
      "text/plain": [
       "'+'"
      ]
     },
     "execution_count": 24,
     "metadata": {},
     "output_type": "execute_result"
    }
   ],
   "source": [
    "chr(43)"
   ]
  },
  {
   "cell_type": "code",
   "execution_count": 25,
   "id": "d7687199",
   "metadata": {},
   "outputs": [
    {
     "data": {
      "text/plain": [
       "'a'"
      ]
     },
     "execution_count": 25,
     "metadata": {},
     "output_type": "execute_result"
    }
   ],
   "source": [
    "chr(97)"
   ]
  },
  {
   "cell_type": "code",
   "execution_count": 26,
   "id": "c03e2012",
   "metadata": {},
   "outputs": [
    {
     "data": {
      "text/plain": [
       "'n'"
      ]
     },
     "execution_count": 26,
     "metadata": {},
     "output_type": "execute_result"
    }
   ],
   "source": [
    "chr(110)"
   ]
  },
  {
   "cell_type": "raw",
   "id": "c888806f",
   "metadata": {},
   "source": []
  },
  {
   "cell_type": "markdown",
   "id": "ff130225",
   "metadata": {},
   "source": [
    "# "
   ]
  },
  {
   "cell_type": "markdown",
   "id": "e6620969",
   "metadata": {},
   "source": [
    "## methods of the string:\n",
    "1. capitalize()\n",
    "2. lower()\n",
    "3. upper()\n",
    "4. swapcase()\n",
    "5. title()\n",
    "6. islower()\n",
    "7. isupper()\n",
    "8. isalpha()\n",
    "9. isdigit()\n",
    "10. isalnum()\n",
    "11. isspace()\n",
    "12. startswith()\n",
    "13. endswith()\n",
    "14. index()\n",
    "15. count()\n",
    "16. split()\n",
    "17. join()"
   ]
  },
  {
   "cell_type": "markdown",
   "id": "1efdc92f",
   "metadata": {},
   "source": [
    "#\n",
    "## 1. capitalize( ):\n",
    "#### Returns a copy of the string with first character capitalized and rest of  the characters in lower case. "
   ]
  },
  {
   "cell_type": "code",
   "execution_count": 28,
   "id": "8b983d49",
   "metadata": {},
   "outputs": [],
   "source": [
    "name = \"guido van rossum\"\n",
    "\n",
    "newname = name.capitalize()"
   ]
  },
  {
   "cell_type": "code",
   "execution_count": 29,
   "id": "9b25b452",
   "metadata": {},
   "outputs": [
    {
     "data": {
      "text/plain": [
       "'Guido van rossum'"
      ]
     },
     "execution_count": 29,
     "metadata": {},
     "output_type": "execute_result"
    }
   ],
   "source": [
    "newname"
   ]
  },
  {
   "cell_type": "markdown",
   "id": "1c008aa4",
   "metadata": {},
   "source": [
    "#\n",
    "## 2. lower( ): \n",
    "#### Returns a copy of the string with all letters converted to lowercase respectively"
   ]
  },
  {
   "cell_type": "code",
   "execution_count": 30,
   "id": "2bd6dbda",
   "metadata": {},
   "outputs": [],
   "source": [
    "name = \"Gobinda Das\"\n",
    "\n",
    "lc = name.lower()"
   ]
  },
  {
   "cell_type": "code",
   "execution_count": 31,
   "id": "6b88ec1d",
   "metadata": {},
   "outputs": [
    {
     "data": {
      "text/plain": [
       "'gobinda das'"
      ]
     },
     "execution_count": 31,
     "metadata": {},
     "output_type": "execute_result"
    }
   ],
   "source": [
    "lc"
   ]
  },
  {
   "cell_type": "markdown",
   "id": "fff9423c",
   "metadata": {},
   "source": [
    "#\n",
    "## 3. upper( ): \n",
    "#### Returns a copy of the string with all letters converted to uppercase respectively"
   ]
  },
  {
   "cell_type": "code",
   "execution_count": 32,
   "id": "c14a1253",
   "metadata": {},
   "outputs": [],
   "source": [
    "name = \"Gobinda Das\"\n",
    "\n",
    "uc = name.upper()"
   ]
  },
  {
   "cell_type": "code",
   "execution_count": 33,
   "id": "edc1b50f",
   "metadata": {},
   "outputs": [
    {
     "data": {
      "text/plain": [
       "'GOBINDA DAS'"
      ]
     },
     "execution_count": 33,
     "metadata": {},
     "output_type": "execute_result"
    }
   ],
   "source": [
    "uc"
   ]
  },
  {
   "cell_type": "markdown",
   "id": "cd20a3bf",
   "metadata": {},
   "source": [
    "#\n",
    "## 4. swapcase(): \n",
    "#### Returns a copy of the string with the case of every character swapped . Means that lowercase characters are changed to uppercase and vice-versa. "
   ]
  },
  {
   "cell_type": "code",
   "execution_count": 34,
   "id": "807b4719",
   "metadata": {},
   "outputs": [
    {
     "data": {
      "text/plain": [
       "'gOBINDA dAS'"
      ]
     },
     "execution_count": 34,
     "metadata": {},
     "output_type": "execute_result"
    }
   ],
   "source": [
    "name = \"Gobinda Das\"\n",
    "\n",
    "name.swapcase()"
   ]
  },
  {
   "cell_type": "code",
   "execution_count": 35,
   "id": "8c00c1a9",
   "metadata": {},
   "outputs": [
    {
     "data": {
      "text/plain": [
       "'Gobinda Das'"
      ]
     },
     "execution_count": 35,
     "metadata": {},
     "output_type": "execute_result"
    }
   ],
   "source": [
    "name = \"gOBINDA dAS\"\n",
    "\n",
    "name.swapcase()"
   ]
  },
  {
   "cell_type": "markdown",
   "id": "ca35497b",
   "metadata": {},
   "source": [
    "#\n",
    "## 5. title(): \n",
    "#### Returns a copy of the string converted to proper case or title case. i.e. , all words begin with uppercase letter and the rest are in lowercase. "
   ]
  },
  {
   "cell_type": "code",
   "execution_count": 36,
   "id": "d084cb6f",
   "metadata": {},
   "outputs": [],
   "source": [
    "text = \"i lOVe pYTHoN\""
   ]
  },
  {
   "cell_type": "code",
   "execution_count": 37,
   "id": "0360cafc",
   "metadata": {},
   "outputs": [
    {
     "data": {
      "text/plain": [
       "'I Love Python'"
      ]
     },
     "execution_count": 37,
     "metadata": {},
     "output_type": "execute_result"
    }
   ],
   "source": [
    "text.title()"
   ]
  },
  {
   "cell_type": "markdown",
   "id": "01eeb6d6",
   "metadata": {},
   "source": [
    "#\n",
    "## 6. islower( ): \n",
    "#### Returns True or False depending on whether all alphabets in the string are in lowercase"
   ]
  },
  {
   "cell_type": "code",
   "execution_count": 38,
   "id": "95c66677",
   "metadata": {},
   "outputs": [
    {
     "data": {
      "text/plain": [
       "True"
      ]
     },
     "execution_count": 38,
     "metadata": {},
     "output_type": "execute_result"
    }
   ],
   "source": [
    "text = \"this is good\"\n",
    "\n",
    "text.islower()"
   ]
  },
  {
   "cell_type": "code",
   "execution_count": 39,
   "id": "d13a36af",
   "metadata": {},
   "outputs": [
    {
     "data": {
      "text/plain": [
       "False"
      ]
     },
     "execution_count": 39,
     "metadata": {},
     "output_type": "execute_result"
    }
   ],
   "source": [
    "text = \"I LOVE PYTHON\"\n",
    "\n",
    "text.islower()"
   ]
  },
  {
   "cell_type": "markdown",
   "id": "667c5414",
   "metadata": {},
   "source": [
    "#\n",
    "## 7. isupper( ): \n",
    "#### Returns True or False depending on whether all alphabets in the string are in uppercase"
   ]
  },
  {
   "cell_type": "code",
   "execution_count": 40,
   "id": "03001fc7",
   "metadata": {},
   "outputs": [
    {
     "data": {
      "text/plain": [
       "True"
      ]
     },
     "execution_count": 40,
     "metadata": {},
     "output_type": "execute_result"
    }
   ],
   "source": [
    "text = \"I LOVE PYTHON\"\n",
    "\n",
    "text.isupper()"
   ]
  },
  {
   "cell_type": "code",
   "execution_count": 41,
   "id": "4d21778b",
   "metadata": {},
   "outputs": [
    {
     "data": {
      "text/plain": [
       "False"
      ]
     },
     "execution_count": 41,
     "metadata": {},
     "output_type": "execute_result"
    }
   ],
   "source": [
    "text = \"this is good\"\n",
    "\n",
    "text.isupper()"
   ]
  },
  {
   "cell_type": "markdown",
   "id": "4aa8a62e",
   "metadata": {},
   "source": [
    "# \n",
    "## 8. isalpha( ): \n",
    "#### Returns True if the string contains only alphabets ,otherwise returns False"
   ]
  },
  {
   "cell_type": "code",
   "execution_count": 43,
   "id": "cb289c0c",
   "metadata": {},
   "outputs": [
    {
     "data": {
      "text/plain": [
       "True"
      ]
     },
     "execution_count": 43,
     "metadata": {},
     "output_type": "execute_result"
    }
   ],
   "source": [
    "string = \"mynameisgobindailovedatascience\"\n",
    "\n",
    "string.isalpha()"
   ]
  },
  {
   "cell_type": "code",
   "execution_count": 44,
   "id": "956128c7",
   "metadata": {},
   "outputs": [
    {
     "data": {
      "text/plain": [
       "False"
      ]
     },
     "execution_count": 44,
     "metadata": {},
     "output_type": "execute_result"
    }
   ],
   "source": [
    "string = \"my name is gobinda i love data science\"\n",
    "\n",
    "string.isalpha()"
   ]
  },
  {
   "cell_type": "code",
   "execution_count": 45,
   "id": "7c153f4c",
   "metadata": {},
   "outputs": [
    {
     "data": {
      "text/plain": [
       "False"
      ]
     },
     "execution_count": 45,
     "metadata": {},
     "output_type": "execute_result"
    }
   ],
   "source": [
    "string = \"my name is gobinda19 i love data science\"\n",
    "\n",
    "string.isalpha()"
   ]
  },
  {
   "cell_type": "markdown",
   "id": "d9af4469",
   "metadata": {},
   "source": [
    "# \n",
    "## 9. isdigit( ): \n",
    "#### Returns True if the string contains only digits , otherwise returns False"
   ]
  },
  {
   "cell_type": "code",
   "execution_count": 46,
   "id": "aaff3079",
   "metadata": {},
   "outputs": [
    {
     "data": {
      "text/plain": [
       "True"
      ]
     },
     "execution_count": 46,
     "metadata": {},
     "output_type": "execute_result"
    }
   ],
   "source": [
    "mystring = \"1234567890\"\n",
    "\n",
    "mystring.isdigit()"
   ]
  },
  {
   "cell_type": "code",
   "execution_count": 47,
   "id": "26c656ac",
   "metadata": {},
   "outputs": [
    {
     "data": {
      "text/plain": [
       "False"
      ]
     },
     "execution_count": 47,
     "metadata": {},
     "output_type": "execute_result"
    }
   ],
   "source": [
    "mystring = \"my name is gobinda19\"\n",
    "\n",
    "mystring.isdigit()"
   ]
  },
  {
   "cell_type": "code",
   "execution_count": 49,
   "id": "87101624",
   "metadata": {},
   "outputs": [
    {
     "data": {
      "text/plain": [
       "False"
      ]
     },
     "execution_count": 49,
     "metadata": {},
     "output_type": "execute_result"
    }
   ],
   "source": [
    "mystring = \"my name is gobinda\"\n",
    "\n",
    "mystring.isdigit()"
   ]
  },
  {
   "cell_type": "code",
   "execution_count": 48,
   "id": "4d0ec135",
   "metadata": {},
   "outputs": [
    {
     "data": {
      "text/plain": [
       "False"
      ]
     },
     "execution_count": 48,
     "metadata": {},
     "output_type": "execute_result"
    }
   ],
   "source": [
    "mystring = \"mynameisgobindadas\"\n",
    "\n",
    "mystring.isdigit()"
   ]
  },
  {
   "cell_type": "markdown",
   "id": "074c1a7f",
   "metadata": {},
   "source": [
    "#\n",
    "## 10. isalnum( ): \n",
    "#### Returns True if the string contains only alphanumeric characters , otherwise returns False"
   ]
  },
  {
   "cell_type": "code",
   "execution_count": 50,
   "id": "e9fd28d0",
   "metadata": {},
   "outputs": [
    {
     "name": "stdout",
     "output_type": "stream",
     "text": [
      "True\n"
     ]
    }
   ],
   "source": [
    "mystring = \"sunny123\"\n",
    "\n",
    "print(mystring.isalnum())"
   ]
  },
  {
   "cell_type": "code",
   "execution_count": 51,
   "id": "f883ff08",
   "metadata": {},
   "outputs": [
    {
     "data": {
      "text/plain": [
       "True"
      ]
     },
     "execution_count": 51,
     "metadata": {},
     "output_type": "execute_result"
    }
   ],
   "source": [
    "mystring1 = \"sunny\"\n",
    "\n",
    "mystring1.isalnum()"
   ]
  },
  {
   "cell_type": "code",
   "execution_count": 52,
   "id": "344d1ffa",
   "metadata": {},
   "outputs": [
    {
     "name": "stdout",
     "output_type": "stream",
     "text": [
      "True\n"
     ]
    }
   ],
   "source": [
    "mystring2 = \"1232345\"\n",
    "\n",
    "print(mystring2.isalnum())"
   ]
  },
  {
   "cell_type": "code",
   "execution_count": 53,
   "id": "d58aeb09",
   "metadata": {},
   "outputs": [
    {
     "name": "stdout",
     "output_type": "stream",
     "text": [
      "False\n"
     ]
    }
   ],
   "source": [
    "mystring3 = \"sunny123 savita456\"\n",
    "\n",
    "print(mystring3.isalnum())"
   ]
  },
  {
   "cell_type": "code",
   "execution_count": 54,
   "id": "42546ffb",
   "metadata": {},
   "outputs": [
    {
     "name": "stdout",
     "output_type": "stream",
     "text": [
      "False\n"
     ]
    }
   ],
   "source": [
    "mystring4 = \"ehrfjk$%*\"\n",
    "\n",
    "print(mystring4.isalnum())"
   ]
  },
  {
   "cell_type": "markdown",
   "id": "df027732",
   "metadata": {},
   "source": [
    "# \n",
    "## 11. isspace( ): \n",
    "#### Returns True if the string contains only whitespace characters , otherwise returns False"
   ]
  },
  {
   "cell_type": "code",
   "execution_count": 55,
   "id": "b4f321f1",
   "metadata": {},
   "outputs": [
    {
     "data": {
      "text/plain": [
       "True"
      ]
     },
     "execution_count": 55,
     "metadata": {},
     "output_type": "execute_result"
    }
   ],
   "source": [
    "string = \" \"\n",
    "\n",
    "string.isspace()"
   ]
  },
  {
   "cell_type": "code",
   "execution_count": 56,
   "id": "93a19758",
   "metadata": {},
   "outputs": [
    {
     "data": {
      "text/plain": [
       "False"
      ]
     },
     "execution_count": 56,
     "metadata": {},
     "output_type": "execute_result"
    }
   ],
   "source": [
    "string1 = \"\"\n",
    "\n",
    "string1.isspace()"
   ]
  },
  {
   "cell_type": "code",
   "execution_count": 57,
   "id": "95caeedb",
   "metadata": {},
   "outputs": [
    {
     "data": {
      "text/plain": [
       "False"
      ]
     },
     "execution_count": 57,
     "metadata": {},
     "output_type": "execute_result"
    }
   ],
   "source": [
    "string2 = \"S \" \n",
    "\n",
    "string2.isspace()"
   ]
  },
  {
   "cell_type": "markdown",
   "id": "105636a4",
   "metadata": {},
   "source": [
    "#\n",
    "## 12. startswith( )"
   ]
  },
  {
   "cell_type": "code",
   "execution_count": 58,
   "id": "94341e68",
   "metadata": {},
   "outputs": [],
   "source": [
    "text = \"i love machine learning\""
   ]
  },
  {
   "cell_type": "code",
   "execution_count": 59,
   "id": "04b26508",
   "metadata": {},
   "outputs": [
    {
     "data": {
      "text/plain": [
       "True"
      ]
     },
     "execution_count": 59,
     "metadata": {},
     "output_type": "execute_result"
    }
   ],
   "source": [
    "text.startswith(\"i\")"
   ]
  },
  {
   "cell_type": "code",
   "execution_count": 60,
   "id": "d858575e",
   "metadata": {},
   "outputs": [
    {
     "data": {
      "text/plain": [
       "False"
      ]
     },
     "execution_count": 60,
     "metadata": {},
     "output_type": "execute_result"
    }
   ],
   "source": [
    "text.startswith(\"love\")"
   ]
  },
  {
   "cell_type": "code",
   "execution_count": 61,
   "id": "fac941a5",
   "metadata": {},
   "outputs": [
    {
     "data": {
      "text/plain": [
       "False"
      ]
     },
     "execution_count": 61,
     "metadata": {},
     "output_type": "execute_result"
    }
   ],
   "source": [
    "text.startswith(\"learning\")"
   ]
  },
  {
   "cell_type": "markdown",
   "id": "7150bd3e",
   "metadata": {},
   "source": [
    "# \n",
    "## 13. endswith( )"
   ]
  },
  {
   "cell_type": "code",
   "execution_count": 62,
   "id": "f6b61dfb",
   "metadata": {},
   "outputs": [],
   "source": [
    "text = \"i love machine learning\""
   ]
  },
  {
   "cell_type": "code",
   "execution_count": 63,
   "id": "a1e06373",
   "metadata": {},
   "outputs": [
    {
     "data": {
      "text/plain": [
       "False"
      ]
     },
     "execution_count": 63,
     "metadata": {},
     "output_type": "execute_result"
    }
   ],
   "source": [
    "text.endswith(\"machine\")"
   ]
  },
  {
   "cell_type": "code",
   "execution_count": 64,
   "id": "bce612cb",
   "metadata": {},
   "outputs": [
    {
     "data": {
      "text/plain": [
       "True"
      ]
     },
     "execution_count": 64,
     "metadata": {},
     "output_type": "execute_result"
    }
   ],
   "source": [
    "text.endswith(\"learning\")"
   ]
  },
  {
   "cell_type": "markdown",
   "id": "987d1225",
   "metadata": {},
   "source": [
    "# \n",
    "## 14. index( ): \n",
    "#### Returns the index of first occurrence of a substring  inside the string (if found). \n",
    "#### If the substring is not found, it raises an exception."
   ]
  },
  {
   "cell_type": "code",
   "execution_count": 65,
   "id": "dfd87652",
   "metadata": {},
   "outputs": [],
   "source": [
    "text = \"sunday is fun day fun day\""
   ]
  },
  {
   "cell_type": "code",
   "execution_count": 67,
   "id": "59c4cd31",
   "metadata": {},
   "outputs": [
    {
     "data": {
      "text/plain": [
       "7"
      ]
     },
     "execution_count": 67,
     "metadata": {},
     "output_type": "execute_result"
    }
   ],
   "source": [
    "text.index(\"is\")"
   ]
  },
  {
   "cell_type": "code",
   "execution_count": 68,
   "id": "e5e45390",
   "metadata": {},
   "outputs": [
    {
     "data": {
      "text/plain": [
       "10"
      ]
     },
     "execution_count": 68,
     "metadata": {},
     "output_type": "execute_result"
    }
   ],
   "source": [
    "text.index(\"fun\")"
   ]
  },
  {
   "cell_type": "code",
   "execution_count": 66,
   "id": "458d0f8e",
   "metadata": {},
   "outputs": [
    {
     "data": {
      "text/plain": [
       "3"
      ]
     },
     "execution_count": 66,
     "metadata": {},
     "output_type": "execute_result"
    }
   ],
   "source": [
    "text.index(\"day\")"
   ]
  },
  {
   "cell_type": "markdown",
   "id": "acb22b29",
   "metadata": {},
   "source": [
    "# \n",
    "## 15. count( ): \n",
    "#### Returns the number of occurrences of a substring in the given string"
   ]
  },
  {
   "cell_type": "code",
   "execution_count": 69,
   "id": "e1f2b4cc",
   "metadata": {},
   "outputs": [
    {
     "data": {
      "text/plain": [
       "3"
      ]
     },
     "execution_count": 69,
     "metadata": {},
     "output_type": "execute_result"
    }
   ],
   "source": [
    "text = \"python is awasome. isn't it?, is it true\"\n",
    "\n",
    "text.count(\"is\")"
   ]
  },
  {
   "cell_type": "markdown",
   "id": "09cea26b",
   "metadata": {},
   "source": [
    "#\n",
    "## 16. split()"
   ]
  },
  {
   "cell_type": "code",
   "execution_count": 1,
   "id": "c013644f",
   "metadata": {},
   "outputs": [],
   "source": [
    "txt = \"I write code\""
   ]
  },
  {
   "cell_type": "code",
   "execution_count": 2,
   "id": "299d490c",
   "metadata": {},
   "outputs": [
    {
     "data": {
      "text/plain": [
       "['I', 'write', 'code']"
      ]
     },
     "execution_count": 2,
     "metadata": {},
     "output_type": "execute_result"
    }
   ],
   "source": [
    "txt.split()"
   ]
  },
  {
   "cell_type": "code",
   "execution_count": 3,
   "id": "492e5ead",
   "metadata": {},
   "outputs": [],
   "source": [
    "# split(seperator, maxsplit)"
   ]
  },
  {
   "cell_type": "code",
   "execution_count": 4,
   "id": "2d41ba31",
   "metadata": {},
   "outputs": [
    {
     "name": "stdout",
     "output_type": "stream",
     "text": [
      "input 3 words: i love python\n"
     ]
    }
   ],
   "source": [
    "x = input(\"input 3 words: \")"
   ]
  },
  {
   "cell_type": "code",
   "execution_count": 5,
   "id": "406c7cac",
   "metadata": {},
   "outputs": [
    {
     "data": {
      "text/plain": [
       "'i love python'"
      ]
     },
     "execution_count": 5,
     "metadata": {},
     "output_type": "execute_result"
    }
   ],
   "source": [
    "x"
   ]
  },
  {
   "cell_type": "code",
   "execution_count": 6,
   "id": "817fc273",
   "metadata": {},
   "outputs": [],
   "source": [
    "word1, word2, word3 = x.split()\n",
    "\n",
    "# the number of variables on left of assignment operator and number of values\n",
    "# generated by split() must be same"
   ]
  },
  {
   "cell_type": "code",
   "execution_count": 7,
   "id": "defe566a",
   "metadata": {},
   "outputs": [
    {
     "name": "stdout",
     "output_type": "stream",
     "text": [
      "i\n"
     ]
    }
   ],
   "source": [
    "print(word1)"
   ]
  },
  {
   "cell_type": "code",
   "execution_count": 8,
   "id": "4fb18abe",
   "metadata": {},
   "outputs": [
    {
     "name": "stdout",
     "output_type": "stream",
     "text": [
      "love\n"
     ]
    }
   ],
   "source": [
    "print(word2)"
   ]
  },
  {
   "cell_type": "code",
   "execution_count": 9,
   "id": "9de0326a",
   "metadata": {},
   "outputs": [
    {
     "name": "stdout",
     "output_type": "stream",
     "text": [
      "python\n"
     ]
    }
   ],
   "source": [
    "print(word3)"
   ]
  },
  {
   "cell_type": "raw",
   "id": "35164412",
   "metadata": {},
   "source": []
  },
  {
   "cell_type": "code",
   "execution_count": 11,
   "id": "ecad539e",
   "metadata": {},
   "outputs": [
    {
     "name": "stdout",
     "output_type": "stream",
     "text": [
      "input 2 numbers: 25 63\n",
      "first number is- 25\n",
      "second number is- 63\n",
      "the sum is- 88\n"
     ]
    }
   ],
   "source": [
    "x = input(\"input 2 numbers: \")\n",
    "\n",
    "a, b = x.split()\n",
    "\n",
    "print(\"first number is-\", a)\n",
    "print(\"second number is-\", b)\n",
    "print(\"the sum is-\", (int(a)+int(b)))"
   ]
  },
  {
   "cell_type": "code",
   "execution_count": 13,
   "id": "b8171db0",
   "metadata": {},
   "outputs": [
    {
     "name": "stdout",
     "output_type": "stream",
     "text": [
      "enter roll no, name and percentage: 12 Gobinda 69\n",
      "Roll no: 12\n",
      "Name: Gobinda\n",
      "Percentage: 69\n"
     ]
    }
   ],
   "source": [
    "s = input(\"enter roll no, name and percentage: \")\n",
    "\n",
    "roll, name, percentage = s.split()\n",
    "\n",
    "print(\"Roll no:\", roll)\n",
    "print(\"Name:\", name)\n",
    "print(\"Percentage:\", percentage)"
   ]
  },
  {
   "cell_type": "raw",
   "id": "def9fcbe",
   "metadata": {},
   "source": []
  },
  {
   "cell_type": "code",
   "execution_count": 15,
   "id": "0d875595",
   "metadata": {},
   "outputs": [
    {
     "name": "stdout",
     "output_type": "stream",
     "text": [
      "['A', 'B', 'C', 'D E F']\n"
     ]
    }
   ],
   "source": [
    "s1 = \"A B C D E F\"\n",
    "\n",
    "print(s1.split(' ',3))"
   ]
  },
  {
   "cell_type": "code",
   "execution_count": 18,
   "id": "60997424",
   "metadata": {},
   "outputs": [],
   "source": [
    "s2 = \"HI@HI@HI@HI@HI\""
   ]
  },
  {
   "cell_type": "code",
   "execution_count": 20,
   "id": "d3b064b7",
   "metadata": {},
   "outputs": [
    {
     "data": {
      "text/plain": [
       "['HI', 'HI', 'HI', 'HI', 'HI']"
      ]
     },
     "execution_count": 20,
     "metadata": {},
     "output_type": "execute_result"
    }
   ],
   "source": [
    "s2.split('@')"
   ]
  },
  {
   "cell_type": "code",
   "execution_count": 21,
   "id": "41cb1803",
   "metadata": {},
   "outputs": [
    {
     "data": {
      "text/plain": [
       "['HI', 'HI', 'HI@HI@HI']"
      ]
     },
     "execution_count": 21,
     "metadata": {},
     "output_type": "execute_result"
    }
   ],
   "source": [
    "s2.split('@', 2)"
   ]
  },
  {
   "cell_type": "raw",
   "id": "bfb95c68",
   "metadata": {},
   "source": []
  },
  {
   "cell_type": "code",
   "execution_count": 70,
   "id": "2ce0bcae",
   "metadata": {},
   "outputs": [
    {
     "data": {
      "text/plain": [
       "['i', 'love', 'my', 'india']"
      ]
     },
     "execution_count": 70,
     "metadata": {},
     "output_type": "execute_result"
    }
   ],
   "source": [
    "\"i@love@my@india\".split(\"@\")"
   ]
  },
  {
   "cell_type": "markdown",
   "id": "809418a5",
   "metadata": {},
   "source": [
    "#\n",
    "## 17. join()"
   ]
  },
  {
   "cell_type": "code",
   "execution_count": 71,
   "id": "7c59de5f",
   "metadata": {},
   "outputs": [
    {
     "data": {
      "text/plain": [
       "'g@o@b@i@n@d@a'"
      ]
     },
     "execution_count": 71,
     "metadata": {},
     "output_type": "execute_result"
    }
   ],
   "source": [
    "\"@\".join([\"g\", \"o\", \"b\", \"i\", \"n\", \"d\", \"a\"])"
   ]
  },
  {
   "cell_type": "code",
   "execution_count": 72,
   "id": "fe6dada1",
   "metadata": {},
   "outputs": [
    {
     "data": {
      "text/plain": [
       "'g@o@b@i@n@d@a'"
      ]
     },
     "execution_count": 72,
     "metadata": {},
     "output_type": "execute_result"
    }
   ],
   "source": [
    "\"@\".join(\"gobinda\")"
   ]
  },
  {
   "cell_type": "code",
   "execution_count": 74,
   "id": "db1c71a7",
   "metadata": {},
   "outputs": [
    {
     "data": {
      "text/plain": [
       "'d a s'"
      ]
     },
     "execution_count": 74,
     "metadata": {},
     "output_type": "execute_result"
    }
   ],
   "source": [
    "\" \".join([\"d\", \"a\", \"s\"])"
   ]
  },
  {
   "cell_type": "raw",
   "id": "10db3fef",
   "metadata": {},
   "source": []
  },
  {
   "cell_type": "markdown",
   "id": "4fb65e07",
   "metadata": {},
   "source": [
    "# "
   ]
  },
  {
   "cell_type": "markdown",
   "id": "87679633",
   "metadata": {},
   "source": [
    "# "
   ]
  },
  {
   "cell_type": "markdown",
   "id": "6f98043a",
   "metadata": {},
   "source": [
    "### Simple pythonic way "
   ]
  },
  {
   "cell_type": "code",
   "execution_count": 75,
   "id": "3868ca03",
   "metadata": {},
   "outputs": [],
   "source": [
    "name = \"gobinda\"\n",
    "age = 22"
   ]
  },
  {
   "cell_type": "code",
   "execution_count": 76,
   "id": "83224abb",
   "metadata": {},
   "outputs": [
    {
     "name": "stdout",
     "output_type": "stream",
     "text": [
      "My name is gobinda and my age is 22\n"
     ]
    }
   ],
   "source": [
    "print(\"My name is\", name, \"and my age is\", age)"
   ]
  },
  {
   "cell_type": "markdown",
   "id": "3b11ebd4",
   "metadata": {},
   "source": [
    "### with format specifier "
   ]
  },
  {
   "cell_type": "code",
   "execution_count": null,
   "id": "c7e6ca53",
   "metadata": {},
   "outputs": [],
   "source": [
    "name = \"gobinda\"\n",
    "age = 22"
   ]
  },
  {
   "cell_type": "code",
   "execution_count": 77,
   "id": "0011219d",
   "metadata": {},
   "outputs": [
    {
     "name": "stdout",
     "output_type": "stream",
     "text": [
      "My name is gobinda and my age is 22\n"
     ]
    }
   ],
   "source": [
    " print(\"My name is %s and my age is %d\" %(name, age))"
   ]
  },
  {
   "cell_type": "markdown",
   "id": "4737d237",
   "metadata": {},
   "source": [
    "### with format function"
   ]
  },
  {
   "cell_type": "code",
   "execution_count": null,
   "id": "d6d83456",
   "metadata": {},
   "outputs": [],
   "source": [
    "name = \"gobinda\"\n",
    "age = 22"
   ]
  },
  {
   "cell_type": "code",
   "execution_count": 78,
   "id": "6f4002bc",
   "metadata": {},
   "outputs": [
    {
     "name": "stdout",
     "output_type": "stream",
     "text": [
      "My name is gobinda and my age is 22\n"
     ]
    }
   ],
   "source": [
    "print(\"My name is {0} and my age is {1}\" .format(name, age))"
   ]
  },
  {
   "cell_type": "markdown",
   "id": "daa2af0a",
   "metadata": {},
   "source": [
    "#\n",
    "## f-string or string interpolation"
   ]
  },
  {
   "cell_type": "code",
   "execution_count": 79,
   "id": "64e4d2e2",
   "metadata": {},
   "outputs": [],
   "source": [
    "name = \"gobinda\"\n",
    "age = 22"
   ]
  },
  {
   "cell_type": "code",
   "execution_count": 80,
   "id": "b3ee0f8b",
   "metadata": {},
   "outputs": [
    {
     "name": "stdout",
     "output_type": "stream",
     "text": [
      "my name is gobinda my age is 22\n"
     ]
    }
   ],
   "source": [
    "# time com complexity is very less\n",
    "print(f\"my name is {name} my age is {age}\")"
   ]
  },
  {
   "cell_type": "code",
   "execution_count": 81,
   "id": "e7478a3a",
   "metadata": {},
   "outputs": [
    {
     "name": "stdout",
     "output_type": "stream",
     "text": [
      "my first number is 10 my second number is 20 and max number is 20\n"
     ]
    }
   ],
   "source": [
    "a=10\n",
    "b=20\n",
    "\n",
    "print(f\"my first number is {a} my second number is {b} and max number is {max(a, b)}\")"
   ]
  },
  {
   "cell_type": "code",
   "execution_count": 82,
   "id": "432192c4",
   "metadata": {},
   "outputs": [
    {
     "name": "stdout",
     "output_type": "stream",
     "text": [
      "max is 20\n"
     ]
    }
   ],
   "source": [
    "a = 10\n",
    "b = 20\n",
    "\n",
    "if a > b:\n",
    "    print(f'max is {a}')\n",
    "else:\n",
    "    print(f'max is {b}')"
   ]
  },
  {
   "cell_type": "code",
   "execution_count": 83,
   "id": "07f6ee5f",
   "metadata": {},
   "outputs": [
    {
     "name": "stdout",
     "output_type": "stream",
     "text": [
      "max between a and b is 20\n"
     ]
    }
   ],
   "source": [
    "a = 10\n",
    "b = 20\n",
    "\n",
    "max1 = max(a,b)\n",
    "print(f\"max between a and b is {max1}\")"
   ]
  },
  {
   "cell_type": "raw",
   "id": "0a941d5d",
   "metadata": {},
   "source": []
  }
 ],
 "metadata": {
  "kernelspec": {
   "display_name": "Python 3 (ipykernel)",
   "language": "python",
   "name": "python3"
  },
  "language_info": {
   "codemirror_mode": {
    "name": "ipython",
    "version": 3
   },
   "file_extension": ".py",
   "mimetype": "text/x-python",
   "name": "python",
   "nbconvert_exporter": "python",
   "pygments_lexer": "ipython3",
   "version": "3.11.5"
  }
 },
 "nbformat": 4,
 "nbformat_minor": 5
}
