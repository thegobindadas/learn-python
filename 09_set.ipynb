{
 "cells": [
  {
   "cell_type": "markdown",
   "id": "54bf2594",
   "metadata": {},
   "source": [
    "# Set"
   ]
  },
  {
   "cell_type": "raw",
   "id": "72bbaf6b",
   "metadata": {},
   "source": [
    "i) we represent the tuple with 2nd bracket {} or curli basic.\n",
    "ii) we can not keep duplicate value.\n",
    "iii) we can not access element with index in set\n",
    "iii) we can not use subscript operator(we can not do indexing as well as slicing).\n",
    "iv) set is unordered collection."
   ]
  },
  {
   "cell_type": "raw",
   "id": "deb3fd62",
   "metadata": {},
   "source": []
  },
  {
   "cell_type": "code",
   "execution_count": 1,
   "id": "86de3c85",
   "metadata": {},
   "outputs": [],
   "source": [
    "myset = {}  #empty set"
   ]
  },
  {
   "cell_type": "code",
   "execution_count": 2,
   "id": "eda7b7be",
   "metadata": {},
   "outputs": [
    {
     "data": {
      "text/plain": [
       "{}"
      ]
     },
     "execution_count": 2,
     "metadata": {},
     "output_type": "execute_result"
    }
   ],
   "source": [
    "myset"
   ]
  },
  {
   "cell_type": "code",
   "execution_count": 3,
   "id": "5b5318b9",
   "metadata": {},
   "outputs": [],
   "source": [
    "myset = {1, 2, 3, 4, 5}"
   ]
  },
  {
   "cell_type": "code",
   "execution_count": 4,
   "id": "424ff07b",
   "metadata": {},
   "outputs": [
    {
     "data": {
      "text/plain": [
       "set"
      ]
     },
     "execution_count": 4,
     "metadata": {},
     "output_type": "execute_result"
    }
   ],
   "source": [
    "type(myset)"
   ]
  },
  {
   "cell_type": "code",
   "execution_count": 22,
   "id": "a628010d",
   "metadata": {},
   "outputs": [],
   "source": [
    "myset={1, \"hello\", 10.5}"
   ]
  },
  {
   "cell_type": "code",
   "execution_count": 23,
   "id": "b11901b1",
   "metadata": {},
   "outputs": [
    {
     "data": {
      "text/plain": [
       "{1, 10.5, 'hello'}"
      ]
     },
     "execution_count": 23,
     "metadata": {},
     "output_type": "execute_result"
    }
   ],
   "source": [
    "myset"
   ]
  },
  {
   "cell_type": "raw",
   "id": "8549a6e1",
   "metadata": {},
   "source": []
  },
  {
   "cell_type": "code",
   "execution_count": 5,
   "id": "f1d675eb",
   "metadata": {},
   "outputs": [],
   "source": [
    "myset={1, 2, 3, 4, 56, 4, 3, 67, 56}"
   ]
  },
  {
   "cell_type": "code",
   "execution_count": 6,
   "id": "4f45f520",
   "metadata": {},
   "outputs": [
    {
     "data": {
      "text/plain": [
       "{1, 2, 3, 4, 56, 67}"
      ]
     },
     "execution_count": 6,
     "metadata": {},
     "output_type": "execute_result"
    }
   ],
   "source": [
    "myset"
   ]
  },
  {
   "cell_type": "markdown",
   "id": "750fecaf",
   "metadata": {},
   "source": [
    "###\n",
    "### 'set' object is not subscriptable"
   ]
  },
  {
   "cell_type": "code",
   "execution_count": 7,
   "id": "e3fba8c2",
   "metadata": {},
   "outputs": [
    {
     "ename": "TypeError",
     "evalue": "'set' object is not subscriptable",
     "output_type": "error",
     "traceback": [
      "\u001b[1;31m---------------------------------------------------------------------------\u001b[0m",
      "\u001b[1;31mTypeError\u001b[0m                                 Traceback (most recent call last)",
      "Cell \u001b[1;32mIn[7], line 1\u001b[0m\n\u001b[1;32m----> 1\u001b[0m myset[\u001b[38;5;241m0\u001b[39m]\n",
      "\u001b[1;31mTypeError\u001b[0m: 'set' object is not subscriptable"
     ]
    }
   ],
   "source": [
    "myset[0]"
   ]
  },
  {
   "cell_type": "code",
   "execution_count": 8,
   "id": "c724f853",
   "metadata": {},
   "outputs": [
    {
     "ename": "TypeError",
     "evalue": "'set' object is not subscriptable",
     "output_type": "error",
     "traceback": [
      "\u001b[1;31m---------------------------------------------------------------------------\u001b[0m",
      "\u001b[1;31mTypeError\u001b[0m                                 Traceback (most recent call last)",
      "Cell \u001b[1;32mIn[8], line 1\u001b[0m\n\u001b[1;32m----> 1\u001b[0m myset[\u001b[38;5;241m1\u001b[39m:\u001b[38;5;241m4\u001b[39m]\n",
      "\u001b[1;31mTypeError\u001b[0m: 'set' object is not subscriptable"
     ]
    }
   ],
   "source": [
    "myset[1:4]"
   ]
  },
  {
   "cell_type": "raw",
   "id": "d804a2a9",
   "metadata": {},
   "source": []
  },
  {
   "cell_type": "raw",
   "id": "5d5dbb25",
   "metadata": {},
   "source": []
  },
  {
   "cell_type": "markdown",
   "id": "0b4b864b",
   "metadata": {},
   "source": [
    "i can pass any iterable to this set funciton: set(<iterable>)"
   ]
  },
  {
   "cell_type": "code",
   "execution_count": 11,
   "id": "c543f62c",
   "metadata": {},
   "outputs": [
    {
     "data": {
      "text/plain": [
       "{1, 2, 3, 4, 5, 6}"
      ]
     },
     "execution_count": 11,
     "metadata": {},
     "output_type": "execute_result"
    }
   ],
   "source": [
    "set([1, 2, 3, 4, 5, 6])"
   ]
  },
  {
   "cell_type": "code",
   "execution_count": 12,
   "id": "91d1e8eb",
   "metadata": {},
   "outputs": [
    {
     "data": {
      "text/plain": [
       "{1, 2, 3, 4, 5, 57}"
      ]
     },
     "execution_count": 12,
     "metadata": {},
     "output_type": "execute_result"
    }
   ],
   "source": [
    "set((1, 2, 3, 4, 5, 3, 4, 57, 3))"
   ]
  },
  {
   "cell_type": "markdown",
   "id": "c4ba94bb",
   "metadata": {},
   "source": [
    "# "
   ]
  },
  {
   "cell_type": "markdown",
   "id": "733c07f4",
   "metadata": {},
   "source": [
    "### add() "
   ]
  },
  {
   "cell_type": "markdown",
   "id": "61fcef09",
   "metadata": {},
   "source": [
    "if i can add something in set there is a function add()"
   ]
  },
  {
   "cell_type": "code",
   "execution_count": 13,
   "id": "98e2b51f",
   "metadata": {},
   "outputs": [],
   "source": [
    "myset = {1, 2, 3, 4, 5, 6}"
   ]
  },
  {
   "cell_type": "code",
   "execution_count": 14,
   "id": "6394f90f",
   "metadata": {},
   "outputs": [],
   "source": [
    "myset.add(10000)"
   ]
  },
  {
   "cell_type": "code",
   "execution_count": 15,
   "id": "cf4d7a2c",
   "metadata": {},
   "outputs": [
    {
     "data": {
      "text/plain": [
       "{1, 2, 3, 4, 5, 6, 10000}"
      ]
     },
     "execution_count": 15,
     "metadata": {},
     "output_type": "execute_result"
    }
   ],
   "source": [
    "myset"
   ]
  },
  {
   "cell_type": "markdown",
   "id": "dc3efd04",
   "metadata": {},
   "source": [
    "# "
   ]
  },
  {
   "cell_type": "markdown",
   "id": "a812a74a",
   "metadata": {},
   "source": [
    "### clear()"
   ]
  },
  {
   "cell_type": "code",
   "execution_count": 16,
   "id": "c754553c",
   "metadata": {},
   "outputs": [],
   "source": [
    "myset = {1, 2, 3, 4, 5, 6}"
   ]
  },
  {
   "cell_type": "code",
   "execution_count": 17,
   "id": "97938522",
   "metadata": {},
   "outputs": [],
   "source": [
    "myset.clear()"
   ]
  },
  {
   "cell_type": "code",
   "execution_count": 18,
   "id": "a31fcfa2",
   "metadata": {},
   "outputs": [
    {
     "data": {
      "text/plain": [
       "set()"
      ]
     },
     "execution_count": 18,
     "metadata": {},
     "output_type": "execute_result"
    }
   ],
   "source": [
    "myset"
   ]
  },
  {
   "cell_type": "markdown",
   "id": "8f5ece23",
   "metadata": {},
   "source": [
    "# "
   ]
  },
  {
   "cell_type": "markdown",
   "id": "518da67b",
   "metadata": {},
   "source": [
    "### copy()"
   ]
  },
  {
   "cell_type": "code",
   "execution_count": 20,
   "id": "0248d142",
   "metadata": {},
   "outputs": [],
   "source": [
    "myset = {1, 234, 46, 67, 6, 465, 68, 8}"
   ]
  },
  {
   "cell_type": "code",
   "execution_count": 21,
   "id": "95735626",
   "metadata": {},
   "outputs": [
    {
     "data": {
      "text/plain": [
       "{1, 6, 8, 46, 67, 68, 234, 465}"
      ]
     },
     "execution_count": 21,
     "metadata": {},
     "output_type": "execute_result"
    }
   ],
   "source": [
    "myset.copy()"
   ]
  },
  {
   "cell_type": "markdown",
   "id": "8dba3cb8",
   "metadata": {},
   "source": [
    "# "
   ]
  },
  {
   "cell_type": "markdown",
   "id": "775f494f",
   "metadata": {},
   "source": [
    "### pop()"
   ]
  },
  {
   "cell_type": "code",
   "execution_count": 1,
   "id": "b9bdc066",
   "metadata": {},
   "outputs": [],
   "source": [
    "my_set = {1, 2, 3, 4, 5}"
   ]
  },
  {
   "cell_type": "code",
   "execution_count": 2,
   "id": "8341fb48",
   "metadata": {},
   "outputs": [],
   "source": [
    "popped_element = my_set.pop()"
   ]
  },
  {
   "cell_type": "code",
   "execution_count": 3,
   "id": "dd5f77c9",
   "metadata": {},
   "outputs": [
    {
     "name": "stdout",
     "output_type": "stream",
     "text": [
      "Popped Element: 1\n"
     ]
    }
   ],
   "source": [
    "print(\"Popped Element:\", popped_element)"
   ]
  },
  {
   "cell_type": "code",
   "execution_count": 4,
   "id": "58968e3e",
   "metadata": {},
   "outputs": [
    {
     "name": "stdout",
     "output_type": "stream",
     "text": [
      "Updated Set: {2, 3, 4, 5}\n"
     ]
    }
   ],
   "source": [
    "print(\"Updated Set:\", my_set)"
   ]
  },
  {
   "cell_type": "markdown",
   "id": "4101b881",
   "metadata": {},
   "source": [
    "# "
   ]
  },
  {
   "cell_type": "markdown",
   "id": "de4435a1",
   "metadata": {},
   "source": [
    "### remove()"
   ]
  },
  {
   "cell_type": "code",
   "execution_count": 8,
   "id": "b8cb8f69",
   "metadata": {},
   "outputs": [],
   "source": [
    "my_set = {0, 1, 2, 3, 4, 5}"
   ]
  },
  {
   "cell_type": "code",
   "execution_count": 9,
   "id": "06203a34",
   "metadata": {},
   "outputs": [],
   "source": [
    "my_set.remove(3)"
   ]
  },
  {
   "cell_type": "code",
   "execution_count": 10,
   "id": "bf470988",
   "metadata": {},
   "outputs": [
    {
     "name": "stdout",
     "output_type": "stream",
     "text": [
      "Updated Set: {0, 1, 2, 4, 5}\n"
     ]
    }
   ],
   "source": [
    "print(\"Updated Set:\", my_set)"
   ]
  },
  {
   "cell_type": "markdown",
   "id": "480c55c9",
   "metadata": {},
   "source": [
    "# "
   ]
  },
  {
   "cell_type": "markdown",
   "id": "39ad036a",
   "metadata": {},
   "source": [
    "### update()"
   ]
  },
  {
   "cell_type": "code",
   "execution_count": 11,
   "id": "8c22c0b8",
   "metadata": {},
   "outputs": [],
   "source": [
    "my_set = {1, 2, 3}"
   ]
  },
  {
   "cell_type": "code",
   "execution_count": 12,
   "id": "8229b2e4",
   "metadata": {},
   "outputs": [],
   "source": [
    "other_set = {4, 5, 6}"
   ]
  },
  {
   "cell_type": "code",
   "execution_count": 13,
   "id": "d0a0ae2e",
   "metadata": {},
   "outputs": [],
   "source": [
    "my_set.update(other_set)"
   ]
  },
  {
   "cell_type": "code",
   "execution_count": 14,
   "id": "376db860",
   "metadata": {},
   "outputs": [
    {
     "name": "stdout",
     "output_type": "stream",
     "text": [
      "Updated Set: {1, 2, 3, 4, 5, 6}\n"
     ]
    }
   ],
   "source": [
    "print(\"Updated Set:\", my_set)"
   ]
  },
  {
   "cell_type": "raw",
   "id": "70984cd6",
   "metadata": {},
   "source": []
  }
 ],
 "metadata": {
  "kernelspec": {
   "display_name": "Python 3 (ipykernel)",
   "language": "python",
   "name": "python3"
  },
  "language_info": {
   "codemirror_mode": {
    "name": "ipython",
    "version": 3
   },
   "file_extension": ".py",
   "mimetype": "text/x-python",
   "name": "python",
   "nbconvert_exporter": "python",
   "pygments_lexer": "ipython3",
   "version": "3.11.5"
  }
 },
 "nbformat": 4,
 "nbformat_minor": 5
}
