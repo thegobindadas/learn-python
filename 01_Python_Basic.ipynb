{
 "cells": [
  {
   "cell_type": "markdown",
   "id": "daa4e725",
   "metadata": {},
   "source": [
    "# Python Basics"
   ]
  },
  {
   "cell_type": "raw",
   "id": "3701a2a5",
   "metadata": {},
   "source": []
  },
  {
   "cell_type": "raw",
   "id": "6951d25e",
   "metadata": {},
   "source": [
    "print() is a predefine function"
   ]
  },
  {
   "cell_type": "code",
   "execution_count": 9,
   "id": "32422db8",
   "metadata": {},
   "outputs": [
    {
     "name": "stdout",
     "output_type": "stream",
     "text": [
      "hello world\n"
     ]
    }
   ],
   "source": [
    "print(\"hello world\") "
   ]
  },
  {
   "cell_type": "code",
   "execution_count": 10,
   "id": "8a61ee47",
   "metadata": {},
   "outputs": [],
   "source": [
    "a = 10\n",
    "b = 20\n",
    "c = 30"
   ]
  },
  {
   "cell_type": "code",
   "execution_count": 11,
   "id": "de10dd03",
   "metadata": {},
   "outputs": [
    {
     "name": "stdout",
     "output_type": "stream",
     "text": [
      "10\n",
      "20\n"
     ]
    }
   ],
   "source": [
    "print(a)\n",
    "print(b)"
   ]
  },
  {
   "cell_type": "code",
   "execution_count": 12,
   "id": "4f8071d9",
   "metadata": {},
   "outputs": [
    {
     "name": "stdout",
     "output_type": "stream",
     "text": [
      "102030\n"
     ]
    }
   ],
   "source": [
    "print(a, end='')\n",
    "print(b, end='')\n",
    "print(c)"
   ]
  },
  {
   "cell_type": "raw",
   "id": "ee89b836",
   "metadata": {},
   "source": [
    "\\n--> newline\n",
    "\\t--> tab or 4 white spaces\n",
    "\\b--> represents the backspace character"
   ]
  },
  {
   "cell_type": "markdown",
   "id": "d4a72806",
   "metadata": {},
   "source": [
    "# "
   ]
  },
  {
   "cell_type": "code",
   "execution_count": 14,
   "id": "19eee2d6",
   "metadata": {},
   "outputs": [],
   "source": [
    "def test():\n",
    "    a = 30\n",
    "    b = 40\n",
    "    c = a+b\n",
    "    print(c)"
   ]
  },
  {
   "cell_type": "code",
   "execution_count": 15,
   "id": "d874f2a1",
   "metadata": {},
   "outputs": [
    {
     "name": "stdout",
     "output_type": "stream",
     "text": [
      "70\n"
     ]
    }
   ],
   "source": [
    "test()"
   ]
  },
  {
   "cell_type": "raw",
   "id": "abbb0829",
   "metadata": {},
   "source": []
  },
  {
   "cell_type": "code",
   "execution_count": 16,
   "id": "e5ae8672",
   "metadata": {},
   "outputs": [
    {
     "name": "stdout",
     "output_type": "stream",
     "text": [
      "hello\n"
     ]
    }
   ],
   "source": [
    "print(\"hello\")"
   ]
  },
  {
   "cell_type": "code",
   "execution_count": 17,
   "id": "731f7969",
   "metadata": {},
   "outputs": [],
   "source": [
    "name = \"Gobinda\""
   ]
  },
  {
   "cell_type": "code",
   "execution_count": 18,
   "id": "449e7ba6",
   "metadata": {},
   "outputs": [
    {
     "name": "stdout",
     "output_type": "stream",
     "text": [
      "hello Gobinda\n"
     ]
    }
   ],
   "source": [
    "print(\"hello\", name)"
   ]
  },
  {
   "cell_type": "raw",
   "id": "aeb9c17c",
   "metadata": {},
   "source": []
  },
  {
   "cell_type": "code",
   "execution_count": 19,
   "id": "bd0d1cde",
   "metadata": {},
   "outputs": [],
   "source": [
    "a = 10"
   ]
  },
  {
   "cell_type": "code",
   "execution_count": 20,
   "id": "f548080b",
   "metadata": {},
   "outputs": [
    {
     "name": "stdout",
     "output_type": "stream",
     "text": [
      "this is my first number 10\n"
     ]
    }
   ],
   "source": [
    "print(\"this is my first number\", a)"
   ]
  },
  {
   "cell_type": "raw",
   "id": "02f445c4",
   "metadata": {},
   "source": []
  },
  {
   "cell_type": "markdown",
   "id": "fcd4773e",
   "metadata": {},
   "source": [
    "#\n",
    "### format specifier"
   ]
  },
  {
   "cell_type": "raw",
   "id": "3dbbf8b2",
   "metadata": {},
   "source": [
    "int - %d\n",
    "float - %f\n",
    "string - %s"
   ]
  },
  {
   "cell_type": "code",
   "execution_count": 21,
   "id": "9cb71c96",
   "metadata": {},
   "outputs": [],
   "source": [
    "name = \"Gobinda\"\n",
    "last_name = \"Das\""
   ]
  },
  {
   "cell_type": "code",
   "execution_count": 22,
   "id": "9173c931",
   "metadata": {},
   "outputs": [
    {
     "name": "stdout",
     "output_type": "stream",
     "text": [
      "hello, Gobinda\n"
     ]
    }
   ],
   "source": [
    "print(\"hello, %s\" %(name))"
   ]
  },
  {
   "cell_type": "code",
   "execution_count": 23,
   "id": "8ae13620",
   "metadata": {},
   "outputs": [
    {
     "name": "stdout",
     "output_type": "stream",
     "text": [
      "hello, Gobinda  how are you Das\n"
     ]
    }
   ],
   "source": [
    "print(\"hello, %s  how are you %s\" %(name, last_name))"
   ]
  },
  {
   "cell_type": "code",
   "execution_count": 24,
   "id": "5f4b9228",
   "metadata": {},
   "outputs": [
    {
     "name": "stdout",
     "output_type": "stream",
     "text": [
      "value of a is 10\n"
     ]
    }
   ],
   "source": [
    "a = 10\n",
    "\n",
    "print(\"value of a is %d\" %a)"
   ]
  },
  {
   "cell_type": "raw",
   "id": "be3777c2",
   "metadata": {},
   "source": []
  },
  {
   "cell_type": "markdown",
   "id": "1e9c08a0",
   "metadata": {},
   "source": [
    "#\n",
    "### Simple pythonic way"
   ]
  },
  {
   "cell_type": "code",
   "execution_count": 25,
   "id": "7fa758a4",
   "metadata": {},
   "outputs": [
    {
     "name": "stdout",
     "output_type": "stream",
     "text": [
      "value of a is 10 name is sunny value of b is 20.9\n"
     ]
    }
   ],
   "source": [
    "a = 10\n",
    "name = \"sunny\"\n",
    "b = 20.9\n",
    "\n",
    "print(\"value of a is\", a, \"name is\", name, \"value of b is\", b)"
   ]
  },
  {
   "cell_type": "markdown",
   "id": "ecadf7eb",
   "metadata": {},
   "source": [
    "#\n",
    "### with format specifier "
   ]
  },
  {
   "cell_type": "raw",
   "id": "5a7144e9",
   "metadata": {},
   "source": [
    "number of format specifier and variable must be a same"
   ]
  },
  {
   "cell_type": "code",
   "execution_count": 26,
   "id": "df77b1c3",
   "metadata": {},
   "outputs": [
    {
     "name": "stdout",
     "output_type": "stream",
     "text": [
      "value of a is 10 vlaue of b is sunny value of name is 20.900000\n"
     ]
    }
   ],
   "source": [
    "print(\"value of a is %d vlaue of b is %s value of name is %f\" %(a, name, b))"
   ]
  },
  {
   "cell_type": "markdown",
   "id": "30a15b34",
   "metadata": {},
   "source": [
    "#\n",
    "### with format function"
   ]
  },
  {
   "cell_type": "code",
   "execution_count": 13,
   "id": "596fc272",
   "metadata": {},
   "outputs": [],
   "source": [
    "a = 100\n",
    "var = 10\n",
    "name = \"sunny\""
   ]
  },
  {
   "cell_type": "code",
   "execution_count": 14,
   "id": "f369d97b",
   "metadata": {},
   "outputs": [
    {
     "name": "stdout",
     "output_type": "stream",
     "text": [
      "value of is 100\n"
     ]
    }
   ],
   "source": [
    "print(\"value of is {}\".format(a))"
   ]
  },
  {
   "cell_type": "code",
   "execution_count": 15,
   "id": "16a415e0",
   "metadata": {},
   "outputs": [
    {
     "name": "stdout",
     "output_type": "stream",
     "text": [
      "value of a is 100 value of b is 200\n"
     ]
    }
   ],
   "source": [
    "a = 100\n",
    "b = 200\n",
    "\n",
    "print(\"value of a is {} value of b is {}\".format(a, b))"
   ]
  },
  {
   "cell_type": "raw",
   "id": "aff40066",
   "metadata": {},
   "source": []
  },
  {
   "cell_type": "code",
   "execution_count": 17,
   "id": "c2b6271d",
   "metadata": {},
   "outputs": [],
   "source": [
    "name = \"rajat\"\n",
    "age = 27"
   ]
  },
  {
   "cell_type": "code",
   "execution_count": 18,
   "id": "509269c2",
   "metadata": {},
   "outputs": [
    {
     "name": "stdout",
     "output_type": "stream",
     "text": [
      "name is rajat age is 27\n"
     ]
    }
   ],
   "source": [
    "print(\"name is {} age is {}\".format(name, age))"
   ]
  },
  {
   "cell_type": "code",
   "execution_count": 19,
   "id": "0ab8ca4f",
   "metadata": {},
   "outputs": [
    {
     "name": "stdout",
     "output_type": "stream",
     "text": [
      "name is 27 age is rajat\n"
     ]
    }
   ],
   "source": [
    "print(\"name is {} age is {}\".format(age, name))"
   ]
  },
  {
   "cell_type": "code",
   "execution_count": 20,
   "id": "81cec69b",
   "metadata": {},
   "outputs": [
    {
     "name": "stdout",
     "output_type": "stream",
     "text": [
      "name is rajat age is 27\n"
     ]
    }
   ],
   "source": [
    "print(\"name is {1} age is {0}\".format(age, name))"
   ]
  },
  {
   "cell_type": "code",
   "execution_count": 21,
   "id": "6c37c04d",
   "metadata": {},
   "outputs": [
    {
     "name": "stdout",
     "output_type": "stream",
     "text": [
      "name is rajat age is 27\n"
     ]
    }
   ],
   "source": [
    "print(\"name is {name} age is {age}\".format(age=age, name=name))"
   ]
  },
  {
   "cell_type": "raw",
   "id": "0587c052",
   "metadata": {},
   "source": []
  },
  {
   "cell_type": "code",
   "execution_count": 37,
   "id": "6a55296f",
   "metadata": {},
   "outputs": [],
   "source": [
    "first_name = 'Gobinda'\n",
    "last_name = 'Das'"
   ]
  },
  {
   "cell_type": "code",
   "execution_count": 38,
   "id": "e066b564",
   "metadata": {},
   "outputs": [
    {
     "name": "stdout",
     "output_type": "stream",
     "text": [
      "My first name is Gobinda and last name is Das\n"
     ]
    }
   ],
   "source": [
    "print(\"My first name is {} and last name is {}\".format(first_name, last_name))"
   ]
  },
  {
   "cell_type": "code",
   "execution_count": 39,
   "id": "ffed3d05",
   "metadata": {},
   "outputs": [
    {
     "name": "stdout",
     "output_type": "stream",
     "text": [
      "My First name is Gobinda and last name is Das\n"
     ]
    }
   ],
   "source": [
    "print(\"My First name is {first} and last name is {last}\".format(last=last_name, first=first_name))"
   ]
  },
  {
   "cell_type": "raw",
   "id": "f40e57ce",
   "metadata": {},
   "source": []
  },
  {
   "cell_type": "raw",
   "id": "01a870f9",
   "metadata": {},
   "source": []
  },
  {
   "cell_type": "markdown",
   "id": "873dd068",
   "metadata": {},
   "source": [
    "#\n",
    "## len()"
   ]
  },
  {
   "cell_type": "code",
   "execution_count": 40,
   "id": "28b71ffe",
   "metadata": {},
   "outputs": [
    {
     "data": {
      "text/plain": [
       "7"
      ]
     },
     "execution_count": 40,
     "metadata": {},
     "output_type": "execute_result"
    }
   ],
   "source": [
    "len('gobinda')"
   ]
  },
  {
   "cell_type": "code",
   "execution_count": 41,
   "id": "8dd3f6de",
   "metadata": {},
   "outputs": [
    {
     "data": {
      "text/plain": [
       "5"
      ]
     },
     "execution_count": 41,
     "metadata": {},
     "output_type": "execute_result"
    }
   ],
   "source": [
    "len(['1', 2, 3, 4, 5])"
   ]
  },
  {
   "cell_type": "raw",
   "id": "82184339",
   "metadata": {},
   "source": []
  },
  {
   "cell_type": "markdown",
   "id": "0c9e3197",
   "metadata": {},
   "source": [
    "## sep"
   ]
  },
  {
   "cell_type": "raw",
   "id": "afc9a6d5",
   "metadata": {},
   "source": [
    "sep--> if we are passing multiple variable in print() function so it will seperate the variable\n",
    "\n",
    "end--> it working on newline"
   ]
  },
  {
   "cell_type": "code",
   "execution_count": 8,
   "id": "4b1a2892",
   "metadata": {},
   "outputs": [
    {
     "name": "stdout",
     "output_type": "stream",
     "text": [
      "1020"
     ]
    }
   ],
   "source": [
    "print(a, b, sep=\"\", end=\"\")"
   ]
  },
  {
   "cell_type": "code",
   "execution_count": 9,
   "id": "43497467",
   "metadata": {},
   "outputs": [
    {
     "name": "stdout",
     "output_type": "stream",
     "text": [
      "10 20 30\n"
     ]
    }
   ],
   "source": [
    "print(a, b, c, sep=\" \")"
   ]
  },
  {
   "cell_type": "code",
   "execution_count": 10,
   "id": "87619976",
   "metadata": {},
   "outputs": [
    {
     "name": "stdout",
     "output_type": "stream",
     "text": [
      "10=20=30\n"
     ]
    }
   ],
   "source": [
    "print(a, b, c, sep=\"=\")"
   ]
  },
  {
   "cell_type": "markdown",
   "id": "8e01ef46",
   "metadata": {},
   "source": []
  },
  {
   "cell_type": "markdown",
   "id": "63762456",
   "metadata": {},
   "source": [
    "## Input function"
   ]
  },
  {
   "cell_type": "raw",
   "id": "5f1f2c54",
   "metadata": {},
   "source": [
    "it is responsible for taking input from user"
   ]
  },
  {
   "cell_type": "code",
   "execution_count": 20,
   "id": "fce7ee75",
   "metadata": {},
   "outputs": [
    {
     "name": "stdout",
     "output_type": "stream",
     "text": [
      "25\n"
     ]
    },
    {
     "data": {
      "text/plain": [
       "'25'"
      ]
     },
     "execution_count": 20,
     "metadata": {},
     "output_type": "execute_result"
    }
   ],
   "source": [
    "input()"
   ]
  },
  {
   "cell_type": "code",
   "execution_count": 21,
   "id": "b6920b2b",
   "metadata": {},
   "outputs": [
    {
     "name": "stdout",
     "output_type": "stream",
     "text": [
      "first number: 55\n"
     ]
    },
    {
     "data": {
      "text/plain": [
       "'55'"
      ]
     },
     "execution_count": 21,
     "metadata": {},
     "output_type": "execute_result"
    }
   ],
   "source": [
    "input(\"first number: \")"
   ]
  },
  {
   "cell_type": "code",
   "execution_count": 2,
   "id": "08504f86",
   "metadata": {},
   "outputs": [
    {
     "name": "stdout",
     "output_type": "stream",
     "text": [
      "please write any number: 528456\n"
     ]
    }
   ],
   "source": [
    "a = input(\"please write any number: \")"
   ]
  },
  {
   "cell_type": "code",
   "execution_count": 3,
   "id": "87595964",
   "metadata": {},
   "outputs": [
    {
     "name": "stdout",
     "output_type": "stream",
     "text": [
      "528456\n"
     ]
    }
   ],
   "source": [
    "print(a)"
   ]
  },
  {
   "cell_type": "code",
   "execution_count": 4,
   "id": "6c0ffe46",
   "metadata": {},
   "outputs": [
    {
     "data": {
      "text/plain": [
       "str"
      ]
     },
     "execution_count": 4,
     "metadata": {},
     "output_type": "execute_result"
    }
   ],
   "source": [
    "type(a)"
   ]
  },
  {
   "cell_type": "raw",
   "id": "f685770b",
   "metadata": {},
   "source": []
  },
  {
   "cell_type": "code",
   "execution_count": 30,
   "id": "2af82d0e",
   "metadata": {},
   "outputs": [
    {
     "name": "stdout",
     "output_type": "stream",
     "text": [
      "Enter your namegobinda\n"
     ]
    }
   ],
   "source": [
    "name = input(\"Enter your name\")"
   ]
  },
  {
   "cell_type": "code",
   "execution_count": 31,
   "id": "82c999ea",
   "metadata": {},
   "outputs": [
    {
     "data": {
      "text/plain": [
       "'gobinda'"
      ]
     },
     "execution_count": 31,
     "metadata": {},
     "output_type": "execute_result"
    }
   ],
   "source": [
    "name"
   ]
  },
  {
   "cell_type": "raw",
   "id": "77b159b8",
   "metadata": {},
   "source": []
  },
  {
   "cell_type": "code",
   "execution_count": 27,
   "id": "b882f4e1",
   "metadata": {},
   "outputs": [],
   "source": [
    "a = 100"
   ]
  },
  {
   "cell_type": "code",
   "execution_count": 28,
   "id": "f4c66331",
   "metadata": {},
   "outputs": [],
   "source": [
    "b = 200"
   ]
  },
  {
   "cell_type": "code",
   "execution_count": 29,
   "id": "5b26d49a",
   "metadata": {},
   "outputs": [
    {
     "data": {
      "text/plain": [
       "300"
      ]
     },
     "execution_count": 29,
     "metadata": {},
     "output_type": "execute_result"
    }
   ],
   "source": [
    "a + b"
   ]
  },
  {
   "cell_type": "raw",
   "id": "6fd410c1",
   "metadata": {},
   "source": []
  },
  {
   "cell_type": "markdown",
   "id": "56673b6b",
   "metadata": {},
   "source": [
    "# "
   ]
  },
  {
   "cell_type": "code",
   "execution_count": null,
   "id": "b0665889",
   "metadata": {},
   "outputs": [
    {
     "name": "stdout",
     "output_type": "stream",
     "text": [
      "\n",
      "Welcome to Python 3.11's help utility!\n",
      "\n",
      "If this is your first time using Python, you should definitely check out\n",
      "the tutorial on the internet at https://docs.python.org/3.11/tutorial/.\n",
      "\n",
      "Enter the name of any module, keyword, or topic to get help on writing\n",
      "Python programs and using Python modules.  To quit this help utility and\n",
      "return to the interpreter, just type \"quit\".\n",
      "\n",
      "To get a list of available modules, keywords, symbols, or topics, type\n",
      "\"modules\", \"keywords\", \"symbols\", or \"topics\".  Each module also comes\n",
      "with a one-line summary of what it does; to list the modules whose name\n",
      "or summary contain a given string such as \"spam\", type \"modules spam\".\n",
      "\n",
      "help> keywords\n",
      "\n",
      "Here is a list of the Python keywords.  Enter any keyword to get more help.\n",
      "\n",
      "False               class               from                or\n",
      "None                continue            global              pass\n",
      "True                def                 if                  raise\n",
      "and                 del                 import              return\n",
      "as                  elif                in                  try\n",
      "assert              else                is                  while\n",
      "async               except              lambda              with\n",
      "await               finally             nonlocal            yield\n",
      "break               for                 not                 \n",
      "\n"
     ]
    }
   ],
   "source": [
    "help()"
   ]
  },
  {
   "cell_type": "raw",
   "id": "56f9d41b",
   "metadata": {},
   "source": []
  },
  {
   "cell_type": "markdown",
   "id": "daca4851",
   "metadata": {},
   "source": [
    "# Keywords "
   ]
  },
  {
   "cell_type": "raw",
   "id": "6ca7c6ed",
   "metadata": {},
   "source": [
    "Keywords: Keyword or reserve word are those word which is already reserved by python we can not use those word as a identifier (variable name, class name, file name)."
   ]
  },
  {
   "cell_type": "raw",
   "id": "d5b8d2d2",
   "metadata": {},
   "source": []
  }
 ],
 "metadata": {
  "kernelspec": {
   "display_name": "Python 3 (ipykernel)",
   "language": "python",
   "name": "python3"
  },
  "language_info": {
   "codemirror_mode": {
    "name": "ipython",
    "version": 3
   },
   "file_extension": ".py",
   "mimetype": "text/x-python",
   "name": "python",
   "nbconvert_exporter": "python",
   "pygments_lexer": "ipython3",
   "version": "3.11.5"
  }
 },
 "nbformat": 4,
 "nbformat_minor": 5
}
