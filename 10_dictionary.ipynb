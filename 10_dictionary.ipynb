{
 "cells": [
  {
   "cell_type": "markdown",
   "id": "b26ab38f",
   "metadata": {},
   "source": [
    "# Dictionary"
   ]
  },
  {
   "cell_type": "raw",
   "id": "33f4a3d3",
   "metadata": {},
   "source": []
  },
  {
   "cell_type": "raw",
   "id": "edc6a473",
   "metadata": {},
   "source": [
    "list = [ ]\n",
    "\n",
    "tuple = ( )\n",
    "\n",
    "set = { }\n",
    "\n",
    "string = \" \""
   ]
  },
  {
   "cell_type": "raw",
   "id": "85ead99b",
   "metadata": {},
   "source": [
    "key : value pair\n",
    "\n",
    "dictionary: dict is a collection which holds data in pair (that pair will be in key and value)\n",
    "\n",
    "if i want to connect one piece of info with other piece of info so we always we use dictionary\n",
    "\n",
    "ex: rollno --> student name\n",
    "    name --> mobile number"
   ]
  },
  {
   "cell_type": "code",
   "execution_count": null,
   "id": "117c461f",
   "metadata": {},
   "outputs": [],
   "source": [
    "#syntax of dictionary\n",
    "\n",
    "dict={\n",
    "    key1: value1,\n",
    "    key2: value2,\n",
    "    key3: value3,\n",
    "    ...\n",
    "    keyn: valuen\n",
    "}"
   ]
  },
  {
   "cell_type": "raw",
   "id": "c784a6f5",
   "metadata": {},
   "source": []
  },
  {
   "cell_type": "code",
   "execution_count": 2,
   "id": "319762d6",
   "metadata": {},
   "outputs": [],
   "source": [
    "mydict = { }"
   ]
  },
  {
   "cell_type": "code",
   "execution_count": 3,
   "id": "008c10d2",
   "metadata": {},
   "outputs": [
    {
     "data": {
      "text/plain": [
       "{}"
      ]
     },
     "execution_count": 3,
     "metadata": {},
     "output_type": "execute_result"
    }
   ],
   "source": [
    "mydict"
   ]
  },
  {
   "cell_type": "code",
   "execution_count": 4,
   "id": "ea9c841f",
   "metadata": {},
   "outputs": [
    {
     "data": {
      "text/plain": [
       "dict"
      ]
     },
     "execution_count": 4,
     "metadata": {},
     "output_type": "execute_result"
    }
   ],
   "source": [
    "type(mydict)"
   ]
  },
  {
   "cell_type": "code",
   "execution_count": 5,
   "id": "eb4f6bb2",
   "metadata": {},
   "outputs": [],
   "source": [
    "# dict of int key\n",
    "\n",
    "mydict1 = {1: \"sunny\", 2: \"rajat\", 3: \"satish\"}"
   ]
  },
  {
   "cell_type": "code",
   "execution_count": 6,
   "id": "9f8cf177",
   "metadata": {},
   "outputs": [
    {
     "data": {
      "text/plain": [
       "{1: 'sunny', 2: 'rajat', 3: 'satish'}"
      ]
     },
     "execution_count": 6,
     "metadata": {},
     "output_type": "execute_result"
    }
   ],
   "source": [
    "mydict1"
   ]
  },
  {
   "cell_type": "code",
   "execution_count": 7,
   "id": "62cedbf8",
   "metadata": {},
   "outputs": [],
   "source": [
    "mydict2 = {1: \"sunny\", \"a\": \"shubham\"}"
   ]
  },
  {
   "cell_type": "code",
   "execution_count": 8,
   "id": "71f868aa",
   "metadata": {},
   "outputs": [
    {
     "data": {
      "text/plain": [
       "{1: 'sunny', 'a': 'shubham'}"
      ]
     },
     "execution_count": 8,
     "metadata": {},
     "output_type": "execute_result"
    }
   ],
   "source": [
    "mydict2"
   ]
  },
  {
   "cell_type": "code",
   "execution_count": 11,
   "id": "c44c0c9b",
   "metadata": {},
   "outputs": [],
   "source": [
    "mydict3 = {\"rahul\": [\"c\",\"c++\"],\n",
    "           \"rohit\": [\"java\",\"java script\"],\n",
    "           \"gobinda\": [\"python\",\"machine learning\"]\n",
    "          }"
   ]
  },
  {
   "cell_type": "code",
   "execution_count": 12,
   "id": "88ec90ff",
   "metadata": {},
   "outputs": [
    {
     "data": {
      "text/plain": [
       "{'rahul': ['c', 'c++'],\n",
       " 'rohit': ['java', 'java script'],\n",
       " 'gobinda': ['python', 'machine learning']}"
      ]
     },
     "execution_count": 12,
     "metadata": {},
     "output_type": "execute_result"
    }
   ],
   "source": [
    "mydict3"
   ]
  },
  {
   "cell_type": "code",
   "execution_count": 13,
   "id": "dee61b60",
   "metadata": {},
   "outputs": [
    {
     "data": {
      "text/plain": [
       "['c', 'c++']"
      ]
     },
     "execution_count": 13,
     "metadata": {},
     "output_type": "execute_result"
    }
   ],
   "source": [
    "mydict3[\"rahul\"]"
   ]
  },
  {
   "cell_type": "code",
   "execution_count": 14,
   "id": "46556014",
   "metadata": {},
   "outputs": [
    {
     "data": {
      "text/plain": [
       "['python', 'machine learning']"
      ]
     },
     "execution_count": 14,
     "metadata": {},
     "output_type": "execute_result"
    }
   ],
   "source": [
    "mydict3[\"gobinda\"]"
   ]
  },
  {
   "cell_type": "code",
   "execution_count": 15,
   "id": "9364c2e4",
   "metadata": {},
   "outputs": [
    {
     "data": {
      "text/plain": [
       "['python', 'machine learning']"
      ]
     },
     "execution_count": 15,
     "metadata": {},
     "output_type": "execute_result"
    }
   ],
   "source": [
    "mydict3.get(\"gobinda\")"
   ]
  },
  {
   "cell_type": "code",
   "execution_count": null,
   "id": "d1371e75",
   "metadata": {},
   "outputs": [],
   "source": []
  },
  {
   "cell_type": "code",
   "execution_count": null,
   "id": "2ddff42d",
   "metadata": {},
   "outputs": [],
   "source": []
  },
  {
   "cell_type": "markdown",
   "id": "545e6354",
   "metadata": {},
   "source": [
    "#\n",
    "## function for the dict\n",
    "\n",
    "1. len()\n",
    "2. max()\n",
    "3. min()\n",
    "4. sorted()\n",
    "5. any()\n",
    "6. all()\n",
    "7. dict()"
   ]
  },
  {
   "cell_type": "raw",
   "id": "fdfecd15",
   "metadata": {},
   "source": []
  },
  {
   "cell_type": "code",
   "execution_count": 43,
   "id": "e1ac1fae",
   "metadata": {},
   "outputs": [],
   "source": [
    "sixMonths = {\n",
    "    \"Jan\": 31,\n",
    "    \"Feb\": 28,\n",
    "    \"Mar\": 31,\n",
    "    \"Apr\": 30,\n",
    "    \"May\": 31,\n",
    "    \"Jun\": 30\n",
    "}"
   ]
  },
  {
   "cell_type": "code",
   "execution_count": 44,
   "id": "a9cca1f4",
   "metadata": {},
   "outputs": [
    {
     "data": {
      "text/plain": [
       "{'Jan': 31, 'Feb': 28, 'Mar': 31, 'Apr': 30, 'May': 31, 'Jun': 30}"
      ]
     },
     "execution_count": 44,
     "metadata": {},
     "output_type": "execute_result"
    }
   ],
   "source": [
    "sixMonths"
   ]
  },
  {
   "cell_type": "code",
   "execution_count": 45,
   "id": "74abf795",
   "metadata": {},
   "outputs": [
    {
     "data": {
      "text/plain": [
       "dict_keys(['Jan', 'Feb', 'Mar', 'Apr', 'May', 'Jun'])"
      ]
     },
     "execution_count": 45,
     "metadata": {},
     "output_type": "execute_result"
    }
   ],
   "source": [
    "sixMonths.keys()"
   ]
  },
  {
   "cell_type": "code",
   "execution_count": 46,
   "id": "a20178a6",
   "metadata": {},
   "outputs": [
    {
     "data": {
      "text/plain": [
       "dict_values([31, 28, 31, 30, 31, 30])"
      ]
     },
     "execution_count": 46,
     "metadata": {},
     "output_type": "execute_result"
    }
   ],
   "source": [
    "sixMonths.values()"
   ]
  },
  {
   "cell_type": "code",
   "execution_count": 47,
   "id": "94aea551",
   "metadata": {},
   "outputs": [
    {
     "data": {
      "text/plain": [
       "dict_items([('Jan', 31), ('Feb', 28), ('Mar', 31), ('Apr', 30), ('May', 31), ('Jun', 30)])"
      ]
     },
     "execution_count": 47,
     "metadata": {},
     "output_type": "execute_result"
    }
   ],
   "source": [
    "sixMonths.items()"
   ]
  },
  {
   "cell_type": "raw",
   "id": "e95556b8",
   "metadata": {},
   "source": []
  },
  {
   "cell_type": "markdown",
   "id": "432065be",
   "metadata": {},
   "source": [
    "### 1. len()"
   ]
  },
  {
   "cell_type": "code",
   "execution_count": 48,
   "id": "73a132f0",
   "metadata": {},
   "outputs": [],
   "source": [
    "sixMonths = {\n",
    "    \"Jan\": 31,\n",
    "    \"Feb\": 28,\n",
    "    \"Mar\": 31,\n",
    "    \"Apr\": 30,\n",
    "    \"May\": 31,\n",
    "    \"Jun\": 30\n",
    "}"
   ]
  },
  {
   "cell_type": "code",
   "execution_count": 49,
   "id": "4a339c59",
   "metadata": {},
   "outputs": [
    {
     "data": {
      "text/plain": [
       "6"
      ]
     },
     "execution_count": 49,
     "metadata": {},
     "output_type": "execute_result"
    }
   ],
   "source": [
    "len(sixMonths)"
   ]
  },
  {
   "cell_type": "raw",
   "id": "c0252444",
   "metadata": {},
   "source": []
  },
  {
   "cell_type": "markdown",
   "id": "b3aeb90f",
   "metadata": {},
   "source": [
    "### 2. max()"
   ]
  },
  {
   "cell_type": "code",
   "execution_count": null,
   "id": "032eaf99",
   "metadata": {},
   "outputs": [],
   "source": [
    "sixMonths = {\n",
    "    \"Jan\": 31,\n",
    "    \"Feb\": 28,\n",
    "    \"Mar\": 31,\n",
    "    \"Apr\": 30,\n",
    "    \"May\": 31,\n",
    "    \"Jun\": 30\n",
    "}"
   ]
  },
  {
   "cell_type": "code",
   "execution_count": 50,
   "id": "3f01f261",
   "metadata": {},
   "outputs": [
    {
     "data": {
      "text/plain": [
       "'May'"
      ]
     },
     "execution_count": 50,
     "metadata": {},
     "output_type": "execute_result"
    }
   ],
   "source": [
    "max(sixMonths)"
   ]
  },
  {
   "cell_type": "raw",
   "id": "e5fa41ca",
   "metadata": {},
   "source": [
    "a b c d e f g h i j k l m n o\n",
    "\n",
    "m will be greater among all\n",
    "\n",
    "lexiographic comaprison\n",
    "\n",
    "a >b < c"
   ]
  },
  {
   "cell_type": "code",
   "execution_count": 61,
   "id": "f0351ed5",
   "metadata": {},
   "outputs": [
    {
     "data": {
      "text/plain": [
       "31"
      ]
     },
     "execution_count": 61,
     "metadata": {},
     "output_type": "execute_result"
    }
   ],
   "source": [
    "max(sixMonths.values())"
   ]
  },
  {
   "cell_type": "raw",
   "id": "bff369af",
   "metadata": {},
   "source": []
  },
  {
   "cell_type": "markdown",
   "id": "5decebc8",
   "metadata": {},
   "source": [
    "### 3. min()"
   ]
  },
  {
   "cell_type": "code",
   "execution_count": null,
   "id": "9cd43fda",
   "metadata": {},
   "outputs": [],
   "source": [
    "sixMonths = {\n",
    "    \"Jan\": 31,\n",
    "    \"Feb\": 28,\n",
    "    \"Mar\": 31,\n",
    "    \"Apr\": 30,\n",
    "    \"May\": 31,\n",
    "    \"Jun\": 30\n",
    "}"
   ]
  },
  {
   "cell_type": "code",
   "execution_count": 53,
   "id": "014eeaf2",
   "metadata": {},
   "outputs": [
    {
     "data": {
      "text/plain": [
       "'Apr'"
      ]
     },
     "execution_count": 53,
     "metadata": {},
     "output_type": "execute_result"
    }
   ],
   "source": [
    "min(sixMonths)"
   ]
  },
  {
   "cell_type": "code",
   "execution_count": 60,
   "id": "b93f02fb",
   "metadata": {},
   "outputs": [
    {
     "data": {
      "text/plain": [
       "28"
      ]
     },
     "execution_count": 60,
     "metadata": {},
     "output_type": "execute_result"
    }
   ],
   "source": [
    "min(sixMonths.values())"
   ]
  },
  {
   "cell_type": "raw",
   "id": "d88451c8",
   "metadata": {},
   "source": []
  },
  {
   "cell_type": "markdown",
   "id": "bc4e52ee",
   "metadata": {},
   "source": [
    "### 4. sorted()  "
   ]
  },
  {
   "cell_type": "code",
   "execution_count": null,
   "id": "179c455f",
   "metadata": {},
   "outputs": [],
   "source": [
    "sixMonths = {\n",
    "    \"Jan\": 31,\n",
    "    \"Feb\": 28,\n",
    "    \"Mar\": 31,\n",
    "    \"Apr\": 30,\n",
    "    \"May\": 31,\n",
    "    \"Jun\": 30\n",
    "}"
   ]
  },
  {
   "cell_type": "code",
   "execution_count": 59,
   "id": "96dff877",
   "metadata": {},
   "outputs": [
    {
     "data": {
      "text/plain": [
       "['Apr', 'Feb', 'Jan', 'Jun', 'Mar', 'May']"
      ]
     },
     "execution_count": 59,
     "metadata": {},
     "output_type": "execute_result"
    }
   ],
   "source": [
    "sorted(sixMonths)"
   ]
  },
  {
   "cell_type": "code",
   "execution_count": 58,
   "id": "70d225de",
   "metadata": {},
   "outputs": [
    {
     "data": {
      "text/plain": [
       "[28, 30, 30, 31, 31, 31]"
      ]
     },
     "execution_count": 58,
     "metadata": {},
     "output_type": "execute_result"
    }
   ],
   "source": [
    "sorted(sixMonths.values())"
   ]
  },
  {
   "cell_type": "raw",
   "id": "b684574b",
   "metadata": {},
   "source": []
  },
  {
   "cell_type": "markdown",
   "id": "d376fb3e",
   "metadata": {},
   "source": [
    "### 5. any()"
   ]
  },
  {
   "cell_type": "code",
   "execution_count": 56,
   "id": "db95b602",
   "metadata": {},
   "outputs": [],
   "source": [
    "sixMonths = {\n",
    "    \"Jan\": 31,\n",
    "    \"Feb\": 28,\n",
    "    \"Mar\": 31,\n",
    "    \"Apr\": 30,\n",
    "    \"May\": 31,\n",
    "    \"Jun\": 30\n",
    "}"
   ]
  },
  {
   "cell_type": "code",
   "execution_count": 57,
   "id": "9a1538b6",
   "metadata": {},
   "outputs": [
    {
     "data": {
      "text/plain": [
       "True"
      ]
     },
     "execution_count": 57,
     "metadata": {},
     "output_type": "execute_result"
    }
   ],
   "source": [
    "any(sixMonths)"
   ]
  },
  {
   "cell_type": "raw",
   "id": "d537ae0f",
   "metadata": {},
   "source": []
  },
  {
   "cell_type": "markdown",
   "id": "a036226b",
   "metadata": {},
   "source": [
    "### 6. all() "
   ]
  },
  {
   "cell_type": "code",
   "execution_count": 54,
   "id": "5199430f",
   "metadata": {},
   "outputs": [],
   "source": [
    "sixMonths = {\n",
    "    \"Jan\": 31,\n",
    "    \"Feb\": 28,\n",
    "    \"Mar\": 31,\n",
    "    \"Apr\": 30,\n",
    "    \"May\": 31,\n",
    "    \"Jun\": 30\n",
    "}"
   ]
  },
  {
   "cell_type": "code",
   "execution_count": 55,
   "id": "d4eb8bfc",
   "metadata": {},
   "outputs": [
    {
     "data": {
      "text/plain": [
       "True"
      ]
     },
     "execution_count": 55,
     "metadata": {},
     "output_type": "execute_result"
    }
   ],
   "source": [
    "all(sixMonths)"
   ]
  },
  {
   "cell_type": "raw",
   "id": "d41e1931",
   "metadata": {},
   "source": []
  },
  {
   "cell_type": "markdown",
   "id": "5e321000",
   "metadata": {},
   "source": [
    "#\n",
    "## methods in dictionary:\n",
    "1. get()\n",
    "2. keys()\n",
    "3. values()\n",
    "4. items()\n",
    "5. updated()\n",
    "6. pop()\n",
    "7. popitem()\n",
    "8. clear()\n",
    "9. copy()\n",
    "10. setdefault()"
   ]
  },
  {
   "cell_type": "markdown",
   "id": "872a9c52",
   "metadata": {},
   "source": [
    "#\n",
    "### 1. get()"
   ]
  },
  {
   "cell_type": "code",
   "execution_count": 17,
   "id": "f601eb76",
   "metadata": {},
   "outputs": [],
   "source": [
    "mydict3 = {\"rahul\": [\"c\",\"c++\"],\n",
    "           \"rohit\": [\"java\",\"java script\"],\n",
    "           \"gobinda\": [\"python\",\"machine learning\"]\n",
    "          }"
   ]
  },
  {
   "cell_type": "code",
   "execution_count": 18,
   "id": "16f5bd61",
   "metadata": {},
   "outputs": [
    {
     "data": {
      "text/plain": [
       "['python', 'machine learning']"
      ]
     },
     "execution_count": 18,
     "metadata": {},
     "output_type": "execute_result"
    }
   ],
   "source": [
    "mydict3.get(\"gobinda\")"
   ]
  },
  {
   "cell_type": "raw",
   "id": "a9dbe8ef",
   "metadata": {},
   "source": []
  },
  {
   "cell_type": "markdown",
   "id": "9e9245d7",
   "metadata": {},
   "source": [
    "### 2. keys()"
   ]
  },
  {
   "cell_type": "code",
   "execution_count": 19,
   "id": "54330463",
   "metadata": {},
   "outputs": [],
   "source": [
    "student_data = {\n",
    "    1: \"amit\",\n",
    "    2: \"brajesh\",\n",
    "    3: \"chetan\",\n",
    "    4: \"deepak\",\n",
    "    5: \"neeraj\"\n",
    "}"
   ]
  },
  {
   "cell_type": "code",
   "execution_count": 20,
   "id": "98bce27a",
   "metadata": {},
   "outputs": [
    {
     "data": {
      "text/plain": [
       "{1: 'amit', 2: 'brajesh', 3: 'chetan', 4: 'deepak', 5: 'neeraj'}"
      ]
     },
     "execution_count": 20,
     "metadata": {},
     "output_type": "execute_result"
    }
   ],
   "source": [
    "student_data"
   ]
  },
  {
   "cell_type": "code",
   "execution_count": 21,
   "id": "0d86c6c6",
   "metadata": {},
   "outputs": [
    {
     "name": "stdout",
     "output_type": "stream",
     "text": [
      "my key is: 1\n",
      "my key is: 2\n",
      "my key is: 3\n",
      "my key is: 4\n",
      "my key is: 5\n"
     ]
    }
   ],
   "source": [
    "for i in student_data:\n",
    "    print(\"my key is:\",i)"
   ]
  },
  {
   "cell_type": "code",
   "execution_count": 22,
   "id": "f3f49100",
   "metadata": {},
   "outputs": [
    {
     "name": "stdout",
     "output_type": "stream",
     "text": [
      "my key is: 1\n",
      "my key is: 2\n",
      "my key is: 3\n",
      "my key is: 4\n",
      "my key is: 5\n"
     ]
    }
   ],
   "source": [
    "for i in student_data.keys():\n",
    "    print(\"my key is:\",i)"
   ]
  },
  {
   "cell_type": "raw",
   "id": "2b45a9f6",
   "metadata": {},
   "source": []
  },
  {
   "cell_type": "markdown",
   "id": "76d4b79b",
   "metadata": {},
   "source": [
    "### 3. values()"
   ]
  },
  {
   "cell_type": "code",
   "execution_count": 23,
   "id": "155973a4",
   "metadata": {},
   "outputs": [],
   "source": [
    "student_data = {\n",
    "    1: \"amit\",\n",
    "    2: \"brajesh\",\n",
    "    3: \"chetan\",\n",
    "    4: \"deepak\",\n",
    "    5: \"neeraj\"\n",
    "}"
   ]
  },
  {
   "cell_type": "code",
   "execution_count": 24,
   "id": "47292792",
   "metadata": {},
   "outputs": [
    {
     "name": "stdout",
     "output_type": "stream",
     "text": [
      "my values is: amit\n",
      "my values is: brajesh\n",
      "my values is: chetan\n",
      "my values is: deepak\n",
      "my values is: neeraj\n"
     ]
    }
   ],
   "source": [
    "for i in student_data.values():\n",
    "    print(\"my values is:\",i)"
   ]
  },
  {
   "cell_type": "raw",
   "id": "10b1a521",
   "metadata": {},
   "source": []
  },
  {
   "cell_type": "markdown",
   "id": "e527f3df",
   "metadata": {},
   "source": [
    "### 4. items()"
   ]
  },
  {
   "cell_type": "code",
   "execution_count": 25,
   "id": "d9b2a998",
   "metadata": {},
   "outputs": [],
   "source": [
    "student_data = {\n",
    "    1: \"amit\",\n",
    "    2: \"brajesh\",\n",
    "    3: \"chetan\",\n",
    "    4: \"deepak\",\n",
    "    5: \"neeraj\"\n",
    "}"
   ]
  },
  {
   "cell_type": "code",
   "execution_count": 26,
   "id": "47e7fe03",
   "metadata": {},
   "outputs": [
    {
     "name": "stdout",
     "output_type": "stream",
     "text": [
      "(1, 'amit')\n",
      "(2, 'brajesh')\n",
      "(3, 'chetan')\n",
      "(4, 'deepak')\n",
      "(5, 'neeraj')\n"
     ]
    }
   ],
   "source": [
    "for x in student_data.items():\n",
    "    print(x)"
   ]
  },
  {
   "cell_type": "code",
   "execution_count": 29,
   "id": "46818b9b",
   "metadata": {},
   "outputs": [
    {
     "name": "stdout",
     "output_type": "stream",
     "text": [
      "my key is: 1, & my value is: amit\n",
      "my key is: 2, & my value is: brajesh\n",
      "my key is: 3, & my value is: chetan\n",
      "my key is: 4, & my value is: deepak\n",
      "my key is: 5, & my value is: neeraj\n"
     ]
    }
   ],
   "source": [
    "for x, y in student_data.items():\n",
    "    print(f\"my key is: {x}, & my value is: {y}\")"
   ]
  },
  {
   "cell_type": "raw",
   "id": "4374d40b",
   "metadata": {},
   "source": []
  },
  {
   "cell_type": "markdown",
   "id": "4570affc",
   "metadata": {},
   "source": [
    "### 5. updated()"
   ]
  },
  {
   "cell_type": "raw",
   "id": "7e1f22f7",
   "metadata": {},
   "source": [
    "if we want to update any new key value pair in dict we use subscript operator or update function."
   ]
  },
  {
   "cell_type": "code",
   "execution_count": 30,
   "id": "e419dc44",
   "metadata": {},
   "outputs": [],
   "source": [
    "student_data = {\n",
    "    1: \"amit\",\n",
    "    2: \"brajesh\",\n",
    "    3: \"chetan\",\n",
    "    4: \"deepak\",\n",
    "    5: \"neeraj\"}"
   ]
  },
  {
   "cell_type": "code",
   "execution_count": 31,
   "id": "ae28778c",
   "metadata": {},
   "outputs": [],
   "source": [
    "student_data[6] = \"gobinda\""
   ]
  },
  {
   "cell_type": "code",
   "execution_count": 32,
   "id": "98996f06",
   "metadata": {},
   "outputs": [
    {
     "data": {
      "text/plain": [
       "{1: 'amit', 2: 'brajesh', 3: 'chetan', 4: 'deepak', 5: 'neeraj', 6: 'gobinda'}"
      ]
     },
     "execution_count": 32,
     "metadata": {},
     "output_type": "execute_result"
    }
   ],
   "source": [
    "student_data"
   ]
  },
  {
   "cell_type": "raw",
   "id": "eddfa2b7",
   "metadata": {},
   "source": []
  },
  {
   "cell_type": "code",
   "execution_count": 33,
   "id": "b41685a7",
   "metadata": {},
   "outputs": [],
   "source": [
    "student_data.update({7: \"zoha\"})"
   ]
  },
  {
   "cell_type": "code",
   "execution_count": 34,
   "id": "82fd7026",
   "metadata": {},
   "outputs": [
    {
     "data": {
      "text/plain": [
       "{1: 'amit',\n",
       " 2: 'brajesh',\n",
       " 3: 'chetan',\n",
       " 4: 'deepak',\n",
       " 5: 'neeraj',\n",
       " 6: 'gobinda',\n",
       " 7: 'zoha'}"
      ]
     },
     "execution_count": 34,
     "metadata": {},
     "output_type": "execute_result"
    }
   ],
   "source": [
    "student_data"
   ]
  },
  {
   "cell_type": "raw",
   "id": "0de8ea15",
   "metadata": {},
   "source": []
  },
  {
   "cell_type": "code",
   "execution_count": 40,
   "id": "519f93ae",
   "metadata": {},
   "outputs": [],
   "source": [
    "student_data = {\n",
    "    1: 'amit',\n",
    "    2: 'brajesh',\n",
    "    3: 'chetan',\n",
    "    4: 'deepak',\n",
    "    5: 'neeraj',\n",
    "    6: 'gobinda',\n",
    "    7: 'zoha'\n",
    "}"
   ]
  },
  {
   "cell_type": "raw",
   "id": "1570c48d",
   "metadata": {},
   "source": [
    "if key is not available then it will create new pair if it is avaialble it will be overwrite"
   ]
  },
  {
   "cell_type": "code",
   "execution_count": 41,
   "id": "bb799faf",
   "metadata": {},
   "outputs": [],
   "source": [
    "student_data[2]=\"akash\"  #overwrite"
   ]
  },
  {
   "cell_type": "code",
   "execution_count": 42,
   "id": "0e42b46f",
   "metadata": {},
   "outputs": [
    {
     "data": {
      "text/plain": [
       "{1: 'amit',\n",
       " 2: 'akash',\n",
       " 3: 'chetan',\n",
       " 4: 'deepak',\n",
       " 5: 'neeraj',\n",
       " 6: 'gobinda',\n",
       " 7: 'zoha'}"
      ]
     },
     "execution_count": 42,
     "metadata": {},
     "output_type": "execute_result"
    }
   ],
   "source": [
    "student_data"
   ]
  },
  {
   "cell_type": "raw",
   "id": "c72bc244",
   "metadata": {},
   "source": []
  },
  {
   "cell_type": "markdown",
   "id": "c6570abc",
   "metadata": {},
   "source": [
    "### 6. pop()"
   ]
  },
  {
   "cell_type": "code",
   "execution_count": 62,
   "id": "c02d235b",
   "metadata": {},
   "outputs": [],
   "source": [
    "sixMonths = {\n",
    "    \"Jan\": 31, \n",
    "    \"Feb\": 28, \n",
    "    \"Mar\": 31, \n",
    "    \"Apr\": 30, \n",
    "    \"May\": 31, \n",
    "    \"Jun\": 30\n",
    "}"
   ]
  },
  {
   "cell_type": "code",
   "execution_count": 63,
   "id": "6d0242e2",
   "metadata": {},
   "outputs": [
    {
     "data": {
      "text/plain": [
       "{'Jan': 31, 'Feb': 28, 'Mar': 31, 'Apr': 30, 'May': 31, 'Jun': 30}"
      ]
     },
     "execution_count": 63,
     "metadata": {},
     "output_type": "execute_result"
    }
   ],
   "source": [
    "sixMonths"
   ]
  },
  {
   "cell_type": "code",
   "execution_count": 64,
   "id": "f160db91",
   "metadata": {},
   "outputs": [
    {
     "data": {
      "text/plain": [
       "31"
      ]
     },
     "execution_count": 64,
     "metadata": {},
     "output_type": "execute_result"
    }
   ],
   "source": [
    "sixMonths.pop(\"Jan\")"
   ]
  },
  {
   "cell_type": "code",
   "execution_count": 65,
   "id": "b6eac435",
   "metadata": {},
   "outputs": [
    {
     "data": {
      "text/plain": [
       "{'Feb': 28, 'Mar': 31, 'Apr': 30, 'May': 31, 'Jun': 30}"
      ]
     },
     "execution_count": 65,
     "metadata": {},
     "output_type": "execute_result"
    }
   ],
   "source": [
    "sixMonths"
   ]
  },
  {
   "cell_type": "code",
   "execution_count": 66,
   "id": "3713f7ac",
   "metadata": {},
   "outputs": [
    {
     "ename": "KeyError",
     "evalue": "'nov'",
     "output_type": "error",
     "traceback": [
      "\u001b[1;31m---------------------------------------------------------------------------\u001b[0m",
      "\u001b[1;31mKeyError\u001b[0m                                  Traceback (most recent call last)",
      "Cell \u001b[1;32mIn[66], line 1\u001b[0m\n\u001b[1;32m----> 1\u001b[0m sixMonths\u001b[38;5;241m.\u001b[39mpop(\u001b[38;5;124m\"\u001b[39m\u001b[38;5;124mnov\u001b[39m\u001b[38;5;124m\"\u001b[39m)\n",
      "\u001b[1;31mKeyError\u001b[0m: 'nov'"
     ]
    }
   ],
   "source": [
    "sixMonths.pop(\"nov\")"
   ]
  },
  {
   "cell_type": "code",
   "execution_count": 67,
   "id": "44f8ab96",
   "metadata": {},
   "outputs": [
    {
     "data": {
      "text/plain": [
       "'not found'"
      ]
     },
     "execution_count": 67,
     "metadata": {},
     "output_type": "execute_result"
    }
   ],
   "source": [
    "sixMonths.pop(\"nov\",\"not found\")"
   ]
  },
  {
   "cell_type": "code",
   "execution_count": 68,
   "id": "2bd14790",
   "metadata": {},
   "outputs": [
    {
     "data": {
      "text/plain": [
       "28"
      ]
     },
     "execution_count": 68,
     "metadata": {},
     "output_type": "execute_result"
    }
   ],
   "source": [
    "sixMonths.pop(\"Feb\",\"not found\")"
   ]
  },
  {
   "cell_type": "code",
   "execution_count": 69,
   "id": "54284284",
   "metadata": {},
   "outputs": [
    {
     "data": {
      "text/plain": [
       "{'Mar': 31, 'Apr': 30, 'May': 31, 'Jun': 30}"
      ]
     },
     "execution_count": 69,
     "metadata": {},
     "output_type": "execute_result"
    }
   ],
   "source": [
    "sixMonths"
   ]
  },
  {
   "cell_type": "code",
   "execution_count": 70,
   "id": "ed808452",
   "metadata": {},
   "outputs": [
    {
     "data": {
      "text/plain": [
       "'not found'"
      ]
     },
     "execution_count": 70,
     "metadata": {},
     "output_type": "execute_result"
    }
   ],
   "source": [
    "sixMonths.pop(\"oct\",\"not found\")"
   ]
  },
  {
   "cell_type": "code",
   "execution_count": 71,
   "id": "bcb9a90e",
   "metadata": {},
   "outputs": [
    {
     "data": {
      "text/plain": [
       "{'Mar': 31, 'Apr': 30, 'May': 31, 'Jun': 30}"
      ]
     },
     "execution_count": 71,
     "metadata": {},
     "output_type": "execute_result"
    }
   ],
   "source": [
    "sixMonths"
   ]
  },
  {
   "cell_type": "raw",
   "id": "816b19dc",
   "metadata": {},
   "source": []
  },
  {
   "cell_type": "markdown",
   "id": "cfb20919",
   "metadata": {},
   "source": [
    "### 7. popitem() "
   ]
  },
  {
   "cell_type": "code",
   "execution_count": 72,
   "id": "4ad750bd",
   "metadata": {},
   "outputs": [],
   "source": [
    "sixMonths = {\n",
    "    \"Jan\": 31, \n",
    "    \"Feb\": 28, \n",
    "    \"Mar\": 31, \n",
    "    \"Apr\": 30, \n",
    "    \"May\": 31, \n",
    "    \"Jun\": 30\n",
    "}"
   ]
  },
  {
   "cell_type": "code",
   "execution_count": 73,
   "id": "8ee2c0fc",
   "metadata": {},
   "outputs": [
    {
     "data": {
      "text/plain": [
       "{'Jan': 31, 'Feb': 28, 'Mar': 31, 'Apr': 30, 'May': 31, 'Jun': 30}"
      ]
     },
     "execution_count": 73,
     "metadata": {},
     "output_type": "execute_result"
    }
   ],
   "source": [
    "sixMonths"
   ]
  },
  {
   "cell_type": "code",
   "execution_count": 74,
   "id": "acaa293c",
   "metadata": {},
   "outputs": [
    {
     "data": {
      "text/plain": [
       "('Jun', 30)"
      ]
     },
     "execution_count": 74,
     "metadata": {},
     "output_type": "execute_result"
    }
   ],
   "source": [
    "sixMonths.popitem()"
   ]
  },
  {
   "cell_type": "code",
   "execution_count": 75,
   "id": "b43030f3",
   "metadata": {},
   "outputs": [
    {
     "data": {
      "text/plain": [
       "{'Jan': 31, 'Feb': 28, 'Mar': 31, 'Apr': 30, 'May': 31}"
      ]
     },
     "execution_count": 75,
     "metadata": {},
     "output_type": "execute_result"
    }
   ],
   "source": [
    "sixMonths"
   ]
  },
  {
   "cell_type": "code",
   "execution_count": 76,
   "id": "d51c761f",
   "metadata": {},
   "outputs": [
    {
     "data": {
      "text/plain": [
       "('May', 31)"
      ]
     },
     "execution_count": 76,
     "metadata": {},
     "output_type": "execute_result"
    }
   ],
   "source": [
    "sixMonths.popitem()"
   ]
  },
  {
   "cell_type": "code",
   "execution_count": 77,
   "id": "9acb3570",
   "metadata": {},
   "outputs": [
    {
     "data": {
      "text/plain": [
       "{'Jan': 31, 'Feb': 28, 'Mar': 31, 'Apr': 30}"
      ]
     },
     "execution_count": 77,
     "metadata": {},
     "output_type": "execute_result"
    }
   ],
   "source": [
    "sixMonths"
   ]
  },
  {
   "cell_type": "raw",
   "id": "ed50c118",
   "metadata": {},
   "source": []
  },
  {
   "cell_type": "markdown",
   "id": "dadc4648",
   "metadata": {},
   "source": [
    "### 8. clear()"
   ]
  },
  {
   "cell_type": "code",
   "execution_count": 78,
   "id": "471e4b4e",
   "metadata": {},
   "outputs": [],
   "source": [
    "sixMonths = {\n",
    "    \"Jan\": 31, \n",
    "    \"Feb\": 28, \n",
    "    \"Mar\": 31, \n",
    "    \"Apr\": 30, \n",
    "    \"May\": 31, \n",
    "    \"Jun\": 30\n",
    "}"
   ]
  },
  {
   "cell_type": "code",
   "execution_count": 79,
   "id": "022f31c2",
   "metadata": {},
   "outputs": [],
   "source": [
    "sixMonths.clear()"
   ]
  },
  {
   "cell_type": "code",
   "execution_count": 80,
   "id": "2b2147f7",
   "metadata": {},
   "outputs": [
    {
     "data": {
      "text/plain": [
       "{}"
      ]
     },
     "execution_count": 80,
     "metadata": {},
     "output_type": "execute_result"
    }
   ],
   "source": [
    "sixMonths"
   ]
  },
  {
   "cell_type": "raw",
   "id": "c54452b1",
   "metadata": {},
   "source": []
  },
  {
   "cell_type": "markdown",
   "id": "64e9c0a7",
   "metadata": {},
   "source": [
    "### 9. copy() "
   ]
  },
  {
   "cell_type": "code",
   "execution_count": 81,
   "id": "0a3d6b32",
   "metadata": {},
   "outputs": [],
   "source": [
    "orignal = {\n",
    "    1: \"one\",\n",
    "    2: \"two\",\n",
    "    3: \"three\"\n",
    "}"
   ]
  },
  {
   "cell_type": "code",
   "execution_count": 82,
   "id": "ad137c24",
   "metadata": {},
   "outputs": [],
   "source": [
    "new=orignal.copy()"
   ]
  },
  {
   "cell_type": "code",
   "execution_count": 83,
   "id": "cca83ae9",
   "metadata": {},
   "outputs": [
    {
     "data": {
      "text/plain": [
       "{1: 'one', 2: 'two', 3: 'three'}"
      ]
     },
     "execution_count": 83,
     "metadata": {},
     "output_type": "execute_result"
    }
   ],
   "source": [
    "new"
   ]
  },
  {
   "cell_type": "markdown",
   "id": "73730933",
   "metadata": {},
   "source": [
    "###### what is a difference between deep copy and shallow copy? "
   ]
  },
  {
   "cell_type": "raw",
   "id": "8208eabb",
   "metadata": {},
   "source": [
    "Shallow Copy:\n",
    "\n",
    "    Copies the top-level structure of an object.\n",
    "    Inner objects are referenced, not duplicated.\n",
    "    Changes in inner objects reflect in both the original and the shallow copy."
   ]
  },
  {
   "cell_type": "raw",
   "id": "b2e8e571",
   "metadata": {},
   "source": [
    "Deep Copy:\n",
    "\n",
    "    Duplicates the entire structure of an object, including all nested objects.\n",
    "    Inner objects are recursively copied, creating completely independent copies.\n",
    "    Changes in inner objects don't reflect between the original and the deep copy."
   ]
  },
  {
   "cell_type": "code",
   "execution_count": 5,
   "id": "5dfe4a58",
   "metadata": {},
   "outputs": [
    {
     "name": "stdout",
     "output_type": "stream",
     "text": [
      "Original List: [[100, 2, 3], [4, 5, 6]]\n",
      "Shallow Copy: [[100, 2, 3], [4, 5, 6]]\n",
      "Deep Copy: [[1, 2, 3], [4, 5, 6]]\n"
     ]
    }
   ],
   "source": [
    "import copy\n",
    "\n",
    "# Original list with nested lists\n",
    "original_list = [[1, 2, 3], [4, 5, 6]]\n",
    "\n",
    "# Shallow copy\n",
    "shallow_copy = copy.copy(original_list)\n",
    "\n",
    "# Deep copy\n",
    "deep_copy = copy.deepcopy(original_list)\n",
    "\n",
    "# Modify original list\n",
    "original_list[0][0] = 100\n",
    "\n",
    "\n",
    "print(\"Original List:\", original_list)\n",
    "print(\"Shallow Copy:\", shallow_copy)\n",
    "print(\"Deep Copy:\", deep_copy)"
   ]
  },
  {
   "cell_type": "raw",
   "id": "b5f3dab4",
   "metadata": {},
   "source": []
  },
  {
   "cell_type": "markdown",
   "id": "b0552d1c",
   "metadata": {},
   "source": [
    "# "
   ]
  },
  {
   "cell_type": "markdown",
   "id": "cda528e2",
   "metadata": {},
   "source": [
    "### 10. setdefault()  "
   ]
  },
  {
   "cell_type": "code",
   "execution_count": 1,
   "id": "aa972a89",
   "metadata": {},
   "outputs": [],
   "source": [
    "cars = {\"Maruti\":\"Ciaz\", \"Hyundai\":\"Verna\", \"Honda\":\"Amaze\"}"
   ]
  },
  {
   "cell_type": "code",
   "execution_count": 2,
   "id": "c7957e58",
   "metadata": {},
   "outputs": [
    {
     "name": "stdout",
     "output_type": "stream",
     "text": [
      "Maruti Model: Ciaz\n"
     ]
    }
   ],
   "source": [
    "maruti_model = cars.setdefault(\"Maruti\", \"Baleno\")\n",
    "print(\"Maruti Model:\", maruti_model)"
   ]
  },
  {
   "cell_type": "code",
   "execution_count": 3,
   "id": "54ce325d",
   "metadata": {},
   "outputs": [
    {
     "name": "stdout",
     "output_type": "stream",
     "text": [
      "Updated Dictionary: {'Maruti': 'Ciaz', 'Hyundai': 'Verna', 'Honda': 'Amaze'}\n"
     ]
    }
   ],
   "source": [
    "print(\"Updated Dictionary:\", cars)"
   ]
  },
  {
   "cell_type": "raw",
   "id": "7414d9cb",
   "metadata": {},
   "source": []
  }
 ],
 "metadata": {
  "kernelspec": {
   "display_name": "Python 3 (ipykernel)",
   "language": "python",
   "name": "python3"
  },
  "language_info": {
   "codemirror_mode": {
    "name": "ipython",
    "version": 3
   },
   "file_extension": ".py",
   "mimetype": "text/x-python",
   "name": "python",
   "nbconvert_exporter": "python",
   "pygments_lexer": "ipython3",
   "version": "3.11.5"
  }
 },
 "nbformat": 4,
 "nbformat_minor": 5
}
