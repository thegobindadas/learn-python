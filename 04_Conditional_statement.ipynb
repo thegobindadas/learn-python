{
 "cells": [
  {
   "cell_type": "markdown",
   "id": "b579dc30",
   "metadata": {},
   "source": [
    "# Conditional statement"
   ]
  },
  {
   "cell_type": "raw",
   "id": "e55eae57",
   "metadata": {},
   "source": []
  },
  {
   "cell_type": "code",
   "execution_count": 12,
   "id": "f4ce3215",
   "metadata": {},
   "outputs": [],
   "source": [
    "a = 80"
   ]
  },
  {
   "cell_type": "code",
   "execution_count": 13,
   "id": "043c4766",
   "metadata": {},
   "outputs": [
    {
     "name": "stdout",
     "output_type": "stream",
     "text": [
      "correct\n",
      "fine\n",
      "alright\n"
     ]
    }
   ],
   "source": [
    "if a>50:\n",
    "    print(\"correct\")\n",
    "    print(\"fine\")\n",
    "print(\"alright\")"
   ]
  },
  {
   "cell_type": "raw",
   "id": "d47cbba4",
   "metadata": {},
   "source": []
  },
  {
   "cell_type": "code",
   "execution_count": null,
   "id": "44a8ecc7",
   "metadata": {},
   "outputs": [],
   "source": [
    "x=50"
   ]
  },
  {
   "cell_type": "code",
   "execution_count": 4,
   "id": "a4d90b8d",
   "metadata": {},
   "outputs": [
    {
     "name": "stdout",
     "output_type": "stream",
     "text": [
      "x is equal to 50\n"
     ]
    }
   ],
   "source": [
    "if x>50:\n",
    "    print(\"x grater than 50\")\n",
    "elif x==50:\n",
    "    print(\"x is equal to 50\")\n",
    "elif x<50:\n",
    "    print(\"x less than 50\")\n",
    "else:\n",
    "    print(\"not matched\")"
   ]
  },
  {
   "cell_type": "raw",
   "id": "c24d83aa",
   "metadata": {},
   "source": []
  },
  {
   "cell_type": "markdown",
   "id": "3dc0fa43",
   "metadata": {},
   "source": [
    "# "
   ]
  },
  {
   "cell_type": "markdown",
   "id": "452bb81b",
   "metadata": {},
   "source": [
    "### Q: Accept an integer from the user and check whether it is an even or odd  "
   ]
  },
  {
   "cell_type": "code",
   "execution_count": 8,
   "id": "3b539069",
   "metadata": {},
   "outputs": [
    {
     "name": "stdout",
     "output_type": "stream",
     "text": [
      "enter number5\n",
      "odd\n"
     ]
    }
   ],
   "source": [
    "s= int(input('enter number'))\n",
    "\n",
    "if s%2 == 0:\n",
    "    print('even')    \n",
    "else:\n",
    "    print('odd')"
   ]
  },
  {
   "cell_type": "code",
   "execution_count": 9,
   "id": "f3fcc0ff",
   "metadata": {},
   "outputs": [
    {
     "name": "stdout",
     "output_type": "stream",
     "text": [
      "Enter a number: 149826669526\n",
      "149826669526 is Even\n"
     ]
    }
   ],
   "source": [
    "num = int(input(\"Enter a number: \"))\n",
    "\n",
    "if (num % 2) == 0:\n",
    "   print(\"{0} is Even\".format(num))\n",
    "else:\n",
    "   print(\"{0} is Odd\".format(num))"
   ]
  },
  {
   "cell_type": "raw",
   "id": "41cc4bf9",
   "metadata": {},
   "source": []
  },
  {
   "cell_type": "markdown",
   "id": "fb5281e9",
   "metadata": {},
   "source": [
    "# "
   ]
  },
  {
   "cell_type": "markdown",
   "id": "963b1d91",
   "metadata": {},
   "source": [
    "### Q: WAP to accept a character from the user and check whether it is a capital letter or small letter. Assume user will input only alphabets"
   ]
  },
  {
   "cell_type": "code",
   "execution_count": 5,
   "id": "cacbded8",
   "metadata": {},
   "outputs": [
    {
     "name": "stdout",
     "output_type": "stream",
     "text": [
      "please enter the characterz\n",
      "this character will be a small one\n"
     ]
    }
   ],
   "source": [
    "ch=input(\"please enter the character\")\n",
    "\n",
    "if \"A\"<=ch[0]<=\"Z\":\n",
    "    print(\"this character will be a capital one\")\n",
    "else:\n",
    "    print(\"this character will be a small one\")"
   ]
  },
  {
   "cell_type": "code",
   "execution_count": 6,
   "id": "26bfaa74",
   "metadata": {},
   "outputs": [
    {
     "name": "stdout",
     "output_type": "stream",
     "text": [
      "enter char :G\n",
      "Capital Letter \n"
     ]
    }
   ],
   "source": [
    "char = input(\"enter char :\")\n",
    "\n",
    "ascivalue = ord(char)\n",
    "\n",
    "if (ascivalue >= 97 and ascivalue <= 122) :\n",
    "    print (\"small latter \")\n",
    "else:\n",
    "    print(\"Capital Letter \")"
   ]
  },
  {
   "cell_type": "code",
   "execution_count": 7,
   "id": "944948bc",
   "metadata": {},
   "outputs": [
    {
     "name": "stdout",
     "output_type": "stream",
     "text": [
      "Enter the character k\n",
      "k is a lower letter \n"
     ]
    }
   ],
   "source": [
    "a=input(\"Enter the character \")\n",
    "\n",
    "if a.isupper()==True :\n",
    "    print (\"{} is a capital letter \".format(a))\n",
    "else :\n",
    "    print (\"{} is a lower letter \".format(a))"
   ]
  },
  {
   "cell_type": "raw",
   "id": "0ce88b1a",
   "metadata": {},
   "source": []
  },
  {
   "cell_type": "markdown",
   "id": "a191058f",
   "metadata": {},
   "source": [
    "# "
   ]
  },
  {
   "cell_type": "markdown",
   "id": "234773bf",
   "metadata": {},
   "source": [
    "### Q: WAP to accept 3 integers from the user and without using any logical operator and cascading of relational operators , find out the greatest number amongst them "
   ]
  },
  {
   "cell_type": "code",
   "execution_count": 29,
   "id": "520227c0",
   "metadata": {},
   "outputs": [
    {
     "name": "stdout",
     "output_type": "stream",
     "text": [
      "enter first no: 45\n",
      "enter second no: 75\n",
      "enter third no: 95\n"
     ]
    }
   ],
   "source": [
    "X=int(input(\"enter first no: \"))\n",
    "Y=int(input(\"enter second no: \"))\n",
    "Z=int(input(\"enter third no: \"))\n",
    "\n",
    "\n",
    "if X > Y and X > Z:\n",
    "    print(\"X is greatest\")\n",
    "elif Y > X and Y > Z:\n",
    "    print(\"Y is greatest\")\n",
    "else:\n",
    "    print(\"Z is greatest\")"
   ]
  },
  {
   "cell_type": "raw",
   "id": "e88ee6d9",
   "metadata": {},
   "source": []
  },
  {
   "cell_type": "code",
   "execution_count": 45,
   "id": "b2d04909",
   "metadata": {},
   "outputs": [],
   "source": [
    "def maximum(a, b, c):\n",
    "  \n",
    "    if (a >= b) and (a >= c):\n",
    "        largest = a\n",
    "  \n",
    "    elif (b >= a) and (b >= c):\n",
    "        largest = b\n",
    "    else:\n",
    "        largest = c\n",
    "          \n",
    "    return largest"
   ]
  },
  {
   "cell_type": "code",
   "execution_count": 46,
   "id": "101a42f5",
   "metadata": {},
   "outputs": [
    {
     "name": "stdout",
     "output_type": "stream",
     "text": [
      "2002657439 is greatest number\n"
     ]
    }
   ],
   "source": [
    "greatestNumber = maximum(1042534638,2002657439,523954743)\n",
    "print(\"{} is greatest number\".format(greatestNumber))"
   ]
  },
  {
   "cell_type": "raw",
   "id": "f1e95373",
   "metadata": {},
   "source": []
  },
  {
   "cell_type": "code",
   "execution_count": null,
   "id": "be835f83",
   "metadata": {},
   "outputs": [],
   "source": [
    "n=int(input(\"please enter three number\"))\n",
    "\n",
    "x=list(map(int,input().split()))\n",
    "\n",
    "print(max(x))"
   ]
  }
 ],
 "metadata": {
  "kernelspec": {
   "display_name": "Python 3 (ipykernel)",
   "language": "python",
   "name": "python3"
  },
  "language_info": {
   "codemirror_mode": {
    "name": "ipython",
    "version": 3
   },
   "file_extension": ".py",
   "mimetype": "text/x-python",
   "name": "python",
   "nbconvert_exporter": "python",
   "pygments_lexer": "ipython3",
   "version": "3.11.5"
  }
 },
 "nbformat": 4,
 "nbformat_minor": 5
}
