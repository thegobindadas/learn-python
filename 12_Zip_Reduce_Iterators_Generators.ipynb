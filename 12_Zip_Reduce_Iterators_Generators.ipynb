{
 "cells": [
  {
   "cell_type": "raw",
   "id": "e6db9b12",
   "metadata": {},
   "source": []
  },
  {
   "cell_type": "markdown",
   "id": "bc89a8ae",
   "metadata": {},
   "source": [
    "# zip"
   ]
  },
  {
   "cell_type": "code",
   "execution_count": 6,
   "id": "905bb353",
   "metadata": {},
   "outputs": [],
   "source": [
    "lst1 = [1, 2, 3, 4, 5]\n",
    "lst2 = [\"a\", 'b', 'c']"
   ]
  },
  {
   "cell_type": "code",
   "execution_count": 7,
   "id": "76fe37e7",
   "metadata": {},
   "outputs": [],
   "source": [
    "output = zip(lst1, lst2)"
   ]
  },
  {
   "cell_type": "code",
   "execution_count": 8,
   "id": "81eecfb7",
   "metadata": {},
   "outputs": [
    {
     "data": {
      "text/plain": [
       "[(1, 'a'), (2, 'b'), (3, 'c')]"
      ]
     },
     "execution_count": 8,
     "metadata": {},
     "output_type": "execute_result"
    }
   ],
   "source": [
    "list(output)"
   ]
  },
  {
   "cell_type": "raw",
   "id": "14078924",
   "metadata": {},
   "source": []
  },
  {
   "cell_type": "code",
   "execution_count": 15,
   "id": "394a910d",
   "metadata": {},
   "outputs": [],
   "source": [
    "lst1 = [\"Krish\", \"Sam\", \"John\", 4]\n",
    "lst2 = [\"a\", 'b', 'c']\n",
    "lst3 = [1, 2, 3]"
   ]
  },
  {
   "cell_type": "code",
   "execution_count": 16,
   "id": "b2af4e37",
   "metadata": {},
   "outputs": [
    {
     "name": "stdout",
     "output_type": "stream",
     "text": [
      "Krish a 1\n",
      "Sam b 2\n",
      "John c 3\n"
     ]
    }
   ],
   "source": [
    "output = zip(lst1,lst2,lst3)\n",
    "\n",
    "for i, j, k in output:\n",
    "    print(i, j, k)"
   ]
  },
  {
   "cell_type": "code",
   "execution_count": 17,
   "id": "db4db98b",
   "metadata": {},
   "outputs": [
    {
     "data": {
      "text/plain": [
       "[]"
      ]
     },
     "execution_count": 17,
     "metadata": {},
     "output_type": "execute_result"
    }
   ],
   "source": [
    "list(zip())"
   ]
  },
  {
   "cell_type": "raw",
   "id": "cdc27479",
   "metadata": {},
   "source": []
  },
  {
   "cell_type": "code",
   "execution_count": 1,
   "id": "4e2aa825",
   "metadata": {},
   "outputs": [],
   "source": [
    "lst1 = [1, 2, 3, 4, 5]\n",
    "lst2 = [\"a\", 'b', 'c']"
   ]
  },
  {
   "cell_type": "code",
   "execution_count": 2,
   "id": "f9b52ae5",
   "metadata": {},
   "outputs": [
    {
     "name": "stdout",
     "output_type": "stream",
     "text": [
      "(1, 'a')\n",
      "(2, 'b')\n",
      "(3, 'c')\n"
     ]
    }
   ],
   "source": [
    "for i in zip(lst1, lst2):\n",
    "    print(i)"
   ]
  },
  {
   "cell_type": "code",
   "execution_count": 9,
   "id": "93a5b060",
   "metadata": {},
   "outputs": [
    {
     "name": "stdout",
     "output_type": "stream",
     "text": [
      "1 a\n",
      "2 b\n",
      "3 c\n"
     ]
    }
   ],
   "source": [
    "for x, y in zip(lst1, lst2):\n",
    "    print(x, y)"
   ]
  },
  {
   "cell_type": "code",
   "execution_count": 10,
   "id": "f2481ba9",
   "metadata": {},
   "outputs": [],
   "source": [
    "dict = {}\n",
    "\n",
    "for x, y in zip(lst1, lst2):\n",
    "    dict[x] = y"
   ]
  },
  {
   "cell_type": "code",
   "execution_count": 11,
   "id": "f4a2296f",
   "metadata": {},
   "outputs": [
    {
     "data": {
      "text/plain": [
       "{1: 'a', 2: 'b', 3: 'c'}"
      ]
     },
     "execution_count": 11,
     "metadata": {},
     "output_type": "execute_result"
    }
   ],
   "source": [
    "dict"
   ]
  },
  {
   "cell_type": "raw",
   "id": "bd3d53f3",
   "metadata": {},
   "source": []
  },
  {
   "cell_type": "code",
   "execution_count": 22,
   "id": "1a395e5d",
   "metadata": {},
   "outputs": [],
   "source": [
    "dict1 = {'name': 'Gobinda',\n",
    "         'lst_name': 'Das',\n",
    "         'age': 30}\n",
    "\n",
    "dict2 = {'name': 'Poulami',\n",
    "         'lst_name': 'Hudait',\n",
    "         'age': 29}"
   ]
  },
  {
   "cell_type": "code",
   "execution_count": 26,
   "id": "700b2615",
   "metadata": {},
   "outputs": [
    {
     "data": {
      "text/plain": [
       "{'name': 'Gobinda', 'lst_name': 'Das', 'age': 30}"
      ]
     },
     "execution_count": 26,
     "metadata": {},
     "output_type": "execute_result"
    }
   ],
   "source": [
    "dict1"
   ]
  },
  {
   "cell_type": "code",
   "execution_count": 27,
   "id": "622eb3e5",
   "metadata": {},
   "outputs": [],
   "source": [
    "dictionary = zip(dict1.items(), dict2.items())"
   ]
  },
  {
   "cell_type": "code",
   "execution_count": 28,
   "id": "a76ef602",
   "metadata": {},
   "outputs": [
    {
     "name": "stdout",
     "output_type": "stream",
     "text": [
      "name Gobinda\n",
      "name Poulami\n",
      "lst_name Das\n",
      "lst_name Hudait\n",
      "age 30\n",
      "age 29\n"
     ]
    }
   ],
   "source": [
    "for (i,j), (i2,j2) in dictionary:\n",
    "    print(i, j)\n",
    "    print(i2, j2)"
   ]
  },
  {
   "cell_type": "raw",
   "id": "446ff190",
   "metadata": {},
   "source": []
  },
  {
   "cell_type": "raw",
   "id": "1d5b2774",
   "metadata": {},
   "source": []
  },
  {
   "cell_type": "markdown",
   "id": "7e28e011",
   "metadata": {},
   "source": [
    "# "
   ]
  },
  {
   "cell_type": "markdown",
   "id": "5e108971",
   "metadata": {},
   "source": [
    "# reduce"
   ]
  },
  {
   "cell_type": "code",
   "execution_count": 1,
   "id": "0576262a",
   "metadata": {},
   "outputs": [],
   "source": [
    "import functools"
   ]
  },
  {
   "cell_type": "code",
   "execution_count": 2,
   "id": "85de2987",
   "metadata": {},
   "outputs": [],
   "source": [
    "mylist = [1, 4, 5, 6, 2]"
   ]
  },
  {
   "cell_type": "code",
   "execution_count": 3,
   "id": "52cabc8b",
   "metadata": {},
   "outputs": [
    {
     "data": {
      "text/plain": [
       "18"
      ]
     },
     "execution_count": 3,
     "metadata": {},
     "output_type": "execute_result"
    }
   ],
   "source": [
    "functools.reduce(lambda a,b: a+b, mylist)"
   ]
  },
  {
   "cell_type": "raw",
   "id": "37af8f28",
   "metadata": {},
   "source": []
  },
  {
   "cell_type": "code",
   "execution_count": 4,
   "id": "ac135ef8",
   "metadata": {},
   "outputs": [],
   "source": [
    "mylist = [1, 4, 5, 6, 2]"
   ]
  },
  {
   "cell_type": "code",
   "execution_count": 5,
   "id": "488a773f",
   "metadata": {},
   "outputs": [
    {
     "data": {
      "text/plain": [
       "6"
      ]
     },
     "execution_count": 5,
     "metadata": {},
     "output_type": "execute_result"
    }
   ],
   "source": [
    "functools.reduce(lambda a,b: a if a>b else b, mylist)"
   ]
  },
  {
   "cell_type": "raw",
   "id": "e9579758",
   "metadata": {},
   "source": []
  },
  {
   "cell_type": "raw",
   "id": "6b8e4642",
   "metadata": {},
   "source": []
  },
  {
   "cell_type": "markdown",
   "id": "05468c84",
   "metadata": {},
   "source": [
    "# "
   ]
  },
  {
   "cell_type": "markdown",
   "id": "004ed5d4",
   "metadata": {},
   "source": [
    "# Generators"
   ]
  },
  {
   "cell_type": "raw",
   "id": "5fbd668f",
   "metadata": {},
   "source": []
  },
  {
   "cell_type": "code",
   "execution_count": 8,
   "id": "2535206b",
   "metadata": {},
   "outputs": [],
   "source": [
    "def demo(n):\n",
    "    for i in range(n):\n",
    "        print(i)"
   ]
  },
  {
   "cell_type": "code",
   "execution_count": 17,
   "id": "31595015",
   "metadata": {},
   "outputs": [
    {
     "name": "stdout",
     "output_type": "stream",
     "text": [
      "0\n",
      "1\n",
      "2\n",
      "3\n",
      "4\n",
      "5\n",
      "6\n",
      "7\n",
      "8\n",
      "9\n"
     ]
    }
   ],
   "source": [
    "demo(10)"
   ]
  },
  {
   "cell_type": "raw",
   "id": "c4d3a62d",
   "metadata": {},
   "source": []
  },
  {
   "cell_type": "code",
   "execution_count": null,
   "id": "3ecb211e",
   "metadata": {},
   "outputs": [],
   "source": [
    "# Generators\n",
    "\n",
    "def gen(n):\n",
    "    for i in n:\n",
    "        yield i"
   ]
  },
  {
   "cell_type": "code",
   "execution_count": 14,
   "id": "df5e7ba9",
   "metadata": {},
   "outputs": [],
   "source": [
    "def gen(n):\n",
    "    for i in range(n):\n",
    "        yield i"
   ]
  },
  {
   "cell_type": "code",
   "execution_count": 15,
   "id": "c0c7ef86",
   "metadata": {},
   "outputs": [
    {
     "name": "stdout",
     "output_type": "stream",
     "text": [
      "0\n",
      "1\n",
      "2\n",
      "3\n",
      "4\n",
      "5\n",
      "6\n",
      "7\n",
      "8\n",
      "9\n"
     ]
    }
   ],
   "source": [
    "for i in gen(10):\n",
    "    print(i)"
   ]
  },
  {
   "cell_type": "markdown",
   "id": "7c8673b0",
   "metadata": {},
   "source": []
  },
  {
   "cell_type": "code",
   "execution_count": 11,
   "id": "0c3a91ef",
   "metadata": {},
   "outputs": [],
   "source": [
    "### Generator\n",
    "def square(n):\n",
    "    for i in range(n):\n",
    "        yield i**2"
   ]
  },
  {
   "cell_type": "code",
   "execution_count": 12,
   "id": "da5e40b5",
   "metadata": {},
   "outputs": [
    {
     "name": "stdout",
     "output_type": "stream",
     "text": [
      "0\n",
      "1\n",
      "4\n"
     ]
    }
   ],
   "source": [
    "for i in square(3):\n",
    "    print(i)"
   ]
  },
  {
   "cell_type": "code",
   "execution_count": 13,
   "id": "909715da",
   "metadata": {},
   "outputs": [
    {
     "data": {
      "text/plain": [
       "<generator object square at 0x000001B6916072A0>"
      ]
     },
     "execution_count": 13,
     "metadata": {},
     "output_type": "execute_result"
    }
   ],
   "source": [
    "a = square(3)\n",
    "a"
   ]
  },
  {
   "cell_type": "code",
   "execution_count": 14,
   "id": "ebab825c",
   "metadata": {},
   "outputs": [
    {
     "data": {
      "text/plain": [
       "0"
      ]
     },
     "execution_count": 14,
     "metadata": {},
     "output_type": "execute_result"
    }
   ],
   "source": [
    "next(a)"
   ]
  },
  {
   "cell_type": "raw",
   "id": "f1d91db3",
   "metadata": {},
   "source": []
  },
  {
   "cell_type": "raw",
   "id": "24d400ff",
   "metadata": {},
   "source": []
  },
  {
   "cell_type": "markdown",
   "id": "24fb181e",
   "metadata": {},
   "source": [
    "# "
   ]
  },
  {
   "cell_type": "markdown",
   "id": "48c1e6e2",
   "metadata": {},
   "source": [
    "# Iterators "
   ]
  },
  {
   "cell_type": "raw",
   "id": "d0ce91d1",
   "metadata": {},
   "source": [
    "iterable- list, tuple, string, set, dict\n",
    "\n",
    "it a sequence of the value on top of that we can itrate\n",
    "\n",
    "iterable can convert into a itrator\n",
    "\n",
    "iterator-> it's a object on top of that we can perform iteration"
   ]
  },
  {
   "cell_type": "raw",
   "id": "79c33124",
   "metadata": {},
   "source": []
  },
  {
   "cell_type": "code",
   "execution_count": 18,
   "id": "65bf4ba1",
   "metadata": {},
   "outputs": [],
   "source": [
    "mylist = [1, 2, 3, 4, 5]"
   ]
  },
  {
   "cell_type": "code",
   "execution_count": 19,
   "id": "638ec6ee",
   "metadata": {},
   "outputs": [
    {
     "data": {
      "text/plain": [
       "<list_iterator at 0x144dd5ada20>"
      ]
     },
     "execution_count": 19,
     "metadata": {},
     "output_type": "execute_result"
    }
   ],
   "source": [
    "iter(mylist)"
   ]
  },
  {
   "cell_type": "code",
   "execution_count": 20,
   "id": "dde6c19d",
   "metadata": {},
   "outputs": [
    {
     "name": "stdout",
     "output_type": "stream",
     "text": [
      "1\n",
      "2\n",
      "3\n",
      "4\n",
      "5\n"
     ]
    }
   ],
   "source": [
    "for i in iter(mylist):\n",
    "    print(i)"
   ]
  },
  {
   "cell_type": "raw",
   "id": "49ed3c20",
   "metadata": {},
   "source": []
  },
  {
   "cell_type": "code",
   "execution_count": 1,
   "id": "5c986370",
   "metadata": {},
   "outputs": [],
   "source": [
    "mylist = [1, 2, 3, 4, 5]"
   ]
  },
  {
   "cell_type": "code",
   "execution_count": 2,
   "id": "fbea0a26",
   "metadata": {},
   "outputs": [],
   "source": [
    "##iterator\n",
    "iterable = iter(mylist)"
   ]
  },
  {
   "cell_type": "code",
   "execution_count": 3,
   "id": "8f06e5f7",
   "metadata": {},
   "outputs": [
    {
     "data": {
      "text/plain": [
       "list_iterator"
      ]
     },
     "execution_count": 3,
     "metadata": {},
     "output_type": "execute_result"
    }
   ],
   "source": [
    "type(iterable)"
   ]
  },
  {
   "cell_type": "code",
   "execution_count": 4,
   "id": "760ff9c3",
   "metadata": {},
   "outputs": [
    {
     "name": "stdout",
     "output_type": "stream",
     "text": [
      "1\n",
      "2\n",
      "3\n",
      "4\n",
      "5\n"
     ]
    }
   ],
   "source": [
    "## We can iterate\n",
    "for i in iterable:\n",
    "    print(i)"
   ]
  },
  {
   "cell_type": "code",
   "execution_count": 5,
   "id": "a4291f3e",
   "metadata": {},
   "outputs": [
    {
     "name": "stdout",
     "output_type": "stream",
     "text": [
      "The iterator is empty\n"
     ]
    }
   ],
   "source": [
    "try:\n",
    "    print(next(iterable))\n",
    "except StopIteration:\n",
    "    print(\"The iterator is empty\")"
   ]
  },
  {
   "cell_type": "raw",
   "id": "27ea9afa",
   "metadata": {},
   "source": []
  },
  {
   "cell_type": "raw",
   "id": "666afbf7",
   "metadata": {},
   "source": []
  },
  {
   "cell_type": "code",
   "execution_count": null,
   "id": "a27d49b8",
   "metadata": {},
   "outputs": [],
   "source": [
    "Difference:\n",
    " 1. To create iterator we use iter() and to generator we use function along with yield keyword\n",
    " 2. Generator uses the yield keyword. It saves the local variable\n",
    " 3. Generator in python helps us top write fast and compact code\n",
    " 4. Python iterator is much more memory efficient"
   ]
  },
  {
   "cell_type": "raw",
   "id": "f0161619",
   "metadata": {},
   "source": []
  }
 ],
 "metadata": {
  "kernelspec": {
   "display_name": "Python 3 (ipykernel)",
   "language": "python",
   "name": "python3"
  },
  "language_info": {
   "codemirror_mode": {
    "name": "ipython",
    "version": 3
   },
   "file_extension": ".py",
   "mimetype": "text/x-python",
   "name": "python",
   "nbconvert_exporter": "python",
   "pygments_lexer": "ipython3",
   "version": "3.11.5"
  }
 },
 "nbformat": 4,
 "nbformat_minor": 5
}
