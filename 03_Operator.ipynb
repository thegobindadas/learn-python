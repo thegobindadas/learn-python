{
 "cells": [
  {
   "cell_type": "markdown",
   "id": "b707eb1f",
   "metadata": {},
   "source": [
    "# Operator"
   ]
  },
  {
   "cell_type": "raw",
   "id": "b46697b3",
   "metadata": {},
   "source": []
  },
  {
   "cell_type": "markdown",
   "id": "14c158bc",
   "metadata": {},
   "source": [
    "#\n",
    "## 1. Arithmetic Operator"
   ]
  },
  {
   "cell_type": "code",
   "execution_count": 10,
   "id": "2324e3b6",
   "metadata": {},
   "outputs": [],
   "source": [
    "x = 5\n",
    "y = 3"
   ]
  },
  {
   "cell_type": "code",
   "execution_count": 11,
   "id": "97cb4674",
   "metadata": {},
   "outputs": [
    {
     "name": "stdout",
     "output_type": "stream",
     "text": [
      "8\n"
     ]
    }
   ],
   "source": [
    "print(x + y) #Addition"
   ]
  },
  {
   "cell_type": "code",
   "execution_count": 12,
   "id": "53c5a011",
   "metadata": {},
   "outputs": [
    {
     "name": "stdout",
     "output_type": "stream",
     "text": [
      "2\n"
     ]
    }
   ],
   "source": [
    "print(x - y) #Subtraction"
   ]
  },
  {
   "cell_type": "code",
   "execution_count": 13,
   "id": "a93d7da5",
   "metadata": {},
   "outputs": [
    {
     "name": "stdout",
     "output_type": "stream",
     "text": [
      "15\n"
     ]
    }
   ],
   "source": [
    "print(x * y) #Multiplication"
   ]
  },
  {
   "cell_type": "code",
   "execution_count": 14,
   "id": "837218dd",
   "metadata": {},
   "outputs": [
    {
     "name": "stdout",
     "output_type": "stream",
     "text": [
      "1.6666666666666667\n"
     ]
    }
   ],
   "source": [
    "print(x / y) #Division"
   ]
  },
  {
   "cell_type": "code",
   "execution_count": 15,
   "id": "b18f0e46",
   "metadata": {},
   "outputs": [
    {
     "name": "stdout",
     "output_type": "stream",
     "text": [
      "2\n"
     ]
    }
   ],
   "source": [
    "print(x % y) #It's used to get the remainder of a division problem."
   ]
  },
  {
   "cell_type": "code",
   "execution_count": 16,
   "id": "24db9a85",
   "metadata": {},
   "outputs": [
    {
     "name": "stdout",
     "output_type": "stream",
     "text": [
      "125\n"
     ]
    }
   ],
   "source": [
    "print(x ** y)"
   ]
  },
  {
   "cell_type": "code",
   "execution_count": 17,
   "id": "87c312f2",
   "metadata": {},
   "outputs": [
    {
     "name": "stdout",
     "output_type": "stream",
     "text": [
      "1\n"
     ]
    }
   ],
   "source": [
    "print(x // y)\n",
    "#the floor division   // rounds the result down to the nearest whole number"
   ]
  },
  {
   "cell_type": "raw",
   "id": "653511a6",
   "metadata": {},
   "source": []
  },
  {
   "cell_type": "markdown",
   "id": "0a936aa3",
   "metadata": {},
   "source": [
    "#\n",
    "## 2. Comparison operators or Relational operators"
   ]
  },
  {
   "cell_type": "code",
   "execution_count": 71,
   "id": "1ca0ca6f",
   "metadata": {},
   "outputs": [],
   "source": [
    "a = 10\n",
    "b = 4"
   ]
  },
  {
   "cell_type": "code",
   "execution_count": 72,
   "id": "5d186836",
   "metadata": {},
   "outputs": [
    {
     "name": "stdout",
     "output_type": "stream",
     "text": [
      "a = 10\n",
      "b = 4\n"
     ]
    }
   ],
   "source": [
    "print(\"a =\", a)\n",
    "print(\"b =\", b)"
   ]
  },
  {
   "cell_type": "code",
   "execution_count": 22,
   "id": "e83a141c",
   "metadata": {},
   "outputs": [
    {
     "name": "stdout",
     "output_type": "stream",
     "text": [
      "a > b True\n"
     ]
    }
   ],
   "source": [
    "print(\"a > b\", a>b) #Greater Than"
   ]
  },
  {
   "cell_type": "code",
   "execution_count": 24,
   "id": "ce94a606",
   "metadata": {},
   "outputs": [
    {
     "name": "stdout",
     "output_type": "stream",
     "text": [
      "a < b False\n"
     ]
    }
   ],
   "source": [
    "print(\"a < b\", a<b) #Less Than"
   ]
  },
  {
   "cell_type": "code",
   "execution_count": 25,
   "id": "d3a40e7a",
   "metadata": {},
   "outputs": [
    {
     "name": "stdout",
     "output_type": "stream",
     "text": [
      "a==b False\n"
     ]
    }
   ],
   "source": [
    "print(\"a==b\", a==b) #Equal To"
   ]
  },
  {
   "cell_type": "code",
   "execution_count": 26,
   "id": "27430b34",
   "metadata": {},
   "outputs": [
    {
     "name": "stdout",
     "output_type": "stream",
     "text": [
      "a!=b True\n"
     ]
    }
   ],
   "source": [
    "print(\"a!=b\", a!=b) #Not Equal To\n"
   ]
  },
  {
   "cell_type": "code",
   "execution_count": 27,
   "id": "cc1589ef",
   "metadata": {},
   "outputs": [
    {
     "name": "stdout",
     "output_type": "stream",
     "text": [
      "a>=b True\n"
     ]
    }
   ],
   "source": [
    "print(\"a>=b\", a>=b) #Greater Than Equal To"
   ]
  },
  {
   "cell_type": "code",
   "execution_count": 28,
   "id": "0d34edad",
   "metadata": {},
   "outputs": [
    {
     "name": "stdout",
     "output_type": "stream",
     "text": [
      "a<=b False\n"
     ]
    }
   ],
   "source": [
    "print(\"a<=b\", a<=b) #Less Than Equal To"
   ]
  },
  {
   "cell_type": "raw",
   "id": "7ece0644",
   "metadata": {},
   "source": []
  },
  {
   "cell_type": "markdown",
   "id": "d0aa6ddf",
   "metadata": {},
   "source": [
    "#### Cascading Of Relational Operators"
   ]
  },
  {
   "cell_type": "code",
   "execution_count": 36,
   "id": "528db8d7",
   "metadata": {},
   "outputs": [
    {
     "name": "stdout",
     "output_type": "stream",
     "text": [
      "False\n"
     ]
    }
   ],
   "source": [
    "print(-1 > True)"
   ]
  },
  {
   "cell_type": "code",
   "execution_count": 34,
   "id": "b5e55d4a",
   "metadata": {},
   "outputs": [
    {
     "name": "stdout",
     "output_type": "stream",
     "text": [
      "True\n"
     ]
    }
   ],
   "source": [
    "print(7>6>5) # Right <-- left"
   ]
  },
  {
   "cell_type": "code",
   "execution_count": 37,
   "id": "3de7cffb",
   "metadata": {},
   "outputs": [
    {
     "name": "stdout",
     "output_type": "stream",
     "text": [
      "False\n"
     ]
    }
   ],
   "source": [
    "print(-1>6>5)"
   ]
  },
  {
   "cell_type": "code",
   "execution_count": 35,
   "id": "f3ff637c",
   "metadata": {},
   "outputs": [
    {
     "name": "stdout",
     "output_type": "stream",
     "text": [
      "False\n"
     ]
    }
   ],
   "source": [
    "print(5<6>7)"
   ]
  },
  {
   "cell_type": "code",
   "execution_count": 39,
   "id": "f882e047",
   "metadata": {},
   "outputs": [
    {
     "name": "stdout",
     "output_type": "stream",
     "text": [
      "False\n"
     ]
    }
   ],
   "source": [
    "print(5>6>7)"
   ]
  },
  {
   "cell_type": "code",
   "execution_count": 40,
   "id": "1c4d74d2",
   "metadata": {},
   "outputs": [
    {
     "name": "stdout",
     "output_type": "stream",
     "text": [
      "True\n"
     ]
    }
   ],
   "source": [
    "print(5<6<7)"
   ]
  },
  {
   "cell_type": "raw",
   "id": "24ea9276",
   "metadata": {},
   "source": []
  },
  {
   "cell_type": "markdown",
   "id": "55d3acfa",
   "metadata": {},
   "source": [
    "#### Relational Operators With Strings"
   ]
  },
  {
   "cell_type": "code",
   "execution_count": 18,
   "id": "5a220ac6",
   "metadata": {},
   "outputs": [],
   "source": [
    "a=\"Ramesh\"\n",
    "b=\"Rajesh\""
   ]
  },
  {
   "cell_type": "code",
   "execution_count": 19,
   "id": "fe3f5f71",
   "metadata": {},
   "outputs": [
    {
     "name": "stdout",
     "output_type": "stream",
     "text": [
      "a = Ramesh b = Rajesh\n"
     ]
    }
   ],
   "source": [
    "print(\"a =\", a, \"b =\", b)"
   ]
  },
  {
   "cell_type": "code",
   "execution_count": 20,
   "id": "2b9cfa70",
   "metadata": {},
   "outputs": [
    {
     "name": "stdout",
     "output_type": "stream",
     "text": [
      "a > b True\n"
     ]
    }
   ],
   "source": [
    "print(\"a > b\", a>b)"
   ]
  },
  {
   "cell_type": "code",
   "execution_count": 21,
   "id": "a7d90906",
   "metadata": {},
   "outputs": [
    {
     "name": "stdout",
     "output_type": "stream",
     "text": [
      "a < b False\n"
     ]
    }
   ],
   "source": [
    "print(\"a < b\", a<b)"
   ]
  },
  {
   "cell_type": "code",
   "execution_count": 22,
   "id": "e8503ec2",
   "metadata": {},
   "outputs": [
    {
     "name": "stdout",
     "output_type": "stream",
     "text": [
      "a==b False\n"
     ]
    }
   ],
   "source": [
    "print(\"a==b\", a==b)"
   ]
  },
  {
   "cell_type": "code",
   "execution_count": 23,
   "id": "b2a9e80a",
   "metadata": {},
   "outputs": [
    {
     "name": "stdout",
     "output_type": "stream",
     "text": [
      "a!=b True\n"
     ]
    }
   ],
   "source": [
    "print(\"a!=b\", a!=b)"
   ]
  },
  {
   "cell_type": "code",
   "execution_count": 24,
   "id": "c2cb8778",
   "metadata": {},
   "outputs": [
    {
     "name": "stdout",
     "output_type": "stream",
     "text": [
      "a>=b True\n"
     ]
    }
   ],
   "source": [
    "print(\"a>=b\", a>=b)"
   ]
  },
  {
   "cell_type": "code",
   "execution_count": 25,
   "id": "e741df3f",
   "metadata": {},
   "outputs": [
    {
     "name": "stdout",
     "output_type": "stream",
     "text": [
      "a<=b False\n"
     ]
    }
   ],
   "source": [
    "print(\"a<=b\", a<=b)"
   ]
  },
  {
   "cell_type": "raw",
   "id": "f329a24c",
   "metadata": {},
   "source": []
  },
  {
   "cell_type": "code",
   "execution_count": 30,
   "id": "7dac22df",
   "metadata": {},
   "outputs": [],
   "source": [
    "a = \"a\""
   ]
  },
  {
   "cell_type": "code",
   "execution_count": 31,
   "id": "7ca5029f",
   "metadata": {},
   "outputs": [
    {
     "data": {
      "text/plain": [
       "97"
      ]
     },
     "execution_count": 31,
     "metadata": {},
     "output_type": "execute_result"
    }
   ],
   "source": [
    "ord(a) #unicode value"
   ]
  },
  {
   "cell_type": "code",
   "execution_count": 32,
   "id": "50722fbf",
   "metadata": {},
   "outputs": [
    {
     "data": {
      "text/plain": [
       "83"
      ]
     },
     "execution_count": 32,
     "metadata": {},
     "output_type": "execute_result"
    }
   ],
   "source": [
    "ord(\"S\")"
   ]
  },
  {
   "cell_type": "raw",
   "id": "127ecd1e",
   "metadata": {},
   "source": []
  },
  {
   "cell_type": "markdown",
   "id": "7f404fba",
   "metadata": {},
   "source": [
    "#\n",
    "## 3. Logical Operators "
   ]
  },
  {
   "cell_type": "raw",
   "id": "9fa96102",
   "metadata": {},
   "source": [
    "# logical operator are - and, or, not"
   ]
  },
  {
   "cell_type": "code",
   "execution_count": 43,
   "id": "ea1ace18",
   "metadata": {},
   "outputs": [
    {
     "data": {
      "text/plain": [
       "True"
      ]
     },
     "execution_count": 43,
     "metadata": {},
     "output_type": "execute_result"
    }
   ],
   "source": [
    "True and True"
   ]
  },
  {
   "cell_type": "code",
   "execution_count": 41,
   "id": "b39c607e",
   "metadata": {},
   "outputs": [
    {
     "data": {
      "text/plain": [
       "False"
      ]
     },
     "execution_count": 41,
     "metadata": {},
     "output_type": "execute_result"
    }
   ],
   "source": [
    "True and False"
   ]
  },
  {
   "cell_type": "code",
   "execution_count": 44,
   "id": "54bbe18b",
   "metadata": {},
   "outputs": [
    {
     "data": {
      "text/plain": [
       "False"
      ]
     },
     "execution_count": 44,
     "metadata": {},
     "output_type": "execute_result"
    }
   ],
   "source": [
    "False and True"
   ]
  },
  {
   "cell_type": "code",
   "execution_count": 45,
   "id": "7436c580",
   "metadata": {},
   "outputs": [
    {
     "data": {
      "text/plain": [
       "False"
      ]
     },
     "execution_count": 45,
     "metadata": {},
     "output_type": "execute_result"
    }
   ],
   "source": [
    "False and False"
   ]
  },
  {
   "cell_type": "code",
   "execution_count": 46,
   "id": "1739b9f7",
   "metadata": {},
   "outputs": [
    {
     "data": {
      "text/plain": [
       "False"
      ]
     },
     "execution_count": 46,
     "metadata": {},
     "output_type": "execute_result"
    }
   ],
   "source": [
    "not True"
   ]
  },
  {
   "cell_type": "code",
   "execution_count": 47,
   "id": "a989f758",
   "metadata": {},
   "outputs": [
    {
     "data": {
      "text/plain": [
       "True"
      ]
     },
     "execution_count": 47,
     "metadata": {},
     "output_type": "execute_result"
    }
   ],
   "source": [
    "not False"
   ]
  },
  {
   "cell_type": "raw",
   "id": "306852ba",
   "metadata": {},
   "source": []
  },
  {
   "cell_type": "raw",
   "id": "4ce5539a",
   "metadata": {},
   "source": [
    "Logical Operators On Non Boolean Types"
   ]
  },
  {
   "cell_type": "code",
   "execution_count": 26,
   "id": "bfe55e2d",
   "metadata": {},
   "outputs": [
    {
     "data": {
      "text/plain": [
       "6"
      ]
     },
     "execution_count": 26,
     "metadata": {},
     "output_type": "execute_result"
    }
   ],
   "source": [
    "5 and 6"
   ]
  },
  {
   "cell_type": "code",
   "execution_count": 27,
   "id": "4ea9e29c",
   "metadata": {},
   "outputs": [
    {
     "data": {
      "text/plain": [
       "0"
      ]
     },
     "execution_count": 27,
     "metadata": {},
     "output_type": "execute_result"
    }
   ],
   "source": [
    " 5 and 0"
   ]
  },
  {
   "cell_type": "code",
   "execution_count": 28,
   "id": "779cabc4",
   "metadata": {},
   "outputs": [
    {
     "data": {
      "text/plain": [
       "0"
      ]
     },
     "execution_count": 28,
     "metadata": {},
     "output_type": "execute_result"
    }
   ],
   "source": [
    "0 and 10"
   ]
  },
  {
   "cell_type": "code",
   "execution_count": 29,
   "id": "fb6bc440",
   "metadata": {},
   "outputs": [
    {
     "data": {
      "text/plain": [
       "0"
      ]
     },
     "execution_count": 29,
     "metadata": {},
     "output_type": "execute_result"
    }
   ],
   "source": [
    "6 and 0\n"
   ]
  },
  {
   "cell_type": "code",
   "execution_count": 30,
   "id": "bb937cf2",
   "metadata": {},
   "outputs": [
    {
     "data": {
      "text/plain": [
       "10"
      ]
     },
     "execution_count": 30,
     "metadata": {},
     "output_type": "execute_result"
    }
   ],
   "source": [
    "'Sachin' and 10"
   ]
  },
  {
   "cell_type": "code",
   "execution_count": 31,
   "id": "944254a4",
   "metadata": {},
   "outputs": [
    {
     "data": {
      "text/plain": [
       "0"
      ]
     },
     "execution_count": 31,
     "metadata": {},
     "output_type": "execute_result"
    }
   ],
   "source": [
    "'Sachin' and 0"
   ]
  },
  {
   "cell_type": "code",
   "execution_count": 32,
   "id": "6aa5c117",
   "metadata": {},
   "outputs": [
    {
     "data": {
      "text/plain": [
       "'Bhopal'"
      ]
     },
     "execution_count": 32,
     "metadata": {},
     "output_type": "execute_result"
    }
   ],
   "source": [
    "'Indore' and 'Bhopal'"
   ]
  },
  {
   "cell_type": "code",
   "execution_count": 33,
   "id": "f83a9a26",
   "metadata": {},
   "outputs": [
    {
     "data": {
      "text/plain": [
       "'Indore'"
      ]
     },
     "execution_count": 33,
     "metadata": {},
     "output_type": "execute_result"
    }
   ],
   "source": [
    "'Bhopal' and 'Indore'"
   ]
  },
  {
   "cell_type": "code",
   "execution_count": 34,
   "id": "057787ff",
   "metadata": {},
   "outputs": [
    {
     "data": {
      "text/plain": [
       "0"
      ]
     },
     "execution_count": 34,
     "metadata": {},
     "output_type": "execute_result"
    }
   ],
   "source": [
    "0 and 10/0"
   ]
  },
  {
   "cell_type": "code",
   "execution_count": 35,
   "id": "5aa1c9e4",
   "metadata": {},
   "outputs": [
    {
     "data": {
      "text/plain": [
       "5"
      ]
     },
     "execution_count": 35,
     "metadata": {},
     "output_type": "execute_result"
    }
   ],
   "source": [
    "5 or 6"
   ]
  },
  {
   "cell_type": "code",
   "execution_count": 36,
   "id": "49ab8bc0",
   "metadata": {},
   "outputs": [
    {
     "data": {
      "text/plain": [
       "5"
      ]
     },
     "execution_count": 36,
     "metadata": {},
     "output_type": "execute_result"
    }
   ],
   "source": [
    "5 or 0"
   ]
  },
  {
   "cell_type": "code",
   "execution_count": 37,
   "id": "49bd7b0f",
   "metadata": {},
   "outputs": [
    {
     "data": {
      "text/plain": [
       "10"
      ]
     },
     "execution_count": 37,
     "metadata": {},
     "output_type": "execute_result"
    }
   ],
   "source": [
    "0 or 10"
   ]
  },
  {
   "cell_type": "code",
   "execution_count": 38,
   "id": "37ef5b4e",
   "metadata": {},
   "outputs": [
    {
     "data": {
      "text/plain": [
       "'Sunny'"
      ]
     },
     "execution_count": 38,
     "metadata": {},
     "output_type": "execute_result"
    }
   ],
   "source": [
    "'Sunny' or 10"
   ]
  },
  {
   "cell_type": "code",
   "execution_count": 39,
   "id": "e664ef44",
   "metadata": {},
   "outputs": [
    {
     "data": {
      "text/plain": [
       "'Indore'"
      ]
     },
     "execution_count": 39,
     "metadata": {},
     "output_type": "execute_result"
    }
   ],
   "source": [
    "'Indore' or 'Bhopal'"
   ]
  },
  {
   "cell_type": "code",
   "execution_count": 40,
   "id": "fdbb2540",
   "metadata": {},
   "outputs": [
    {
     "data": {
      "text/plain": [
       "False"
      ]
     },
     "execution_count": 40,
     "metadata": {},
     "output_type": "execute_result"
    }
   ],
   "source": [
    "not 'Sunny'"
   ]
  },
  {
   "cell_type": "code",
   "execution_count": 41,
   "id": "49965bbc",
   "metadata": {},
   "outputs": [
    {
     "data": {
      "text/plain": [
       "True"
      ]
     },
     "execution_count": 41,
     "metadata": {},
     "output_type": "execute_result"
    }
   ],
   "source": [
    "not ''"
   ]
  },
  {
   "cell_type": "code",
   "execution_count": 42,
   "id": "b7879b45",
   "metadata": {},
   "outputs": [
    {
     "data": {
      "text/plain": [
       "True"
      ]
     },
     "execution_count": 42,
     "metadata": {},
     "output_type": "execute_result"
    }
   ],
   "source": [
    "not 0"
   ]
  },
  {
   "cell_type": "code",
   "execution_count": 43,
   "id": "fca2d9fa",
   "metadata": {},
   "outputs": [
    {
     "data": {
      "text/plain": [
       "False"
      ]
     },
     "execution_count": 43,
     "metadata": {},
     "output_type": "execute_result"
    }
   ],
   "source": [
    "not 10"
   ]
  },
  {
   "cell_type": "raw",
   "id": "2e78a6ef",
   "metadata": {},
   "source": []
  },
  {
   "cell_type": "markdown",
   "id": "e6cd76e2",
   "metadata": {},
   "source": [
    "#\n",
    "## 4. Assignment Operators "
   ]
  },
  {
   "cell_type": "code",
   "execution_count": 48,
   "id": "bfd66375",
   "metadata": {},
   "outputs": [],
   "source": [
    "a = 10 \n",
    "\n",
    "# a is variable\n",
    "# 10 is data\n",
    "# '=' is assignment operator"
   ]
  },
  {
   "cell_type": "code",
   "execution_count": 51,
   "id": "a6a3b837",
   "metadata": {},
   "outputs": [],
   "source": [
    "x=y=z=10"
   ]
  },
  {
   "cell_type": "code",
   "execution_count": 52,
   "id": "ef72d7ff",
   "metadata": {},
   "outputs": [
    {
     "data": {
      "text/plain": [
       "10"
      ]
     },
     "execution_count": 52,
     "metadata": {},
     "output_type": "execute_result"
    }
   ],
   "source": [
    "x"
   ]
  },
  {
   "cell_type": "code",
   "execution_count": 53,
   "id": "71a461d6",
   "metadata": {},
   "outputs": [
    {
     "data": {
      "text/plain": [
       "10"
      ]
     },
     "execution_count": 53,
     "metadata": {},
     "output_type": "execute_result"
    }
   ],
   "source": [
    "y"
   ]
  },
  {
   "cell_type": "code",
   "execution_count": 54,
   "id": "b5aa1f6e",
   "metadata": {},
   "outputs": [
    {
     "data": {
      "text/plain": [
       "10"
      ]
     },
     "execution_count": 54,
     "metadata": {},
     "output_type": "execute_result"
    }
   ],
   "source": [
    "z"
   ]
  },
  {
   "cell_type": "raw",
   "id": "2d8c7967",
   "metadata": {},
   "source": []
  },
  {
   "cell_type": "code",
   "execution_count": 55,
   "id": "b045977c",
   "metadata": {},
   "outputs": [],
   "source": [
    "x,y,z = 10,20,30"
   ]
  },
  {
   "cell_type": "code",
   "execution_count": 56,
   "id": "724c8b9d",
   "metadata": {},
   "outputs": [
    {
     "data": {
      "text/plain": [
       "10"
      ]
     },
     "execution_count": 56,
     "metadata": {},
     "output_type": "execute_result"
    }
   ],
   "source": [
    "x"
   ]
  },
  {
   "cell_type": "code",
   "execution_count": 57,
   "id": "7e0cfcf9",
   "metadata": {},
   "outputs": [
    {
     "data": {
      "text/plain": [
       "20"
      ]
     },
     "execution_count": 57,
     "metadata": {},
     "output_type": "execute_result"
    }
   ],
   "source": [
    "y"
   ]
  },
  {
   "cell_type": "code",
   "execution_count": 58,
   "id": "4fbb1858",
   "metadata": {},
   "outputs": [
    {
     "data": {
      "text/plain": [
       "30"
      ]
     },
     "execution_count": 58,
     "metadata": {},
     "output_type": "execute_result"
    }
   ],
   "source": [
    "z"
   ]
  },
  {
   "cell_type": "raw",
   "id": "64ebd0fd",
   "metadata": {},
   "source": []
  },
  {
   "cell_type": "markdown",
   "id": "0b939d7a",
   "metadata": {},
   "source": [
    "#### Compound Assignment Operators"
   ]
  },
  {
   "cell_type": "code",
   "execution_count": 55,
   "id": "8ce9d398",
   "metadata": {},
   "outputs": [],
   "source": [
    "x = 50"
   ]
  },
  {
   "cell_type": "code",
   "execution_count": 56,
   "id": "2dcf4f61",
   "metadata": {},
   "outputs": [
    {
     "name": "stdout",
     "output_type": "stream",
     "text": [
      "55\n"
     ]
    }
   ],
   "source": [
    "x+=5  # x=x+5\n",
    "\n",
    "print(x)"
   ]
  },
  {
   "cell_type": "code",
   "execution_count": 57,
   "id": "f1b12741",
   "metadata": {},
   "outputs": [
    {
     "name": "stdout",
     "output_type": "stream",
     "text": [
      "50\n"
     ]
    }
   ],
   "source": [
    "x-=5\n",
    "\n",
    "print(x)"
   ]
  },
  {
   "cell_type": "code",
   "execution_count": 58,
   "id": "6573cba0",
   "metadata": {},
   "outputs": [
    {
     "name": "stdout",
     "output_type": "stream",
     "text": [
      "250\n"
     ]
    }
   ],
   "source": [
    "x*=5\n",
    "\n",
    "print(x)"
   ]
  },
  {
   "cell_type": "code",
   "execution_count": 59,
   "id": "4c3efffb",
   "metadata": {},
   "outputs": [
    {
     "name": "stdout",
     "output_type": "stream",
     "text": [
      "50.0\n"
     ]
    }
   ],
   "source": [
    "x/=5\n",
    "\n",
    "print(x)"
   ]
  },
  {
   "cell_type": "code",
   "execution_count": 63,
   "id": "7ece8185",
   "metadata": {},
   "outputs": [
    {
     "name": "stdout",
     "output_type": "stream",
     "text": [
      "243\n"
     ]
    }
   ],
   "source": [
    "x = 3\n",
    "x**=5\n",
    "\n",
    "print(x)"
   ]
  },
  {
   "cell_type": "code",
   "execution_count": 64,
   "id": "8c5263f1",
   "metadata": {},
   "outputs": [
    {
     "name": "stdout",
     "output_type": "stream",
     "text": [
      "3\n"
     ]
    }
   ],
   "source": [
    "x%=5\n",
    "\n",
    "print(x)"
   ]
  },
  {
   "cell_type": "raw",
   "id": "c6a8a8bf",
   "metadata": {},
   "source": []
  },
  {
   "cell_type": "markdown",
   "id": "1b2c4617",
   "metadata": {},
   "source": [
    "#\n",
    "## 5. Identity operators"
   ]
  },
  {
   "cell_type": "code",
   "execution_count": 68,
   "id": "48febbbb",
   "metadata": {},
   "outputs": [
    {
     "name": "stdout",
     "output_type": "stream",
     "text": [
      "False\n"
     ]
    }
   ],
   "source": [
    "a = 2\n",
    "b = 3\n",
    "\n",
    "c = a is b\n",
    "\n",
    "print(c)"
   ]
  },
  {
   "cell_type": "code",
   "execution_count": 69,
   "id": "5c8c2d9b",
   "metadata": {},
   "outputs": [
    {
     "name": "stdout",
     "output_type": "stream",
     "text": [
      "True\n"
     ]
    }
   ],
   "source": [
    "a = 2\n",
    "b = 2\n",
    "\n",
    "c = a is b\n",
    "\n",
    "print(c)"
   ]
  },
  {
   "cell_type": "code",
   "execution_count": 70,
   "id": "7a50847b",
   "metadata": {},
   "outputs": [
    {
     "name": "stdout",
     "output_type": "stream",
     "text": [
      "True\n"
     ]
    }
   ],
   "source": [
    "a = 2\n",
    "\n",
    "b = type(a) is int\n",
    "\n",
    "print(b)"
   ]
  },
  {
   "cell_type": "code",
   "execution_count": 71,
   "id": "5f48f77f",
   "metadata": {},
   "outputs": [
    {
     "name": "stdout",
     "output_type": "stream",
     "text": [
      "False\n"
     ]
    }
   ],
   "source": [
    "a = 2\n",
    "\n",
    "b = type(a) is float\n",
    "\n",
    "print(b)"
   ]
  },
  {
   "cell_type": "code",
   "execution_count": 72,
   "id": "af008224",
   "metadata": {},
   "outputs": [
    {
     "name": "stdout",
     "output_type": "stream",
     "text": [
      "False\n"
     ]
    }
   ],
   "source": [
    "a = \"Delhi\"\n",
    "\n",
    "b = \"Delhi\"\n",
    "\n",
    "c = a is not b\n",
    "\n",
    "print(c)"
   ]
  },
  {
   "cell_type": "code",
   "execution_count": 73,
   "id": "d2fe822c",
   "metadata": {},
   "outputs": [
    {
     "name": "stdout",
     "output_type": "stream",
     "text": [
      "True\n"
     ]
    }
   ],
   "source": [
    "a = \"Delhi\"\n",
    "\n",
    "b = \"delhi\"\n",
    "\n",
    "c = a is not b\n",
    "\n",
    "print(c)"
   ]
  },
  {
   "cell_type": "raw",
   "id": "2f999df4",
   "metadata": {},
   "source": []
  },
  {
   "cell_type": "code",
   "execution_count": 1,
   "id": "e46c0a4a",
   "metadata": {},
   "outputs": [],
   "source": [
    "X = 5\n",
    "Y = 5"
   ]
  },
  {
   "cell_type": "code",
   "execution_count": 2,
   "id": "cd518cbd",
   "metadata": {},
   "outputs": [
    {
     "data": {
      "text/plain": [
       "True"
      ]
     },
     "execution_count": 2,
     "metadata": {},
     "output_type": "execute_result"
    }
   ],
   "source": [
    "X is Y"
   ]
  },
  {
   "cell_type": "code",
   "execution_count": 3,
   "id": "5f5d865f",
   "metadata": {},
   "outputs": [
    {
     "data": {
      "text/plain": [
       "140719744324520"
      ]
     },
     "execution_count": 3,
     "metadata": {},
     "output_type": "execute_result"
    }
   ],
   "source": [
    "id(X)"
   ]
  },
  {
   "cell_type": "code",
   "execution_count": 4,
   "id": "9f4acfa9",
   "metadata": {},
   "outputs": [
    {
     "data": {
      "text/plain": [
       "140719744324520"
      ]
     },
     "execution_count": 4,
     "metadata": {},
     "output_type": "execute_result"
    }
   ],
   "source": [
    "id(Y)"
   ]
  },
  {
   "cell_type": "raw",
   "id": "a9db82df",
   "metadata": {},
   "source": []
  },
  {
   "cell_type": "code",
   "execution_count": 11,
   "id": "fadcd9e8",
   "metadata": {},
   "outputs": [],
   "source": [
    "a = 10\n",
    "b = 20"
   ]
  },
  {
   "cell_type": "code",
   "execution_count": 12,
   "id": "9e560417",
   "metadata": {},
   "outputs": [
    {
     "data": {
      "text/plain": [
       "False"
      ]
     },
     "execution_count": 12,
     "metadata": {},
     "output_type": "execute_result"
    }
   ],
   "source": [
    "a is b"
   ]
  },
  {
   "cell_type": "code",
   "execution_count": 13,
   "id": "c028092e",
   "metadata": {},
   "outputs": [
    {
     "data": {
      "text/plain": [
       "True"
      ]
     },
     "execution_count": 13,
     "metadata": {},
     "output_type": "execute_result"
    }
   ],
   "source": [
    "a is not b"
   ]
  },
  {
   "cell_type": "code",
   "execution_count": 14,
   "id": "baf939e9",
   "metadata": {},
   "outputs": [
    {
     "data": {
      "text/plain": [
       "140719744324680"
      ]
     },
     "execution_count": 14,
     "metadata": {},
     "output_type": "execute_result"
    }
   ],
   "source": [
    "id(a)"
   ]
  },
  {
   "cell_type": "code",
   "execution_count": 15,
   "id": "3ec98dc5",
   "metadata": {},
   "outputs": [
    {
     "data": {
      "text/plain": [
       "140719744325000"
      ]
     },
     "execution_count": 15,
     "metadata": {},
     "output_type": "execute_result"
    }
   ],
   "source": [
    "id(b)"
   ]
  },
  {
   "cell_type": "raw",
   "id": "e78b6c25",
   "metadata": {},
   "source": []
  },
  {
   "cell_type": "code",
   "execution_count": 7,
   "id": "e1a20334",
   "metadata": {},
   "outputs": [],
   "source": [
    "X = 5.9\n",
    "y = 5.9"
   ]
  },
  {
   "cell_type": "code",
   "execution_count": 8,
   "id": "23e8dbf0",
   "metadata": {},
   "outputs": [
    {
     "data": {
      "text/plain": [
       "False"
      ]
     },
     "execution_count": 8,
     "metadata": {},
     "output_type": "execute_result"
    }
   ],
   "source": [
    "X is Y"
   ]
  },
  {
   "cell_type": "code",
   "execution_count": 9,
   "id": "8931bb26",
   "metadata": {},
   "outputs": [
    {
     "data": {
      "text/plain": [
       "1674824828176"
      ]
     },
     "execution_count": 9,
     "metadata": {},
     "output_type": "execute_result"
    }
   ],
   "source": [
    "id(X)"
   ]
  },
  {
   "cell_type": "code",
   "execution_count": 10,
   "id": "3dee5e59",
   "metadata": {},
   "outputs": [
    {
     "data": {
      "text/plain": [
       "1674824833232"
      ]
     },
     "execution_count": 10,
     "metadata": {},
     "output_type": "execute_result"
    }
   ],
   "source": [
    "id(y)"
   ]
  },
  {
   "cell_type": "raw",
   "id": "e9ff6a05",
   "metadata": {},
   "source": []
  },
  {
   "cell_type": "markdown",
   "id": "1d72e4eb",
   "metadata": {},
   "source": [
    "#\n",
    "## 6. Membership operators"
   ]
  },
  {
   "cell_type": "code",
   "execution_count": 74,
   "id": "dc1cf64a",
   "metadata": {},
   "outputs": [
    {
     "name": "stdout",
     "output_type": "stream",
     "text": [
      "True\n"
     ]
    }
   ],
   "source": [
    "a = \"Welcome\"\n",
    "b = \"om\"\n",
    "\n",
    "print(b in a)"
   ]
  },
  {
   "cell_type": "code",
   "execution_count": 75,
   "id": "412b54a3",
   "metadata": {},
   "outputs": [
    {
     "name": "stdout",
     "output_type": "stream",
     "text": [
      "False\n"
     ]
    }
   ],
   "source": [
    "a = \"Welcome\"\n",
    "\n",
    "b = \"mom\"\n",
    "\n",
    "print(b in a)\n"
   ]
  },
  {
   "cell_type": "code",
   "execution_count": 76,
   "id": "6a461af0",
   "metadata": {},
   "outputs": [
    {
     "name": "stdout",
     "output_type": "stream",
     "text": [
      "True\n"
     ]
    }
   ],
   "source": [
    "primes = [2, 3, 5, 7, 11]\n",
    "\n",
    "x = 4\n",
    "\n",
    "print(x not in primes)"
   ]
  },
  {
   "cell_type": "code",
   "execution_count": 77,
   "id": "b6598db9",
   "metadata": {},
   "outputs": [
    {
     "name": "stdout",
     "output_type": "stream",
     "text": [
      "False\n"
     ]
    }
   ],
   "source": [
    "primes = [2, 3, 5, 7, 11]\n",
    "\n",
    "x = 5\n",
    "\n",
    "print(x not in primes)"
   ]
  },
  {
   "cell_type": "raw",
   "id": "765e00b8",
   "metadata": {},
   "source": []
  }
 ],
 "metadata": {
  "kernelspec": {
   "display_name": "Python 3 (ipykernel)",
   "language": "python",
   "name": "python3"
  },
  "language_info": {
   "codemirror_mode": {
    "name": "ipython",
    "version": 3
   },
   "file_extension": ".py",
   "mimetype": "text/x-python",
   "name": "python",
   "nbconvert_exporter": "python",
   "pygments_lexer": "ipython3",
   "version": "3.11.5"
  }
 },
 "nbformat": 4,
 "nbformat_minor": 5
}
