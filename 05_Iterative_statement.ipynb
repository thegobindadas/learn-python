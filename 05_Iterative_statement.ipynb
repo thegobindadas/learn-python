{
 "cells": [
  {
   "cell_type": "markdown",
   "id": "b4741283",
   "metadata": {},
   "source": [
    "# Iterative statement\n",
    "1. while loop\n",
    "2. for loop\n",
    "3. range()"
   ]
  },
  {
   "cell_type": "raw",
   "id": "8395cbef",
   "metadata": {},
   "source": []
  },
  {
   "cell_type": "markdown",
   "id": "8279249f",
   "metadata": {},
   "source": [
    "## 1. while loop"
   ]
  },
  {
   "cell_type": "code",
   "execution_count": 2,
   "id": "b5a80196",
   "metadata": {},
   "outputs": [
    {
     "name": "stdout",
     "output_type": "stream",
     "text": [
      "1 gobinda\n",
      "2 gobinda\n",
      "3 gobinda\n",
      "4 gobinda\n",
      "5 gobinda\n",
      "6 gobinda\n",
      "7 gobinda\n",
      "8 gobinda\n",
      "9 gobinda\n",
      "10 gobinda\n",
      "=>loop end\n"
     ]
    }
   ],
   "source": [
    "x = 1\n",
    "\n",
    "while x <= 10:\n",
    "    print(x, \"gobinda\")\n",
    "    x+=1\n",
    "print(\"=>loop end\")"
   ]
  },
  {
   "cell_type": "raw",
   "id": "83c2080f",
   "metadata": {},
   "source": []
  },
  {
   "cell_type": "markdown",
   "id": "174a635f",
   "metadata": {},
   "source": [
    "# "
   ]
  },
  {
   "cell_type": "markdown",
   "id": "a3b3d605",
   "metadata": {},
   "source": [
    "#### Q. print 30 natural numbers with while loop"
   ]
  },
  {
   "cell_type": "code",
   "execution_count": 3,
   "id": "40e28767",
   "metadata": {},
   "outputs": [
    {
     "name": "stdout",
     "output_type": "stream",
     "text": [
      "1\n",
      "2\n",
      "3\n",
      "4\n",
      "5\n",
      "6\n",
      "7\n",
      "8\n",
      "9\n",
      "10\n",
      "11\n",
      "12\n",
      "13\n",
      "14\n",
      "15\n",
      "16\n",
      "17\n",
      "18\n",
      "19\n",
      "20\n",
      "21\n",
      "22\n",
      "23\n",
      "24\n",
      "25\n",
      "26\n",
      "27\n",
      "28\n",
      "29\n",
      "30\n"
     ]
    }
   ],
   "source": [
    "x = 1\n",
    "\n",
    "while x <= 30:\n",
    "    print(x)\n",
    "    x+=1"
   ]
  },
  {
   "cell_type": "raw",
   "id": "fefe21b1",
   "metadata": {},
   "source": []
  },
  {
   "cell_type": "markdown",
   "id": "0fa869a2",
   "metadata": {},
   "source": [
    "#### Q. Write a program to accept # a string from the user and display it vertically but don’t display the vowels in it. "
   ]
  },
  {
   "cell_type": "code",
   "execution_count": 4,
   "id": "e05020de",
   "metadata": {},
   "outputs": [
    {
     "name": "stdout",
     "output_type": "stream",
     "text": [
      "Enter your name: gobinda\n",
      "g\n",
      "b\n",
      "n\n",
      "d\n"
     ]
    }
   ],
   "source": [
    "name = input(\"Enter your name: \")\n",
    "\n",
    "length = len(name)\n",
    "\n",
    "i = 0\n",
    "while i < length:\n",
    "    if name[i] not in 'aeiou':\n",
    "        print(name[i])\n",
    "    i+=1"
   ]
  },
  {
   "cell_type": "code",
   "execution_count": 5,
   "id": "184189d1",
   "metadata": {},
   "outputs": [
    {
     "name": "stdout",
     "output_type": "stream",
     "text": [
      "Enter your name: akash\n",
      "k\n",
      "s\n",
      "h\n"
     ]
    }
   ],
   "source": [
    "name = input(\"Enter your name: \")\n",
    "\n",
    "a = 0\n",
    "while(a<len(name)):\n",
    "    if name[a]!='a' and name[a]!='e' and name[a]!='i' and name[a]!='0' and name[a]!='u':\n",
    "        print(name[a])\n",
    "    a+=1"
   ]
  },
  {
   "cell_type": "code",
   "execution_count": 6,
   "id": "6a72b393",
   "metadata": {},
   "outputs": [
    {
     "name": "stdout",
     "output_type": "stream",
     "text": [
      "Enter your name: rahul\n",
      "r\n",
      "h\n",
      "l\n"
     ]
    }
   ],
   "source": [
    "name = input(\"Enter your name: \")\n",
    "\n",
    "i = 0\n",
    "while(i<len(name)):\n",
    "    if name[i] not in [\"a\", \"e\", \"i\", \"o\", \"u\", 'A', 'E', 'I', 'O', 'U']:\n",
    "        print(name[i])    \n",
    "    i=i+1"
   ]
  },
  {
   "cell_type": "code",
   "execution_count": 7,
   "id": "275ed2ca",
   "metadata": {},
   "outputs": [
    {
     "name": "stdout",
     "output_type": "stream",
     "text": [
      "Enter your name: Aradhya\n",
      "r\n",
      "d\n",
      "h\n",
      "y\n"
     ]
    }
   ],
   "source": [
    "x = ['a', 'e', 'i', 'o', 'u', 'A', 'E', 'I', 'O', 'U']\n",
    "\n",
    "q = []\n",
    "\n",
    "name = input(\"Enter your name: \")\n",
    "\n",
    "for i in name:\n",
    "    if i not in x:\n",
    "        print(i)"
   ]
  },
  {
   "cell_type": "raw",
   "id": "1a25a1ee",
   "metadata": {},
   "source": []
  },
  {
   "cell_type": "markdown",
   "id": "02556706",
   "metadata": {},
   "source": [
    "#\n",
    "## break"
   ]
  },
  {
   "cell_type": "code",
   "execution_count": 1,
   "id": "daeba8b0",
   "metadata": {
    "scrolled": true
   },
   "outputs": [
    {
     "name": "stdout",
     "output_type": "stream",
     "text": [
      "1\n",
      "2\n",
      "3\n",
      "4\n",
      "5\n",
      "6\n",
      "7\n",
      "8\n",
      "9\n",
      "10\n"
     ]
    }
   ],
   "source": [
    "#break\n",
    "x = 1\n",
    "\n",
    "while x <= 20:\n",
    "    print(x)\n",
    "    if x == 10:\n",
    "        break\n",
    "    x+=1"
   ]
  },
  {
   "cell_type": "code",
   "execution_count": 4,
   "id": "5c6635a3",
   "metadata": {
    "scrolled": true
   },
   "outputs": [
    {
     "name": "stdout",
     "output_type": "stream",
     "text": [
      "1\n",
      "2\n",
      "3\n",
      "4\n",
      "5\n",
      "6\n",
      "7\n",
      "8\n",
      "9\n",
      "10\n",
      "end\n"
     ]
    }
   ],
   "source": [
    "x = 1\n",
    "\n",
    "while x <= 10:\n",
    "    print(x)\n",
    "    x+=1\n",
    "else:\n",
    "    print(\"end\")"
   ]
  },
  {
   "cell_type": "code",
   "execution_count": 3,
   "id": "60e6479a",
   "metadata": {},
   "outputs": [
    {
     "name": "stdout",
     "output_type": "stream",
     "text": [
      "1\n",
      "2\n",
      "3\n",
      "4\n"
     ]
    }
   ],
   "source": [
    "x = 1\n",
    "\n",
    "while x <= 10:\n",
    "    if x == 5:\n",
    "        break\n",
    "    print(x)\n",
    "    x+=1\n",
    "else:\n",
    "    print(\"end\")"
   ]
  },
  {
   "cell_type": "raw",
   "id": "3acbd1eb",
   "metadata": {},
   "source": []
  },
  {
   "cell_type": "markdown",
   "id": "8a95d216",
   "metadata": {},
   "source": [
    "#\n",
    "## continue"
   ]
  },
  {
   "cell_type": "code",
   "execution_count": 3,
   "id": "4f20a3a6",
   "metadata": {},
   "outputs": [
    {
     "name": "stdout",
     "output_type": "stream",
     "text": [
      "1\n",
      "3\n",
      "5\n",
      "7\n",
      "9\n"
     ]
    }
   ],
   "source": [
    "#continue\n",
    "\n",
    "num  = 0\n",
    "\n",
    "while num < 10:\n",
    "    num+=1\n",
    "    if(num % 2) == 0:\n",
    "        continue\n",
    "    print(num)"
   ]
  },
  {
   "cell_type": "code",
   "execution_count": 7,
   "id": "760ee522",
   "metadata": {},
   "outputs": [
    {
     "name": "stdout",
     "output_type": "stream",
     "text": [
      "1\n",
      "2\n",
      "4\n",
      "5\n",
      "6\n",
      "7\n",
      "8\n",
      "9\n",
      "10\n"
     ]
    }
   ],
   "source": [
    "num  = 0\n",
    "\n",
    "while num < 10:\n",
    "    num+=1\n",
    "    if num == 3:\n",
    "        continue\n",
    "    print(num)"
   ]
  },
  {
   "cell_type": "raw",
   "id": "8004ef7e",
   "metadata": {},
   "source": []
  },
  {
   "cell_type": "markdown",
   "id": "e1982815",
   "metadata": {},
   "source": [
    "## pass"
   ]
  },
  {
   "cell_type": "code",
   "execution_count": 8,
   "id": "dc634de6",
   "metadata": {},
   "outputs": [
    {
     "name": "stdout",
     "output_type": "stream",
     "text": [
      "1\n",
      "2\n",
      "3\n",
      "4\n",
      "5\n",
      "6\n",
      "7\n",
      "8\n",
      "9\n",
      "10\n"
     ]
    }
   ],
   "source": [
    "num  = 0\n",
    "\n",
    "while num < 10:\n",
    "    num+=1\n",
    "    if num == 3:\n",
    "        pass\n",
    "    print(num)"
   ]
  },
  {
   "cell_type": "code",
   "execution_count": 5,
   "id": "8866d5b0",
   "metadata": {},
   "outputs": [],
   "source": [
    "# pass\n",
    "\n",
    "i = 0\n",
    "\n",
    "if i<10:\n",
    "    pass"
   ]
  },
  {
   "cell_type": "code",
   "execution_count": 9,
   "id": "4f66b3e6",
   "metadata": {},
   "outputs": [
    {
     "name": "stdout",
     "output_type": "stream",
     "text": [
      "2\n",
      "4\n",
      "6\n",
      "8\n",
      "10\n"
     ]
    }
   ],
   "source": [
    "num  = 0\n",
    "\n",
    "while num < 10:\n",
    "    num+=1\n",
    "    if(num % 2) != 0:\n",
    "        pass\n",
    "    else:\n",
    "        print(num)"
   ]
  },
  {
   "cell_type": "raw",
   "id": "fba7a5cd",
   "metadata": {},
   "source": []
  },
  {
   "cell_type": "markdown",
   "id": "38afc856",
   "metadata": {},
   "source": [
    "#\n",
    "## 2. For loop"
   ]
  },
  {
   "cell_type": "code",
   "execution_count": 1,
   "id": "161ba152",
   "metadata": {},
   "outputs": [],
   "source": [
    "str = \"gobinda\""
   ]
  },
  {
   "cell_type": "code",
   "execution_count": 2,
   "id": "d44d7fde",
   "metadata": {},
   "outputs": [
    {
     "name": "stdout",
     "output_type": "stream",
     "text": [
      "g\n",
      "o\n",
      "b\n",
      "i\n",
      "n\n",
      "d\n",
      "a\n"
     ]
    }
   ],
   "source": [
    "for i in str:\n",
    "    print(i)"
   ]
  },
  {
   "cell_type": "raw",
   "id": "e28508af",
   "metadata": {},
   "source": []
  },
  {
   "cell_type": "code",
   "execution_count": 2,
   "id": "1d231e30",
   "metadata": {},
   "outputs": [
    {
     "name": "stdout",
     "output_type": "stream",
     "text": [
      "1\n",
      "2\n",
      "3\n",
      "a\n"
     ]
    }
   ],
   "source": [
    "x = [1, 2, 3, 'a']\n",
    "\n",
    "for i in x:\n",
    "    print(i)"
   ]
  },
  {
   "cell_type": "code",
   "execution_count": 4,
   "id": "26717eb9",
   "metadata": {},
   "outputs": [
    {
     "name": "stdout",
     "output_type": "stream",
     "text": [
      "Grapes found in the fruits list\n"
     ]
    }
   ],
   "source": [
    "fruits = [\"apple\", \"orange\", \"mange\", \"papaya\", \"grapes\"]\n",
    "is_grapes = False\n",
    "\n",
    "\n",
    "for i in fruits:\n",
    "    if i == \"grapes\":\n",
    "        is_grapes = True\n",
    "        print(\"Grapes found in the fruits list\")\n",
    "        break\n",
    "\n",
    "if is_grapes == False:\n",
    "    print(\"No grapes found in the list\")"
   ]
  },
  {
   "cell_type": "raw",
   "id": "1b9117cc",
   "metadata": {},
   "source": []
  },
  {
   "cell_type": "markdown",
   "id": "0e2e2aec",
   "metadata": {},
   "source": [
    "#\n",
    "### range()"
   ]
  },
  {
   "cell_type": "raw",
   "id": "a451c980",
   "metadata": {},
   "source": [
    "range() function in python which return range object\n",
    "this function is useful to generate sequence of number in form of list"
   ]
  },
  {
   "cell_type": "code",
   "execution_count": 7,
   "id": "0cb8ab12",
   "metadata": {},
   "outputs": [],
   "source": [
    "range (start, stop, step)\n",
    "\n",
    "\n",
    "# range(20) --> start=0 & stop=20\n",
    "# range(1, 20) --> start=1 & stop=20\n",
    "# range(1, 20, 2) --> start=1, stop=20 & step=2"
   ]
  },
  {
   "cell_type": "code",
   "execution_count": 14,
   "id": "fc787239",
   "metadata": {},
   "outputs": [],
   "source": [
    "a = range(10)"
   ]
  },
  {
   "cell_type": "code",
   "execution_count": 15,
   "id": "72b37023",
   "metadata": {},
   "outputs": [
    {
     "name": "stdout",
     "output_type": "stream",
     "text": [
      "range(0, 10)\n"
     ]
    }
   ],
   "source": [
    "print(a)"
   ]
  },
  {
   "cell_type": "code",
   "execution_count": 16,
   "id": "2949975f",
   "metadata": {},
   "outputs": [
    {
     "data": {
      "text/plain": [
       "[0, 1, 2, 3, 4, 5, 6, 7, 8, 9]"
      ]
     },
     "execution_count": 16,
     "metadata": {},
     "output_type": "execute_result"
    }
   ],
   "source": [
    "list(a)"
   ]
  },
  {
   "cell_type": "code",
   "execution_count": 18,
   "id": "e7f234d0",
   "metadata": {},
   "outputs": [
    {
     "name": "stdout",
     "output_type": "stream",
     "text": [
      "0\n",
      "1\n",
      "2\n",
      "3\n",
      "4\n",
      "5\n",
      "6\n",
      "7\n",
      "8\n",
      "9\n"
     ]
    }
   ],
   "source": [
    "for i in a:\n",
    "    print(i)"
   ]
  },
  {
   "cell_type": "code",
   "execution_count": 19,
   "id": "03b8d729",
   "metadata": {},
   "outputs": [],
   "source": [
    "x = range(1, 10)"
   ]
  },
  {
   "cell_type": "code",
   "execution_count": 20,
   "id": "46699205",
   "metadata": {},
   "outputs": [
    {
     "name": "stdout",
     "output_type": "stream",
     "text": [
      "1\n",
      "2\n",
      "3\n",
      "4\n",
      "5\n",
      "6\n",
      "7\n",
      "8\n",
      "9\n"
     ]
    }
   ],
   "source": [
    "for i in x:\n",
    "    print(i)"
   ]
  },
  {
   "cell_type": "code",
   "execution_count": 21,
   "id": "27587abf",
   "metadata": {},
   "outputs": [],
   "source": [
    "y = range(1, 10, 2)"
   ]
  },
  {
   "cell_type": "code",
   "execution_count": 22,
   "id": "9b2c80fa",
   "metadata": {},
   "outputs": [
    {
     "name": "stdout",
     "output_type": "stream",
     "text": [
      "1\n",
      "3\n",
      "5\n",
      "7\n",
      "9\n"
     ]
    }
   ],
   "source": [
    "for i in y:\n",
    "    print(i)"
   ]
  },
  {
   "cell_type": "code",
   "execution_count": 23,
   "id": "31a20d10",
   "metadata": {},
   "outputs": [],
   "source": [
    "a = range(10, 1)"
   ]
  },
  {
   "cell_type": "code",
   "execution_count": 24,
   "id": "0b94be39",
   "metadata": {},
   "outputs": [
    {
     "data": {
      "text/plain": [
       "[]"
      ]
     },
     "execution_count": 24,
     "metadata": {},
     "output_type": "execute_result"
    }
   ],
   "source": [
    "list(a)"
   ]
  },
  {
   "cell_type": "code",
   "execution_count": 25,
   "id": "7f119405",
   "metadata": {},
   "outputs": [],
   "source": [
    "a = range(-10, 3)"
   ]
  },
  {
   "cell_type": "code",
   "execution_count": 26,
   "id": "c9482a7b",
   "metadata": {},
   "outputs": [
    {
     "data": {
      "text/plain": [
       "[-10, -9, -8, -7, -6, -5, -4, -3, -2, -1, 0, 1, 2]"
      ]
     },
     "execution_count": 26,
     "metadata": {},
     "output_type": "execute_result"
    }
   ],
   "source": [
    "list(a)"
   ]
  },
  {
   "cell_type": "code",
   "execution_count": 27,
   "id": "e43cd6f1",
   "metadata": {},
   "outputs": [],
   "source": [
    "a = range(7, 1, -1)"
   ]
  },
  {
   "cell_type": "code",
   "execution_count": 28,
   "id": "4b46712e",
   "metadata": {},
   "outputs": [
    {
     "data": {
      "text/plain": [
       "[7, 6, 5, 4, 3, 2]"
      ]
     },
     "execution_count": 28,
     "metadata": {},
     "output_type": "execute_result"
    }
   ],
   "source": [
    "list(a)"
   ]
  },
  {
   "cell_type": "code",
   "execution_count": 31,
   "id": "3b1b1763",
   "metadata": {},
   "outputs": [
    {
     "name": "stdout",
     "output_type": "stream",
     "text": [
      "1\n",
      "a\n",
      "b\n",
      "c\n",
      "2\n",
      "a\n",
      "b\n",
      "c\n",
      "3\n",
      "a\n",
      "b\n",
      "c\n"
     ]
    }
   ],
   "source": [
    "numbers = [1, 2, 3]\n",
    "alpha = ['a', 'b', 'c']\n",
    "\n",
    "for n in numbers:\n",
    "    print(n)\n",
    "    for ch in alpha:\n",
    "        print(ch)"
   ]
  },
  {
   "cell_type": "code",
   "execution_count": null,
   "id": "1d91c22c",
   "metadata": {},
   "outputs": [],
   "source": []
  },
  {
   "cell_type": "code",
   "execution_count": 35,
   "id": "eadd325d",
   "metadata": {},
   "outputs": [
    {
     "name": "stdout",
     "output_type": "stream",
     "text": [
      "* * * \n",
      "* * * \n",
      "* * * \n"
     ]
    }
   ],
   "source": [
    "for i in range(3):\n",
    "    for j in range(3):\n",
    "        print(\"* \", end=\"\")\n",
    "    print()"
   ]
  },
  {
   "cell_type": "code",
   "execution_count": 38,
   "id": "641915cd",
   "metadata": {},
   "outputs": [
    {
     "name": "stdout",
     "output_type": "stream",
     "text": [
      "* \n",
      "* * \n",
      "* * * \n",
      "* * * * \n"
     ]
    }
   ],
   "source": [
    "for i in range(1, 5):\n",
    "    for j in range(i):\n",
    "        print(\"*\", end=\" \")\n",
    "    print()"
   ]
  },
  {
   "cell_type": "raw",
   "id": "c55d6f12",
   "metadata": {},
   "source": []
  },
  {
   "cell_type": "markdown",
   "id": "ddcb4de6",
   "metadata": {},
   "source": [
    "# "
   ]
  },
  {
   "cell_type": "markdown",
   "id": "570ac8eb",
   "metadata": {},
   "source": [
    "#### Q. write a program to accept an integer from user and display all number from 1 to that number. Repeat the process until the user enter 0."
   ]
  },
  {
   "cell_type": "code",
   "execution_count": 44,
   "id": "2965c022",
   "metadata": {},
   "outputs": [
    {
     "name": "stdout",
     "output_type": "stream",
     "text": [
      "Enter the number5\n",
      "1\n",
      "2\n",
      "3\n",
      "4\n",
      "5\n",
      "Enter the number4\n",
      "1\n",
      "2\n",
      "3\n",
      "4\n",
      "Enter the number3\n",
      "1\n",
      "2\n",
      "3\n",
      "Enter the number0\n"
     ]
    }
   ],
   "source": [
    "while True:\n",
    "    num = int(input(\"Enter the number\"))\n",
    "    if num == 0:\n",
    "        break\n",
    "    else:\n",
    "        for i in range(1, num+1):\n",
    "            print(i)"
   ]
  },
  {
   "cell_type": "code",
   "execution_count": 45,
   "id": "10a8fa1e",
   "metadata": {},
   "outputs": [
    {
     "name": "stdout",
     "output_type": "stream",
     "text": [
      "Enter the number5\n",
      "1\n",
      "2\n",
      "3\n",
      "4\n",
      "5\n",
      "Enter the number6\n",
      "1\n",
      "2\n",
      "3\n",
      "4\n",
      "5\n",
      "6\n",
      "Enter the number3\n",
      "1\n",
      "2\n",
      "3\n",
      "Enter the number0\n"
     ]
    }
   ],
   "source": [
    "num = int(input(\"Enter the number\"))\n",
    "\n",
    "while num:\n",
    "    for i in range(1, num+1):\n",
    "        print(i)\n",
    "    num = int(input(\"Enter the number\"))"
   ]
  },
  {
   "cell_type": "raw",
   "id": "7f39cf13",
   "metadata": {},
   "source": []
  }
 ],
 "metadata": {
  "kernelspec": {
   "display_name": "Python 3 (ipykernel)",
   "language": "python",
   "name": "python3"
  },
  "language_info": {
   "codemirror_mode": {
    "name": "ipython",
    "version": 3
   },
   "file_extension": ".py",
   "mimetype": "text/x-python",
   "name": "python",
   "nbconvert_exporter": "python",
   "pygments_lexer": "ipython3",
   "version": "3.11.5"
  }
 },
 "nbformat": 4,
 "nbformat_minor": 5
}
