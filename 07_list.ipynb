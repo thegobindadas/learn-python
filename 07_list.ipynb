{
 "cells": [
  {
   "cell_type": "markdown",
   "id": "94c31dc0",
   "metadata": {},
   "source": [
    "# List"
   ]
  },
  {
   "cell_type": "raw",
   "id": "acf5aa58",
   "metadata": {},
   "source": [
    "i) we represent the list with squre [] bracket.\n",
    "ii) List is mutable (after defining list we can change in list).\n",
    "iii) List is slow (take more time & take more memory)."
   ]
  },
  {
   "cell_type": "raw",
   "id": "4328530e",
   "metadata": {},
   "source": []
  },
  {
   "cell_type": "code",
   "execution_count": 2,
   "id": "e9e67c0b",
   "metadata": {},
   "outputs": [],
   "source": [
    "# empty list\n",
    "mylist = []"
   ]
  },
  {
   "cell_type": "code",
   "execution_count": 3,
   "id": "b395c178",
   "metadata": {},
   "outputs": [
    {
     "data": {
      "text/plain": [
       "[]"
      ]
     },
     "execution_count": 3,
     "metadata": {},
     "output_type": "execute_result"
    }
   ],
   "source": [
    "mylist"
   ]
  },
  {
   "cell_type": "code",
   "execution_count": 4,
   "id": "f6562a6b",
   "metadata": {},
   "outputs": [],
   "source": [
    "# list of integers\n",
    "mylist = [1, 2, 3, 4, 5]"
   ]
  },
  {
   "cell_type": "code",
   "execution_count": 5,
   "id": "577576ac",
   "metadata": {},
   "outputs": [
    {
     "data": {
      "text/plain": [
       "[1, 2, 3, 4, 5]"
      ]
     },
     "execution_count": 5,
     "metadata": {},
     "output_type": "execute_result"
    }
   ],
   "source": [
    "mylist"
   ]
  },
  {
   "cell_type": "code",
   "execution_count": 6,
   "id": "5bc3eedb",
   "metadata": {},
   "outputs": [],
   "source": [
    "# list with different data types\n",
    "mylist = [1, \"hello\", 2.5, 'i']"
   ]
  },
  {
   "cell_type": "code",
   "execution_count": 7,
   "id": "e3c6b9e3",
   "metadata": {},
   "outputs": [
    {
     "data": {
      "text/plain": [
       "[1, 'hello', 2.5, 'i']"
      ]
     },
     "execution_count": 7,
     "metadata": {},
     "output_type": "execute_result"
    }
   ],
   "source": [
    "mylist"
   ]
  },
  {
   "cell_type": "raw",
   "id": "f50a4301",
   "metadata": {},
   "source": []
  },
  {
   "cell_type": "code",
   "execution_count": 8,
   "id": "36d8fbfd",
   "metadata": {},
   "outputs": [
    {
     "data": {
      "text/plain": [
       "['g', 'o', 'b', 'i', 'n', 'd', 'a']"
      ]
     },
     "execution_count": 8,
     "metadata": {},
     "output_type": "execute_result"
    }
   ],
   "source": [
    "list(\"gobinda\")"
   ]
  },
  {
   "cell_type": "code",
   "execution_count": 9,
   "id": "4cc9e8b0",
   "metadata": {},
   "outputs": [
    {
     "data": {
      "text/plain": [
       "[10, 20, 30]"
      ]
     },
     "execution_count": 9,
     "metadata": {},
     "output_type": "execute_result"
    }
   ],
   "source": [
    "list((10, 20, 30))"
   ]
  },
  {
   "cell_type": "code",
   "execution_count": 10,
   "id": "5015a5f0",
   "metadata": {},
   "outputs": [
    {
     "data": {
      "text/plain": [
       "[10, 20, 30]"
      ]
     },
     "execution_count": 10,
     "metadata": {},
     "output_type": "execute_result"
    }
   ],
   "source": [
    "list([10, 20, 30])"
   ]
  },
  {
   "cell_type": "markdown",
   "id": "455db91a",
   "metadata": {},
   "source": [
    "#\n",
    "\n",
    "### concept of packing and unpacking"
   ]
  },
  {
   "cell_type": "code",
   "execution_count": 6,
   "id": "ef0f7109",
   "metadata": {},
   "outputs": [],
   "source": [
    "a = [1, 2, 3, 4, 5]"
   ]
  },
  {
   "cell_type": "code",
   "execution_count": 7,
   "id": "21b17dc4",
   "metadata": {},
   "outputs": [],
   "source": [
    "x,y,z,e,f = a"
   ]
  },
  {
   "cell_type": "code",
   "execution_count": 8,
   "id": "56c6b497",
   "metadata": {},
   "outputs": [
    {
     "data": {
      "text/plain": [
       "1"
      ]
     },
     "execution_count": 8,
     "metadata": {},
     "output_type": "execute_result"
    }
   ],
   "source": [
    "x"
   ]
  },
  {
   "cell_type": "code",
   "execution_count": 9,
   "id": "3ea1b702",
   "metadata": {},
   "outputs": [
    {
     "data": {
      "text/plain": [
       "2"
      ]
     },
     "execution_count": 9,
     "metadata": {},
     "output_type": "execute_result"
    }
   ],
   "source": [
    "y"
   ]
  },
  {
   "cell_type": "code",
   "execution_count": 10,
   "id": "55a190d7",
   "metadata": {},
   "outputs": [
    {
     "data": {
      "text/plain": [
       "3"
      ]
     },
     "execution_count": 10,
     "metadata": {},
     "output_type": "execute_result"
    }
   ],
   "source": [
    "z"
   ]
  },
  {
   "cell_type": "code",
   "execution_count": 11,
   "id": "21d7c4c8",
   "metadata": {},
   "outputs": [
    {
     "data": {
      "text/plain": [
       "4"
      ]
     },
     "execution_count": 11,
     "metadata": {},
     "output_type": "execute_result"
    }
   ],
   "source": [
    "e"
   ]
  },
  {
   "cell_type": "code",
   "execution_count": 12,
   "id": "45bb8cf0",
   "metadata": {},
   "outputs": [
    {
     "data": {
      "text/plain": [
       "5"
      ]
     },
     "execution_count": 12,
     "metadata": {},
     "output_type": "execute_result"
    }
   ],
   "source": [
    "f"
   ]
  },
  {
   "cell_type": "markdown",
   "id": "4ef8a92c",
   "metadata": {},
   "source": [
    "#\n",
    "### Access the element of list"
   ]
  },
  {
   "cell_type": "code",
   "execution_count": 14,
   "id": "19d303ad",
   "metadata": {},
   "outputs": [],
   "source": [
    "mylist = [1, 2, 3, 4, 55, 6, 7, 8, 9, 10]"
   ]
  },
  {
   "cell_type": "code",
   "execution_count": 15,
   "id": "557291ca",
   "metadata": {},
   "outputs": [
    {
     "data": {
      "text/plain": [
       "55"
      ]
     },
     "execution_count": 15,
     "metadata": {},
     "output_type": "execute_result"
    }
   ],
   "source": [
    "mylist[4]"
   ]
  },
  {
   "cell_type": "code",
   "execution_count": 19,
   "id": "0fd506f5",
   "metadata": {},
   "outputs": [
    {
     "data": {
      "text/plain": [
       "10"
      ]
     },
     "execution_count": 19,
     "metadata": {},
     "output_type": "execute_result"
    }
   ],
   "source": [
    "mylist[-1]"
   ]
  },
  {
   "cell_type": "code",
   "execution_count": 20,
   "id": "a7743505",
   "metadata": {},
   "outputs": [
    {
     "data": {
      "text/plain": [
       "8"
      ]
     },
     "execution_count": 20,
     "metadata": {},
     "output_type": "execute_result"
    }
   ],
   "source": [
    "mylist[-3]"
   ]
  },
  {
   "cell_type": "markdown",
   "id": "69a74405",
   "metadata": {},
   "source": [
    "#\n",
    "### Slicing"
   ]
  },
  {
   "cell_type": "code",
   "execution_count": 16,
   "id": "4a1e227c",
   "metadata": {},
   "outputs": [],
   "source": [
    "mylist = [1, 2, 3, 4, 55, 6, 7, 8, 9, 10]"
   ]
  },
  {
   "cell_type": "code",
   "execution_count": 18,
   "id": "7a63818a",
   "metadata": {},
   "outputs": [
    {
     "data": {
      "text/plain": [
       "[3, 4, 55]"
      ]
     },
     "execution_count": 18,
     "metadata": {},
     "output_type": "execute_result"
    }
   ],
   "source": [
    "mylist[2 : 5]"
   ]
  },
  {
   "cell_type": "raw",
   "id": "ed56ebcc",
   "metadata": {},
   "source": [
    " "
   ]
  },
  {
   "cell_type": "code",
   "execution_count": 21,
   "id": "13f68848",
   "metadata": {},
   "outputs": [],
   "source": [
    "mynums = [10, 20, 30, 40, 50]"
   ]
  },
  {
   "cell_type": "code",
   "execution_count": 25,
   "id": "2e58516b",
   "metadata": {},
   "outputs": [
    {
     "data": {
      "text/plain": [
       "[20, 30, 40, 50]"
      ]
     },
     "execution_count": 25,
     "metadata": {},
     "output_type": "execute_result"
    }
   ],
   "source": [
    "mynums[1 : ]"
   ]
  },
  {
   "cell_type": "code",
   "execution_count": 22,
   "id": "7806bce4",
   "metadata": {},
   "outputs": [
    {
     "data": {
      "text/plain": [
       "[20, 30, 40]"
      ]
     },
     "execution_count": 22,
     "metadata": {},
     "output_type": "execute_result"
    }
   ],
   "source": [
    "mynums[1 : 4]"
   ]
  },
  {
   "cell_type": "code",
   "execution_count": 23,
   "id": "31f9ae84",
   "metadata": {},
   "outputs": [
    {
     "data": {
      "text/plain": [
       "[40, 50]"
      ]
     },
     "execution_count": 23,
     "metadata": {},
     "output_type": "execute_result"
    }
   ],
   "source": [
    "mynums[3 : 5]"
   ]
  },
  {
   "cell_type": "code",
   "execution_count": 24,
   "id": "e5e7d2b0",
   "metadata": {},
   "outputs": [
    {
     "data": {
      "text/plain": [
       "[]"
      ]
     },
     "execution_count": 24,
     "metadata": {},
     "output_type": "execute_result"
    }
   ],
   "source": [
    "mynums[2 : 2]"
   ]
  },
  {
   "cell_type": "code",
   "execution_count": 26,
   "id": "a3c80238",
   "metadata": {},
   "outputs": [
    {
     "data": {
      "text/plain": [
       "[10, 20, 30]"
      ]
     },
     "execution_count": 26,
     "metadata": {},
     "output_type": "execute_result"
    }
   ],
   "source": [
    "mynums[ :-2]"
   ]
  },
  {
   "cell_type": "markdown",
   "id": "4eef4abb",
   "metadata": {},
   "source": [
    "#\n",
    "### Modify the existing element"
   ]
  },
  {
   "cell_type": "code",
   "execution_count": 27,
   "id": "3fa71f7d",
   "metadata": {},
   "outputs": [],
   "source": [
    "sports = [\"cricket\", \"hockey\", \"football\"]"
   ]
  },
  {
   "cell_type": "code",
   "execution_count": 28,
   "id": "65611ce7",
   "metadata": {},
   "outputs": [],
   "source": [
    "# use index for single value\n",
    "sports[1] = \"badminton\""
   ]
  },
  {
   "cell_type": "code",
   "execution_count": 29,
   "id": "d2d3399e",
   "metadata": {},
   "outputs": [
    {
     "data": {
      "text/plain": [
       "['cricket', 'badminton', 'football']"
      ]
     },
     "execution_count": 29,
     "metadata": {},
     "output_type": "execute_result"
    }
   ],
   "source": [
    "sports"
   ]
  },
  {
   "cell_type": "code",
   "execution_count": 30,
   "id": "1848b0f7",
   "metadata": {},
   "outputs": [],
   "source": [
    "# slicing operator for multiple value\n",
    "sports[1 : 3] = [\"basketball\", \"tennis\"]"
   ]
  },
  {
   "cell_type": "code",
   "execution_count": 31,
   "id": "fb87d22a",
   "metadata": {},
   "outputs": [
    {
     "data": {
      "text/plain": [
       "['cricket', 'basketball', 'tennis']"
      ]
     },
     "execution_count": 31,
     "metadata": {},
     "output_type": "execute_result"
    }
   ],
   "source": [
    "sports"
   ]
  },
  {
   "cell_type": "raw",
   "id": "b3571c41",
   "metadata": {},
   "source": []
  },
  {
   "cell_type": "code",
   "execution_count": 32,
   "id": "833602be",
   "metadata": {},
   "outputs": [],
   "source": [
    "outdoorGames = [\"cricket\", \"basketball\", \"tennis\"]"
   ]
  },
  {
   "cell_type": "code",
   "execution_count": 36,
   "id": "a71a66c8",
   "metadata": {},
   "outputs": [],
   "source": [
    "indoorGames = [\"caram\", \"ludo\", \"chess\", \"cricket\"]"
   ]
  },
  {
   "cell_type": "code",
   "execution_count": 39,
   "id": "9cd07b3c",
   "metadata": {},
   "outputs": [],
   "source": [
    "# concating the list\n",
    "allGames = outdoorGames + indoorGames"
   ]
  },
  {
   "cell_type": "code",
   "execution_count": 40,
   "id": "62c7db7a",
   "metadata": {},
   "outputs": [
    {
     "data": {
      "text/plain": [
       "['cricket', 'basketball', 'tennis', 'caram', 'ludo', 'chess', 'cricket']"
      ]
     },
     "execution_count": 40,
     "metadata": {},
     "output_type": "execute_result"
    }
   ],
   "source": [
    "allGames"
   ]
  },
  {
   "cell_type": "raw",
   "id": "112197e1",
   "metadata": {},
   "source": []
  },
  {
   "cell_type": "code",
   "execution_count": 50,
   "id": "a967bd78",
   "metadata": {},
   "outputs": [],
   "source": [
    "team1 = [\"gobinda\", \"akash\", \"poulami\"]"
   ]
  },
  {
   "cell_type": "code",
   "execution_count": 51,
   "id": "934b5d5e",
   "metadata": {},
   "outputs": [],
   "source": [
    "team2 = team1 + list([\"sumana\"])"
   ]
  },
  {
   "cell_type": "code",
   "execution_count": 52,
   "id": "ee5f33f3",
   "metadata": {},
   "outputs": [
    {
     "data": {
      "text/plain": [
       "['gobinda', 'akash', 'poulami', 'sumana']"
      ]
     },
     "execution_count": 52,
     "metadata": {},
     "output_type": "execute_result"
    }
   ],
   "source": [
    "team2"
   ]
  },
  {
   "cell_type": "code",
   "execution_count": 53,
   "id": "8d8c2467",
   "metadata": {},
   "outputs": [],
   "source": [
    "team3 = team2 + [\"sutrishna\"]"
   ]
  },
  {
   "cell_type": "code",
   "execution_count": 54,
   "id": "cf9344b7",
   "metadata": {},
   "outputs": [
    {
     "data": {
      "text/plain": [
       "['gobinda', 'akash', 'poulami', 'sumana', 'sutrishna']"
      ]
     },
     "execution_count": 54,
     "metadata": {},
     "output_type": "execute_result"
    }
   ],
   "source": [
    "team3"
   ]
  },
  {
   "cell_type": "raw",
   "id": "0fdae12e",
   "metadata": {},
   "source": []
  },
  {
   "cell_type": "code",
   "execution_count": 55,
   "id": "323ff7c3",
   "metadata": {},
   "outputs": [
    {
     "data": {
      "text/plain": [
       "['gobinda',\n",
       " 'akash',\n",
       " 'poulami',\n",
       " 'sumana',\n",
       " 'sutrishna',\n",
       " 'gobinda',\n",
       " 'akash',\n",
       " 'poulami',\n",
       " 'sumana',\n",
       " 'sutrishna',\n",
       " 'gobinda',\n",
       " 'akash',\n",
       " 'poulami',\n",
       " 'sumana',\n",
       " 'sutrishna']"
      ]
     },
     "execution_count": 55,
     "metadata": {},
     "output_type": "execute_result"
    }
   ],
   "source": [
    "team3*3"
   ]
  },
  {
   "cell_type": "markdown",
   "id": "ab7007d8",
   "metadata": {},
   "source": [
    "#\n",
    "### membership operator"
   ]
  },
  {
   "cell_type": "raw",
   "id": "9f1a35b7",
   "metadata": {},
   "source": [
    "in and not in"
   ]
  },
  {
   "cell_type": "code",
   "execution_count": null,
   "id": "e6f4a3cc",
   "metadata": {},
   "outputs": [],
   "source": [
    "team3 = ['gobinda', 'akash', 'poulami', 'sumana', 'sutrishna']"
   ]
  },
  {
   "cell_type": "code",
   "execution_count": 56,
   "id": "e99090ff",
   "metadata": {},
   "outputs": [
    {
     "data": {
      "text/plain": [
       "True"
      ]
     },
     "execution_count": 56,
     "metadata": {},
     "output_type": "execute_result"
    }
   ],
   "source": [
    "\"poulami\" in team3"
   ]
  },
  {
   "cell_type": "code",
   "execution_count": 57,
   "id": "301bbbd7",
   "metadata": {},
   "outputs": [
    {
     "data": {
      "text/plain": [
       "True"
      ]
     },
     "execution_count": 57,
     "metadata": {},
     "output_type": "execute_result"
    }
   ],
   "source": [
    "\"isita\" not in team3"
   ]
  },
  {
   "cell_type": "code",
   "execution_count": 58,
   "id": "a7e1be67",
   "metadata": {},
   "outputs": [
    {
     "data": {
      "text/plain": [
       "False"
      ]
     },
     "execution_count": 58,
     "metadata": {},
     "output_type": "execute_result"
    }
   ],
   "source": [
    "\"sutrishna\" not in team3"
   ]
  },
  {
   "cell_type": "raw",
   "id": "cc942fc0",
   "metadata": {},
   "source": []
  },
  {
   "cell_type": "markdown",
   "id": "0b8cee3b",
   "metadata": {},
   "source": [
    "#\n",
    "## List function\n",
    "\n",
    "1. len()\n",
    "2. max()\n",
    "3. min()\n",
    "4. sum()\n",
    "5. sorted()\n",
    "6. all()\n",
    "7. any()\n",
    "8. list()"
   ]
  },
  {
   "cell_type": "markdown",
   "id": "0e3682c3",
   "metadata": {},
   "source": [
    "#\n",
    "## List methods\n",
    "\n",
    "1. appned()\n",
    "2. extend()\n",
    "3. insert()\n",
    "4. count()\n",
    "5. index()\n",
    "6. remove()\n",
    "7. pop()\n",
    "8. clear()\n",
    "9. sort\n",
    "10. reversed()"
   ]
  },
  {
   "cell_type": "raw",
   "id": "b4e0e8b1",
   "metadata": {},
   "source": []
  },
  {
   "cell_type": "markdown",
   "id": "ddcc78c8",
   "metadata": {},
   "source": [
    "#\n",
    "## List functions:\n",
    "### 1. len()"
   ]
  },
  {
   "cell_type": "code",
   "execution_count": 63,
   "id": "01ad2153",
   "metadata": {},
   "outputs": [],
   "source": [
    "mylist = [1, 2, 93, 4, 52, 67, 79, 8, 9, 10]"
   ]
  },
  {
   "cell_type": "code",
   "execution_count": 64,
   "id": "4cf80c29",
   "metadata": {},
   "outputs": [
    {
     "data": {
      "text/plain": [
       "10"
      ]
     },
     "execution_count": 64,
     "metadata": {},
     "output_type": "execute_result"
    }
   ],
   "source": [
    "# len() function return length of given list\n",
    "len(mylist)"
   ]
  },
  {
   "cell_type": "markdown",
   "id": "985cb9d2",
   "metadata": {},
   "source": [
    "### 2. max()"
   ]
  },
  {
   "cell_type": "code",
   "execution_count": null,
   "id": "a2121e0c",
   "metadata": {},
   "outputs": [],
   "source": [
    "mylist = [1, 2, 93, 4, 52, 67, 79, 8, 9, 10]"
   ]
  },
  {
   "cell_type": "code",
   "execution_count": 65,
   "id": "12e0b41c",
   "metadata": {},
   "outputs": [
    {
     "data": {
      "text/plain": [
       "93"
      ]
     },
     "execution_count": 65,
     "metadata": {},
     "output_type": "execute_result"
    }
   ],
   "source": [
    "max(mylist)"
   ]
  },
  {
   "cell_type": "markdown",
   "id": "7968eb0c",
   "metadata": {},
   "source": [
    "### 3. min()"
   ]
  },
  {
   "cell_type": "code",
   "execution_count": null,
   "id": "64887ab7",
   "metadata": {},
   "outputs": [],
   "source": [
    "mylist = [1, 2, 93, 4, 52, 67, 79, 8, 9, 10]"
   ]
  },
  {
   "cell_type": "code",
   "execution_count": 66,
   "id": "3684f78b",
   "metadata": {},
   "outputs": [
    {
     "data": {
      "text/plain": [
       "1"
      ]
     },
     "execution_count": 66,
     "metadata": {},
     "output_type": "execute_result"
    }
   ],
   "source": [
    "min(mylist)"
   ]
  },
  {
   "cell_type": "markdown",
   "id": "f35e8b96",
   "metadata": {},
   "source": [
    "### 4. sum()"
   ]
  },
  {
   "cell_type": "code",
   "execution_count": null,
   "id": "927e8b32",
   "metadata": {},
   "outputs": [],
   "source": [
    "mylist = [1, 2, 93, 4, 52, 67, 79, 8, 9, 10]"
   ]
  },
  {
   "cell_type": "code",
   "execution_count": 67,
   "id": "f567bfed",
   "metadata": {},
   "outputs": [
    {
     "data": {
      "text/plain": [
       "325"
      ]
     },
     "execution_count": 67,
     "metadata": {},
     "output_type": "execute_result"
    }
   ],
   "source": [
    "sum(mylist)"
   ]
  },
  {
   "cell_type": "markdown",
   "id": "463746fb",
   "metadata": {},
   "source": [
    "### 5. sorted()"
   ]
  },
  {
   "cell_type": "code",
   "execution_count": null,
   "id": "7d365282",
   "metadata": {},
   "outputs": [],
   "source": [
    "mylist = [1, 2, 93, 4, 52, 67, 79, 8, 9, 10]"
   ]
  },
  {
   "cell_type": "code",
   "execution_count": 68,
   "id": "b3de7b66",
   "metadata": {},
   "outputs": [
    {
     "data": {
      "text/plain": [
       "[1, 2, 4, 8, 9, 10, 52, 67, 79, 93]"
      ]
     },
     "execution_count": 68,
     "metadata": {},
     "output_type": "execute_result"
    }
   ],
   "source": [
    "# Ascending\n",
    "sorted(mylist)"
   ]
  },
  {
   "cell_type": "code",
   "execution_count": 71,
   "id": "c0b3e265",
   "metadata": {},
   "outputs": [
    {
     "data": {
      "text/plain": [
       "[93, 79, 67, 52, 10, 9, 8, 4, 2, 1]"
      ]
     },
     "execution_count": 71,
     "metadata": {},
     "output_type": "execute_result"
    }
   ],
   "source": [
    "# Descending\n",
    "sorted(mylist, reverse=True)"
   ]
  },
  {
   "cell_type": "markdown",
   "id": "45c87230",
   "metadata": {},
   "source": [
    "######\n",
    "if all the elements is true in the list it will give me true otherwise false\n",
    "\n",
    "0, 0.0, False, 0+0j  ==>  this value will be false in python and rest of the value apart from this one will be true\n"
   ]
  },
  {
   "cell_type": "raw",
   "id": "5dc37914",
   "metadata": {},
   "source": []
  },
  {
   "cell_type": "markdown",
   "id": "d154a2e5",
   "metadata": {},
   "source": [
    "### 6. all()"
   ]
  },
  {
   "cell_type": "code",
   "execution_count": 74,
   "id": "b6892834",
   "metadata": {},
   "outputs": [
    {
     "data": {
      "text/plain": [
       "True"
      ]
     },
     "execution_count": 74,
     "metadata": {},
     "output_type": "execute_result"
    }
   ],
   "source": [
    "all(mylist)"
   ]
  },
  {
   "cell_type": "code",
   "execution_count": 76,
   "id": "15082d77",
   "metadata": {},
   "outputs": [],
   "source": [
    "newList = [10, 52, 67, 79, 93, 0]"
   ]
  },
  {
   "cell_type": "code",
   "execution_count": 77,
   "id": "e1a195a0",
   "metadata": {},
   "outputs": [
    {
     "data": {
      "text/plain": [
       "False"
      ]
     },
     "execution_count": 77,
     "metadata": {},
     "output_type": "execute_result"
    }
   ],
   "source": [
    "all(newList)"
   ]
  },
  {
   "cell_type": "markdown",
   "id": "d80f45bd",
   "metadata": {},
   "source": [
    "### 7. any()"
   ]
  },
  {
   "cell_type": "code",
   "execution_count": 78,
   "id": "1b6728b1",
   "metadata": {},
   "outputs": [
    {
     "data": {
      "text/plain": [
       "True"
      ]
     },
     "execution_count": 78,
     "metadata": {},
     "output_type": "execute_result"
    }
   ],
   "source": [
    "any(newList)"
   ]
  },
  {
   "cell_type": "raw",
   "id": "f9c8cc93",
   "metadata": {},
   "source": []
  },
  {
   "cell_type": "raw",
   "id": "62ff0843",
   "metadata": {},
   "source": []
  },
  {
   "cell_type": "markdown",
   "id": "33e8cbd5",
   "metadata": {},
   "source": [
    "#\n",
    "# List methods:\n",
    "### 1. append()"
   ]
  },
  {
   "cell_type": "code",
   "execution_count": 85,
   "id": "1fd8d424",
   "metadata": {},
   "outputs": [],
   "source": [
    "primes = [2, 3, 5, 7, 11]"
   ]
  },
  {
   "cell_type": "code",
   "execution_count": 86,
   "id": "dba64b33",
   "metadata": {},
   "outputs": [],
   "source": [
    "primes.append(13)"
   ]
  },
  {
   "cell_type": "code",
   "execution_count": 87,
   "id": "7d9ca269",
   "metadata": {},
   "outputs": [
    {
     "data": {
      "text/plain": [
       "[2, 3, 5, 7, 11, 13]"
      ]
     },
     "execution_count": 87,
     "metadata": {},
     "output_type": "execute_result"
    }
   ],
   "source": [
    "primes"
   ]
  },
  {
   "cell_type": "raw",
   "id": "0e570931",
   "metadata": {},
   "source": []
  },
  {
   "cell_type": "code",
   "execution_count": 88,
   "id": "216a28a2",
   "metadata": {},
   "outputs": [],
   "source": [
    "animal = [\"cat\", \"dog\", \"rabbit\"]"
   ]
  },
  {
   "cell_type": "code",
   "execution_count": 89,
   "id": "40c3be7b",
   "metadata": {},
   "outputs": [],
   "source": [
    "animal.append(\"elephant\")"
   ]
  },
  {
   "cell_type": "code",
   "execution_count": 90,
   "id": "e34fe948",
   "metadata": {},
   "outputs": [
    {
     "data": {
      "text/plain": [
       "['cat', 'dog', 'rabbit', 'elephant']"
      ]
     },
     "execution_count": 90,
     "metadata": {},
     "output_type": "execute_result"
    }
   ],
   "source": [
    "animal"
   ]
  },
  {
   "cell_type": "markdown",
   "id": "39319aa1",
   "metadata": {},
   "source": [
    "#\n",
    "### 2. extend()"
   ]
  },
  {
   "cell_type": "code",
   "execution_count": 127,
   "id": "4f8149d3",
   "metadata": {},
   "outputs": [],
   "source": [
    "animal = [\"cat\", \"dog\", \"rabbit\"]"
   ]
  },
  {
   "cell_type": "code",
   "execution_count": 128,
   "id": "e1633d35",
   "metadata": {},
   "outputs": [],
   "source": [
    "wild_animal = [\"tiger\", \"lion\"]"
   ]
  },
  {
   "cell_type": "code",
   "execution_count": 129,
   "id": "eab77aeb",
   "metadata": {},
   "outputs": [],
   "source": [
    "animal.append(wild_animal)"
   ]
  },
  {
   "cell_type": "code",
   "execution_count": 130,
   "id": "17674f89",
   "metadata": {},
   "outputs": [
    {
     "data": {
      "text/plain": [
       "['cat', 'dog', 'rabbit', ['tiger', 'lion']]"
      ]
     },
     "execution_count": 130,
     "metadata": {},
     "output_type": "execute_result"
    }
   ],
   "source": [
    "animal"
   ]
  },
  {
   "cell_type": "code",
   "execution_count": 131,
   "id": "614c244c",
   "metadata": {},
   "outputs": [
    {
     "data": {
      "text/plain": [
       "'tiger'"
      ]
     },
     "execution_count": 131,
     "metadata": {},
     "output_type": "execute_result"
    }
   ],
   "source": [
    "animal[3][0]"
   ]
  },
  {
   "cell_type": "raw",
   "id": "b7306b10",
   "metadata": {},
   "source": []
  },
  {
   "cell_type": "code",
   "execution_count": 132,
   "id": "8423a765",
   "metadata": {},
   "outputs": [],
   "source": [
    "animal = [\"cat\", \"dog\", \"rabbit\"]"
   ]
  },
  {
   "cell_type": "code",
   "execution_count": 133,
   "id": "0bc58227",
   "metadata": {},
   "outputs": [],
   "source": [
    "wild_animal = [\"tiger\", \"lion\"]"
   ]
  },
  {
   "cell_type": "code",
   "execution_count": 134,
   "id": "6ba9e956",
   "metadata": {},
   "outputs": [
    {
     "data": {
      "text/plain": [
       "['cat', 'dog', 'rabbit', 'tiger', 'lion']"
      ]
     },
     "execution_count": 134,
     "metadata": {},
     "output_type": "execute_result"
    }
   ],
   "source": [
    "animal + wild_animal"
   ]
  },
  {
   "cell_type": "raw",
   "id": "529139a4",
   "metadata": {},
   "source": []
  },
  {
   "cell_type": "code",
   "execution_count": 135,
   "id": "1bc6cf99",
   "metadata": {},
   "outputs": [],
   "source": [
    "animal.extend(wild_animal)"
   ]
  },
  {
   "cell_type": "code",
   "execution_count": 136,
   "id": "1a24751a",
   "metadata": {},
   "outputs": [
    {
     "data": {
      "text/plain": [
       "['cat', 'dog', 'rabbit', 'tiger', 'lion']"
      ]
     },
     "execution_count": 136,
     "metadata": {},
     "output_type": "execute_result"
    }
   ],
   "source": [
    "animal"
   ]
  },
  {
   "cell_type": "code",
   "execution_count": 137,
   "id": "cb747b3c",
   "metadata": {},
   "outputs": [],
   "source": [
    "animal.extend([\"fox\"])"
   ]
  },
  {
   "cell_type": "code",
   "execution_count": 138,
   "id": "2d75be91",
   "metadata": {},
   "outputs": [
    {
     "data": {
      "text/plain": [
       "['cat', 'dog', 'rabbit', 'tiger', 'lion', 'fox']"
      ]
     },
     "execution_count": 138,
     "metadata": {},
     "output_type": "execute_result"
    }
   ],
   "source": [
    "animal"
   ]
  },
  {
   "cell_type": "markdown",
   "id": "1cf95940",
   "metadata": {},
   "source": [
    "#\n",
    "### 3. insert(index, value)"
   ]
  },
  {
   "cell_type": "code",
   "execution_count": 160,
   "id": "28207c82",
   "metadata": {},
   "outputs": [],
   "source": [
    "primes = [2, 3, 5, 7, 11]"
   ]
  },
  {
   "cell_type": "code",
   "execution_count": 161,
   "id": "9d3e35a7",
   "metadata": {},
   "outputs": [],
   "source": [
    "# modifying the list\n",
    "primes[3] = 9"
   ]
  },
  {
   "cell_type": "code",
   "execution_count": 162,
   "id": "bcbf54b8",
   "metadata": {},
   "outputs": [
    {
     "data": {
      "text/plain": [
       "[2, 3, 5, 9, 11]"
      ]
     },
     "execution_count": 162,
     "metadata": {},
     "output_type": "execute_result"
    }
   ],
   "source": [
    "primes"
   ]
  },
  {
   "cell_type": "raw",
   "id": "5d01f612",
   "metadata": {},
   "source": []
  },
  {
   "cell_type": "code",
   "execution_count": 163,
   "id": "9b9902fe",
   "metadata": {},
   "outputs": [],
   "source": [
    "# not overwrite only insert at the given index\n",
    "primes.insert(3, 1000)"
   ]
  },
  {
   "cell_type": "code",
   "execution_count": 164,
   "id": "57103814",
   "metadata": {},
   "outputs": [
    {
     "data": {
      "text/plain": [
       "[2, 3, 5, 1000, 9, 11]"
      ]
     },
     "execution_count": 164,
     "metadata": {},
     "output_type": "execute_result"
    }
   ],
   "source": [
    "primes"
   ]
  },
  {
   "cell_type": "markdown",
   "id": "99629d35",
   "metadata": {},
   "source": [
    "#\n",
    "### 4. count()"
   ]
  },
  {
   "cell_type": "code",
   "execution_count": 171,
   "id": "1b4ba278",
   "metadata": {},
   "outputs": [],
   "source": [
    "newList = [10, 52, 69, 27, 79, 93, 69, 44, 80, 69]"
   ]
  },
  {
   "cell_type": "code",
   "execution_count": 172,
   "id": "15775470",
   "metadata": {},
   "outputs": [
    {
     "data": {
      "text/plain": [
       "[10, 52, 69, 27, 79, 93, 69, 44, 80, 69]"
      ]
     },
     "execution_count": 172,
     "metadata": {},
     "output_type": "execute_result"
    }
   ],
   "source": [
    "newList"
   ]
  },
  {
   "cell_type": "code",
   "execution_count": 173,
   "id": "eb355bce",
   "metadata": {},
   "outputs": [
    {
     "data": {
      "text/plain": [
       "3"
      ]
     },
     "execution_count": 173,
     "metadata": {},
     "output_type": "execute_result"
    }
   ],
   "source": [
    "newList.count(69)"
   ]
  },
  {
   "cell_type": "markdown",
   "id": "fc583b8f",
   "metadata": {},
   "source": [
    "#\n",
    "### 5. index()"
   ]
  },
  {
   "cell_type": "raw",
   "id": "4a6b7118",
   "metadata": {},
   "source": [
    "get index of the given element"
   ]
  },
  {
   "cell_type": "code",
   "execution_count": 178,
   "id": "41356a04",
   "metadata": {},
   "outputs": [],
   "source": [
    "newList = [10, 52, 69, 27, 79, 93, 69, 44, 80, 69]"
   ]
  },
  {
   "cell_type": "code",
   "execution_count": 183,
   "id": "0df45202",
   "metadata": {},
   "outputs": [
    {
     "data": {
      "text/plain": [
       "4"
      ]
     },
     "execution_count": 183,
     "metadata": {},
     "output_type": "execute_result"
    }
   ],
   "source": [
    "newList.index(79)"
   ]
  },
  {
   "cell_type": "markdown",
   "id": "c2548823",
   "metadata": {},
   "source": [
    "#\n",
    "### 6. remove()"
   ]
  },
  {
   "cell_type": "raw",
   "id": "6e2e87d3",
   "metadata": {},
   "source": [
    "search for the given element and remove it (it removes the first matching element)"
   ]
  },
  {
   "cell_type": "code",
   "execution_count": 187,
   "id": "528343e1",
   "metadata": {},
   "outputs": [],
   "source": [
    "vowels = ['a', 'a', 'e', 'i', 'o', 'u']"
   ]
  },
  {
   "cell_type": "code",
   "execution_count": 188,
   "id": "a5f8e989",
   "metadata": {},
   "outputs": [],
   "source": [
    "vowels.remove(\"a\")"
   ]
  },
  {
   "cell_type": "code",
   "execution_count": 189,
   "id": "27f63c1f",
   "metadata": {},
   "outputs": [
    {
     "data": {
      "text/plain": [
       "['a', 'e', 'i', 'o', 'u']"
      ]
     },
     "execution_count": 189,
     "metadata": {},
     "output_type": "execute_result"
    }
   ],
   "source": [
    "vowels"
   ]
  },
  {
   "cell_type": "markdown",
   "id": "364d45c8",
   "metadata": {},
   "source": [
    "#\n",
    "### 7. pop()"
   ]
  },
  {
   "cell_type": "raw",
   "id": "abd31910",
   "metadata": {},
   "source": [
    "pop() method removes and return the element at the given index"
   ]
  },
  {
   "cell_type": "raw",
   "id": "437603d9",
   "metadata": {},
   "source": [
    "pop() method takes index and remove it from the list and return that element"
   ]
  },
  {
   "cell_type": "code",
   "execution_count": 190,
   "id": "60e6f152",
   "metadata": {},
   "outputs": [],
   "source": [
    "fruits = [\"apple\", \"banana\", \"orange\"]"
   ]
  },
  {
   "cell_type": "code",
   "execution_count": 191,
   "id": "1520eb04",
   "metadata": {},
   "outputs": [
    {
     "data": {
      "text/plain": [
       "'banana'"
      ]
     },
     "execution_count": 191,
     "metadata": {},
     "output_type": "execute_result"
    }
   ],
   "source": [
    "fruits.pop(1)"
   ]
  },
  {
   "cell_type": "code",
   "execution_count": 192,
   "id": "a05ddd15",
   "metadata": {},
   "outputs": [
    {
     "data": {
      "text/plain": [
       "['apple', 'orange']"
      ]
     },
     "execution_count": 192,
     "metadata": {},
     "output_type": "execute_result"
    }
   ],
   "source": [
    "fruits"
   ]
  },
  {
   "cell_type": "markdown",
   "id": "bfed4079",
   "metadata": {},
   "source": [
    "#\n",
    "### 8. clear()"
   ]
  },
  {
   "cell_type": "code",
   "execution_count": 193,
   "id": "73a64146",
   "metadata": {},
   "outputs": [],
   "source": [
    "fruits = [\"apple\", \"banana\", \"orange\"]"
   ]
  },
  {
   "cell_type": "code",
   "execution_count": 194,
   "id": "7b8f684f",
   "metadata": {},
   "outputs": [],
   "source": [
    "fruits.clear()"
   ]
  },
  {
   "cell_type": "code",
   "execution_count": 195,
   "id": "1e184711",
   "metadata": {},
   "outputs": [
    {
     "data": {
      "text/plain": [
       "[]"
      ]
     },
     "execution_count": 195,
     "metadata": {},
     "output_type": "execute_result"
    }
   ],
   "source": [
    "fruits"
   ]
  },
  {
   "cell_type": "markdown",
   "id": "b1d072fe",
   "metadata": {},
   "source": [
    "#\n",
    "### 9. sort()"
   ]
  },
  {
   "cell_type": "raw",
   "id": "f42893e4",
   "metadata": {},
   "source": [
    "it is going to sort in assending as well as decending order"
   ]
  },
  {
   "cell_type": "code",
   "execution_count": 196,
   "id": "b124a361",
   "metadata": {},
   "outputs": [],
   "source": [
    "numList = [10, 52, 69, 27, 79, 93, 619, 44, 1000, 80, 169, 909 , 100]"
   ]
  },
  {
   "cell_type": "code",
   "execution_count": 197,
   "id": "5e39f425",
   "metadata": {},
   "outputs": [],
   "source": [
    "numList.sort()"
   ]
  },
  {
   "cell_type": "code",
   "execution_count": 198,
   "id": "0e1e4c6b",
   "metadata": {},
   "outputs": [
    {
     "data": {
      "text/plain": [
       "[10, 27, 44, 52, 69, 79, 80, 93, 100, 169, 619, 909, 1000]"
      ]
     },
     "execution_count": 198,
     "metadata": {},
     "output_type": "execute_result"
    }
   ],
   "source": [
    "numList"
   ]
  },
  {
   "cell_type": "raw",
   "id": "8b35585b",
   "metadata": {},
   "source": []
  },
  {
   "cell_type": "code",
   "execution_count": 199,
   "id": "8c04b25a",
   "metadata": {},
   "outputs": [],
   "source": [
    "numList.sort(reverse = True)"
   ]
  },
  {
   "cell_type": "code",
   "execution_count": 200,
   "id": "d38f5f0e",
   "metadata": {},
   "outputs": [
    {
     "data": {
      "text/plain": [
       "[1000, 909, 619, 169, 100, 93, 80, 79, 69, 52, 44, 27, 10]"
      ]
     },
     "execution_count": 200,
     "metadata": {},
     "output_type": "execute_result"
    }
   ],
   "source": [
    "numList"
   ]
  },
  {
   "cell_type": "markdown",
   "id": "07ae22ff",
   "metadata": {},
   "source": [
    "#\n",
    "### 10. reverse()"
   ]
  },
  {
   "cell_type": "raw",
   "id": "f12fa225",
   "metadata": {},
   "source": [
    "it is going to reverse the elements"
   ]
  },
  {
   "cell_type": "code",
   "execution_count": 201,
   "id": "d6353aaf",
   "metadata": {},
   "outputs": [],
   "source": [
    "numList = [10, 52, 69, 27, 79, 93, 619, 44, 1000, 80, 169, 909 , 100]"
   ]
  },
  {
   "cell_type": "code",
   "execution_count": 202,
   "id": "fc632c3f",
   "metadata": {},
   "outputs": [],
   "source": [
    "numList.reverse()"
   ]
  },
  {
   "cell_type": "code",
   "execution_count": 203,
   "id": "ba0664f6",
   "metadata": {},
   "outputs": [
    {
     "data": {
      "text/plain": [
       "[100, 909, 169, 80, 1000, 44, 619, 93, 79, 27, 69, 52, 10]"
      ]
     },
     "execution_count": 203,
     "metadata": {},
     "output_type": "execute_result"
    }
   ],
   "source": [
    "numList"
   ]
  },
  {
   "cell_type": "raw",
   "id": "cb32940c",
   "metadata": {},
   "source": []
  },
  {
   "cell_type": "markdown",
   "id": "ed2e23a6",
   "metadata": {},
   "source": [
    "#\n",
    "#### Q. print all element with while as well as for loop"
   ]
  },
  {
   "cell_type": "code",
   "execution_count": 204,
   "id": "97cd96fd",
   "metadata": {},
   "outputs": [],
   "source": [
    "numList = [10, 52, 69, 27, 79, 93, 619, 44, 1000, 80, 169, 909 , 100]"
   ]
  },
  {
   "cell_type": "code",
   "execution_count": 205,
   "id": "4240979a",
   "metadata": {},
   "outputs": [
    {
     "name": "stdout",
     "output_type": "stream",
     "text": [
      "10\n",
      "52\n",
      "69\n",
      "27\n",
      "79\n",
      "93\n",
      "619\n",
      "44\n",
      "1000\n",
      "80\n",
      "169\n",
      "909\n",
      "100\n"
     ]
    }
   ],
   "source": [
    "for num in numList:\n",
    "    print(num)"
   ]
  },
  {
   "cell_type": "code",
   "execution_count": 210,
   "id": "a2049daa",
   "metadata": {},
   "outputs": [
    {
     "name": "stdout",
     "output_type": "stream",
     "text": [
      "10\n",
      "52\n",
      "69\n",
      "27\n",
      "79\n",
      "93\n",
      "619\n",
      "44\n",
      "1000\n",
      "80\n",
      "169\n",
      "909\n",
      "100\n"
     ]
    }
   ],
   "source": [
    "i = 0\n",
    "\n",
    "while i < len(numList):\n",
    "    print(numList[i])\n",
    "    i+=1"
   ]
  },
  {
   "cell_type": "raw",
   "id": "14032fc2",
   "metadata": {},
   "source": []
  },
  {
   "cell_type": "raw",
   "id": "caf359f0",
   "metadata": {},
   "source": []
  },
  {
   "cell_type": "markdown",
   "id": "eaf3faf5",
   "metadata": {},
   "source": [
    "#### Q. Write a program to accept five integers from the user , store them in a list . Display these integers and also display their sum"
   ]
  },
  {
   "cell_type": "code",
   "execution_count": 1,
   "id": "059475ea",
   "metadata": {},
   "outputs": [
    {
     "name": "stdout",
     "output_type": "stream",
     "text": [
      "Enter an integer: 5\n",
      "Enter an integer: 7\n",
      "Enter an integer: 9\n",
      "Enter an integer: 2\n",
      "Enter an integer: 5\n",
      "Integers entered by the user: [5, 7, 9, 2, 5]\n",
      "Sum of the integers: 28\n"
     ]
    }
   ],
   "source": [
    "# Accept five integers from the user\n",
    "num_list = []\n",
    "for i in range(5):\n",
    "    num = int(input(\"Enter an integer: \"))\n",
    "    num_list.append(num)\n",
    "\n",
    "    \n",
    "# Display the integers\n",
    "print(\"Integers entered by the user:\", num_list)\n",
    "\n",
    "\n",
    "# Calculate and display their sum\n",
    "sum_of_integers = sum(num_list)\n",
    "print(\"Sum of the integers:\", sum_of_integers)\n"
   ]
  },
  {
   "cell_type": "raw",
   "id": "da9c77a3",
   "metadata": {},
   "source": []
  },
  {
   "cell_type": "markdown",
   "id": "4ca1ae01",
   "metadata": {},
   "source": [
    "##### Q. Write a program to accept 5 unique integers from the user. Make sure if the integer being entered is already present in the list your code displays the message “Item already present” and ask the user to reenter the integer. \n"
   ]
  },
  {
   "cell_type": "code",
   "execution_count": 2,
   "id": "509c7fcf",
   "metadata": {},
   "outputs": [
    {
     "name": "stdout",
     "output_type": "stream",
     "text": [
      "Enter an integer: 5\n",
      "Enter an integer: 5\n",
      "Item already present. Please enter a unique integer.\n",
      "Enter an integer: 6\n",
      "Enter an integer: 7\n",
      "Enter an integer: 8\n",
      "Enter an integer: 9\n",
      "Unique integers entered by the user: [5, 6, 7, 8, 9]\n"
     ]
    }
   ],
   "source": [
    "unique_integers = []\n",
    "\n",
    "while len(unique_integers) < 5:\n",
    "    num = int(input(\"Enter an integer: \"))\n",
    "    if num in unique_integers:\n",
    "        print(\"Item already present. Please enter a unique integer.\")\n",
    "    else:\n",
    "        unique_integers.append(num)\n",
    "\n",
    "        \n",
    "print(\"Unique integers entered by the user:\", unique_integers)"
   ]
  },
  {
   "cell_type": "raw",
   "id": "0eea2e53",
   "metadata": {},
   "source": []
  },
  {
   "cell_type": "markdown",
   "id": "5d5f8af4",
   "metadata": {},
   "source": [
    "##### Q. Write a program to accept 2 lists from the user of 5 nos each . Assume each list will have unique nos Now find out how many items in these lists are common."
   ]
  },
  {
   "cell_type": "code",
   "execution_count": 3,
   "id": "40149ec8",
   "metadata": {},
   "outputs": [
    {
     "name": "stdout",
     "output_type": "stream",
     "text": [
      "Enter 5 unique numbers for list 1:\n",
      "Enter a number: 1\n",
      "Enter a number: 2\n",
      "Enter a number: 3\n",
      "Enter a number: 4\n",
      "Enter a number: 5\n",
      "Enter 5 unique numbers for list 2:\n",
      "Enter a number: 5\n",
      "Enter a number: 6\n",
      "Enter a number: 7\n",
      "Enter a number: 8\n",
      "Enter a number: 9\n",
      "Number of common items in the lists: 1\n"
     ]
    }
   ],
   "source": [
    "# Accepting two lists from the user\n",
    "list1 = []\n",
    "list2 = []\n",
    "\n",
    "print(\"Enter 5 unique numbers for list 1:\")\n",
    "for _ in range(5):\n",
    "    num = int(input(\"Enter a number: \"))\n",
    "    list1.append(num)\n",
    "\n",
    "print(\"Enter 5 unique numbers for list 2:\")\n",
    "for _ in range(5):\n",
    "    num = int(input(\"Enter a number: \"))\n",
    "    list2.append(num)\n",
    "\n",
    "# Converting lists to sets\n",
    "set1 = set(list1)\n",
    "set2 = set(list2)\n",
    "\n",
    "# Finding common elements\n",
    "common_elements = set1.intersection(set2)\n",
    "\n",
    "\n",
    "# Displaying the number of common elements\n",
    "print(\"Number of common items in the lists:\", len(common_elements))"
   ]
  },
  {
   "cell_type": "raw",
   "id": "99956cb7",
   "metadata": {},
   "source": []
  },
  {
   "cell_type": "markdown",
   "id": "bc21487c",
   "metadata": {},
   "source": [
    "##### Q. Rewrite the previous code so that your code alos displays the items which are common in both the lists"
   ]
  },
  {
   "cell_type": "code",
   "execution_count": 4,
   "id": "262d7c6e",
   "metadata": {},
   "outputs": [
    {
     "name": "stdout",
     "output_type": "stream",
     "text": [
      "Enter 5 unique numbers for list 1:\n",
      "Enter a number: 1\n",
      "Enter a number: 2\n",
      "Enter a number: 3\n",
      "Enter a number: 4\n",
      "Enter a number: 5\n",
      "Enter 5 unique numbers for list 2:\n",
      "Enter a number: 5\n",
      "Enter a number: 6\n",
      "Enter a number: 7\n",
      "Enter a number: 8\n",
      "Enter a number: 9\n",
      "Number of common items in the lists: 1\n",
      "Common items in the lists: {5}\n"
     ]
    }
   ],
   "source": [
    "# Accepting two lists from the user\n",
    "list1 = []\n",
    "list2 = []\n",
    "\n",
    "\n",
    "print(\"Enter 5 unique numbers for list 1:\")\n",
    "for _ in range(5):\n",
    "    num = int(input(\"Enter a number: \"))\n",
    "    list1.append(num)\n",
    "\n",
    "    \n",
    "print(\"Enter 5 unique numbers for list 2:\")\n",
    "for _ in range(5):\n",
    "    num = int(input(\"Enter a number: \"))\n",
    "    list2.append(num)\n",
    "\n",
    "    \n",
    "# Converting lists to sets\n",
    "set1 = set(list1)\n",
    "set2 = set(list2)\n",
    "\n",
    "# Finding common elements\n",
    "common_elements = set1.intersection(set2)\n",
    "\n",
    "\n",
    "# Displaying the number of common elements\n",
    "print(\"Number of common items in the lists:\", len(common_elements))\n",
    "\n",
    "\n",
    "# Displaying the common items\n",
    "if common_elements:\n",
    "    print(\"Common items in the lists:\", common_elements)\n",
    "else:\n",
    "    print(\"No common items in the lists.\")\n"
   ]
  },
  {
   "cell_type": "raw",
   "id": "819cd658",
   "metadata": {},
   "source": []
  },
  {
   "cell_type": "raw",
   "id": "5e6b6df4",
   "metadata": {},
   "source": []
  },
  {
   "cell_type": "markdown",
   "id": "8f67ad87",
   "metadata": {},
   "source": [
    "#\n",
    "### List comprehension"
   ]
  },
  {
   "cell_type": "raw",
   "id": "8983aef7",
   "metadata": {},
   "source": [
    "iterable:\n",
    "    i) list\n",
    "   ii) tuple\n",
    "  iii) dict\n",
    "   iv) set\n",
    "    v) String"
   ]
  },
  {
   "cell_type": "raw",
   "id": "6ef4e27d",
   "metadata": {},
   "source": [
    "list_comp = [x for x in iterable <test_condition>]"
   ]
  },
  {
   "cell_type": "raw",
   "id": "36118db7",
   "metadata": {},
   "source": [
    "for reduce the code complexity.\n",
    "for reduce the time & space complexity.\n",
    "\n",
    "better use of this list comprehension with lambda function, map function, filter function and reduce function."
   ]
  },
  {
   "cell_type": "raw",
   "id": "0afdb8b3",
   "metadata": {},
   "source": [
    " "
   ]
  },
  {
   "cell_type": "code",
   "execution_count": 1,
   "id": "228c1e28",
   "metadata": {},
   "outputs": [],
   "source": [
    "my_string = \"Gobinda Das\""
   ]
  },
  {
   "cell_type": "code",
   "execution_count": 2,
   "id": "32e58c4f",
   "metadata": {},
   "outputs": [],
   "source": [
    "my_list = []"
   ]
  },
  {
   "cell_type": "code",
   "execution_count": 3,
   "id": "1caa2239",
   "metadata": {},
   "outputs": [],
   "source": [
    "for i in my_string:\n",
    "    my_list.append(i)"
   ]
  },
  {
   "cell_type": "code",
   "execution_count": 4,
   "id": "d7d479b0",
   "metadata": {},
   "outputs": [
    {
     "data": {
      "text/plain": [
       "['G', 'o', 'b', 'i', 'n', 'd', 'a', ' ', 'D', 'a', 's']"
      ]
     },
     "execution_count": 4,
     "metadata": {},
     "output_type": "execute_result"
    }
   ],
   "source": [
    "my_list"
   ]
  },
  {
   "cell_type": "code",
   "execution_count": 5,
   "id": "0d20f337",
   "metadata": {},
   "outputs": [
    {
     "data": {
      "text/plain": [
       "['G', 'o', 'b', 'i', 'n', 'd', 'a', ' ', 'D', 'a', 's']"
      ]
     },
     "execution_count": 5,
     "metadata": {},
     "output_type": "execute_result"
    }
   ],
   "source": [
    "[x for x in my_string]"
   ]
  },
  {
   "cell_type": "markdown",
   "id": "f60c2ba1",
   "metadata": {},
   "source": [
    "#\n",
    "##### Q. Write a program squre of nos from 1 to 5, store them in a list and print the list."
   ]
  },
  {
   "cell_type": "code",
   "execution_count": 13,
   "id": "66d2962d",
   "metadata": {},
   "outputs": [
    {
     "name": "stdout",
     "output_type": "stream",
     "text": [
      "1\n",
      "2\n",
      "3\n",
      "4\n",
      "5\n",
      "6\n",
      "7\n",
      "8\n",
      "9\n",
      "10\n"
     ]
    }
   ],
   "source": [
    "myList1 = []\n",
    "\n",
    "for x in range(1, 11):\n",
    "    #print(x)\n",
    "    myList1.append(x**2)"
   ]
  },
  {
   "cell_type": "code",
   "execution_count": 14,
   "id": "7811c9c4",
   "metadata": {},
   "outputs": [
    {
     "data": {
      "text/plain": [
       "[1, 4, 9, 16, 25, 36, 49, 64, 81, 100]"
      ]
     },
     "execution_count": 14,
     "metadata": {},
     "output_type": "execute_result"
    }
   ],
   "source": [
    "myList1"
   ]
  },
  {
   "cell_type": "code",
   "execution_count": 16,
   "id": "51cfb76a",
   "metadata": {},
   "outputs": [
    {
     "data": {
      "text/plain": [
       "[1, 4, 9, 16, 25, 36, 49, 64, 81, 100]"
      ]
     },
     "execution_count": 16,
     "metadata": {},
     "output_type": "execute_result"
    }
   ],
   "source": [
    "[x**2 for x in range(1, 11)]"
   ]
  },
  {
   "cell_type": "raw",
   "id": "227110b2",
   "metadata": {},
   "source": []
  },
  {
   "cell_type": "markdown",
   "id": "8d61b8d0",
   "metadata": {},
   "source": [
    "##### Q. Write a program to accept a string from user and convert each word of the given string into uppercase store it in a list and print that list"
   ]
  },
  {
   "cell_type": "code",
   "execution_count": 21,
   "id": "277e3c8d",
   "metadata": {},
   "outputs": [
    {
     "name": "stdout",
     "output_type": "stream",
     "text": [
      "Enter the name: gobinda Das\n"
     ]
    }
   ],
   "source": [
    "string = input(\"Enter the name: \")\n",
    "mylist = []\n",
    "\n",
    "for i in string:\n",
    "    mylist.append(i.upper())"
   ]
  },
  {
   "cell_type": "code",
   "execution_count": 22,
   "id": "343605f7",
   "metadata": {},
   "outputs": [
    {
     "data": {
      "text/plain": [
       "['G', 'O', 'B', 'I', 'N', 'D', 'A', ' ', 'D', 'A', 'S']"
      ]
     },
     "execution_count": 22,
     "metadata": {},
     "output_type": "execute_result"
    }
   ],
   "source": [
    "mylist"
   ]
  },
  {
   "cell_type": "code",
   "execution_count": 23,
   "id": "f92cd288",
   "metadata": {},
   "outputs": [
    {
     "name": "stdout",
     "output_type": "stream",
     "text": [
      "Enter the name: poulami Hudait\n"
     ]
    },
    {
     "data": {
      "text/plain": [
       "['P', 'O', 'U', 'L', 'A', 'M', 'I', ' ', 'H', 'U', 'D', 'A', 'I', 'T']"
      ]
     },
     "execution_count": 23,
     "metadata": {},
     "output_type": "execute_result"
    }
   ],
   "source": [
    "string = input(\"Enter the name: \")\n",
    "\n",
    "[x.upper() for x in string]"
   ]
  },
  {
   "cell_type": "code",
   "execution_count": 24,
   "id": "a02124bd",
   "metadata": {},
   "outputs": [
    {
     "name": "stdout",
     "output_type": "stream",
     "text": [
      "Enter the name: sumona mondal\n"
     ]
    },
    {
     "data": {
      "text/plain": [
       "['SUMONA', 'MONDAL']"
      ]
     },
     "execution_count": 24,
     "metadata": {},
     "output_type": "execute_result"
    }
   ],
   "source": [
    "string = input(\"Enter the name: \")\n",
    "\n",
    "[x.upper() for x in string.split()]"
   ]
  },
  {
   "cell_type": "raw",
   "id": "d0ad39e1",
   "metadata": {},
   "source": []
  },
  {
   "cell_type": "markdown",
   "id": "99f398ff",
   "metadata": {},
   "source": [
    "##### Q. write a program to accept 5int from user and store then in a list, now display the sum of element and the element of list "
   ]
  },
  {
   "cell_type": "code",
   "execution_count": 31,
   "id": "9b9a65ad",
   "metadata": {},
   "outputs": [
    {
     "name": "stdout",
     "output_type": "stream",
     "text": [
      "Enter 5 integer: 1 9 7 3 5\n",
      "[1, 9, 7, 3, 5]\n",
      "25\n"
     ]
    }
   ],
   "source": [
    "numbers = input(\"Enter 5 integer: \")\n",
    "mylist = []\n",
    "\n",
    "for i in numbers.split():\n",
    "    mylist.append(int(i))\n",
    "\n",
    "print(mylist)\n",
    "print(sum(mylist))"
   ]
  },
  {
   "cell_type": "code",
   "execution_count": 28,
   "id": "43a82b87",
   "metadata": {},
   "outputs": [
    {
     "name": "stdout",
     "output_type": "stream",
     "text": [
      "Enter 5 integer: 1 5 8 3 4 \n"
     ]
    },
    {
     "data": {
      "text/plain": [
       "[1, 5, 8, 3, 4]"
      ]
     },
     "execution_count": 28,
     "metadata": {},
     "output_type": "execute_result"
    }
   ],
   "source": [
    "numbers = input(\"Enter 5 integer: \")\n",
    "\n",
    "[int(x) for x in numbers.split()]"
   ]
  },
  {
   "cell_type": "code",
   "execution_count": 29,
   "id": "88df6f82",
   "metadata": {},
   "outputs": [
    {
     "name": "stdout",
     "output_type": "stream",
     "text": [
      "21\n"
     ]
    }
   ],
   "source": [
    "print(sum([int(x) for x in numbers.split()]))"
   ]
  },
  {
   "cell_type": "raw",
   "id": "1c4bae4e",
   "metadata": {},
   "source": []
  },
  {
   "cell_type": "code",
   "execution_count": 5,
   "id": "d2085d1d",
   "metadata": {},
   "outputs": [
    {
     "name": "stdout",
     "output_type": "stream",
     "text": [
      "1\n",
      "2\n",
      "3\n",
      "4\n",
      "5\n",
      "[1, 2, 3, 4, 5]\n"
     ]
    }
   ],
   "source": [
    "mylist = []\n",
    "\n",
    "for x in range(0, 5):\n",
    "    num = int(input())\n",
    "    mylist.append(num)\n",
    "\n",
    "print(mylist)"
   ]
  },
  {
   "cell_type": "raw",
   "id": "05d062c3",
   "metadata": {},
   "source": []
  },
  {
   "cell_type": "markdown",
   "id": "9176f7c5",
   "metadata": {},
   "source": [
    "##### Q. write a progrm to produce squre of only odd nos from 1 to 50, store them in a list and print the list."
   ]
  },
  {
   "cell_type": "code",
   "execution_count": 33,
   "id": "dd96a365",
   "metadata": {},
   "outputs": [
    {
     "name": "stdout",
     "output_type": "stream",
     "text": [
      "[1, 9, 25, 49, 81, 121, 169, 225, 289, 361, 441, 529, 625, 729, 841, 961, 1089, 1225, 1369, 1521, 1681, 1849, 2025, 2209, 2401]\n"
     ]
    }
   ],
   "source": [
    "mylist = []\n",
    "\n",
    "for x in range(1, 50, 2):\n",
    "    #print(x)\n",
    "    mylist.append(x**2)\n",
    "\n",
    "print(mylist)"
   ]
  },
  {
   "cell_type": "code",
   "execution_count": 34,
   "id": "b1866659",
   "metadata": {},
   "outputs": [
    {
     "data": {
      "text/plain": [
       "[1,\n",
       " 9,\n",
       " 25,\n",
       " 49,\n",
       " 81,\n",
       " 121,\n",
       " 169,\n",
       " 225,\n",
       " 289,\n",
       " 361,\n",
       " 441,\n",
       " 529,\n",
       " 625,\n",
       " 729,\n",
       " 841,\n",
       " 961,\n",
       " 1089,\n",
       " 1225,\n",
       " 1369,\n",
       " 1521,\n",
       " 1681,\n",
       " 1849,\n",
       " 2025,\n",
       " 2209,\n",
       " 2401]"
      ]
     },
     "execution_count": 34,
     "metadata": {},
     "output_type": "execute_result"
    }
   ],
   "source": [
    "[x**2 for x in range(1, 50, 2)]"
   ]
  },
  {
   "cell_type": "raw",
   "id": "321ffacb",
   "metadata": {},
   "source": []
  },
  {
   "cell_type": "markdown",
   "id": "8b7ca892",
   "metadata": {},
   "source": [
    "##### Q. create a function called removeVowles() which accept a string as argument and return a list with all the vowels removed from the string."
   ]
  },
  {
   "cell_type": "code",
   "execution_count": 5,
   "id": "df0e1595",
   "metadata": {},
   "outputs": [
    {
     "name": "stdout",
     "output_type": "stream",
     "text": [
      "Enter a string: hii my name is gobinda das\n",
      "String with vowels removed: h my nm s gbnd ds\n"
     ]
    }
   ],
   "source": [
    "def removeVowels(input_string):\n",
    "    vowels = \"aeiouAEIOU\"\n",
    "    result = [char for char in input_string if char not in vowels]\n",
    "    return result\n",
    "\n",
    "\n",
    "input_string = input(\"Enter a string: \")\n",
    "\n",
    "result_list = removeVowels(input_string)\n",
    "\n",
    "\n",
    "print(\"String with vowels removed:\", ''.join(result_list))"
   ]
  },
  {
   "cell_type": "raw",
   "id": "856ede53",
   "metadata": {},
   "source": []
  }
 ],
 "metadata": {
  "kernelspec": {
   "display_name": "Python 3 (ipykernel)",
   "language": "python",
   "name": "python3"
  },
  "language_info": {
   "codemirror_mode": {
    "name": "ipython",
    "version": 3
   },
   "file_extension": ".py",
   "mimetype": "text/x-python",
   "name": "python",
   "nbconvert_exporter": "python",
   "pygments_lexer": "ipython3",
   "version": "3.11.5"
  }
 },
 "nbformat": 4,
 "nbformat_minor": 5
}
