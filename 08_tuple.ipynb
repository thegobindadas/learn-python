{
 "cells": [
  {
   "cell_type": "markdown",
   "id": "f76bc3c9",
   "metadata": {},
   "source": [
    "# Tuple"
   ]
  },
  {
   "cell_type": "raw",
   "id": "588635e0",
   "metadata": {},
   "source": [
    "i) we represent the tuple with 1st () bracket.\n",
    "ii) Tuple is immutable (after defining list we can not change in tuple).\n",
    "iii) Tuple is fast (take less time & take less memory)."
   ]
  },
  {
   "cell_type": "raw",
   "id": "9bb89be9",
   "metadata": {},
   "source": []
  },
  {
   "cell_type": "code",
   "execution_count": 2,
   "id": "322d62fe",
   "metadata": {},
   "outputs": [],
   "source": [
    "mytuple = ()  #empty tuple"
   ]
  },
  {
   "cell_type": "code",
   "execution_count": 3,
   "id": "19e1d171",
   "metadata": {},
   "outputs": [
    {
     "data": {
      "text/plain": [
       "()"
      ]
     },
     "execution_count": 3,
     "metadata": {},
     "output_type": "execute_result"
    }
   ],
   "source": [
    "mytuple"
   ]
  },
  {
   "cell_type": "code",
   "execution_count": 4,
   "id": "347079e0",
   "metadata": {},
   "outputs": [],
   "source": [
    "mytuple = (1, 3, 95, 57, 4, 6)  # list of integers"
   ]
  },
  {
   "cell_type": "code",
   "execution_count": 5,
   "id": "7fc64eac",
   "metadata": {},
   "outputs": [
    {
     "data": {
      "text/plain": [
       "(1, 3, 95, 57, 4, 6)"
      ]
     },
     "execution_count": 5,
     "metadata": {},
     "output_type": "execute_result"
    }
   ],
   "source": [
    "mytuple"
   ]
  },
  {
   "cell_type": "code",
   "execution_count": 8,
   "id": "0f17e46b",
   "metadata": {},
   "outputs": [],
   "source": [
    "mytuple = (1, \"gobinda\", 10.7, True, 2+3j)   # list with different data types"
   ]
  },
  {
   "cell_type": "code",
   "execution_count": 9,
   "id": "433a1e66",
   "metadata": {},
   "outputs": [
    {
     "data": {
      "text/plain": [
       "(1, 'gobinda', 10.7, True, (2+3j))"
      ]
     },
     "execution_count": 9,
     "metadata": {},
     "output_type": "execute_result"
    }
   ],
   "source": [
    "mytuple"
   ]
  },
  {
   "cell_type": "code",
   "execution_count": 10,
   "id": "69f3ff98",
   "metadata": {},
   "outputs": [
    {
     "data": {
      "text/plain": [
       "tuple"
      ]
     },
     "execution_count": 10,
     "metadata": {},
     "output_type": "execute_result"
    }
   ],
   "source": [
    "type(mytuple)"
   ]
  },
  {
   "cell_type": "raw",
   "id": "8fb99bf6",
   "metadata": {},
   "source": []
  },
  {
   "cell_type": "code",
   "execution_count": 21,
   "id": "498b1d53",
   "metadata": {},
   "outputs": [
    {
     "data": {
      "text/plain": [
       "int"
      ]
     },
     "execution_count": 21,
     "metadata": {},
     "output_type": "execute_result"
    }
   ],
   "source": [
    "mytuple = (10)\n",
    "\n",
    "type(mytuple)"
   ]
  },
  {
   "cell_type": "code",
   "execution_count": 22,
   "id": "0502f834",
   "metadata": {},
   "outputs": [
    {
     "data": {
      "text/plain": [
       "tuple"
      ]
     },
     "execution_count": 22,
     "metadata": {},
     "output_type": "execute_result"
    }
   ],
   "source": [
    "mytuple2 = (10,)\n",
    "\n",
    "type(mytuple2)"
   ]
  },
  {
   "cell_type": "markdown",
   "id": "3aa1e85c",
   "metadata": {},
   "source": [
    "###\n",
    "### concept of packing and unpacking"
   ]
  },
  {
   "cell_type": "code",
   "execution_count": 23,
   "id": "ee858c8a",
   "metadata": {},
   "outputs": [],
   "source": [
    "a = 1, 2, 3, 4   #packing"
   ]
  },
  {
   "cell_type": "code",
   "execution_count": 24,
   "id": "49d04f30",
   "metadata": {},
   "outputs": [
    {
     "data": {
      "text/plain": [
       "(1, 2, 3, 4)"
      ]
     },
     "execution_count": 24,
     "metadata": {},
     "output_type": "execute_result"
    }
   ],
   "source": [
    "a"
   ]
  },
  {
   "cell_type": "code",
   "execution_count": 25,
   "id": "f65a245a",
   "metadata": {},
   "outputs": [],
   "source": [
    "x,y,z,h = a     #unpacking"
   ]
  },
  {
   "cell_type": "code",
   "execution_count": 26,
   "id": "54d4d65b",
   "metadata": {},
   "outputs": [
    {
     "data": {
      "text/plain": [
       "1"
      ]
     },
     "execution_count": 26,
     "metadata": {},
     "output_type": "execute_result"
    }
   ],
   "source": [
    "x"
   ]
  },
  {
   "cell_type": "code",
   "execution_count": 27,
   "id": "88615f46",
   "metadata": {},
   "outputs": [
    {
     "data": {
      "text/plain": [
       "2"
      ]
     },
     "execution_count": 27,
     "metadata": {},
     "output_type": "execute_result"
    }
   ],
   "source": [
    "y"
   ]
  },
  {
   "cell_type": "code",
   "execution_count": 28,
   "id": "f0dd1641",
   "metadata": {},
   "outputs": [
    {
     "data": {
      "text/plain": [
       "3"
      ]
     },
     "execution_count": 28,
     "metadata": {},
     "output_type": "execute_result"
    }
   ],
   "source": [
    "z"
   ]
  },
  {
   "cell_type": "code",
   "execution_count": 29,
   "id": "8e62e942",
   "metadata": {},
   "outputs": [
    {
     "data": {
      "text/plain": [
       "4"
      ]
     },
     "execution_count": 29,
     "metadata": {},
     "output_type": "execute_result"
    }
   ],
   "source": [
    "h"
   ]
  },
  {
   "cell_type": "markdown",
   "id": "bfc2cfdb",
   "metadata": {},
   "source": [
    "###\n",
    "### Access the element of list"
   ]
  },
  {
   "cell_type": "code",
   "execution_count": 30,
   "id": "2fe6f303",
   "metadata": {},
   "outputs": [],
   "source": [
    "mytuple = (1, 3, 95, 57, 4, 6, 15, 88)"
   ]
  },
  {
   "cell_type": "code",
   "execution_count": 31,
   "id": "0c5db3d3",
   "metadata": {},
   "outputs": [
    {
     "name": "stdout",
     "output_type": "stream",
     "text": [
      "(1, 3, 95, 57, 4, 6, 15, 88)\n"
     ]
    }
   ],
   "source": [
    "print(mytuple)"
   ]
  },
  {
   "cell_type": "code",
   "execution_count": 32,
   "id": "6b615520",
   "metadata": {},
   "outputs": [
    {
     "data": {
      "text/plain": [
       "15"
      ]
     },
     "execution_count": 32,
     "metadata": {},
     "output_type": "execute_result"
    }
   ],
   "source": [
    "mytuple[6]"
   ]
  },
  {
   "cell_type": "code",
   "execution_count": 35,
   "id": "a984ef8e",
   "metadata": {},
   "outputs": [
    {
     "data": {
      "text/plain": [
       "95"
      ]
     },
     "execution_count": 35,
     "metadata": {},
     "output_type": "execute_result"
    }
   ],
   "source": [
    "mytuple[2]"
   ]
  },
  {
   "cell_type": "code",
   "execution_count": 36,
   "id": "e786698a",
   "metadata": {},
   "outputs": [
    {
     "data": {
      "text/plain": [
       "15"
      ]
     },
     "execution_count": 36,
     "metadata": {},
     "output_type": "execute_result"
    }
   ],
   "source": [
    "mytuple[-2]"
   ]
  },
  {
   "cell_type": "code",
   "execution_count": 37,
   "id": "890ca0d9",
   "metadata": {},
   "outputs": [
    {
     "data": {
      "text/plain": [
       "57"
      ]
     },
     "execution_count": 37,
     "metadata": {},
     "output_type": "execute_result"
    }
   ],
   "source": [
    "mytuple[-5]"
   ]
  },
  {
   "cell_type": "markdown",
   "id": "ff6d4d24",
   "metadata": {},
   "source": [
    "###\n",
    "### Slicing"
   ]
  },
  {
   "cell_type": "code",
   "execution_count": 39,
   "id": "42f742ad",
   "metadata": {},
   "outputs": [
    {
     "data": {
      "text/plain": [
       "(4, 6, 15)"
      ]
     },
     "execution_count": 39,
     "metadata": {},
     "output_type": "execute_result"
    }
   ],
   "source": [
    "mytuple[4 : 7]"
   ]
  },
  {
   "cell_type": "code",
   "execution_count": 40,
   "id": "c8944ec8",
   "metadata": {},
   "outputs": [
    {
     "name": "stdout",
     "output_type": "stream",
     "text": [
      "(20, 30, 40)\n"
     ]
    }
   ],
   "source": [
    "mynums=(10, 20, 30, 40, 50)\n",
    "\n",
    "print(mynums[1:4])"
   ]
  },
  {
   "cell_type": "code",
   "execution_count": 41,
   "id": "f76c3130",
   "metadata": {},
   "outputs": [
    {
     "name": "stdout",
     "output_type": "stream",
     "text": [
      "(10, 20, 30, 40, 50)\n"
     ]
    }
   ],
   "source": [
    "mynums=(10, 20, 30, 40, 50)\n",
    "\n",
    "print(mynums[0:10])"
   ]
  },
  {
   "cell_type": "code",
   "execution_count": 42,
   "id": "381e8120",
   "metadata": {},
   "outputs": [
    {
     "name": "stdout",
     "output_type": "stream",
     "text": [
      "(10, 20, 30)\n"
     ]
    }
   ],
   "source": [
    "Mynums=(10, 20, 30, 40, 50)\n",
    "\n",
    "print(mynums[ :-2])"
   ]
  },
  {
   "cell_type": "code",
   "execution_count": 43,
   "id": "0b054567",
   "metadata": {},
   "outputs": [
    {
     "name": "stdout",
     "output_type": "stream",
     "text": [
      "(50, 40, 30)\n"
     ]
    }
   ],
   "source": [
    "mynums=(10, 20, 30, 40, 50)\n",
    "\n",
    "print(mynums[4:1:-1])"
   ]
  },
  {
   "cell_type": "markdown",
   "id": "bada363e",
   "metadata": {},
   "source": [
    "###\n",
    "##### 'tuple' object does not support item assignment"
   ]
  },
  {
   "cell_type": "code",
   "execution_count": 44,
   "id": "af703e38",
   "metadata": {},
   "outputs": [],
   "source": [
    "mytuple =(1, 2, 43, 54, 657, 67, 4, 46, 567, 6)"
   ]
  },
  {
   "cell_type": "code",
   "execution_count": 45,
   "id": "73b83016",
   "metadata": {},
   "outputs": [
    {
     "ename": "TypeError",
     "evalue": "'tuple' object does not support item assignment",
     "output_type": "error",
     "traceback": [
      "\u001b[1;31m---------------------------------------------------------------------------\u001b[0m",
      "\u001b[1;31mTypeError\u001b[0m                                 Traceback (most recent call last)",
      "Cell \u001b[1;32mIn[45], line 1\u001b[0m\n\u001b[1;32m----> 1\u001b[0m mytuple[\u001b[38;5;241m3\u001b[39m]\u001b[38;5;241m=\u001b[39m\u001b[38;5;241m100\u001b[39m\n",
      "\u001b[1;31mTypeError\u001b[0m: 'tuple' object does not support item assignment"
     ]
    }
   ],
   "source": [
    "mytuple[3]=100"
   ]
  },
  {
   "cell_type": "raw",
   "id": "fd7d058e",
   "metadata": {},
   "source": []
  },
  {
   "cell_type": "code",
   "execution_count": 46,
   "id": "af67a1c7",
   "metadata": {},
   "outputs": [],
   "source": [
    "mynums=([1, 2], 3, 4, 5, 66, 7)"
   ]
  },
  {
   "cell_type": "code",
   "execution_count": 47,
   "id": "af118210",
   "metadata": {},
   "outputs": [],
   "source": [
    "mynums[0][1] = 100"
   ]
  },
  {
   "cell_type": "code",
   "execution_count": 48,
   "id": "c8b0ecf9",
   "metadata": {},
   "outputs": [
    {
     "data": {
      "text/plain": [
       "([1, 100], 3, 4, 5, 66, 7)"
      ]
     },
     "execution_count": 48,
     "metadata": {},
     "output_type": "execute_result"
    }
   ],
   "source": [
    "mynums"
   ]
  },
  {
   "cell_type": "raw",
   "id": "7e30718c",
   "metadata": {},
   "source": []
  },
  {
   "cell_type": "code",
   "execution_count": 49,
   "id": "3819938f",
   "metadata": {},
   "outputs": [],
   "source": [
    "mytuple=(100, 200, 300, 400, 500)"
   ]
  },
  {
   "cell_type": "code",
   "execution_count": 50,
   "id": "110b7ea9",
   "metadata": {},
   "outputs": [],
   "source": [
    "mytuple=(1, 2, 3, 4, 5)"
   ]
  },
  {
   "cell_type": "code",
   "execution_count": 51,
   "id": "eff83f45",
   "metadata": {},
   "outputs": [
    {
     "data": {
      "text/plain": [
       "(1, 2, 3, 4, 5)"
      ]
     },
     "execution_count": 51,
     "metadata": {},
     "output_type": "execute_result"
    }
   ],
   "source": [
    "mytuple"
   ]
  },
  {
   "cell_type": "markdown",
   "id": "6df31242",
   "metadata": {},
   "source": [
    "###\n",
    "##### 'tuple' object doesn't support item deletion"
   ]
  },
  {
   "cell_type": "code",
   "execution_count": 52,
   "id": "2ac2d165",
   "metadata": {},
   "outputs": [
    {
     "ename": "TypeError",
     "evalue": "'tuple' object doesn't support item deletion",
     "output_type": "error",
     "traceback": [
      "\u001b[1;31m---------------------------------------------------------------------------\u001b[0m",
      "\u001b[1;31mTypeError\u001b[0m                                 Traceback (most recent call last)",
      "Cell \u001b[1;32mIn[52], line 1\u001b[0m\n\u001b[1;32m----> 1\u001b[0m \u001b[38;5;28;01mdel\u001b[39;00m(mytuple[\u001b[38;5;241m3\u001b[39m])\n",
      "\u001b[1;31mTypeError\u001b[0m: 'tuple' object doesn't support item deletion"
     ]
    }
   ],
   "source": [
    "del(mytuple[3])"
   ]
  },
  {
   "cell_type": "code",
   "execution_count": 53,
   "id": "58a53eb3",
   "metadata": {},
   "outputs": [],
   "source": [
    "del(mytuple)"
   ]
  },
  {
   "cell_type": "code",
   "execution_count": 54,
   "id": "679b9a8f",
   "metadata": {},
   "outputs": [
    {
     "ename": "NameError",
     "evalue": "name 'mytuple' is not defined",
     "output_type": "error",
     "traceback": [
      "\u001b[1;31m---------------------------------------------------------------------------\u001b[0m",
      "\u001b[1;31mNameError\u001b[0m                                 Traceback (most recent call last)",
      "Cell \u001b[1;32mIn[54], line 1\u001b[0m\n\u001b[1;32m----> 1\u001b[0m mytuple\n",
      "\u001b[1;31mNameError\u001b[0m: name 'mytuple' is not defined"
     ]
    }
   ],
   "source": [
    "mytuple"
   ]
  },
  {
   "cell_type": "raw",
   "id": "4b2823a0",
   "metadata": {},
   "source": []
  },
  {
   "cell_type": "markdown",
   "id": "c8ca98d9",
   "metadata": {},
   "source": [
    "#\n",
    "## function in tuple:\n",
    "\n",
    "1. len( )\n",
    "2. max( )\n",
    "3. min )\n",
    "4. sum( )\n",
    "5. sorted( )\n",
    "6. any( )\n",
    "7. all( )\n",
    "8. tuple( )"
   ]
  },
  {
   "cell_type": "markdown",
   "id": "a0a4b9a9",
   "metadata": {},
   "source": [
    "\n",
    "### 1. len( )"
   ]
  },
  {
   "cell_type": "code",
   "execution_count": 56,
   "id": "d521c268",
   "metadata": {},
   "outputs": [],
   "source": [
    "mytuple =(1, 2, 43, 54, 657, 67, 4, 46, 567, 6)"
   ]
  },
  {
   "cell_type": "code",
   "execution_count": 57,
   "id": "627448a1",
   "metadata": {},
   "outputs": [
    {
     "data": {
      "text/plain": [
       "10"
      ]
     },
     "execution_count": 57,
     "metadata": {},
     "output_type": "execute_result"
    }
   ],
   "source": [
    "len(mytuple)"
   ]
  },
  {
   "cell_type": "markdown",
   "id": "7092af91",
   "metadata": {},
   "source": [
    "### 2. max( )"
   ]
  },
  {
   "cell_type": "code",
   "execution_count": null,
   "id": "ea25077e",
   "metadata": {},
   "outputs": [],
   "source": [
    "mytuple =(1, 2, 43, 54, 657, 67, 4, 46, 567, 6)"
   ]
  },
  {
   "cell_type": "code",
   "execution_count": 58,
   "id": "a11f2749",
   "metadata": {},
   "outputs": [
    {
     "data": {
      "text/plain": [
       "657"
      ]
     },
     "execution_count": 58,
     "metadata": {},
     "output_type": "execute_result"
    }
   ],
   "source": [
    "max(mytuple)"
   ]
  },
  {
   "cell_type": "markdown",
   "id": "68598c3b",
   "metadata": {},
   "source": [
    "### 3. min( )"
   ]
  },
  {
   "cell_type": "code",
   "execution_count": null,
   "id": "a5cd2a81",
   "metadata": {},
   "outputs": [],
   "source": [
    "mytuple =(1, 2, 43, 54, 657, 67, 4, 46, 567, 6)"
   ]
  },
  {
   "cell_type": "code",
   "execution_count": 59,
   "id": "7734f2bc",
   "metadata": {},
   "outputs": [
    {
     "data": {
      "text/plain": [
       "1"
      ]
     },
     "execution_count": 59,
     "metadata": {},
     "output_type": "execute_result"
    }
   ],
   "source": [
    "min(mytuple)"
   ]
  },
  {
   "cell_type": "markdown",
   "id": "b3e61773",
   "metadata": {},
   "source": [
    "### 4. sum( )"
   ]
  },
  {
   "cell_type": "code",
   "execution_count": null,
   "id": "0eea6e06",
   "metadata": {},
   "outputs": [],
   "source": [
    "mytuple =(1, 2, 43, 54, 657, 67, 4, 46, 567, 6)"
   ]
  },
  {
   "cell_type": "code",
   "execution_count": 60,
   "id": "3f6a6259",
   "metadata": {},
   "outputs": [
    {
     "data": {
      "text/plain": [
       "1447"
      ]
     },
     "execution_count": 60,
     "metadata": {},
     "output_type": "execute_result"
    }
   ],
   "source": [
    "sum(mytuple)"
   ]
  },
  {
   "cell_type": "markdown",
   "id": "77f14910",
   "metadata": {},
   "source": [
    "### 5. sorted( )"
   ]
  },
  {
   "cell_type": "code",
   "execution_count": null,
   "id": "4596269c",
   "metadata": {},
   "outputs": [],
   "source": [
    "mytuple =(1, 2, 43, 54, 657, 67, 4, 46, 567, 6)"
   ]
  },
  {
   "cell_type": "code",
   "execution_count": 61,
   "id": "4e98f1bd",
   "metadata": {},
   "outputs": [
    {
     "data": {
      "text/plain": [
       "[1, 2, 4, 6, 43, 46, 54, 67, 567, 657]"
      ]
     },
     "execution_count": 61,
     "metadata": {},
     "output_type": "execute_result"
    }
   ],
   "source": [
    "sorted(mytuple)"
   ]
  },
  {
   "cell_type": "code",
   "execution_count": 62,
   "id": "5942b131",
   "metadata": {},
   "outputs": [
    {
     "data": {
      "text/plain": [
       "[657, 567, 67, 54, 46, 43, 6, 4, 2, 1]"
      ]
     },
     "execution_count": 62,
     "metadata": {},
     "output_type": "execute_result"
    }
   ],
   "source": [
    "sorted(mytuple, reverse=True)"
   ]
  },
  {
   "cell_type": "markdown",
   "id": "39923132",
   "metadata": {},
   "source": [
    "### 6. any( )"
   ]
  },
  {
   "cell_type": "code",
   "execution_count": null,
   "id": "8a087eea",
   "metadata": {},
   "outputs": [],
   "source": [
    "mytuple =(1, 2, 43, 54, 657, 67, 4, 46, 567, 6)"
   ]
  },
  {
   "cell_type": "code",
   "execution_count": 63,
   "id": "84fb64dd",
   "metadata": {},
   "outputs": [
    {
     "data": {
      "text/plain": [
       "True"
      ]
     },
     "execution_count": 63,
     "metadata": {},
     "output_type": "execute_result"
    }
   ],
   "source": [
    "#any one element should be true\n",
    "any(mytuple)"
   ]
  },
  {
   "cell_type": "markdown",
   "id": "9557499d",
   "metadata": {},
   "source": [
    "### 7. all( )"
   ]
  },
  {
   "cell_type": "code",
   "execution_count": null,
   "id": "e81e95e7",
   "metadata": {},
   "outputs": [],
   "source": [
    "mytuple =(1, 2, 43, 54, 657, 67, 4, 46, 567, 6)"
   ]
  },
  {
   "cell_type": "code",
   "execution_count": 64,
   "id": "0b4b45e5",
   "metadata": {},
   "outputs": [
    {
     "data": {
      "text/plain": [
       "True"
      ]
     },
     "execution_count": 64,
     "metadata": {},
     "output_type": "execute_result"
    }
   ],
   "source": [
    "#all element should be true\n",
    "all(mytuple)"
   ]
  },
  {
   "cell_type": "markdown",
   "id": "178a66b1",
   "metadata": {},
   "source": [
    "### 8. tuple( )     "
   ]
  },
  {
   "cell_type": "code",
   "execution_count": 65,
   "id": "5471acf5",
   "metadata": {},
   "outputs": [
    {
     "data": {
      "text/plain": [
       "('g', 'o', 'b', 'i', 'n', 'd', 'a')"
      ]
     },
     "execution_count": 65,
     "metadata": {},
     "output_type": "execute_result"
    }
   ],
   "source": [
    "tuple(\"gobinda\")"
   ]
  },
  {
   "cell_type": "code",
   "execution_count": 66,
   "id": "b08094f2",
   "metadata": {},
   "outputs": [
    {
     "data": {
      "text/plain": [
       "(1, 2, 3, 45, 6, 7, 4, 4)"
      ]
     },
     "execution_count": 66,
     "metadata": {},
     "output_type": "execute_result"
    }
   ],
   "source": [
    "tuple([1,2,3,45,6,7,4,4])"
   ]
  },
  {
   "cell_type": "markdown",
   "id": "46ed6e4e",
   "metadata": {},
   "source": [
    "# "
   ]
  },
  {
   "cell_type": "markdown",
   "id": "d897564b",
   "metadata": {},
   "source": [
    "iterable: iterable is a object on tope that we can iterate \n",
    "1. list\n",
    "2. tuple\n",
    "3. string\n",
    "4. set\n",
    "5. range"
   ]
  },
  {
   "cell_type": "markdown",
   "id": "a2d8a0da",
   "metadata": {},
   "source": [
    "methods for tuple:\n",
    "1. append() # it won't work\n",
    "2. extend() # it won't work\n",
    "3. insert() # it won't work\n",
    "4. count() # work\n",
    "5. index() # work\n",
    "6. clear() # it won't work\n",
    "7. pop() # it won't work\n",
    "8. remove() # it won't work\n",
    "8. sort() # it won't work\n",
    "9. reverse() # it won't work"
   ]
  },
  {
   "cell_type": "markdown",
   "id": "91079be0",
   "metadata": {},
   "source": [
    "#\n",
    "### 4. count()"
   ]
  },
  {
   "cell_type": "code",
   "execution_count": 67,
   "id": "bd22f31b",
   "metadata": {},
   "outputs": [],
   "source": [
    "mytuple =(1, 2, 43, 54, 6, 657, 67, 4, 46, 567, 6)"
   ]
  },
  {
   "cell_type": "code",
   "execution_count": 68,
   "id": "011b4b4a",
   "metadata": {},
   "outputs": [
    {
     "data": {
      "text/plain": [
       "2"
      ]
     },
     "execution_count": 68,
     "metadata": {},
     "output_type": "execute_result"
    }
   ],
   "source": [
    "mytuple.count(6)"
   ]
  },
  {
   "cell_type": "markdown",
   "id": "81e8b273",
   "metadata": {},
   "source": [
    "### 5. index()"
   ]
  },
  {
   "cell_type": "code",
   "execution_count": null,
   "id": "6d2c482c",
   "metadata": {},
   "outputs": [],
   "source": [
    "mytuple =(1, 2, 43, 54, 6, 657, 67, 4, 46, 567, 6)"
   ]
  },
  {
   "cell_type": "code",
   "execution_count": 69,
   "id": "fbc38809",
   "metadata": {},
   "outputs": [
    {
     "data": {
      "text/plain": [
       "6"
      ]
     },
     "execution_count": 69,
     "metadata": {},
     "output_type": "execute_result"
    }
   ],
   "source": [
    "mytuple.index(67)"
   ]
  },
  {
   "cell_type": "markdown",
   "id": "55e56ac8",
   "metadata": {},
   "source": [
    "# "
   ]
  },
  {
   "cell_type": "markdown",
   "id": "5a00e0b9",
   "metadata": {},
   "source": [
    "### membership operator "
   ]
  },
  {
   "cell_type": "raw",
   "id": "f79840df",
   "metadata": {},
   "source": [
    "in and not in"
   ]
  },
  {
   "cell_type": "code",
   "execution_count": 70,
   "id": "adea81ae",
   "metadata": {},
   "outputs": [],
   "source": [
    "my_tuple=(\"a\", \"e\", \"i\", \"o\", \"u\")"
   ]
  },
  {
   "cell_type": "code",
   "execution_count": 71,
   "id": "3c9baad4",
   "metadata": {},
   "outputs": [
    {
     "data": {
      "text/plain": [
       "True"
      ]
     },
     "execution_count": 71,
     "metadata": {},
     "output_type": "execute_result"
    }
   ],
   "source": [
    "'a' in my_tuple"
   ]
  },
  {
   "cell_type": "code",
   "execution_count": 72,
   "id": "ffde43db",
   "metadata": {},
   "outputs": [
    {
     "data": {
      "text/plain": [
       "True"
      ]
     },
     "execution_count": 72,
     "metadata": {},
     "output_type": "execute_result"
    }
   ],
   "source": [
    "'z' not in my_tuple"
   ]
  },
  {
   "cell_type": "markdown",
   "id": "c3c03788",
   "metadata": {},
   "source": [
    "# "
   ]
  },
  {
   "cell_type": "markdown",
   "id": "3677a0b2",
   "metadata": {},
   "source": [
    "### concatenation "
   ]
  },
  {
   "cell_type": "code",
   "execution_count": 73,
   "id": "3fa675dd",
   "metadata": {},
   "outputs": [],
   "source": [
    "odd = (1, 3, 5)\n",
    "even = (2, 4, 6)"
   ]
  },
  {
   "cell_type": "code",
   "execution_count": 78,
   "id": "5fa05eef",
   "metadata": {},
   "outputs": [],
   "source": [
    "all = odd + even"
   ]
  },
  {
   "cell_type": "code",
   "execution_count": 79,
   "id": "531d3659",
   "metadata": {},
   "outputs": [
    {
     "data": {
      "text/plain": [
       "(1, 3, 5, 2, 4, 6)"
      ]
     },
     "execution_count": 79,
     "metadata": {},
     "output_type": "execute_result"
    }
   ],
   "source": [
    "all"
   ]
  },
  {
   "cell_type": "raw",
   "id": "11065b03",
   "metadata": {},
   "source": []
  },
  {
   "cell_type": "code",
   "execution_count": 75,
   "id": "9740eb06",
   "metadata": {},
   "outputs": [
    {
     "data": {
      "text/plain": [
       "2735785297088"
      ]
     },
     "execution_count": 75,
     "metadata": {},
     "output_type": "execute_result"
    }
   ],
   "source": [
    "id(odd)"
   ]
  },
  {
   "cell_type": "code",
   "execution_count": 76,
   "id": "81739f22",
   "metadata": {},
   "outputs": [
    {
     "data": {
      "text/plain": [
       "2735785129280"
      ]
     },
     "execution_count": 76,
     "metadata": {},
     "output_type": "execute_result"
    }
   ],
   "source": [
    "id(even)"
   ]
  },
  {
   "cell_type": "code",
   "execution_count": 77,
   "id": "7398fd8c",
   "metadata": {},
   "outputs": [
    {
     "data": {
      "text/plain": [
       "2735785094752"
      ]
     },
     "execution_count": 77,
     "metadata": {},
     "output_type": "execute_result"
    }
   ],
   "source": [
    "id(odd+even)"
   ]
  },
  {
   "cell_type": "code",
   "execution_count": 80,
   "id": "a68f3859",
   "metadata": {},
   "outputs": [
    {
     "data": {
      "text/plain": [
       "2735785094752"
      ]
     },
     "execution_count": 80,
     "metadata": {},
     "output_type": "execute_result"
    }
   ],
   "source": [
    "id(all)"
   ]
  },
  {
   "cell_type": "markdown",
   "id": "af42b106",
   "metadata": {},
   "source": [
    "# "
   ]
  },
  {
   "cell_type": "markdown",
   "id": "fb7cf3bd",
   "metadata": {},
   "source": [
    "### multiplication of element"
   ]
  },
  {
   "cell_type": "code",
   "execution_count": 82,
   "id": "14be7d91",
   "metadata": {},
   "outputs": [],
   "source": [
    "a = (10, 20, 30)"
   ]
  },
  {
   "cell_type": "code",
   "execution_count": 83,
   "id": "39170f68",
   "metadata": {},
   "outputs": [
    {
     "data": {
      "text/plain": [
       "(10, 20, 30, 10, 20, 30, 10, 20, 30)"
      ]
     },
     "execution_count": 83,
     "metadata": {},
     "output_type": "execute_result"
    }
   ],
   "source": [
    "a*3"
   ]
  },
  {
   "cell_type": "raw",
   "id": "7c3f140c",
   "metadata": {},
   "source": []
  },
  {
   "cell_type": "code",
   "execution_count": 84,
   "id": "49c331a2",
   "metadata": {},
   "outputs": [
    {
     "data": {
      "text/plain": [
       "2735785298368"
      ]
     },
     "execution_count": 84,
     "metadata": {},
     "output_type": "execute_result"
    }
   ],
   "source": [
    "id(a)"
   ]
  },
  {
   "cell_type": "code",
   "execution_count": 85,
   "id": "113104ad",
   "metadata": {},
   "outputs": [
    {
     "data": {
      "text/plain": [
       "2735785710528"
      ]
     },
     "execution_count": 85,
     "metadata": {},
     "output_type": "execute_result"
    }
   ],
   "source": [
    "id(a*3)"
   ]
  },
  {
   "cell_type": "markdown",
   "id": "89430a5f",
   "metadata": {},
   "source": [
    "# "
   ]
  },
  {
   "cell_type": "markdown",
   "id": "a79031e5",
   "metadata": {},
   "source": [
    "### relational operators"
   ]
  },
  {
   "cell_type": "code",
   "execution_count": 87,
   "id": "e21fc95f",
   "metadata": {},
   "outputs": [],
   "source": [
    "a = (4, 5, 6)\n",
    "b = (4, 5, 6)"
   ]
  },
  {
   "cell_type": "code",
   "execution_count": 88,
   "id": "4ab245ec",
   "metadata": {},
   "outputs": [
    {
     "data": {
      "text/plain": [
       "False"
      ]
     },
     "execution_count": 88,
     "metadata": {},
     "output_type": "execute_result"
    }
   ],
   "source": [
    "a<b"
   ]
  },
  {
   "cell_type": "raw",
   "id": "0d7baec2",
   "metadata": {},
   "source": []
  }
 ],
 "metadata": {
  "kernelspec": {
   "display_name": "Python 3 (ipykernel)",
   "language": "python",
   "name": "python3"
  },
  "language_info": {
   "codemirror_mode": {
    "name": "ipython",
    "version": 3
   },
   "file_extension": ".py",
   "mimetype": "text/x-python",
   "name": "python",
   "nbconvert_exporter": "python",
   "pygments_lexer": "ipython3",
   "version": "3.11.5"
  }
 },
 "nbformat": 4,
 "nbformat_minor": 5
}
