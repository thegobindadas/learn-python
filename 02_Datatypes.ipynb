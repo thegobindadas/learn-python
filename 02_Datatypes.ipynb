{
 "cells": [
  {
   "cell_type": "markdown",
   "id": "daa5bb0e",
   "metadata": {},
   "source": [
    "# Datatypes"
   ]
  },
  {
   "cell_type": "raw",
   "id": "c0d351d6",
   "metadata": {},
   "source": []
  },
  {
   "cell_type": "code",
   "execution_count": 2,
   "id": "8f0e5632",
   "metadata": {},
   "outputs": [],
   "source": [
    "a = 10"
   ]
  },
  {
   "cell_type": "code",
   "execution_count": 3,
   "id": "9ba8eceb",
   "metadata": {},
   "outputs": [
    {
     "data": {
      "text/plain": [
       "int"
      ]
     },
     "execution_count": 3,
     "metadata": {},
     "output_type": "execute_result"
    }
   ],
   "source": [
    "type(a)"
   ]
  },
  {
   "cell_type": "raw",
   "id": "a857b78a",
   "metadata": {},
   "source": []
  },
  {
   "cell_type": "code",
   "execution_count": 92,
   "id": "1e742568",
   "metadata": {},
   "outputs": [],
   "source": [
    "aa = 123456789987654321852456753951"
   ]
  },
  {
   "cell_type": "code",
   "execution_count": 93,
   "id": "2d798a6d",
   "metadata": {},
   "outputs": [
    {
     "data": {
      "text/plain": [
       "int"
      ]
     },
     "execution_count": 93,
     "metadata": {},
     "output_type": "execute_result"
    }
   ],
   "source": [
    "type(aa)"
   ]
  },
  {
   "cell_type": "raw",
   "id": "60d60f71",
   "metadata": {},
   "source": []
  },
  {
   "cell_type": "code",
   "execution_count": 3,
   "id": "81e6835c",
   "metadata": {},
   "outputs": [],
   "source": [
    "b = 10.45"
   ]
  },
  {
   "cell_type": "code",
   "execution_count": 4,
   "id": "f4897234",
   "metadata": {},
   "outputs": [
    {
     "data": {
      "text/plain": [
       "float"
      ]
     },
     "execution_count": 4,
     "metadata": {},
     "output_type": "execute_result"
    }
   ],
   "source": [
    "type(b)"
   ]
  },
  {
   "cell_type": "raw",
   "id": "0c907503",
   "metadata": {},
   "source": []
  },
  {
   "cell_type": "code",
   "execution_count": 6,
   "id": "53d260ca",
   "metadata": {},
   "outputs": [],
   "source": [
    "bb = 15570.4517575"
   ]
  },
  {
   "cell_type": "code",
   "execution_count": 7,
   "id": "4b5aa9e1",
   "metadata": {},
   "outputs": [
    {
     "data": {
      "text/plain": [
       "float"
      ]
     },
     "execution_count": 7,
     "metadata": {},
     "output_type": "execute_result"
    }
   ],
   "source": [
    "type(bb)"
   ]
  },
  {
   "cell_type": "raw",
   "id": "afa1adaf",
   "metadata": {},
   "source": []
  },
  {
   "cell_type": "code",
   "execution_count": 1,
   "id": "ef545458",
   "metadata": {},
   "outputs": [],
   "source": [
    "c = \"Gobinda\""
   ]
  },
  {
   "cell_type": "code",
   "execution_count": 2,
   "id": "e8a4d3f0",
   "metadata": {},
   "outputs": [
    {
     "data": {
      "text/plain": [
       "str"
      ]
     },
     "execution_count": 2,
     "metadata": {},
     "output_type": "execute_result"
    }
   ],
   "source": [
    "type(c)"
   ]
  },
  {
   "cell_type": "code",
   "execution_count": 8,
   "id": "2be7b3b1",
   "metadata": {},
   "outputs": [
    {
     "data": {
      "text/plain": [
       "'G'"
      ]
     },
     "execution_count": 8,
     "metadata": {},
     "output_type": "execute_result"
    }
   ],
   "source": [
    "c[0]"
   ]
  },
  {
   "cell_type": "raw",
   "id": "78ae02d3",
   "metadata": {},
   "source": []
  },
  {
   "cell_type": "code",
   "execution_count": 4,
   "id": "76beae56",
   "metadata": {},
   "outputs": [],
   "source": [
    "x = 'Z'"
   ]
  },
  {
   "cell_type": "code",
   "execution_count": 5,
   "id": "1113bb91",
   "metadata": {},
   "outputs": [
    {
     "data": {
      "text/plain": [
       "str"
      ]
     },
     "execution_count": 5,
     "metadata": {},
     "output_type": "execute_result"
    }
   ],
   "source": [
    "type(x)"
   ]
  },
  {
   "cell_type": "raw",
   "id": "9720e4c3",
   "metadata": {},
   "source": []
  },
  {
   "cell_type": "code",
   "execution_count": 94,
   "id": "c67fba7a",
   "metadata": {},
   "outputs": [],
   "source": [
    "temp = True"
   ]
  },
  {
   "cell_type": "code",
   "execution_count": 95,
   "id": "d65eb746",
   "metadata": {},
   "outputs": [
    {
     "data": {
      "text/plain": [
       "bool"
      ]
     },
     "execution_count": 95,
     "metadata": {},
     "output_type": "execute_result"
    }
   ],
   "source": [
    "type(temp)"
   ]
  },
  {
   "cell_type": "raw",
   "id": "b40d8f51",
   "metadata": {},
   "source": []
  },
  {
   "cell_type": "raw",
   "id": "0eaae2b1",
   "metadata": {},
   "source": []
  },
  {
   "cell_type": "markdown",
   "id": "8ef2db81",
   "metadata": {},
   "source": [
    "#\n",
    "## int"
   ]
  },
  {
   "cell_type": "code",
   "execution_count": 10,
   "id": "1e9941ef",
   "metadata": {},
   "outputs": [],
   "source": [
    "a = 10"
   ]
  },
  {
   "cell_type": "code",
   "execution_count": 11,
   "id": "feafeff0",
   "metadata": {},
   "outputs": [
    {
     "data": {
      "text/plain": [
       "28"
      ]
     },
     "execution_count": 11,
     "metadata": {},
     "output_type": "execute_result"
    }
   ],
   "source": [
    "import sys\n",
    "sys.getsizeof(a)"
   ]
  },
  {
   "cell_type": "code",
   "execution_count": 12,
   "id": "05791c21",
   "metadata": {},
   "outputs": [],
   "source": [
    "a = 200"
   ]
  },
  {
   "cell_type": "code",
   "execution_count": 13,
   "id": "d6c1cfd9",
   "metadata": {},
   "outputs": [
    {
     "data": {
      "text/plain": [
       "28"
      ]
     },
     "execution_count": 13,
     "metadata": {},
     "output_type": "execute_result"
    }
   ],
   "source": [
    "import sys\n",
    "sys.getsizeof(a)"
   ]
  },
  {
   "cell_type": "code",
   "execution_count": 14,
   "id": "19dd9b5b",
   "metadata": {},
   "outputs": [],
   "source": [
    "a = 200000"
   ]
  },
  {
   "cell_type": "code",
   "execution_count": 15,
   "id": "7070d253",
   "metadata": {},
   "outputs": [
    {
     "data": {
      "text/plain": [
       "28"
      ]
     },
     "execution_count": 15,
     "metadata": {},
     "output_type": "execute_result"
    }
   ],
   "source": [
    "import sys\n",
    "sys.getsizeof(a)"
   ]
  },
  {
   "cell_type": "code",
   "execution_count": 16,
   "id": "96e631a9",
   "metadata": {},
   "outputs": [],
   "source": [
    "a = 2000000000"
   ]
  },
  {
   "cell_type": "code",
   "execution_count": 17,
   "id": "b850d907",
   "metadata": {},
   "outputs": [
    {
     "data": {
      "text/plain": [
       "32"
      ]
     },
     "execution_count": 17,
     "metadata": {},
     "output_type": "execute_result"
    }
   ],
   "source": [
    "import sys\n",
    "sys.getsizeof(a)"
   ]
  },
  {
   "cell_type": "code",
   "execution_count": 18,
   "id": "948907e6",
   "metadata": {},
   "outputs": [],
   "source": [
    "a = 64984859856445469859898219898659889"
   ]
  },
  {
   "cell_type": "code",
   "execution_count": 19,
   "id": "feb597b5",
   "metadata": {},
   "outputs": [
    {
     "data": {
      "text/plain": [
       "40"
      ]
     },
     "execution_count": 19,
     "metadata": {},
     "output_type": "execute_result"
    }
   ],
   "source": [
    "import sys\n",
    "sys.getsizeof(a)"
   ]
  },
  {
   "cell_type": "code",
   "execution_count": 38,
   "id": "d0662cbb",
   "metadata": {},
   "outputs": [],
   "source": [
    "a = 649848598564454698598982198986598896498485985644546985989821989659889454698"
   ]
  },
  {
   "cell_type": "code",
   "execution_count": 39,
   "id": "f8a0580e",
   "metadata": {},
   "outputs": [
    {
     "data": {
      "text/plain": [
       "60"
      ]
     },
     "execution_count": 39,
     "metadata": {},
     "output_type": "execute_result"
    }
   ],
   "source": [
    "import sys\n",
    "sys.getsizeof(a)"
   ]
  },
  {
   "cell_type": "raw",
   "id": "7a562b0e",
   "metadata": {},
   "source": []
  },
  {
   "cell_type": "raw",
   "id": "5e91b5c0",
   "metadata": {},
   "source": []
  },
  {
   "cell_type": "markdown",
   "id": "b841c56f",
   "metadata": {},
   "source": [
    "## Boolean"
   ]
  },
  {
   "cell_type": "code",
   "execution_count": 27,
   "id": "7a6a395e",
   "metadata": {},
   "outputs": [],
   "source": [
    "a = True"
   ]
  },
  {
   "cell_type": "code",
   "execution_count": 28,
   "id": "37bc44eb",
   "metadata": {},
   "outputs": [
    {
     "data": {
      "text/plain": [
       "bool"
      ]
     },
     "execution_count": 28,
     "metadata": {},
     "output_type": "execute_result"
    }
   ],
   "source": [
    "type(a)"
   ]
  },
  {
   "cell_type": "code",
   "execution_count": 29,
   "id": "13c7aa25",
   "metadata": {},
   "outputs": [],
   "source": [
    "a = False"
   ]
  },
  {
   "cell_type": "code",
   "execution_count": 30,
   "id": "a22aa739",
   "metadata": {},
   "outputs": [
    {
     "data": {
      "text/plain": [
       "bool"
      ]
     },
     "execution_count": 30,
     "metadata": {},
     "output_type": "execute_result"
    }
   ],
   "source": [
    "type(a)"
   ]
  },
  {
   "cell_type": "raw",
   "id": "d06e9b5f",
   "metadata": {},
   "source": []
  },
  {
   "cell_type": "raw",
   "id": "c39620f1",
   "metadata": {},
   "source": [
    "True = 1\n",
    "False = 0"
   ]
  },
  {
   "cell_type": "code",
   "execution_count": 31,
   "id": "8291f87b",
   "metadata": {},
   "outputs": [
    {
     "data": {
      "text/plain": [
       "2"
      ]
     },
     "execution_count": 31,
     "metadata": {},
     "output_type": "execute_result"
    }
   ],
   "source": [
    "1 + 1"
   ]
  },
  {
   "cell_type": "code",
   "execution_count": 32,
   "id": "b561ba48",
   "metadata": {},
   "outputs": [
    {
     "data": {
      "text/plain": [
       "2"
      ]
     },
     "execution_count": 32,
     "metadata": {},
     "output_type": "execute_result"
    }
   ],
   "source": [
    "True + True"
   ]
  },
  {
   "cell_type": "code",
   "execution_count": 33,
   "id": "4719017e",
   "metadata": {},
   "outputs": [
    {
     "data": {
      "text/plain": [
       "1"
      ]
     },
     "execution_count": 33,
     "metadata": {},
     "output_type": "execute_result"
    }
   ],
   "source": [
    "True + False"
   ]
  },
  {
   "cell_type": "code",
   "execution_count": 34,
   "id": "726ad9ef",
   "metadata": {},
   "outputs": [
    {
     "data": {
      "text/plain": [
       "1"
      ]
     },
     "execution_count": 34,
     "metadata": {},
     "output_type": "execute_result"
    }
   ],
   "source": [
    "False + True"
   ]
  },
  {
   "cell_type": "code",
   "execution_count": 35,
   "id": "d4bc7e1a",
   "metadata": {},
   "outputs": [
    {
     "data": {
      "text/plain": [
       "0"
      ]
     },
     "execution_count": 35,
     "metadata": {},
     "output_type": "execute_result"
    }
   ],
   "source": [
    "False + False"
   ]
  },
  {
   "cell_type": "raw",
   "id": "727d27ab",
   "metadata": {},
   "source": []
  },
  {
   "cell_type": "code",
   "execution_count": 36,
   "id": "66c6f294",
   "metadata": {},
   "outputs": [],
   "source": [
    "a = True"
   ]
  },
  {
   "cell_type": "code",
   "execution_count": 38,
   "id": "9da43e2f",
   "metadata": {},
   "outputs": [
    {
     "data": {
      "text/plain": [
       "28"
      ]
     },
     "execution_count": 38,
     "metadata": {},
     "output_type": "execute_result"
    }
   ],
   "source": [
    "import sys\n",
    "sys.getsizeof(a)"
   ]
  },
  {
   "cell_type": "code",
   "execution_count": 39,
   "id": "16156ec9",
   "metadata": {},
   "outputs": [],
   "source": [
    "x = 1"
   ]
  },
  {
   "cell_type": "code",
   "execution_count": 40,
   "id": "fbb17528",
   "metadata": {},
   "outputs": [
    {
     "data": {
      "text/plain": [
       "28"
      ]
     },
     "execution_count": 40,
     "metadata": {},
     "output_type": "execute_result"
    }
   ],
   "source": [
    "import sys\n",
    "sys.getsizeof(x)"
   ]
  },
  {
   "cell_type": "raw",
   "id": "bedbcefe",
   "metadata": {},
   "source": []
  },
  {
   "cell_type": "raw",
   "id": "9c640f6d",
   "metadata": {},
   "source": []
  },
  {
   "cell_type": "markdown",
   "id": "ff730050",
   "metadata": {},
   "source": [
    "## String"
   ]
  },
  {
   "cell_type": "code",
   "execution_count": 41,
   "id": "a8fc56cc",
   "metadata": {},
   "outputs": [],
   "source": [
    "a = \"gobinda\""
   ]
  },
  {
   "cell_type": "code",
   "execution_count": 42,
   "id": "d9033a24",
   "metadata": {},
   "outputs": [
    {
     "data": {
      "text/plain": [
       "str"
      ]
     },
     "execution_count": 42,
     "metadata": {},
     "output_type": "execute_result"
    }
   ],
   "source": [
    "type(a)"
   ]
  },
  {
   "cell_type": "code",
   "execution_count": 43,
   "id": "ed2ac157",
   "metadata": {},
   "outputs": [],
   "source": [
    "a = 'gobinda'"
   ]
  },
  {
   "cell_type": "code",
   "execution_count": 44,
   "id": "790bc740",
   "metadata": {},
   "outputs": [
    {
     "data": {
      "text/plain": [
       "'gobinda'"
      ]
     },
     "execution_count": 44,
     "metadata": {},
     "output_type": "execute_result"
    }
   ],
   "source": [
    "a"
   ]
  },
  {
   "cell_type": "code",
   "execution_count": 45,
   "id": "020488f1",
   "metadata": {},
   "outputs": [
    {
     "data": {
      "text/plain": [
       "str"
      ]
     },
     "execution_count": 45,
     "metadata": {},
     "output_type": "execute_result"
    }
   ],
   "source": [
    "type(a)"
   ]
  },
  {
   "cell_type": "code",
   "execution_count": 46,
   "id": "35b6efef",
   "metadata": {},
   "outputs": [],
   "source": [
    "a = \"Gobinda\"\n",
    "b = \"Das\""
   ]
  },
  {
   "cell_type": "code",
   "execution_count": 47,
   "id": "0f707c84",
   "metadata": {},
   "outputs": [
    {
     "data": {
      "text/plain": [
       "'GobindaDas'"
      ]
     },
     "execution_count": 47,
     "metadata": {},
     "output_type": "execute_result"
    }
   ],
   "source": [
    "a+b"
   ]
  },
  {
   "cell_type": "code",
   "execution_count": 48,
   "id": "b47be051",
   "metadata": {},
   "outputs": [
    {
     "data": {
      "text/plain": [
       "'Gobinda Das'"
      ]
     },
     "execution_count": 48,
     "metadata": {},
     "output_type": "execute_result"
    }
   ],
   "source": [
    "a + \" \" + b"
   ]
  },
  {
   "cell_type": "code",
   "execution_count": 49,
   "id": "94d17102",
   "metadata": {},
   "outputs": [],
   "source": [
    "msg = \"Gobinda's python class\""
   ]
  },
  {
   "cell_type": "code",
   "execution_count": 50,
   "id": "0f77787d",
   "metadata": {},
   "outputs": [
    {
     "data": {
      "text/plain": [
       "\"Gobinda's python class\""
      ]
     },
     "execution_count": 50,
     "metadata": {},
     "output_type": "execute_result"
    }
   ],
   "source": [
    "msg"
   ]
  },
  {
   "cell_type": "code",
   "execution_count": 52,
   "id": "a94e2743",
   "metadata": {},
   "outputs": [],
   "source": [
    "msg = 'Gobinda\"s python class'"
   ]
  },
  {
   "cell_type": "code",
   "execution_count": 53,
   "id": "a3a4a414",
   "metadata": {},
   "outputs": [
    {
     "data": {
      "text/plain": [
       "'Gobinda\"s python class'"
      ]
     },
     "execution_count": 53,
     "metadata": {},
     "output_type": "execute_result"
    }
   ],
   "source": [
    "msg"
   ]
  },
  {
   "cell_type": "code",
   "execution_count": 67,
   "id": "ce6351f1",
   "metadata": {},
   "outputs": [],
   "source": [
    "msg = 'let\\'s learn \"python\"'"
   ]
  },
  {
   "cell_type": "code",
   "execution_count": 68,
   "id": "ab6b9562",
   "metadata": {},
   "outputs": [
    {
     "name": "stdout",
     "output_type": "stream",
     "text": [
      "let's learn \"python\"\n"
     ]
    }
   ],
   "source": [
    "print(msg)"
   ]
  },
  {
   "cell_type": "code",
   "execution_count": 69,
   "id": "acb7a927",
   "metadata": {},
   "outputs": [
    {
     "data": {
      "text/plain": [
       "str"
      ]
     },
     "execution_count": 69,
     "metadata": {},
     "output_type": "execute_result"
    }
   ],
   "source": [
    "type(msg)"
   ]
  },
  {
   "cell_type": "code",
   "execution_count": 70,
   "id": "1c52655f",
   "metadata": {},
   "outputs": [],
   "source": [
    "msg = \"\"\"let\\'s learn \"python\" \"\"\""
   ]
  },
  {
   "cell_type": "code",
   "execution_count": 71,
   "id": "b176a227",
   "metadata": {},
   "outputs": [
    {
     "name": "stdout",
     "output_type": "stream",
     "text": [
      "let's learn \"python\" \n"
     ]
    }
   ],
   "source": [
    "print(msg)"
   ]
  },
  {
   "cell_type": "code",
   "execution_count": 72,
   "id": "d5193637",
   "metadata": {},
   "outputs": [
    {
     "data": {
      "text/plain": [
       "str"
      ]
     },
     "execution_count": 72,
     "metadata": {},
     "output_type": "execute_result"
    }
   ],
   "source": [
    "type(msg)"
   ]
  },
  {
   "cell_type": "code",
   "execution_count": 73,
   "id": "e510d07e",
   "metadata": {},
   "outputs": [],
   "source": [
    "my_string = \"\"\"my\n",
    "              name\n",
    "               is\n",
    "            Gobinda\"\"\""
   ]
  },
  {
   "cell_type": "raw",
   "id": "4923c5c5",
   "metadata": {},
   "source": []
  },
  {
   "cell_type": "markdown",
   "id": "0673bac7",
   "metadata": {},
   "source": [
    "#\n",
    "## Type conversion"
   ]
  },
  {
   "cell_type": "code",
   "execution_count": 76,
   "id": "46655d70",
   "metadata": {},
   "outputs": [],
   "source": [
    "a = 100"
   ]
  },
  {
   "cell_type": "code",
   "execution_count": 77,
   "id": "bb7cb749",
   "metadata": {},
   "outputs": [
    {
     "data": {
      "text/plain": [
       "int"
      ]
     },
     "execution_count": 77,
     "metadata": {},
     "output_type": "execute_result"
    }
   ],
   "source": [
    "type(a)"
   ]
  },
  {
   "cell_type": "code",
   "execution_count": 78,
   "id": "c72f7ce3",
   "metadata": {},
   "outputs": [],
   "source": [
    "b = float(a)"
   ]
  },
  {
   "cell_type": "code",
   "execution_count": 79,
   "id": "9b5bd6b0",
   "metadata": {},
   "outputs": [
    {
     "data": {
      "text/plain": [
       "float"
      ]
     },
     "execution_count": 79,
     "metadata": {},
     "output_type": "execute_result"
    }
   ],
   "source": [
    "type(b)"
   ]
  },
  {
   "cell_type": "code",
   "execution_count": 81,
   "id": "88df11e8",
   "metadata": {},
   "outputs": [
    {
     "name": "stdout",
     "output_type": "stream",
     "text": [
      "100.0\n"
     ]
    }
   ],
   "source": [
    "print(b)"
   ]
  },
  {
   "cell_type": "raw",
   "id": "99599da7",
   "metadata": {},
   "source": []
  },
  {
   "cell_type": "code",
   "execution_count": 82,
   "id": "a7d1ecf5",
   "metadata": {},
   "outputs": [],
   "source": [
    "a = '10'\n",
    "b = '20'"
   ]
  },
  {
   "cell_type": "code",
   "execution_count": 83,
   "id": "8c8ac7b5",
   "metadata": {},
   "outputs": [
    {
     "data": {
      "text/plain": [
       "str"
      ]
     },
     "execution_count": 83,
     "metadata": {},
     "output_type": "execute_result"
    }
   ],
   "source": [
    "type(a)"
   ]
  },
  {
   "cell_type": "code",
   "execution_count": 84,
   "id": "90533d66",
   "metadata": {},
   "outputs": [
    {
     "data": {
      "text/plain": [
       "str"
      ]
     },
     "execution_count": 84,
     "metadata": {},
     "output_type": "execute_result"
    }
   ],
   "source": [
    "type(b)"
   ]
  },
  {
   "cell_type": "code",
   "execution_count": 85,
   "id": "af8904f8",
   "metadata": {},
   "outputs": [
    {
     "name": "stdout",
     "output_type": "stream",
     "text": [
      "1020\n"
     ]
    }
   ],
   "source": [
    "print(a+b)"
   ]
  },
  {
   "cell_type": "code",
   "execution_count": 86,
   "id": "9cef1ab1",
   "metadata": {},
   "outputs": [
    {
     "name": "stdout",
     "output_type": "stream",
     "text": [
      "30\n"
     ]
    }
   ],
   "source": [
    "c= int(a) + int(b)\n",
    "print(c)"
   ]
  },
  {
   "cell_type": "raw",
   "id": "898f9969",
   "metadata": {},
   "source": []
  },
  {
   "cell_type": "code",
   "execution_count": 87,
   "id": "a5e30932",
   "metadata": {},
   "outputs": [],
   "source": [
    "x = int(\"20\")"
   ]
  },
  {
   "cell_type": "code",
   "execution_count": 90,
   "id": "4ce0ea09",
   "metadata": {},
   "outputs": [
    {
     "data": {
      "text/plain": [
       "int"
      ]
     },
     "execution_count": 90,
     "metadata": {},
     "output_type": "execute_result"
    }
   ],
   "source": [
    "type(x)"
   ]
  },
  {
   "cell_type": "raw",
   "id": "d4cacd05",
   "metadata": {},
   "source": []
  },
  {
   "cell_type": "raw",
   "id": "abc355a4",
   "metadata": {},
   "source": []
  },
  {
   "cell_type": "markdown",
   "id": "d2562aab",
   "metadata": {},
   "source": [
    "#### Q. input two number from the user and subtract it"
   ]
  },
  {
   "cell_type": "code",
   "execution_count": 23,
   "id": "d0e5938a",
   "metadata": {},
   "outputs": [
    {
     "name": "stdout",
     "output_type": "stream",
     "text": [
      "enter first number:456\n",
      "enter second number:852\n",
      "456 - 852 = -396\n"
     ]
    }
   ],
   "source": [
    "a = int(input(\"enter first number:\"))\n",
    "b = int(input(\"enter second number:\"))\n",
    "\n",
    "\n",
    "c = a-b\n",
    "\n",
    "print(\"{} - {} = {}\" .format(a, b, c))"
   ]
  },
  {
   "cell_type": "raw",
   "id": "cc4ea4e0",
   "metadata": {},
   "source": []
  },
  {
   "cell_type": "raw",
   "id": "340029b8",
   "metadata": {},
   "source": []
  },
  {
   "cell_type": "code",
   "execution_count": 24,
   "id": "70efba4b",
   "metadata": {},
   "outputs": [
    {
     "name": "stdout",
     "output_type": "stream",
     "text": [
      "enter first number:25\n"
     ]
    }
   ],
   "source": [
    "a = input(\"enter first number: \")"
   ]
  },
  {
   "cell_type": "code",
   "execution_count": 25,
   "id": "2c54879f",
   "metadata": {},
   "outputs": [
    {
     "data": {
      "text/plain": [
       "str"
      ]
     },
     "execution_count": 25,
     "metadata": {},
     "output_type": "execute_result"
    }
   ],
   "source": [
    "type(a)"
   ]
  },
  {
   "cell_type": "raw",
   "id": "58799bd1",
   "metadata": {},
   "source": []
  },
  {
   "cell_type": "code",
   "execution_count": 28,
   "id": "b657d102",
   "metadata": {},
   "outputs": [],
   "source": [
    "a = 10"
   ]
  },
  {
   "cell_type": "code",
   "execution_count": 29,
   "id": "ed72819f",
   "metadata": {},
   "outputs": [],
   "source": [
    "b = 0.5"
   ]
  },
  {
   "cell_type": "code",
   "execution_count": 30,
   "id": "f66023c4",
   "metadata": {},
   "outputs": [],
   "source": [
    "c = a+b"
   ]
  },
  {
   "cell_type": "code",
   "execution_count": 31,
   "id": "32e5bc96",
   "metadata": {},
   "outputs": [
    {
     "name": "stdout",
     "output_type": "stream",
     "text": [
      "10.5\n"
     ]
    }
   ],
   "source": [
    "print(c)"
   ]
  },
  {
   "cell_type": "raw",
   "id": "2ebdd1bb",
   "metadata": {},
   "source": []
  },
  {
   "cell_type": "code",
   "execution_count": 35,
   "id": "65bb36fc",
   "metadata": {},
   "outputs": [],
   "source": [
    "a = \"gobinda\""
   ]
  },
  {
   "cell_type": "code",
   "execution_count": 36,
   "id": "35bc617d",
   "metadata": {},
   "outputs": [],
   "source": [
    "b = \"10\""
   ]
  },
  {
   "cell_type": "code",
   "execution_count": 37,
   "id": "c85a9f8c",
   "metadata": {},
   "outputs": [
    {
     "data": {
      "text/plain": [
       "'gobinda10'"
      ]
     },
     "execution_count": 37,
     "metadata": {},
     "output_type": "execute_result"
    }
   ],
   "source": [
    "a+b"
   ]
  },
  {
   "cell_type": "raw",
   "id": "db6aa9e4",
   "metadata": {},
   "source": []
  }
 ],
 "metadata": {
  "kernelspec": {
   "display_name": "Python 3 (ipykernel)",
   "language": "python",
   "name": "python3"
  },
  "language_info": {
   "codemirror_mode": {
    "name": "ipython",
    "version": 3
   },
   "file_extension": ".py",
   "mimetype": "text/x-python",
   "name": "python",
   "nbconvert_exporter": "python",
   "pygments_lexer": "ipython3",
   "version": "3.11.5"
  }
 },
 "nbformat": 4,
 "nbformat_minor": 5
}
