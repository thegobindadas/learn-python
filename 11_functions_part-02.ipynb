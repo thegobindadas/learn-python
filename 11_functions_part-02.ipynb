{
 "cells": [
  {
   "cell_type": "raw",
   "id": "ffffae1c",
   "metadata": {},
   "source": []
  },
  {
   "cell_type": "code",
   "execution_count": null,
   "id": "c879613b",
   "metadata": {},
   "outputs": [],
   "source": [
    "4. local and global variable in function\n",
    "5. lambda function\n",
    "6. map and filter function"
   ]
  },
  {
   "cell_type": "raw",
   "id": "2efbf661",
   "metadata": {},
   "source": []
  },
  {
   "cell_type": "raw",
   "id": "05dcb5cd",
   "metadata": {},
   "source": []
  },
  {
   "cell_type": "code",
   "execution_count": 1,
   "id": "c8dd612b",
   "metadata": {},
   "outputs": [
    {
     "name": "stdout",
     "output_type": "stream",
     "text": [
      "i love python\n"
     ]
    }
   ],
   "source": [
    "s = \"i love python\"  #global variable\n",
    "\n",
    "def f():\n",
    "    print(s)\n",
    "\n",
    "f()"
   ]
  },
  {
   "cell_type": "code",
   "execution_count": 2,
   "id": "1fce240c",
   "metadata": {},
   "outputs": [
    {
     "name": "stdout",
     "output_type": "stream",
     "text": [
      "i love python\n"
     ]
    }
   ],
   "source": [
    "def f():\n",
    "    print(x)\n",
    "    \n",
    "x = \"i love python\"  #global variable\n",
    "\n",
    "f()"
   ]
  },
  {
   "cell_type": "code",
   "execution_count": 3,
   "id": "f713f093",
   "metadata": {},
   "outputs": [
    {
     "ename": "NameError",
     "evalue": "name 'z' is not defined",
     "output_type": "error",
     "traceback": [
      "\u001b[1;31m---------------------------------------------------------------------------\u001b[0m",
      "\u001b[1;31mNameError\u001b[0m                                 Traceback (most recent call last)",
      "Cell \u001b[1;32mIn[3], line 5\u001b[0m\n\u001b[0;32m      1\u001b[0m \u001b[38;5;28;01mdef\u001b[39;00m \u001b[38;5;21mf\u001b[39m():\n\u001b[0;32m      2\u001b[0m     \u001b[38;5;28mprint\u001b[39m(z)\n\u001b[1;32m----> 5\u001b[0m f()\n\u001b[0;32m      6\u001b[0m z \u001b[38;5;241m=\u001b[39m \u001b[38;5;124m\"\u001b[39m\u001b[38;5;124mi love python\u001b[39m\u001b[38;5;124m\"\u001b[39m\n",
      "Cell \u001b[1;32mIn[3], line 2\u001b[0m, in \u001b[0;36mf\u001b[1;34m()\u001b[0m\n\u001b[0;32m      1\u001b[0m \u001b[38;5;28;01mdef\u001b[39;00m \u001b[38;5;21mf\u001b[39m():\n\u001b[1;32m----> 2\u001b[0m     \u001b[38;5;28mprint\u001b[39m(z)\n",
      "\u001b[1;31mNameError\u001b[0m: name 'z' is not defined"
     ]
    }
   ],
   "source": [
    "def f():\n",
    "    print(z)\n",
    "    \n",
    "f()\n",
    "z = \"i love python\""
   ]
  },
  {
   "cell_type": "code",
   "execution_count": 4,
   "id": "25c01ec3",
   "metadata": {},
   "outputs": [
    {
     "name": "stdout",
     "output_type": "stream",
     "text": [
      "gobinda\n"
     ]
    },
    {
     "ename": "NameError",
     "evalue": "name 'myname' is not defined",
     "output_type": "error",
     "traceback": [
      "\u001b[1;31m---------------------------------------------------------------------------\u001b[0m",
      "\u001b[1;31mNameError\u001b[0m                                 Traceback (most recent call last)",
      "Cell \u001b[1;32mIn[4], line 6\u001b[0m\n\u001b[0;32m      3\u001b[0m     \u001b[38;5;28mprint\u001b[39m(myname)\n\u001b[0;32m      5\u001b[0m test1()\n\u001b[1;32m----> 6\u001b[0m \u001b[38;5;28mprint\u001b[39m(myname)\n",
      "\u001b[1;31mNameError\u001b[0m: name 'myname' is not defined"
     ]
    }
   ],
   "source": [
    "def test1():\n",
    "    myname = \"gobinda\"  #local variable\n",
    "    print(myname)\n",
    "    \n",
    "test1()\n",
    "print(myname)"
   ]
  },
  {
   "cell_type": "raw",
   "id": "f7daeb82",
   "metadata": {},
   "source": [
    "local variable: it is a variable which we are defining in the function and the scope will be in the function only.\n",
    "\n",
    "global variable: global variable is a variable which we are defining outside of the function and the scope will be global"
   ]
  },
  {
   "cell_type": "raw",
   "id": "c05bd480",
   "metadata": {},
   "source": []
  },
  {
   "cell_type": "code",
   "execution_count": 5,
   "id": "9c13ceee",
   "metadata": {},
   "outputs": [
    {
     "name": "stdout",
     "output_type": "stream",
     "text": [
      "i love java\n",
      "i love python\n"
     ]
    }
   ],
   "source": [
    "a = \"i love python\"\n",
    "\n",
    "def fun1():\n",
    "    a = \"i love java\"\n",
    "    print(a)\n",
    "    \n",
    "fun1()\n",
    "print(a)"
   ]
  },
  {
   "cell_type": "code",
   "execution_count": 6,
   "id": "2f49b2c2",
   "metadata": {},
   "outputs": [
    {
     "name": "stdout",
     "output_type": "stream",
     "text": [
      "i love java\n",
      "i love java\n"
     ]
    }
   ],
   "source": [
    "def fun1():\n",
    "    global a\n",
    "    a = \"i love java\"\n",
    "    print(a)\n",
    "    \n",
    "fun1()\n",
    "print(a)"
   ]
  },
  {
   "cell_type": "code",
   "execution_count": 7,
   "id": "c3917783",
   "metadata": {},
   "outputs": [
    {
     "name": "stdout",
     "output_type": "stream",
     "text": [
      "i love javascript\n",
      "i love javascript\n"
     ]
    }
   ],
   "source": [
    "a = \"i love python\"\n",
    "\n",
    "def fun1():\n",
    "    global a\n",
    "    a = \"i love javascript\"\n",
    "    print(a)\n",
    "    \n",
    "fun1()\n",
    "print(a)"
   ]
  },
  {
   "cell_type": "code",
   "execution_count": 8,
   "id": "b731dd20",
   "metadata": {},
   "outputs": [
    {
     "name": "stdout",
     "output_type": "stream",
     "text": [
      "i love python\n",
      "i love python\n",
      "i love javascript\n"
     ]
    }
   ],
   "source": [
    "a = \"i love python\"\n",
    "\n",
    "def fun1():\n",
    "    global b\n",
    "    b = \"i love javascript\"\n",
    "    print(a)\n",
    "    \n",
    "fun1()\n",
    "print(a)\n",
    "print(b)"
   ]
  },
  {
   "cell_type": "code",
   "execution_count": 9,
   "id": "a0fe519e",
   "metadata": {},
   "outputs": [
    {
     "name": "stdout",
     "output_type": "stream",
     "text": [
      "i love python\n",
      "i love python\n",
      "i love javascript\n",
      "i love c\n"
     ]
    }
   ],
   "source": [
    "a = \"i love python\"\n",
    "\n",
    "def fun1():\n",
    "    global b\n",
    "    global c\n",
    "    b = \"i love javascript\"\n",
    "    c = \"i love c\"\n",
    "    print(a)\n",
    "    \n",
    "fun1()\n",
    "print(a)\n",
    "print(b)\n",
    "print(c)"
   ]
  },
  {
   "cell_type": "code",
   "execution_count": 10,
   "id": "7454b1d9",
   "metadata": {},
   "outputs": [
    {
     "ename": "UnboundLocalError",
     "evalue": "cannot access local variable 's' where it is not associated with a value",
     "output_type": "error",
     "traceback": [
      "\u001b[1;31m---------------------------------------------------------------------------\u001b[0m",
      "\u001b[1;31mUnboundLocalError\u001b[0m                         Traceback (most recent call last)",
      "Cell \u001b[1;32mIn[10], line 8\u001b[0m\n\u001b[0;32m      5\u001b[0m     s \u001b[38;5;241m=\u001b[39m \u001b[38;5;124m\"\u001b[39m\u001b[38;5;124mi love coding\u001b[39m\u001b[38;5;124m\"\u001b[39m\n\u001b[0;32m      6\u001b[0m     \u001b[38;5;28mprint\u001b[39m(s)\n\u001b[1;32m----> 8\u001b[0m code()\n\u001b[0;32m      9\u001b[0m \u001b[38;5;28mprint\u001b[39m(s)\n",
      "Cell \u001b[1;32mIn[10], line 4\u001b[0m, in \u001b[0;36mcode\u001b[1;34m()\u001b[0m\n\u001b[0;32m      3\u001b[0m \u001b[38;5;28;01mdef\u001b[39;00m \u001b[38;5;21mcode\u001b[39m():\n\u001b[1;32m----> 4\u001b[0m     \u001b[38;5;28mprint\u001b[39m(s)\n\u001b[0;32m      5\u001b[0m     s \u001b[38;5;241m=\u001b[39m \u001b[38;5;124m\"\u001b[39m\u001b[38;5;124mi love coding\u001b[39m\u001b[38;5;124m\"\u001b[39m\n\u001b[0;32m      6\u001b[0m     \u001b[38;5;28mprint\u001b[39m(s)\n",
      "\u001b[1;31mUnboundLocalError\u001b[0m: cannot access local variable 's' where it is not associated with a value"
     ]
    }
   ],
   "source": [
    "s = \"i am good in programming\"\n",
    "\n",
    "def code():\n",
    "    print(s)\n",
    "    s = \"i love coding\"\n",
    "    print(s)\n",
    "    \n",
    "code()\n",
    "print(s)"
   ]
  },
  {
   "cell_type": "code",
   "execution_count": 11,
   "id": "8c341725",
   "metadata": {},
   "outputs": [
    {
     "name": "stdout",
     "output_type": "stream",
     "text": [
      "i am good in programming\n",
      "i love coding\n",
      "i love coding\n"
     ]
    }
   ],
   "source": [
    "s = \"i am good in programming\"\n",
    "\n",
    "def code():\n",
    "    global s\n",
    "    print(s)\n",
    "    s = \"i love coding\"\n",
    "    print(s)\n",
    "    \n",
    "code()\n",
    "print(s)"
   ]
  },
  {
   "cell_type": "code",
   "execution_count": 12,
   "id": "89943ada",
   "metadata": {},
   "outputs": [
    {
     "name": "stdout",
     "output_type": "stream",
     "text": [
      "i am good in programming\n",
      "i love coding\n",
      "i love coding\n"
     ]
    }
   ],
   "source": [
    "a = \"i am good in programming\"\n",
    "\n",
    "def code():\n",
    "    print(a)\n",
    "    s = \"i love coding\"\n",
    "    print(s)\n",
    "    \n",
    "code()\n",
    "print(s)"
   ]
  },
  {
   "cell_type": "raw",
   "id": "ffa12268",
   "metadata": {},
   "source": []
  },
  {
   "cell_type": "code",
   "execution_count": null,
   "id": "4a9fb2b6",
   "metadata": {},
   "outputs": [],
   "source": [
    "def homeWork(x, y\n",
    "    global a\n",
    "    a = 42\n",
    "    x,y = y,x\n",
    "    b = 33\n",
    "    b = 17\n",
    "    c = 100\n",
    "    print(a,b,x,y\n",
    "\n",
    "a, b, x, y = 1, 15, 3, 4\n",
    "homeWork(17, 4)\n",
    "print(a, b, x, y)"
   ]
  },
  {
   "cell_type": "raw",
   "id": "f1f79ed1",
   "metadata": {},
   "source": []
  },
  {
   "cell_type": "raw",
   "id": "ce30936b",
   "metadata": {},
   "source": []
  },
  {
   "cell_type": "raw",
   "id": "03ad4c51",
   "metadata": {},
   "source": []
  },
  {
   "cell_type": "markdown",
   "id": "d39a751d",
   "metadata": {},
   "source": [
    "# "
   ]
  },
  {
   "cell_type": "markdown",
   "id": "22b9122a",
   "metadata": {},
   "source": [
    "# lambda function"
   ]
  },
  {
   "cell_type": "code",
   "execution_count": 1,
   "id": "72c888f8",
   "metadata": {},
   "outputs": [
    {
     "name": "stdout",
     "output_type": "stream",
     "text": [
      "5\n"
     ]
    }
   ],
   "source": [
    "print((lambda a,b:a+b)(2, 3))"
   ]
  },
  {
   "cell_type": "raw",
   "id": "ba6dd3c1",
   "metadata": {},
   "source": []
  },
  {
   "cell_type": "code",
   "execution_count": 2,
   "id": "2319d6a7",
   "metadata": {},
   "outputs": [],
   "source": [
    "myfun = lambda a,b:a+b"
   ]
  },
  {
   "cell_type": "code",
   "execution_count": 3,
   "id": "35305f66",
   "metadata": {},
   "outputs": [
    {
     "data": {
      "text/plain": [
       "5"
      ]
     },
     "execution_count": 3,
     "metadata": {},
     "output_type": "execute_result"
    }
   ],
   "source": [
    "myfun(2, 3)"
   ]
  },
  {
   "cell_type": "code",
   "execution_count": 4,
   "id": "ee95bf54",
   "metadata": {},
   "outputs": [
    {
     "data": {
      "text/plain": [
       "function"
      ]
     },
     "execution_count": 4,
     "metadata": {},
     "output_type": "execute_result"
    }
   ],
   "source": [
    "type(myfun)"
   ]
  },
  {
   "cell_type": "code",
   "execution_count": 5,
   "id": "0503a078",
   "metadata": {},
   "outputs": [
    {
     "name": "stdout",
     "output_type": "stream",
     "text": [
      "<function <lambda> at 0x0000018A7AB9C040>\n"
     ]
    }
   ],
   "source": [
    "print(myfun)"
   ]
  },
  {
   "cell_type": "raw",
   "id": "8f931910",
   "metadata": {},
   "source": []
  },
  {
   "cell_type": "markdown",
   "id": "366ba0cd",
   "metadata": {},
   "source": [
    "# "
   ]
  },
  {
   "cell_type": "markdown",
   "id": "4247e1b6",
   "metadata": {},
   "source": [
    "### Q: wap to take two value from user and find a squre of these values and use lambda function for this operation"
   ]
  },
  {
   "cell_type": "code",
   "execution_count": 7,
   "id": "ff1758e6",
   "metadata": {},
   "outputs": [
    {
     "name": "stdout",
     "output_type": "stream",
     "text": [
      "Enter 1st number: 10\n",
      "Enter 2nd number: 20\n"
     ]
    },
    {
     "data": {
      "text/plain": [
       "(100, 400)"
      ]
     },
     "execution_count": 7,
     "metadata": {},
     "output_type": "execute_result"
    }
   ],
   "source": [
    "a = int(input(\"Enter 1st number: \"))\n",
    "b = int(input(\"Enter 2nd number: \"))\n",
    "\n",
    "squares = lambda a, b: (a**2, b**2)\n",
    "\n",
    "squares(a, b)"
   ]
  },
  {
   "cell_type": "raw",
   "id": "4a14ab60",
   "metadata": {},
   "source": []
  },
  {
   "cell_type": "markdown",
   "id": "552c52d9",
   "metadata": {},
   "source": [
    "# "
   ]
  },
  {
   "cell_type": "markdown",
   "id": "43c20b26",
   "metadata": {},
   "source": [
    "### Q: write a lambda function that returns the first character of the string passed to it as argument"
   ]
  },
  {
   "cell_type": "code",
   "execution_count": 10,
   "id": "1181bf7e",
   "metadata": {},
   "outputs": [
    {
     "name": "stdout",
     "output_type": "stream",
     "text": [
      "write sumething: fnrf\n"
     ]
    },
    {
     "data": {
      "text/plain": [
       "'f'"
      ]
     },
     "execution_count": 10,
     "metadata": {},
     "output_type": "execute_result"
    }
   ],
   "source": [
    "a = input(\"write sumething: \")\n",
    "\n",
    "str = lambda a: a[0]\n",
    "\n",
    "str(a)"
   ]
  },
  {
   "cell_type": "code",
   "execution_count": 11,
   "id": "57da7e3e",
   "metadata": {},
   "outputs": [
    {
     "name": "stdout",
     "output_type": "stream",
     "text": [
      "write sumething: gobinda\n",
      "g\n"
     ]
    }
   ],
   "source": [
    "mystr = input(\"write sumething: \")\n",
    "\n",
    "print((lambda str: str[0]) (mystr))"
   ]
  },
  {
   "cell_type": "raw",
   "id": "1063267b",
   "metadata": {},
   "source": []
  },
  {
   "cell_type": "markdown",
   "id": "ce886cf3",
   "metadata": {},
   "source": [
    "# "
   ]
  },
  {
   "cell_type": "markdown",
   "id": "9cba0f5a",
   "metadata": {},
   "source": [
    "### Q: write a lambda function that returns true or false depending on wether the number passed to it as argument is even or odd"
   ]
  },
  {
   "cell_type": "code",
   "execution_count": 13,
   "id": "04e80d23",
   "metadata": {},
   "outputs": [
    {
     "name": "stdout",
     "output_type": "stream",
     "text": [
      "Enter number: 7\n"
     ]
    },
    {
     "data": {
      "text/plain": [
       "False"
      ]
     },
     "execution_count": 13,
     "metadata": {},
     "output_type": "execute_result"
    }
   ],
   "source": [
    "num  = int(input(\"Enter number: \"))\n",
    "\n",
    "isEven = lambda num: ((num % 2) == 0)\n",
    "\n",
    "isEven(num)"
   ]
  },
  {
   "cell_type": "code",
   "execution_count": 15,
   "id": "f50f008f",
   "metadata": {},
   "outputs": [
    {
     "name": "stdout",
     "output_type": "stream",
     "text": [
      "Enter number: 65\n"
     ]
    },
    {
     "data": {
      "text/plain": [
       "'false'"
      ]
     },
     "execution_count": 15,
     "metadata": {},
     "output_type": "execute_result"
    }
   ],
   "source": [
    "num  = int(input(\"Enter number: \"))\n",
    "\n",
    "isEven = lambda num:\"true\" if num%2==0 else \"false\"\n",
    "\n",
    "isEven(num)"
   ]
  },
  {
   "cell_type": "raw",
   "id": "5a64f974",
   "metadata": {},
   "source": []
  },
  {
   "cell_type": "markdown",
   "id": "66b6a886",
   "metadata": {},
   "source": [
    "# "
   ]
  },
  {
   "cell_type": "markdown",
   "id": "2ce53f8e",
   "metadata": {},
   "source": [
    "### Q: write a lambda function that accept 2 arguments and returns the greater amongst them"
   ]
  },
  {
   "cell_type": "code",
   "execution_count": 16,
   "id": "96ef8c2b",
   "metadata": {},
   "outputs": [
    {
     "name": "stdout",
     "output_type": "stream",
     "text": [
      "Enter the 1st number: 12\n",
      "Enter the 2nd number: 65\n"
     ]
    },
    {
     "data": {
      "text/plain": [
       "65"
      ]
     },
     "execution_count": 16,
     "metadata": {},
     "output_type": "execute_result"
    }
   ],
   "source": [
    "num1  = int(input(\"Enter the 1st number: \"))\n",
    "num2  = int(input(\"Enter the 2nd number: \"))\n",
    "\n",
    "greaterNum = lambda num1, num2: num1 if num1>num2 else num2 \n",
    "\n",
    "greaterNum(num1, num2)"
   ]
  },
  {
   "cell_type": "raw",
   "id": "dc4469b1",
   "metadata": {},
   "source": []
  },
  {
   "cell_type": "raw",
   "id": "6fae399b",
   "metadata": {},
   "source": []
  },
  {
   "cell_type": "raw",
   "id": "f898d2d1",
   "metadata": {},
   "source": []
  },
  {
   "cell_type": "markdown",
   "id": "3180d0f5",
   "metadata": {},
   "source": [
    "# "
   ]
  },
  {
   "cell_type": "markdown",
   "id": "d05ed8dc",
   "metadata": {},
   "source": [
    "# map"
   ]
  },
  {
   "cell_type": "raw",
   "id": "33b8c68f",
   "metadata": {},
   "source": [
    "map(funct, iterable)\n",
    "\n",
    "iterable = string, list, set, tuple, dict, range"
   ]
  },
  {
   "cell_type": "code",
   "execution_count": 17,
   "id": "e8982e73",
   "metadata": {},
   "outputs": [
    {
     "name": "stdout",
     "output_type": "stream",
     "text": [
      "1\n",
      "4\n",
      "9\n",
      "16\n",
      "25\n"
     ]
    }
   ],
   "source": [
    "def squre(n):\n",
    "    return n**2\n",
    "\n",
    "mylist = [1, 2, 3, 4, 5]\n",
    "\n",
    "for x in mylist:\n",
    "    print(squre(x))"
   ]
  },
  {
   "cell_type": "code",
   "execution_count": 18,
   "id": "5ce95cca",
   "metadata": {},
   "outputs": [
    {
     "data": {
      "text/plain": [
       "[1, 4, 9, 16, 25]"
      ]
     },
     "execution_count": 18,
     "metadata": {},
     "output_type": "execute_result"
    }
   ],
   "source": [
    "mylist = [1, 2, 3, 4, 5]\n",
    "\n",
    "\n",
    "def squre(n):\n",
    "    return n**2\n",
    "\n",
    "\n",
    "list(map(squre, mylist))"
   ]
  },
  {
   "cell_type": "code",
   "execution_count": 16,
   "id": "9de1c6f2",
   "metadata": {},
   "outputs": [
    {
     "data": {
      "text/plain": [
       "[1, 4, 9, 16, 25]"
      ]
     },
     "execution_count": 16,
     "metadata": {},
     "output_type": "execute_result"
    }
   ],
   "source": [
    "mylist = [1, 2, 3, 4, 5]\n",
    "\n",
    "\n",
    "squre = lambda a : (a**2)\n",
    "\n",
    "\n",
    "list(map(squre, mylist))"
   ]
  },
  {
   "cell_type": "code",
   "execution_count": 18,
   "id": "3f2a7616",
   "metadata": {},
   "outputs": [
    {
     "data": {
      "text/plain": [
       "[1, 4, 9, 16, 25]"
      ]
     },
     "execution_count": 18,
     "metadata": {},
     "output_type": "execute_result"
    }
   ],
   "source": [
    "mylist = [1, 2, 3, 4, 5]\n",
    "\n",
    "list(map(lambda a : (a**2), mylist))"
   ]
  },
  {
   "cell_type": "raw",
   "id": "c62382ba",
   "metadata": {},
   "source": []
  },
  {
   "cell_type": "raw",
   "id": "bb65ed02",
   "metadata": {},
   "source": []
  },
  {
   "cell_type": "markdown",
   "id": "2afe0bf4",
   "metadata": {},
   "source": [
    "# "
   ]
  },
  {
   "cell_type": "markdown",
   "id": "c0a002e9",
   "metadata": {},
   "source": [
    "### Q: write a lambda expression that accept a string as argument and return it's first character. Use this lambda expression in map() function"
   ]
  },
  {
   "cell_type": "code",
   "execution_count": 19,
   "id": "7681d0c2",
   "metadata": {},
   "outputs": [
    {
     "data": {
      "text/plain": [
       "['j', 'f', 'm']"
      ]
     },
     "execution_count": 19,
     "metadata": {},
     "output_type": "execute_result"
    }
   ],
   "source": [
    "mylist = [\"january\", \"february\", \"march\"]\n",
    "\n",
    "list(map(lambda str : str[0], mylist))"
   ]
  },
  {
   "cell_type": "raw",
   "id": "56f48ed1",
   "metadata": {},
   "source": []
  },
  {
   "cell_type": "code",
   "execution_count": 21,
   "id": "7e4c0847",
   "metadata": {},
   "outputs": [
    {
     "data": {
      "text/plain": [
       "['ODD', 'EVEN', 'ODD', 'ODD', 'ODD', 'EVEN', 'EVEN']"
      ]
     },
     "execution_count": 21,
     "metadata": {},
     "output_type": "execute_result"
    }
   ],
   "source": [
    "mylist = [\"january\", \"february\", \"march\", \"april\", \"may\", \"june\", \"july\"]\n",
    "\n",
    "list(map(lambda str : \"EVEN\" if len(str)%2==0 else \"ODD\", mylist))"
   ]
  },
  {
   "cell_type": "raw",
   "id": "2774359c",
   "metadata": {},
   "source": []
  },
  {
   "cell_type": "markdown",
   "id": "a8337d19",
   "metadata": {},
   "source": [
    "# "
   ]
  },
  {
   "cell_type": "markdown",
   "id": "ba63ae7d",
   "metadata": {},
   "source": [
    "### Q: write a lambda expression  that accepts a character as argument and return true if it is a vowel otherwise False"
   ]
  },
  {
   "cell_type": "code",
   "execution_count": 22,
   "id": "1a4c2841",
   "metadata": {},
   "outputs": [
    {
     "data": {
      "text/plain": [
       "['VOWEL',\n",
       " 'FALSE',\n",
       " 'FALSE',\n",
       " 'FALSE',\n",
       " 'VOWEL',\n",
       " 'FALSE',\n",
       " 'FALSE',\n",
       " 'FALSE',\n",
       " 'VOWEL',\n",
       " 'FALSE',\n",
       " 'FALSE',\n",
       " 'FALSE',\n",
       " 'FALSE',\n",
       " 'FALSE',\n",
       " 'VOWEL',\n",
       " 'FALSE']"
      ]
     },
     "execution_count": 22,
     "metadata": {},
     "output_type": "execute_result"
    }
   ],
   "source": [
    "mylist = ['a', 'b', 'c', 'd', 'e', 'f', 'g', 'h', 'i', 'j', 'k', 'l', 'm', 'n', 'o', 'p']\n",
    "\n",
    "\n",
    "list(map(lambda char : \"VOWEL\" if char in \"aeiouAEIOU\" else \"FALSE\", mylist))"
   ]
  },
  {
   "cell_type": "raw",
   "id": "1a9c109d",
   "metadata": {},
   "source": []
  },
  {
   "cell_type": "markdown",
   "id": "42914957",
   "metadata": {},
   "source": [
    "# "
   ]
  },
  {
   "cell_type": "markdown",
   "id": "5b8f744e",
   "metadata": {},
   "source": [
    "### Q: Ask the user to input his/her name and display only the vowels in the name. In case the name does not contain any vowel display the message no vowels in your name"
   ]
  },
  {
   "cell_type": "code",
   "execution_count": 36,
   "id": "b695ad9d",
   "metadata": {},
   "outputs": [
    {
     "name": "stdout",
     "output_type": "stream",
     "text": [
      "['o', 'i', 'a']\n"
     ]
    }
   ],
   "source": [
    "vowels = list(filter(lambda ch: ch in \"aeiouAEIOU\" , myname))\n",
    "\n",
    "myname = \"gobinda\"\n",
    "\n",
    "\n",
    "if len(vowels) == 0:\n",
    "    print(\"No vowels\")\n",
    "else:\n",
    "     print(vowels)  "
   ]
  },
  {
   "cell_type": "code",
   "execution_count": null,
   "id": "7e844c62",
   "metadata": {},
   "outputs": [],
   "source": []
  },
  {
   "cell_type": "markdown",
   "id": "0099577f",
   "metadata": {},
   "source": [
    "# "
   ]
  },
  {
   "cell_type": "markdown",
   "id": "4e6e295d",
   "metadata": {},
   "source": [
    "### Q: write a function called inspect() that accepts a string as argument and returns the word EVEN if the string is of even length and returns it's first character if the string is of odd length"
   ]
  },
  {
   "cell_type": "code",
   "execution_count": 7,
   "id": "fd14e2d6",
   "metadata": {},
   "outputs": [
    {
     "data": {
      "text/plain": [
       "['j', 'Even', 'm']"
      ]
     },
     "execution_count": 7,
     "metadata": {},
     "output_type": "execute_result"
    }
   ],
   "source": [
    "def inspect(str):\n",
    "    if len(str) % 2 ==0:\n",
    "        return \"Even\"\n",
    "    \n",
    "    return str[0];\n",
    "\n",
    "\n",
    "\n",
    "mylist = [\"january\", \"february\", \"march\"]\n",
    "\n",
    "list(map(inspect, mylist))"
   ]
  },
  {
   "cell_type": "raw",
   "id": "d1d67732",
   "metadata": {},
   "source": []
  },
  {
   "cell_type": "raw",
   "id": "31506673",
   "metadata": {},
   "source": []
  },
  {
   "cell_type": "raw",
   "id": "175685b1",
   "metadata": {},
   "source": []
  },
  {
   "cell_type": "markdown",
   "id": "64b54a64",
   "metadata": {},
   "source": [
    "# "
   ]
  },
  {
   "cell_type": "markdown",
   "id": "3923bd37",
   "metadata": {},
   "source": [
    "## filter"
   ]
  },
  {
   "cell_type": "raw",
   "id": "5c3c0fc8",
   "metadata": {},
   "source": [
    "filter(funct, iterable)"
   ]
  },
  {
   "cell_type": "raw",
   "id": "99d20bcc",
   "metadata": {},
   "source": [
    "it is filter out the values"
   ]
  },
  {
   "cell_type": "code",
   "execution_count": 15,
   "id": "236de3a1",
   "metadata": {},
   "outputs": [
    {
     "data": {
      "text/plain": [
       "[2, 4, 6, 8, 10]"
      ]
     },
     "execution_count": 15,
     "metadata": {},
     "output_type": "execute_result"
    }
   ],
   "source": [
    "def isEven(num):\n",
    "    return num % 2 ==0\n",
    "\n",
    "\n",
    "mylist = [1, 2, 3, 4, 5, 6, 7, 8, 9, 10]\n",
    "\n",
    "list(filter(isEven, mylist))"
   ]
  },
  {
   "cell_type": "raw",
   "id": "af773d52",
   "metadata": {},
   "source": []
  }
 ],
 "metadata": {
  "kernelspec": {
   "display_name": "Python 3 (ipykernel)",
   "language": "python",
   "name": "python3"
  },
  "language_info": {
   "codemirror_mode": {
    "name": "ipython",
    "version": 3
   },
   "file_extension": ".py",
   "mimetype": "text/x-python",
   "name": "python",
   "nbconvert_exporter": "python",
   "pygments_lexer": "ipython3",
   "version": "3.11.5"
  }
 },
 "nbformat": 4,
 "nbformat_minor": 5
}
